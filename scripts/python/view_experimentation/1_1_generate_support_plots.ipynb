{
 "cells": [
  {
   "cell_type": "code",
   "execution_count": null,
   "id": "3ffae29d",
   "metadata": {},
   "outputs": [],
   "source": [
    "import os\n",
    "import matplotlib.table\n",
    "import numpy as np\n",
    "import pandas as pd\n",
    "import matplotlib.pyplot as plt\n",
    "\n",
    "from utils_experimentation import SolverFormatInfo, Convergence_Experiment\n",
    "\n",
    "from bokeh.palettes import Category20\n",
    "cat20 = Category20[20]"
   ]
  },
  {
   "cell_type": "code",
   "execution_count": null,
   "id": "e67d0210",
   "metadata": {},
   "outputs": [],
   "source": [
    "processed_data_population_pkl_path = \"C:\\\\Users\\\\dosre\\\\dev\\\\thesis-data\\\\experimentation\\\\output_data\\\\processed_data_population.pkl\"\n",
    "output_plot_root_dir_path = \"C:\\\\Users\\\\dosre\\\\dev\\\\thesis-data\\\\experimentation\\\\support_plots\"\n",
    "os.makedirs(output_plot_root_dir_path, exist_ok=True)"
   ]
  },
  {
   "cell_type": "code",
   "execution_count": null,
   "id": "93528185",
   "metadata": {},
   "outputs": [],
   "source": [
    "processed_data_population = pd.read_pickle(processed_data_population_pkl_path)"
   ]
  },
  {
   "cell_type": "code",
   "execution_count": null,
   "id": "c9465910",
   "metadata": {},
   "outputs": [],
   "source": [
    "experiments_to_plot = [\n",
    "    (\"FEM_3D_thermal1\", \"unpreconditioned\", 30),\n",
    "    (\"marine1\", \"unpreconditioned\", 30)\n",
    "]"
   ]
  },
  {
   "cell_type": "code",
   "execution_count": null,
   "id": "ef6e9274",
   "metadata": {},
   "outputs": [],
   "source": [
    "for matrix, setup, inner_iter in experiments_to_plot:\n",
    "    \n",
    "    convergence_data_to_plot = processed_data_population.loc[\n",
    "        (processed_data_population[\"matrix\"] == matrix) &\n",
    "        (processed_data_population[\"setup\"] == setup) &\n",
    "        (processed_data_population[\"inner_iter\"] == inner_iter)\n",
    "    ]\n",
    "\n",
    "    plot_file_path = os.path.join(\n",
    "        output_plot_root_dir_path,\n",
    "        f\"{matrix}_{setup}_inner_iter_{inner_iter:03d}.jpg\"\n",
    "    )\n",
    "\n",
    "    conv_experiments = []\n",
    "    for row in convergence_data_to_plot.iterrows():\n",
    "        row = row[1]\n",
    "        conv_experiments.append(Convergence_Experiment(row.solver, row.file_paths))\n",
    "\n",
    "    fig, ax = plt.subplots(figsize=(6.4, 3.6))\n",
    "    \n",
    "    for exp_data in conv_experiments:\n",
    "        if exp_data.id in SolverFormatInfo.fp_ids:\n",
    "            exp_data.plot_convergence_data(ax)\n",
    "\n",
    "    ax.legend()\n",
    "    ax.semilogy()\n",
    "    ax.grid()\n",
    "    ax.set_ylabel(\"$\\\\frac{|| b-Ax_{i}||_{2}}{||b-Ax_{0}||_{2}}$\")\n",
    "    ax.set_xlabel(\"Inner Iteration\")\n",
    "    \n",
    "    fig.suptitle(f\"{matrix} {setup} GMRES({inner_iter}) Convergence\")\n",
    "    \n",
    "    plt.savefig(plot_file_path, bbox_inches=\"tight\")\n",
    "\n",
    "    plt.show()\n",
    "\n",
    "    plt.close()\n",
    "    "
   ]
  },
  {
   "cell_type": "code",
   "execution_count": null,
   "id": "707e6b6f",
   "metadata": {},
   "outputs": [],
   "source": []
  }
 ],
 "metadata": {
  "language_info": {
   "name": "python"
  }
 },
 "nbformat": 4,
 "nbformat_minor": 5
}
