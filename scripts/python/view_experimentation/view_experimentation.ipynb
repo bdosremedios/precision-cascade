{
 "cells": [
  {
   "cell_type": "code",
   "execution_count": null,
   "metadata": {},
   "outputs": [],
   "source": [
    "import matplotlib.pyplot as plt\n",
    "\n",
    "import utils_experimentation"
   ]
  },
  {
   "cell_type": "code",
   "execution_count": null,
   "metadata": {},
   "outputs": [],
   "source": [
    "sgroup_dir = \"C:\\\\Users\\\\dosre\\\\dev\\\\data-transfer\\\\experiment-data\\\\experimentation\\\\output_data\\\\output_data\\\\unpreconditioned_gauntlet\\\\unpreconditioned_inner_iter_20\"\n",
    "\n",
    "data = utils_experimentation.Solve_Group_Data(sgroup_dir)\n",
    "data.display_data()"
   ]
  },
  {
   "cell_type": "code",
   "execution_count": null,
   "metadata": {},
   "outputs": [],
   "source": []
  }
 ],
 "metadata": {
  "language_info": {
   "name": "python"
  }
 },
 "nbformat": 4,
 "nbformat_minor": 2
}
