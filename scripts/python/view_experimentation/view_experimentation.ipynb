{
 "cells": [
  {
   "cell_type": "code",
   "execution_count": null,
   "id": "47cfbb34",
   "metadata": {},
   "outputs": [],
   "source": [
    "import os\n",
    "import matplotlib.pyplot as plt\n",
    "\n",
    "import utils_experimentation"
   ]
  },
  {
   "cell_type": "code",
   "execution_count": null,
   "id": "8c7e7a47",
   "metadata": {},
   "outputs": [],
   "source": [
    "solve_group_name = \"\"\n",
    "data_dir = \"\"\n",
    "analysis_save_dir = \"\"\n",
    "os.makedirs(analysis_save_dir, exist_ok=True)\n",
    "\n",
    "data = utils_experimentation.Solve_Group_Data(\n",
    "    os.path.join(data_dir, solve_group_name),\n",
    "    os.path.join(analysis_save_dir, solve_group_name)\n",
    ")\n",
    "data.display_data()\n",
    "     "
   ]
  },
  {
   "cell_type": "code",
   "execution_count": null,
   "id": "46901a48",
   "metadata": {},
   "outputs": [],
   "source": []
  }
 ],
 "metadata": {
  "language_info": {
   "name": "python"
  }
 },
 "nbformat": 4,
 "nbformat_minor": 5
}
