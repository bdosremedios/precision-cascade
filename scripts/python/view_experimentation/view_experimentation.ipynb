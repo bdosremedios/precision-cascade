{
 "cells": [
  {
   "cell_type": "code",
   "execution_count": null,
   "id": "47cfbb34",
   "metadata": {},
   "outputs": [],
   "source": [
    "import matplotlib.pyplot as plt\n",
    "\n",
    "import utils_experimentation"
   ]
  },
  {
   "cell_type": "code",
   "execution_count": null,
   "id": "8c7e7a47",
   "metadata": {},
   "outputs": [],
   "source": [
    "\n",
    "sgroup_dir = \"\"\n",
    "\n",
    "data = utils_experimentation.Solve_Group_Data(sgroup_dir)\n",
    "data.display_data()\n",
    "     "
   ]
  },
  {
   "cell_type": "markdown",
   "id": "01a06c1b",
   "metadata": {},
   "source": []
  },
  {
   "cell_type": "code",
   "execution_count": null,
   "id": "46901a48",
   "metadata": {},
   "outputs": [],
   "source": []
  }
 ],
 "metadata": {
  "language_info": {
   "name": "python"
  }
 },
 "nbformat": 4,
 "nbformat_minor": 5
}
