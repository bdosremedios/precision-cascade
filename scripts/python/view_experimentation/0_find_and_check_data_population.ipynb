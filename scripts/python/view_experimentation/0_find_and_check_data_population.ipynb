{
 "cells": [
  {
   "cell_type": "code",
   "execution_count": null,
   "id": "1a98baf4",
   "metadata": {},
   "outputs": [],
   "source": [
    "import os\n",
    "import pandas as pd\n",
    "from typing import List, Tuple"
   ]
  },
  {
   "cell_type": "code",
   "execution_count": null,
   "id": "f878130e-667e-4929-a61f-6f01365d5c29",
   "metadata": {},
   "outputs": [],
   "source": [
    "flattened_solve_group_dir = \"\"\n",
    "processed_data_population_pkl_path = \"\""
   ]
  },
  {
   "cell_type": "code",
   "execution_count": null,
   "id": "45f9612a-8ea3-4718-a869-38ae6071ab0d",
   "metadata": {},
   "outputs": [],
   "source": [
    "all_matrices = [\n",
    "    \"conv_diff_1000\", \"af_0_k101\", \"af_shell9\", \"af23560\", \"airfoil_2d\",\n",
    "    \"apache2\", \"appu\", \"atmosmodj\", \"BenElechi1\", \"bone010\",\n",
    "    \"Bump_2911\", \"cage10\", \"cage13\", \"cage14\", \"chipcool1\",\n",
    "    \"circuit_3\", \"coupled\", \"crankseg_1\", \"CurlCurl_2\", \"CurlCurl_4\",\n",
    "    \"e40r0100\", \"ecology2\", \"epb1\", \"F1\", \"FEM_3D_thermal1\",\n",
    "    \"FEM_3D_thermal2\", \"G3_circuit\", \"garon2\", \"hood\", \"inlet\",\n",
    "    \"jan99jac040sc\", \"language\", \"marine1\", \"mc2depi\", \"memplus\",\n",
    "    \"ns3Da\", \"parabolic_fem\", \"poisson3Da\", \"poisson3Db\", \"powersim\",\n",
    "    \"pwtk\", \"rajat15\", \"rajat31\", \"shermanACb\", \"sme3Da\",\n",
    "    \"stomach\", \"t2em\", \"thermal2\", \"tmt_unsym\", \"torso2\",\n",
    "    \"torso3\", \"TSOPF_RS_b39_c7\", \"venkat01\", \"viscoplastic2\", \"wang3\",\n",
    "    \"wang4\", \"Zhao1\", \"Zhao2\"\n",
    "]\n",
    "dense_matrices = [\n",
    "    \"af23560\", \"airfoil_2d\", \"appu\", \"cage10\", \"chipcool1\",\n",
    "    \"circuit_3\", \"coupled\", \"e40r0100\", \"epb1\", \"FEM_3D_thermal1\",\n",
    "    \"garon2\", \"inlet\", \"jan99jac040sc\", \"memplus\", \"ns3Da\",\n",
    "    \"poisson3Da\", \"powersim\", \"rajat15\", \"shermanACb\", \"sme3Da\",\n",
    "    \"TSOPF_RS_b39_c7\", \"viscoplastic2\", \"wang3\", \"wang4\", \"Zhao1\",\n",
    "    \"Zhao2\"\n",
    "]\n",
    "ilu0_matrices = [\n",
    "    \"af23560\", \"airfoil_2d\", \"appu\", \"cage10\", \"chipcool1\",\n",
    "    \"epb1\", \"FEM_3D_thermal1\", \"inlet\", \"memplus\", \"poisson3Da\",\n",
    "    \"powersim\", \"sme3Da\", \"viscoplastic2\", \"wang3\", \"wang4\",\n",
    "    \"Zhao1\", \"Zhao2\"\n",
    "]"
   ]
  },
  {
   "cell_type": "code",
   "execution_count": null,
   "id": "8acc10e3-0acc-4137-84eb-66634eeabc07",
   "metadata": {},
   "outputs": [],
   "source": [
    "setup_ids = [\"ilu0\", \"ilutp_1em2\", \"ilutp_1em4\", \"unpreconditioned_dense\", \"unpreconditioned\"]\n",
    "inner_iterations = [10, 20, 30, 40, 50, 100, 150, 200]\n",
    "n_iterations = 3\n",
    "solvers = [\n",
    "    \"FP16\", \"FP32\", \"FP64\",\n",
    "    \"SD_OuterRestartCount\", \"SD_CheckStagnation\", \"SD_RelativeResidualThreshold\",\n",
    "    \"OuterRestartCount\", \"CheckStagnation\", \"RelativeResidualThreshold\", \"ThresholdToStagnation\"\n",
    "]\n",
    "setup_id_matrices_mapping = {\n",
    "    \"ilu0\": ilu0_matrices,\n",
    "    \"ilutp_1em2\": dense_matrices,\n",
    "    \"ilutp_1em4\": dense_matrices,\n",
    "    \"unpreconditioned_dense\": dense_matrices,\n",
    "    \"unpreconditioned\": all_matrices\n",
    "}"
   ]
  },
  {
   "cell_type": "code",
   "execution_count": null,
   "id": "01a4cecd-896a-448d-a0e0-94fa6280f66f",
   "metadata": {},
   "outputs": [],
   "source": [
    "# Track population on matrices than flattened setup-inner-iterations-and-solvers\n",
    "def check_matrix_solver_inner_iter_populated_and_get_paths(\n",
    "    solve_group_dir_path: str, matrix: str, solver: str, inner_iter: int, n_iterations: int\n",
    ") -> Tuple[bool, List[str]]:\n",
    "    file_paths = []\n",
    "    for iteration in range(n_iterations):\n",
    "        file_path = os.path.join(solve_group_dir_path, matrix, str(iteration), solver+\".json\")\n",
    "        file_paths.append(file_path)\n",
    "        if not os.path.exists(file_path):\n",
    "            return (False, [])\n",
    "    return (True, file_paths)\n",
    "\n",
    "data = []\n",
    "for setup in setup_ids:\n",
    "    for matrix in setup_id_matrices_mapping[setup]:\n",
    "        for solver in solvers:\n",
    "            for inner_iter in inner_iterations:\n",
    "                solve_group_dir_path = os.path.join(\n",
    "                    flattened_solve_group_dir,\n",
    "                    f\"{setup}_inner_iter_{inner_iter}\"\n",
    "                )\n",
    "                populated, file_paths = check_matrix_solver_inner_iter_populated_and_get_paths(\n",
    "                    solve_group_dir_path, matrix, solver, inner_iter, n_iterations\n",
    "                )\n",
    "                data.append({\n",
    "                    \"setup\": setup,\n",
    "                    \"matrix\": matrix,\n",
    "                    \"solver\": solver,\n",
    "                    \"inner_iter\": inner_iter,\n",
    "                    \"populated\": populated,\n",
    "                    \"file_paths\": file_paths\n",
    "                })"
   ]
  },
  {
   "cell_type": "code",
   "execution_count": null,
   "id": "bb91a757-c3ab-4b3c-9c56-2404d47f074e",
   "metadata": {},
   "outputs": [],
   "source": [
    "data_population = pd.DataFrame(data, columns=[\"setup\", \"matrix\", \"solver\", \"inner_iter\", \"populated\", \"file_paths\"])\n",
    "data_population.set_index([\"setup\", \"matrix\", \"solver\", \"inner_iter\"])\n",
    "data_population.to_pickle(processed_data_population_pkl_path)\n",
    "display(data_population)"
   ]
  },
  {
   "cell_type": "code",
   "execution_count": null,
   "id": "8ca6cdbe-5e68-4005-baf4-7bb1528a448b",
   "metadata": {},
   "outputs": [],
   "source": [
    "missing_data_population = data_population.loc[~data_population[\"populated\"]]\n",
    "display(missing_data_population)"
   ]
  },
  {
   "cell_type": "code",
   "execution_count": null,
   "id": "ccafd3ac-d0ba-4822-8973-a1871fad73fe",
   "metadata": {},
   "outputs": [],
   "source": []
  }
 ],
 "metadata": {
  "language_info": {
   "name": "python"
  }
 },
 "nbformat": 4,
 "nbformat_minor": 5
}
