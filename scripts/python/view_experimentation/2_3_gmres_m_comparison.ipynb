{
 "cells": [
  {
   "cell_type": "code",
   "execution_count": null,
   "id": "56b8ab1c",
   "metadata": {},
   "outputs": [],
   "source": [
    "import os\n",
    "import matplotlib\n",
    "import numpy as np\n",
    "import pandas as pd\n",
    "import matplotlib.pyplot as plt\n",
    "# matplotlib.use(\"agg\")\n",
    "\n",
    "from exp_spec_info import *\n",
    "from plot_info import *\n",
    "from select_data import *"
   ]
  },
  {
   "cell_type": "code",
   "execution_count": null,
   "id": "f8bb548d",
   "metadata": {},
   "outputs": [],
   "source": [
    "# Processed median path\n",
    "median_data_path = \"C:\\\\Users\\\\dosre\\\\dev\\\\thesis-data\\\\median_data.pkl\"\n",
    "\n",
    "# Plot output directory\n",
    "plot_output_root = \"C:\\\\Users\\\\dosre\\\\dev\\\\thesis-data\\\\plots\"\n",
    "os.makedirs(plot_output_root, exist_ok=True)\n",
    "pc_gmres_m_64_comp_plots_dir = os.path.join(plot_output_root, \"pc_gmres_m_64\")\n",
    "os.makedirs(pc_gmres_m_64_comp_plots_dir, exist_ok=True)\n",
    "pc_gmres_m_32_comp_plots_dir = os.path.join(plot_output_root, \"pc_gmres_m_32\")\n",
    "os.makedirs(pc_gmres_m_32_comp_plots_dir, exist_ok=True)"
   ]
  },
  {
   "cell_type": "code",
   "execution_count": null,
   "id": "e87a637a",
   "metadata": {},
   "outputs": [],
   "source": [
    "# Load data and filter for only gmres m solvers\n",
    "median_data = pd.read_pickle(median_data_path)\n",
    "median_data = median_data[median_data[\"solver\"].transform(lambda x: (x in PC_SOLVERS))]"
   ]
  },
  {
   "cell_type": "markdown",
   "id": "d026a121",
   "metadata": {},
   "source": [
    "##### 7.3/7.4 FP-GMRES and PC-GMRES Comparison"
   ]
  },
  {
   "cell_type": "code",
   "execution_count": null,
   "id": "7bfd9867",
   "metadata": {},
   "outputs": [],
   "source": [
    "for setup, data_point, data_label, fp64_val, x_range, save_dir in [\n",
    "    (\"unprecond\", \"med_rel_time_fp64\", \"Rel. Time. to FP64\", 1., [0., 3.], pc_gmres_m_64_comp_plots_dir),\n",
    "    (\"unpreconddense\", \"med_rel_time_fp64\", \"Rel. Time. to FP64\", 1., [0., 3.], pc_gmres_m_64_comp_plots_dir),\n",
    "    (\"unprecond\", \"med_rel_res_frac_err_fp64\", \"Rel. Res. Frac. Error to FP64\", 0., [-2., 5.], pc_gmres_m_64_comp_plots_dir),\n",
    "    (\"unpreconddense\", \"med_rel_res_frac_err_fp64\", \"Rel. Res. Frac. Error to FP64\", 0., [-2., 5.], pc_gmres_m_64_comp_plots_dir),\n",
    "    (\"unprecond\", \"med_rel_time_fp32\", \"Rel. Time. to FP32\", 1., [0., 3.], pc_gmres_m_32_comp_plots_dir),\n",
    "    (\"unpreconddense\", \"med_rel_time_fp32\", \"Rel. Time. to FP32\", 1., [0., 3.], pc_gmres_m_32_comp_plots_dir),\n",
    "    (\"unprecond\", \"med_rel_res_frac_err_fp32\", \"Rel. Res. Frac. Error to FP32\", 0., [-2., 5.], pc_gmres_m_32_comp_plots_dir),\n",
    "    (\"unpreconddense\", \"med_rel_res_frac_err_fp32\", \"Rel. Res. Frac. Error to FP32\", 0., [-2., 5.], pc_gmres_m_32_comp_plots_dir),\n",
    "]:\n",
    "\n",
    "    setup_data = median_data[median_data[\"setup\"] == setup]\n",
    "\n",
    "    for prefix, solvers in [\n",
    "        (\"SD\", [\"PC SD ORC\", \"PC SD CS\", \"PC SD RRT\"]),\n",
    "        (\"HSD\", [\"PC HSD ORC\", \"PC HSD CS\", \"PC HSD RRT\", \"PC HSD S2T\"])\n",
    "    ]:\n",
    "\n",
    "        fig, axs = plt.subplots(\n",
    "            1, len(solvers), figsize=(len(solvers)*8.5/3, 8.2), sharey=True\n",
    "        )\n",
    "\n",
    "        for ax, solver in zip(axs, solvers):\n",
    "\n",
    "            solver_data = setup_data[setup_data[\"solver\"] == solver]\n",
    "            ax.scatter(\n",
    "                solver_data[data_point],\n",
    "                solver_data[\"matrix\"],\n",
    "                alpha=1.,\n",
    "                color=SOLVER_CLR_DICT[solver],\n",
    "                zorder=2,\n",
    "                marker=\".\"\n",
    "            )\n",
    "            ax.axvline(\n",
    "                fp64_val,\n",
    "                color=SOLVER_CLR_DICT[\"FP FP64\"],\n",
    "                linestyle=\"--\",\n",
    "                zorder=1\n",
    "            )\n",
    "            ax.axvline(\n",
    "                solver_data[data_point].median(),\n",
    "                color=SOLVER_CLR_DICT[solver],\n",
    "                linestyle=\":\",\n",
    "                zorder=2\n",
    "            )\n",
    "            ax.set_title(f\"{solver}\")\n",
    "\n",
    "            ax.set_xlim(x_range[0], x_range[1])\n",
    "            off_screen_data = solver_data[solver_data[data_point] >= x_range[1]][\"matrix\"].value_counts()\n",
    "            for matrix in off_screen_data.index:\n",
    "                ax.text(\n",
    "                    x_range[0]+0.875*(x_range[1]-x_range[0]), matrix,\n",
    "                    f\"{off_screen_data.loc[matrix]}$\\\\rightarrow$\",\n",
    "                    verticalalignment='center'\n",
    "                )\n",
    "\n",
    "        for ax in axs:\n",
    "            ax.set_xlabel(f\"Med. {data_label}\")\n",
    "            ax.grid()\n",
    "        axs[0].set_yticks(solver_data[\"matrix\"].unique())\n",
    "        axs[0].set_ylabel(\"Experiment\")\n",
    "\n",
    "        fig.suptitle(f\"{SETUP_NAME_MAPPING[setup]} {prefix} PC-GMRES($m$) Solver {data_label} Performance\")\n",
    "        fig.tight_layout()\n",
    "\n",
    "        data_tag = \"-\".join(data_label.replace(\".\", \"\").split(\" \")).lower()\n",
    "        plt.savefig(\n",
    "            os.path.join(save_dir, f\"{data_tag}-{setup}-{prefix.lower()}.png\")\n",
    "        )\n",
    "        plt.show()\n",
    "        plt.close()\n"
   ]
  },
  {
   "cell_type": "markdown",
   "id": "7d8a96cc",
   "metadata": {},
   "source": [
    "##### Misc Analysis"
   ]
  },
  {
   "cell_type": "code",
   "execution_count": null,
   "id": "c2925f4f",
   "metadata": {},
   "outputs": [],
   "source": [
    "small_matrix_data_path = \"C:\\\\Users\\\\dosre\\\\dev\\\\precision-cascade\\\\scripts\\\\python\\\\view_experimentation\\\\data\\\\small-experimental-matrix-data.csv\"\n",
    "large_matrix_data_path = \"C:\\\\Users\\\\dosre\\\\dev\\\\precision-cascade\\\\scripts\\\\python\\\\view_experimentation\\\\data\\\\large-experimental-matrix-data.csv\""
   ]
  },
  {
   "cell_type": "code",
   "execution_count": null,
   "id": "723716a6",
   "metadata": {},
   "outputs": [],
   "source": [
    "small_matrix_data = pd.read_csv(small_matrix_data_path).rename({\"name\": \"matrix\"}, axis=1)\n",
    "large_matrix_data = pd.read_csv(large_matrix_data_path).rename({\"name\": \"matrix\"}, axis=1)"
   ]
  },
  {
   "cell_type": "code",
   "execution_count": null,
   "id": "2543f1c8",
   "metadata": {},
   "outputs": [],
   "source": [
    "solver_data = median_data[\n",
    "    (median_data[\"setup\"] == \"unprecond\")\n",
    "]\n",
    "\n",
    "small_merge = solver_data.merge(small_matrix_data, on=\"matrix\", how=\"inner\")\n",
    "large_merge = solver_data.merge(large_matrix_data, on=\"matrix\", how=\"inner\")\n",
    "\n",
    "fig, ax = plt.subplots()\n",
    "ax.scatter(small_merge[\"med_inner_iter\"], small_merge[\"med_rel_time_fp64\"], marker=\".\")\n",
    "ax.scatter(large_merge[\"med_inner_iter\"], large_merge[\"med_rel_time_fp64\"], marker=\".\")\n",
    "# ax.semilogx()\n",
    "# ax.set_yscale(\"symlog\")\n",
    "print(np.corrcoef(\n",
    "    np.hstack([small_merge[\"med_inner_iter\"], large_merge[\"med_inner_iter\"]]),\n",
    "    np.hstack([small_merge[\"med_rel_time_fp64\"], large_merge[\"med_rel_time_fp64\"]])\n",
    "))\n",
    "plt.show()\n",
    "\n",
    "fig, ax = plt.subplots()\n",
    "ax.scatter(small_merge[\"nnz\"], small_merge[\"med_rel_time_fp64\"], marker=\".\")\n",
    "ax.scatter(large_merge[\"nnz\"], large_merge[\"med_rel_time_fp64\"], marker=\".\")\n",
    "# ax.semilogx()\n",
    "# ax.set_yscale(\"symlog\")\n",
    "print(np.corrcoef(\n",
    "    np.hstack([small_merge[\"nnz\"], large_merge[\"nnz\"]]),\n",
    "    np.hstack([small_merge[\"med_rel_time_fp64\"], large_merge[\"med_rel_time_fp64\"]])\n",
    "))\n",
    "plt.show()\n",
    "\n",
    "fig, ax = plt.subplots()\n",
    "ax.scatter(small_merge[\"rows\"], small_merge[\"med_rel_time_fp64\"], marker=\".\")\n",
    "ax.scatter(large_merge[\"rows\"], large_merge[\"med_rel_time_fp64\"], marker=\".\")\n",
    "# ax.semilogx()\n",
    "# ax.set_yscale(\"symlog\")\n",
    "print(np.corrcoef(\n",
    "    np.hstack([small_merge[\"rows\"], large_merge[\"rows\"]]),\n",
    "    np.hstack([small_merge[\"med_rel_time_fp64\"], large_merge[\"med_rel_time_fp64\"]])\n",
    "))\n",
    "plt.show()\n",
    "\n",
    "fig, ax = plt.subplots()\n",
    "ax.scatter(small_merge[\"cond\"], small_merge[\"med_rel_time_fp64\"], marker=\".\")\n",
    "# ax.semilogx()\n",
    "# ax.set_yscale(\"symlog\")\n",
    "print(np.corrcoef(small_merge[\"cond\"], small_merge[\"med_rel_time_fp64\"]))\n",
    "plt.show()"
   ]
  }
 ],
 "metadata": {
  "kernelspec": {
   "display_name": "Python 3 (ipykernel)",
   "language": "python",
   "name": "python3"
  },
  "language_info": {
   "codemirror_mode": {
    "name": "ipython",
    "version": 3
   },
   "file_extension": ".py",
   "mimetype": "text/x-python",
   "name": "python",
   "nbconvert_exporter": "python",
   "pygments_lexer": "ipython3",
   "version": "3.13.2"
  }
 },
 "nbformat": 4,
 "nbformat_minor": 5
}
