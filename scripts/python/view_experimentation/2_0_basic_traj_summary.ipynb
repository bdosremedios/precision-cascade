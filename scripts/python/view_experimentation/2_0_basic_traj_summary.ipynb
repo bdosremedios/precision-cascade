{
 "cells": [
  {
   "cell_type": "code",
   "execution_count": 1,
   "id": "785715f8",
   "metadata": {},
   "outputs": [],
   "source": [
    "import os\n",
    "import matplotlib\n",
    "import numpy as np\n",
    "import pandas as pd\n",
    "import matplotlib.pyplot as plt\n",
    "matplotlib.use(\"agg\")\n",
    "\n",
    "from exp_spec_info import *\n",
    "from plot_info import *\n",
    "from select_data import *"
   ]
  },
  {
   "cell_type": "code",
   "execution_count": 2,
   "id": "5bd262f7",
   "metadata": {},
   "outputs": [],
   "source": [
    "# Processed pickle paths\n",
    "extended_data_path = \"C:\\\\Users\\\\dosre\\\\dev\\\\thesis-data\\\\extended_data.pkl\"\n",
    "median_data_path = \"C:\\\\Users\\\\dosre\\\\dev\\\\thesis-data\\\\median_data.pkl\"\n",
    "\n",
    "# Plot output directory\n",
    "plot_output_root = \"C:\\\\Users\\\\dosre\\\\dev\\\\thesis-data\\\\plots\"\n",
    "os.makedirs(plot_output_root, exist_ok=True)\n",
    "basic_traj_plots_dir = os.path.join(plot_output_root, \"plots_basic_traj\")\n",
    "os.makedirs(basic_traj_plots_dir, exist_ok=True)"
   ]
  },
  {
   "cell_type": "code",
   "execution_count": 3,
   "id": "fed785af",
   "metadata": {},
   "outputs": [],
   "source": [
    "# Load data\n",
    "extended_data = pd.read_pickle(extended_data_path)\n",
    "median_data = pd.read_pickle(median_data_path)"
   ]
  },
  {
   "cell_type": "markdown",
   "id": "51372f44",
   "metadata": {},
   "source": [
    "##### Plot Basic Trajectories for All Experiments"
   ]
  },
  {
   "cell_type": "code",
   "execution_count": 4,
   "id": "bdf5bc8e",
   "metadata": {},
   "outputs": [
    {
     "name": "stderr",
     "output_type": "stream",
     "text": [
      "C:\\Users\\dosre\\AppData\\Local\\Temp\\ipykernel_23500\\508105216.py:41: UserWarning: Attempting to set identical low and high xlims makes transformation singular; automatically expanding.\n",
      "  ax.set_xlim(\n",
      "C:\\Users\\dosre\\AppData\\Local\\Temp\\ipykernel_23500\\508105216.py:46: UserWarning: No artists with labels found to put in legend.  Note that artists whose label start with an underscore are ignored when legend() is called with no argument.\n",
      "  ax.legend()\n",
      "C:\\Users\\dosre\\AppData\\Local\\Temp\\ipykernel_23500\\508105216.py:41: UserWarning: Attempting to set identical low and high xlims makes transformation singular; automatically expanding.\n",
      "  ax.set_xlim(\n",
      "C:\\Users\\dosre\\AppData\\Local\\Temp\\ipykernel_23500\\508105216.py:46: UserWarning: No artists with labels found to put in legend.  Note that artists whose label start with an underscore are ignored when legend() is called with no argument.\n",
      "  ax.legend()\n"
     ]
    },
    {
     "name": "stdout",
     "output_type": "stream",
     "text": [
      "KeyError: unprecond af_0_k101 30\n",
      "KeyError: unprecond af_0_k101 40\n"
     ]
    },
    {
     "name": "stderr",
     "output_type": "stream",
     "text": [
      "C:\\Users\\dosre\\AppData\\Local\\Temp\\ipykernel_23500\\508105216.py:41: UserWarning: Attempting to set identical low and high xlims makes transformation singular; automatically expanding.\n",
      "  ax.set_xlim(\n",
      "C:\\Users\\dosre\\AppData\\Local\\Temp\\ipykernel_23500\\508105216.py:46: UserWarning: No artists with labels found to put in legend.  Note that artists whose label start with an underscore are ignored when legend() is called with no argument.\n",
      "  ax.legend()\n"
     ]
    },
    {
     "name": "stdout",
     "output_type": "stream",
     "text": [
      "KeyError: unprecond af_0_k101 50\n"
     ]
    },
    {
     "name": "stderr",
     "output_type": "stream",
     "text": [
      "C:\\Users\\dosre\\AppData\\Local\\Temp\\ipykernel_23500\\508105216.py:41: UserWarning: Attempting to set identical low and high xlims makes transformation singular; automatically expanding.\n",
      "  ax.set_xlim(\n",
      "C:\\Users\\dosre\\AppData\\Local\\Temp\\ipykernel_23500\\508105216.py:46: UserWarning: No artists with labels found to put in legend.  Note that artists whose label start with an underscore are ignored when legend() is called with no argument.\n",
      "  ax.legend()\n",
      "C:\\Users\\dosre\\AppData\\Local\\Temp\\ipykernel_23500\\508105216.py:41: UserWarning: Attempting to set identical low and high xlims makes transformation singular; automatically expanding.\n",
      "  ax.set_xlim(\n",
      "C:\\Users\\dosre\\AppData\\Local\\Temp\\ipykernel_23500\\508105216.py:46: UserWarning: No artists with labels found to put in legend.  Note that artists whose label start with an underscore are ignored when legend() is called with no argument.\n",
      "  ax.legend()\n"
     ]
    },
    {
     "name": "stdout",
     "output_type": "stream",
     "text": [
      "KeyError: unprecond af_shell9 30\n",
      "KeyError: unprecond af_shell9 40\n"
     ]
    },
    {
     "name": "stderr",
     "output_type": "stream",
     "text": [
      "C:\\Users\\dosre\\AppData\\Local\\Temp\\ipykernel_23500\\508105216.py:41: UserWarning: Attempting to set identical low and high xlims makes transformation singular; automatically expanding.\n",
      "  ax.set_xlim(\n",
      "C:\\Users\\dosre\\AppData\\Local\\Temp\\ipykernel_23500\\508105216.py:46: UserWarning: No artists with labels found to put in legend.  Note that artists whose label start with an underscore are ignored when legend() is called with no argument.\n",
      "  ax.legend()\n"
     ]
    },
    {
     "name": "stdout",
     "output_type": "stream",
     "text": [
      "KeyError: unprecond af_shell9 50\n"
     ]
    },
    {
     "name": "stderr",
     "output_type": "stream",
     "text": [
      "C:\\Users\\dosre\\AppData\\Local\\Temp\\ipykernel_23500\\508105216.py:41: UserWarning: Attempting to set identical low and high xlims makes transformation singular; automatically expanding.\n",
      "  ax.set_xlim(\n",
      "C:\\Users\\dosre\\AppData\\Local\\Temp\\ipykernel_23500\\508105216.py:46: UserWarning: No artists with labels found to put in legend.  Note that artists whose label start with an underscore are ignored when legend() is called with no argument.\n",
      "  ax.legend()\n",
      "C:\\Users\\dosre\\AppData\\Local\\Temp\\ipykernel_23500\\508105216.py:41: UserWarning: Attempting to set identical low and high xlims makes transformation singular; automatically expanding.\n",
      "  ax.set_xlim(\n",
      "C:\\Users\\dosre\\AppData\\Local\\Temp\\ipykernel_23500\\508105216.py:46: UserWarning: No artists with labels found to put in legend.  Note that artists whose label start with an underscore are ignored when legend() is called with no argument.\n",
      "  ax.legend()\n"
     ]
    },
    {
     "name": "stdout",
     "output_type": "stream",
     "text": [
      "KeyError: unprecond af23560 30\n",
      "KeyError: unprecond af23560 40\n"
     ]
    },
    {
     "name": "stderr",
     "output_type": "stream",
     "text": [
      "C:\\Users\\dosre\\AppData\\Local\\Temp\\ipykernel_23500\\508105216.py:41: UserWarning: Attempting to set identical low and high xlims makes transformation singular; automatically expanding.\n",
      "  ax.set_xlim(\n",
      "C:\\Users\\dosre\\AppData\\Local\\Temp\\ipykernel_23500\\508105216.py:46: UserWarning: No artists with labels found to put in legend.  Note that artists whose label start with an underscore are ignored when legend() is called with no argument.\n",
      "  ax.legend()\n"
     ]
    },
    {
     "name": "stdout",
     "output_type": "stream",
     "text": [
      "KeyError: unprecond af23560 50\n"
     ]
    },
    {
     "name": "stderr",
     "output_type": "stream",
     "text": [
      "C:\\Users\\dosre\\AppData\\Local\\Temp\\ipykernel_23500\\508105216.py:41: UserWarning: Attempting to set identical low and high xlims makes transformation singular; automatically expanding.\n",
      "  ax.set_xlim(\n",
      "C:\\Users\\dosre\\AppData\\Local\\Temp\\ipykernel_23500\\508105216.py:46: UserWarning: No artists with labels found to put in legend.  Note that artists whose label start with an underscore are ignored when legend() is called with no argument.\n",
      "  ax.legend()\n",
      "C:\\Users\\dosre\\AppData\\Local\\Temp\\ipykernel_23500\\508105216.py:41: UserWarning: Attempting to set identical low and high xlims makes transformation singular; automatically expanding.\n",
      "  ax.set_xlim(\n",
      "C:\\Users\\dosre\\AppData\\Local\\Temp\\ipykernel_23500\\508105216.py:46: UserWarning: No artists with labels found to put in legend.  Note that artists whose label start with an underscore are ignored when legend() is called with no argument.\n",
      "  ax.legend()\n"
     ]
    },
    {
     "name": "stdout",
     "output_type": "stream",
     "text": [
      "KeyError: unprecond airfoil_2d 30\n",
      "KeyError: unprecond airfoil_2d 40\n"
     ]
    },
    {
     "name": "stderr",
     "output_type": "stream",
     "text": [
      "C:\\Users\\dosre\\AppData\\Local\\Temp\\ipykernel_23500\\508105216.py:41: UserWarning: Attempting to set identical low and high xlims makes transformation singular; automatically expanding.\n",
      "  ax.set_xlim(\n",
      "C:\\Users\\dosre\\AppData\\Local\\Temp\\ipykernel_23500\\508105216.py:46: UserWarning: No artists with labels found to put in legend.  Note that artists whose label start with an underscore are ignored when legend() is called with no argument.\n",
      "  ax.legend()\n"
     ]
    },
    {
     "name": "stdout",
     "output_type": "stream",
     "text": [
      "KeyError: unprecond airfoil_2d 50\n"
     ]
    },
    {
     "name": "stderr",
     "output_type": "stream",
     "text": [
      "C:\\Users\\dosre\\AppData\\Local\\Temp\\ipykernel_23500\\508105216.py:41: UserWarning: Attempting to set identical low and high xlims makes transformation singular; automatically expanding.\n",
      "  ax.set_xlim(\n",
      "C:\\Users\\dosre\\AppData\\Local\\Temp\\ipykernel_23500\\508105216.py:46: UserWarning: No artists with labels found to put in legend.  Note that artists whose label start with an underscore are ignored when legend() is called with no argument.\n",
      "  ax.legend()\n",
      "C:\\Users\\dosre\\AppData\\Local\\Temp\\ipykernel_23500\\508105216.py:41: UserWarning: Attempting to set identical low and high xlims makes transformation singular; automatically expanding.\n",
      "  ax.set_xlim(\n",
      "C:\\Users\\dosre\\AppData\\Local\\Temp\\ipykernel_23500\\508105216.py:46: UserWarning: No artists with labels found to put in legend.  Note that artists whose label start with an underscore are ignored when legend() is called with no argument.\n",
      "  ax.legend()\n"
     ]
    },
    {
     "name": "stdout",
     "output_type": "stream",
     "text": [
      "KeyError: unprecond apache2 30\n",
      "KeyError: unprecond apache2 40\n"
     ]
    },
    {
     "name": "stderr",
     "output_type": "stream",
     "text": [
      "C:\\Users\\dosre\\AppData\\Local\\Temp\\ipykernel_23500\\508105216.py:41: UserWarning: Attempting to set identical low and high xlims makes transformation singular; automatically expanding.\n",
      "  ax.set_xlim(\n",
      "C:\\Users\\dosre\\AppData\\Local\\Temp\\ipykernel_23500\\508105216.py:46: UserWarning: No artists with labels found to put in legend.  Note that artists whose label start with an underscore are ignored when legend() is called with no argument.\n",
      "  ax.legend()\n"
     ]
    },
    {
     "name": "stdout",
     "output_type": "stream",
     "text": [
      "KeyError: unprecond apache2 50\n"
     ]
    },
    {
     "name": "stderr",
     "output_type": "stream",
     "text": [
      "C:\\Users\\dosre\\AppData\\Local\\Temp\\ipykernel_23500\\508105216.py:41: UserWarning: Attempting to set identical low and high xlims makes transformation singular; automatically expanding.\n",
      "  ax.set_xlim(\n",
      "C:\\Users\\dosre\\AppData\\Local\\Temp\\ipykernel_23500\\508105216.py:46: UserWarning: No artists with labels found to put in legend.  Note that artists whose label start with an underscore are ignored when legend() is called with no argument.\n",
      "  ax.legend()\n",
      "C:\\Users\\dosre\\AppData\\Local\\Temp\\ipykernel_23500\\508105216.py:41: UserWarning: Attempting to set identical low and high xlims makes transformation singular; automatically expanding.\n",
      "  ax.set_xlim(\n",
      "C:\\Users\\dosre\\AppData\\Local\\Temp\\ipykernel_23500\\508105216.py:46: UserWarning: No artists with labels found to put in legend.  Note that artists whose label start with an underscore are ignored when legend() is called with no argument.\n",
      "  ax.legend()\n"
     ]
    },
    {
     "name": "stdout",
     "output_type": "stream",
     "text": [
      "KeyError: unprecond appu 30\n",
      "KeyError: unprecond appu 40\n"
     ]
    },
    {
     "name": "stderr",
     "output_type": "stream",
     "text": [
      "C:\\Users\\dosre\\AppData\\Local\\Temp\\ipykernel_23500\\508105216.py:41: UserWarning: Attempting to set identical low and high xlims makes transformation singular; automatically expanding.\n",
      "  ax.set_xlim(\n",
      "C:\\Users\\dosre\\AppData\\Local\\Temp\\ipykernel_23500\\508105216.py:46: UserWarning: No artists with labels found to put in legend.  Note that artists whose label start with an underscore are ignored when legend() is called with no argument.\n",
      "  ax.legend()\n"
     ]
    },
    {
     "name": "stdout",
     "output_type": "stream",
     "text": [
      "KeyError: unprecond appu 50\n"
     ]
    },
    {
     "name": "stderr",
     "output_type": "stream",
     "text": [
      "C:\\Users\\dosre\\AppData\\Local\\Temp\\ipykernel_23500\\508105216.py:41: UserWarning: Attempting to set identical low and high xlims makes transformation singular; automatically expanding.\n",
      "  ax.set_xlim(\n",
      "C:\\Users\\dosre\\AppData\\Local\\Temp\\ipykernel_23500\\508105216.py:46: UserWarning: No artists with labels found to put in legend.  Note that artists whose label start with an underscore are ignored when legend() is called with no argument.\n",
      "  ax.legend()\n",
      "C:\\Users\\dosre\\AppData\\Local\\Temp\\ipykernel_23500\\508105216.py:41: UserWarning: Attempting to set identical low and high xlims makes transformation singular; automatically expanding.\n",
      "  ax.set_xlim(\n",
      "C:\\Users\\dosre\\AppData\\Local\\Temp\\ipykernel_23500\\508105216.py:46: UserWarning: No artists with labels found to put in legend.  Note that artists whose label start with an underscore are ignored when legend() is called with no argument.\n",
      "  ax.legend()\n"
     ]
    },
    {
     "name": "stdout",
     "output_type": "stream",
     "text": [
      "KeyError: unprecond atmosmodj 30\n",
      "KeyError: unprecond atmosmodj 40\n"
     ]
    },
    {
     "name": "stderr",
     "output_type": "stream",
     "text": [
      "C:\\Users\\dosre\\AppData\\Local\\Temp\\ipykernel_23500\\508105216.py:41: UserWarning: Attempting to set identical low and high xlims makes transformation singular; automatically expanding.\n",
      "  ax.set_xlim(\n",
      "C:\\Users\\dosre\\AppData\\Local\\Temp\\ipykernel_23500\\508105216.py:46: UserWarning: No artists with labels found to put in legend.  Note that artists whose label start with an underscore are ignored when legend() is called with no argument.\n",
      "  ax.legend()\n"
     ]
    },
    {
     "name": "stdout",
     "output_type": "stream",
     "text": [
      "KeyError: unprecond atmosmodj 50\n"
     ]
    },
    {
     "name": "stderr",
     "output_type": "stream",
     "text": [
      "C:\\Users\\dosre\\AppData\\Local\\Temp\\ipykernel_23500\\508105216.py:41: UserWarning: Attempting to set identical low and high xlims makes transformation singular; automatically expanding.\n",
      "  ax.set_xlim(\n",
      "C:\\Users\\dosre\\AppData\\Local\\Temp\\ipykernel_23500\\508105216.py:46: UserWarning: No artists with labels found to put in legend.  Note that artists whose label start with an underscore are ignored when legend() is called with no argument.\n",
      "  ax.legend()\n",
      "C:\\Users\\dosre\\AppData\\Local\\Temp\\ipykernel_23500\\508105216.py:41: UserWarning: Attempting to set identical low and high xlims makes transformation singular; automatically expanding.\n",
      "  ax.set_xlim(\n",
      "C:\\Users\\dosre\\AppData\\Local\\Temp\\ipykernel_23500\\508105216.py:46: UserWarning: No artists with labels found to put in legend.  Note that artists whose label start with an underscore are ignored when legend() is called with no argument.\n",
      "  ax.legend()\n"
     ]
    },
    {
     "name": "stdout",
     "output_type": "stream",
     "text": [
      "KeyError: unprecond BenElechi1 30\n",
      "KeyError: unprecond BenElechi1 40\n"
     ]
    },
    {
     "name": "stderr",
     "output_type": "stream",
     "text": [
      "C:\\Users\\dosre\\AppData\\Local\\Temp\\ipykernel_23500\\508105216.py:41: UserWarning: Attempting to set identical low and high xlims makes transformation singular; automatically expanding.\n",
      "  ax.set_xlim(\n",
      "C:\\Users\\dosre\\AppData\\Local\\Temp\\ipykernel_23500\\508105216.py:46: UserWarning: No artists with labels found to put in legend.  Note that artists whose label start with an underscore are ignored when legend() is called with no argument.\n",
      "  ax.legend()\n"
     ]
    },
    {
     "name": "stdout",
     "output_type": "stream",
     "text": [
      "KeyError: unprecond BenElechi1 50\n"
     ]
    },
    {
     "name": "stderr",
     "output_type": "stream",
     "text": [
      "C:\\Users\\dosre\\AppData\\Local\\Temp\\ipykernel_23500\\508105216.py:41: UserWarning: Attempting to set identical low and high xlims makes transformation singular; automatically expanding.\n",
      "  ax.set_xlim(\n",
      "C:\\Users\\dosre\\AppData\\Local\\Temp\\ipykernel_23500\\508105216.py:46: UserWarning: No artists with labels found to put in legend.  Note that artists whose label start with an underscore are ignored when legend() is called with no argument.\n",
      "  ax.legend()\n",
      "C:\\Users\\dosre\\AppData\\Local\\Temp\\ipykernel_23500\\508105216.py:41: UserWarning: Attempting to set identical low and high xlims makes transformation singular; automatically expanding.\n",
      "  ax.set_xlim(\n",
      "C:\\Users\\dosre\\AppData\\Local\\Temp\\ipykernel_23500\\508105216.py:46: UserWarning: No artists with labels found to put in legend.  Note that artists whose label start with an underscore are ignored when legend() is called with no argument.\n",
      "  ax.legend()\n"
     ]
    },
    {
     "name": "stdout",
     "output_type": "stream",
     "text": [
      "KeyError: unprecond bone010 30\n",
      "KeyError: unprecond bone010 40\n"
     ]
    },
    {
     "name": "stderr",
     "output_type": "stream",
     "text": [
      "C:\\Users\\dosre\\AppData\\Local\\Temp\\ipykernel_23500\\508105216.py:41: UserWarning: Attempting to set identical low and high xlims makes transformation singular; automatically expanding.\n",
      "  ax.set_xlim(\n",
      "C:\\Users\\dosre\\AppData\\Local\\Temp\\ipykernel_23500\\508105216.py:46: UserWarning: No artists with labels found to put in legend.  Note that artists whose label start with an underscore are ignored when legend() is called with no argument.\n",
      "  ax.legend()\n"
     ]
    },
    {
     "name": "stdout",
     "output_type": "stream",
     "text": [
      "KeyError: unprecond bone010 50\n"
     ]
    },
    {
     "name": "stderr",
     "output_type": "stream",
     "text": [
      "C:\\Users\\dosre\\AppData\\Local\\Temp\\ipykernel_23500\\508105216.py:41: UserWarning: Attempting to set identical low and high xlims makes transformation singular; automatically expanding.\n",
      "  ax.set_xlim(\n",
      "C:\\Users\\dosre\\AppData\\Local\\Temp\\ipykernel_23500\\508105216.py:46: UserWarning: No artists with labels found to put in legend.  Note that artists whose label start with an underscore are ignored when legend() is called with no argument.\n",
      "  ax.legend()\n",
      "C:\\Users\\dosre\\AppData\\Local\\Temp\\ipykernel_23500\\508105216.py:41: UserWarning: Attempting to set identical low and high xlims makes transformation singular; automatically expanding.\n",
      "  ax.set_xlim(\n",
      "C:\\Users\\dosre\\AppData\\Local\\Temp\\ipykernel_23500\\508105216.py:46: UserWarning: No artists with labels found to put in legend.  Note that artists whose label start with an underscore are ignored when legend() is called with no argument.\n",
      "  ax.legend()\n"
     ]
    },
    {
     "name": "stdout",
     "output_type": "stream",
     "text": [
      "KeyError: unprecond Bump_2911 30\n",
      "KeyError: unprecond Bump_2911 40\n"
     ]
    },
    {
     "name": "stderr",
     "output_type": "stream",
     "text": [
      "C:\\Users\\dosre\\AppData\\Local\\Temp\\ipykernel_23500\\508105216.py:41: UserWarning: Attempting to set identical low and high xlims makes transformation singular; automatically expanding.\n",
      "  ax.set_xlim(\n",
      "C:\\Users\\dosre\\AppData\\Local\\Temp\\ipykernel_23500\\508105216.py:46: UserWarning: No artists with labels found to put in legend.  Note that artists whose label start with an underscore are ignored when legend() is called with no argument.\n",
      "  ax.legend()\n"
     ]
    },
    {
     "name": "stdout",
     "output_type": "stream",
     "text": [
      "KeyError: unprecond Bump_2911 50\n"
     ]
    },
    {
     "name": "stderr",
     "output_type": "stream",
     "text": [
      "C:\\Users\\dosre\\AppData\\Local\\Temp\\ipykernel_23500\\508105216.py:41: UserWarning: Attempting to set identical low and high xlims makes transformation singular; automatically expanding.\n",
      "  ax.set_xlim(\n",
      "C:\\Users\\dosre\\AppData\\Local\\Temp\\ipykernel_23500\\508105216.py:46: UserWarning: No artists with labels found to put in legend.  Note that artists whose label start with an underscore are ignored when legend() is called with no argument.\n",
      "  ax.legend()\n",
      "C:\\Users\\dosre\\AppData\\Local\\Temp\\ipykernel_23500\\508105216.py:41: UserWarning: Attempting to set identical low and high xlims makes transformation singular; automatically expanding.\n",
      "  ax.set_xlim(\n",
      "C:\\Users\\dosre\\AppData\\Local\\Temp\\ipykernel_23500\\508105216.py:46: UserWarning: No artists with labels found to put in legend.  Note that artists whose label start with an underscore are ignored when legend() is called with no argument.\n",
      "  ax.legend()\n"
     ]
    },
    {
     "name": "stdout",
     "output_type": "stream",
     "text": [
      "KeyError: unprecond cage10 30\n",
      "KeyError: unprecond cage10 40\n"
     ]
    },
    {
     "name": "stderr",
     "output_type": "stream",
     "text": [
      "C:\\Users\\dosre\\AppData\\Local\\Temp\\ipykernel_23500\\508105216.py:41: UserWarning: Attempting to set identical low and high xlims makes transformation singular; automatically expanding.\n",
      "  ax.set_xlim(\n",
      "C:\\Users\\dosre\\AppData\\Local\\Temp\\ipykernel_23500\\508105216.py:46: UserWarning: No artists with labels found to put in legend.  Note that artists whose label start with an underscore are ignored when legend() is called with no argument.\n",
      "  ax.legend()\n"
     ]
    },
    {
     "name": "stdout",
     "output_type": "stream",
     "text": [
      "KeyError: unprecond cage10 50\n"
     ]
    },
    {
     "name": "stderr",
     "output_type": "stream",
     "text": [
      "C:\\Users\\dosre\\AppData\\Local\\Temp\\ipykernel_23500\\508105216.py:41: UserWarning: Attempting to set identical low and high xlims makes transformation singular; automatically expanding.\n",
      "  ax.set_xlim(\n",
      "C:\\Users\\dosre\\AppData\\Local\\Temp\\ipykernel_23500\\508105216.py:46: UserWarning: No artists with labels found to put in legend.  Note that artists whose label start with an underscore are ignored when legend() is called with no argument.\n",
      "  ax.legend()\n",
      "C:\\Users\\dosre\\AppData\\Local\\Temp\\ipykernel_23500\\508105216.py:41: UserWarning: Attempting to set identical low and high xlims makes transformation singular; automatically expanding.\n",
      "  ax.set_xlim(\n",
      "C:\\Users\\dosre\\AppData\\Local\\Temp\\ipykernel_23500\\508105216.py:46: UserWarning: No artists with labels found to put in legend.  Note that artists whose label start with an underscore are ignored when legend() is called with no argument.\n",
      "  ax.legend()\n"
     ]
    },
    {
     "name": "stdout",
     "output_type": "stream",
     "text": [
      "KeyError: unprecond cage13 30\n",
      "KeyError: unprecond cage13 40\n"
     ]
    },
    {
     "name": "stderr",
     "output_type": "stream",
     "text": [
      "C:\\Users\\dosre\\AppData\\Local\\Temp\\ipykernel_23500\\508105216.py:41: UserWarning: Attempting to set identical low and high xlims makes transformation singular; automatically expanding.\n",
      "  ax.set_xlim(\n",
      "C:\\Users\\dosre\\AppData\\Local\\Temp\\ipykernel_23500\\508105216.py:46: UserWarning: No artists with labels found to put in legend.  Note that artists whose label start with an underscore are ignored when legend() is called with no argument.\n",
      "  ax.legend()\n"
     ]
    },
    {
     "name": "stdout",
     "output_type": "stream",
     "text": [
      "KeyError: unprecond cage13 50\n"
     ]
    },
    {
     "name": "stderr",
     "output_type": "stream",
     "text": [
      "C:\\Users\\dosre\\AppData\\Local\\Temp\\ipykernel_23500\\508105216.py:41: UserWarning: Attempting to set identical low and high xlims makes transformation singular; automatically expanding.\n",
      "  ax.set_xlim(\n",
      "C:\\Users\\dosre\\AppData\\Local\\Temp\\ipykernel_23500\\508105216.py:46: UserWarning: No artists with labels found to put in legend.  Note that artists whose label start with an underscore are ignored when legend() is called with no argument.\n",
      "  ax.legend()\n",
      "C:\\Users\\dosre\\AppData\\Local\\Temp\\ipykernel_23500\\508105216.py:41: UserWarning: Attempting to set identical low and high xlims makes transformation singular; automatically expanding.\n",
      "  ax.set_xlim(\n",
      "C:\\Users\\dosre\\AppData\\Local\\Temp\\ipykernel_23500\\508105216.py:46: UserWarning: No artists with labels found to put in legend.  Note that artists whose label start with an underscore are ignored when legend() is called with no argument.\n",
      "  ax.legend()\n"
     ]
    },
    {
     "name": "stdout",
     "output_type": "stream",
     "text": [
      "KeyError: unprecond cage14 30\n",
      "KeyError: unprecond cage14 40\n"
     ]
    },
    {
     "name": "stderr",
     "output_type": "stream",
     "text": [
      "C:\\Users\\dosre\\AppData\\Local\\Temp\\ipykernel_23500\\508105216.py:41: UserWarning: Attempting to set identical low and high xlims makes transformation singular; automatically expanding.\n",
      "  ax.set_xlim(\n",
      "C:\\Users\\dosre\\AppData\\Local\\Temp\\ipykernel_23500\\508105216.py:46: UserWarning: No artists with labels found to put in legend.  Note that artists whose label start with an underscore are ignored when legend() is called with no argument.\n",
      "  ax.legend()\n"
     ]
    },
    {
     "name": "stdout",
     "output_type": "stream",
     "text": [
      "KeyError: unprecond cage14 50\n"
     ]
    },
    {
     "name": "stderr",
     "output_type": "stream",
     "text": [
      "C:\\Users\\dosre\\AppData\\Local\\Temp\\ipykernel_23500\\508105216.py:41: UserWarning: Attempting to set identical low and high xlims makes transformation singular; automatically expanding.\n",
      "  ax.set_xlim(\n",
      "C:\\Users\\dosre\\AppData\\Local\\Temp\\ipykernel_23500\\508105216.py:46: UserWarning: No artists with labels found to put in legend.  Note that artists whose label start with an underscore are ignored when legend() is called with no argument.\n",
      "  ax.legend()\n",
      "C:\\Users\\dosre\\AppData\\Local\\Temp\\ipykernel_23500\\508105216.py:41: UserWarning: Attempting to set identical low and high xlims makes transformation singular; automatically expanding.\n",
      "  ax.set_xlim(\n",
      "C:\\Users\\dosre\\AppData\\Local\\Temp\\ipykernel_23500\\508105216.py:46: UserWarning: No artists with labels found to put in legend.  Note that artists whose label start with an underscore are ignored when legend() is called with no argument.\n",
      "  ax.legend()\n"
     ]
    },
    {
     "name": "stdout",
     "output_type": "stream",
     "text": [
      "KeyError: unprecond chipcool1 30\n",
      "KeyError: unprecond chipcool1 40\n"
     ]
    },
    {
     "name": "stderr",
     "output_type": "stream",
     "text": [
      "C:\\Users\\dosre\\AppData\\Local\\Temp\\ipykernel_23500\\508105216.py:41: UserWarning: Attempting to set identical low and high xlims makes transformation singular; automatically expanding.\n",
      "  ax.set_xlim(\n",
      "C:\\Users\\dosre\\AppData\\Local\\Temp\\ipykernel_23500\\508105216.py:46: UserWarning: No artists with labels found to put in legend.  Note that artists whose label start with an underscore are ignored when legend() is called with no argument.\n",
      "  ax.legend()\n"
     ]
    },
    {
     "name": "stdout",
     "output_type": "stream",
     "text": [
      "KeyError: unprecond chipcool1 50\n"
     ]
    },
    {
     "name": "stderr",
     "output_type": "stream",
     "text": [
      "C:\\Users\\dosre\\AppData\\Local\\Temp\\ipykernel_23500\\508105216.py:41: UserWarning: Attempting to set identical low and high xlims makes transformation singular; automatically expanding.\n",
      "  ax.set_xlim(\n",
      "C:\\Users\\dosre\\AppData\\Local\\Temp\\ipykernel_23500\\508105216.py:46: UserWarning: No artists with labels found to put in legend.  Note that artists whose label start with an underscore are ignored when legend() is called with no argument.\n",
      "  ax.legend()\n",
      "C:\\Users\\dosre\\AppData\\Local\\Temp\\ipykernel_23500\\508105216.py:41: UserWarning: Attempting to set identical low and high xlims makes transformation singular; automatically expanding.\n",
      "  ax.set_xlim(\n",
      "C:\\Users\\dosre\\AppData\\Local\\Temp\\ipykernel_23500\\508105216.py:46: UserWarning: No artists with labels found to put in legend.  Note that artists whose label start with an underscore are ignored when legend() is called with no argument.\n",
      "  ax.legend()\n"
     ]
    },
    {
     "name": "stdout",
     "output_type": "stream",
     "text": [
      "KeyError: unprecond circuit_3 30\n",
      "KeyError: unprecond circuit_3 40\n"
     ]
    },
    {
     "name": "stderr",
     "output_type": "stream",
     "text": [
      "C:\\Users\\dosre\\AppData\\Local\\Temp\\ipykernel_23500\\508105216.py:41: UserWarning: Attempting to set identical low and high xlims makes transformation singular; automatically expanding.\n",
      "  ax.set_xlim(\n",
      "C:\\Users\\dosre\\AppData\\Local\\Temp\\ipykernel_23500\\508105216.py:46: UserWarning: No artists with labels found to put in legend.  Note that artists whose label start with an underscore are ignored when legend() is called with no argument.\n",
      "  ax.legend()\n"
     ]
    },
    {
     "name": "stdout",
     "output_type": "stream",
     "text": [
      "KeyError: unprecond circuit_3 50\n"
     ]
    },
    {
     "name": "stderr",
     "output_type": "stream",
     "text": [
      "C:\\Users\\dosre\\AppData\\Local\\Temp\\ipykernel_23500\\508105216.py:41: UserWarning: Attempting to set identical low and high xlims makes transformation singular; automatically expanding.\n",
      "  ax.set_xlim(\n",
      "C:\\Users\\dosre\\AppData\\Local\\Temp\\ipykernel_23500\\508105216.py:46: UserWarning: No artists with labels found to put in legend.  Note that artists whose label start with an underscore are ignored when legend() is called with no argument.\n",
      "  ax.legend()\n",
      "C:\\Users\\dosre\\AppData\\Local\\Temp\\ipykernel_23500\\508105216.py:41: UserWarning: Attempting to set identical low and high xlims makes transformation singular; automatically expanding.\n",
      "  ax.set_xlim(\n",
      "C:\\Users\\dosre\\AppData\\Local\\Temp\\ipykernel_23500\\508105216.py:46: UserWarning: No artists with labels found to put in legend.  Note that artists whose label start with an underscore are ignored when legend() is called with no argument.\n",
      "  ax.legend()\n"
     ]
    },
    {
     "name": "stdout",
     "output_type": "stream",
     "text": [
      "KeyError: unprecond coupled 30\n",
      "KeyError: unprecond coupled 40\n"
     ]
    },
    {
     "name": "stderr",
     "output_type": "stream",
     "text": [
      "C:\\Users\\dosre\\AppData\\Local\\Temp\\ipykernel_23500\\508105216.py:41: UserWarning: Attempting to set identical low and high xlims makes transformation singular; automatically expanding.\n",
      "  ax.set_xlim(\n",
      "C:\\Users\\dosre\\AppData\\Local\\Temp\\ipykernel_23500\\508105216.py:46: UserWarning: No artists with labels found to put in legend.  Note that artists whose label start with an underscore are ignored when legend() is called with no argument.\n",
      "  ax.legend()\n"
     ]
    },
    {
     "name": "stdout",
     "output_type": "stream",
     "text": [
      "KeyError: unprecond coupled 50\n"
     ]
    },
    {
     "name": "stderr",
     "output_type": "stream",
     "text": [
      "C:\\Users\\dosre\\AppData\\Local\\Temp\\ipykernel_23500\\508105216.py:41: UserWarning: Attempting to set identical low and high xlims makes transformation singular; automatically expanding.\n",
      "  ax.set_xlim(\n",
      "C:\\Users\\dosre\\AppData\\Local\\Temp\\ipykernel_23500\\508105216.py:46: UserWarning: No artists with labels found to put in legend.  Note that artists whose label start with an underscore are ignored when legend() is called with no argument.\n",
      "  ax.legend()\n",
      "C:\\Users\\dosre\\AppData\\Local\\Temp\\ipykernel_23500\\508105216.py:41: UserWarning: Attempting to set identical low and high xlims makes transformation singular; automatically expanding.\n",
      "  ax.set_xlim(\n",
      "C:\\Users\\dosre\\AppData\\Local\\Temp\\ipykernel_23500\\508105216.py:46: UserWarning: No artists with labels found to put in legend.  Note that artists whose label start with an underscore are ignored when legend() is called with no argument.\n",
      "  ax.legend()\n"
     ]
    },
    {
     "name": "stdout",
     "output_type": "stream",
     "text": [
      "KeyError: unprecond crankseg_1 30\n",
      "KeyError: unprecond crankseg_1 40\n"
     ]
    },
    {
     "name": "stderr",
     "output_type": "stream",
     "text": [
      "C:\\Users\\dosre\\AppData\\Local\\Temp\\ipykernel_23500\\508105216.py:41: UserWarning: Attempting to set identical low and high xlims makes transformation singular; automatically expanding.\n",
      "  ax.set_xlim(\n",
      "C:\\Users\\dosre\\AppData\\Local\\Temp\\ipykernel_23500\\508105216.py:46: UserWarning: No artists with labels found to put in legend.  Note that artists whose label start with an underscore are ignored when legend() is called with no argument.\n",
      "  ax.legend()\n"
     ]
    },
    {
     "name": "stdout",
     "output_type": "stream",
     "text": [
      "KeyError: unprecond crankseg_1 50\n"
     ]
    },
    {
     "name": "stderr",
     "output_type": "stream",
     "text": [
      "C:\\Users\\dosre\\AppData\\Local\\Temp\\ipykernel_23500\\508105216.py:41: UserWarning: Attempting to set identical low and high xlims makes transformation singular; automatically expanding.\n",
      "  ax.set_xlim(\n",
      "C:\\Users\\dosre\\AppData\\Local\\Temp\\ipykernel_23500\\508105216.py:46: UserWarning: No artists with labels found to put in legend.  Note that artists whose label start with an underscore are ignored when legend() is called with no argument.\n",
      "  ax.legend()\n",
      "C:\\Users\\dosre\\AppData\\Local\\Temp\\ipykernel_23500\\508105216.py:41: UserWarning: Attempting to set identical low and high xlims makes transformation singular; automatically expanding.\n",
      "  ax.set_xlim(\n",
      "C:\\Users\\dosre\\AppData\\Local\\Temp\\ipykernel_23500\\508105216.py:46: UserWarning: No artists with labels found to put in legend.  Note that artists whose label start with an underscore are ignored when legend() is called with no argument.\n",
      "  ax.legend()\n"
     ]
    },
    {
     "name": "stdout",
     "output_type": "stream",
     "text": [
      "KeyError: unprecond CurlCurl_2 30\n",
      "KeyError: unprecond CurlCurl_2 40\n"
     ]
    },
    {
     "name": "stderr",
     "output_type": "stream",
     "text": [
      "C:\\Users\\dosre\\AppData\\Local\\Temp\\ipykernel_23500\\508105216.py:41: UserWarning: Attempting to set identical low and high xlims makes transformation singular; automatically expanding.\n",
      "  ax.set_xlim(\n",
      "C:\\Users\\dosre\\AppData\\Local\\Temp\\ipykernel_23500\\508105216.py:46: UserWarning: No artists with labels found to put in legend.  Note that artists whose label start with an underscore are ignored when legend() is called with no argument.\n",
      "  ax.legend()\n"
     ]
    },
    {
     "name": "stdout",
     "output_type": "stream",
     "text": [
      "KeyError: unprecond CurlCurl_2 50\n"
     ]
    },
    {
     "name": "stderr",
     "output_type": "stream",
     "text": [
      "C:\\Users\\dosre\\AppData\\Local\\Temp\\ipykernel_23500\\508105216.py:41: UserWarning: Attempting to set identical low and high xlims makes transformation singular; automatically expanding.\n",
      "  ax.set_xlim(\n",
      "C:\\Users\\dosre\\AppData\\Local\\Temp\\ipykernel_23500\\508105216.py:46: UserWarning: No artists with labels found to put in legend.  Note that artists whose label start with an underscore are ignored when legend() is called with no argument.\n",
      "  ax.legend()\n",
      "C:\\Users\\dosre\\AppData\\Local\\Temp\\ipykernel_23500\\508105216.py:41: UserWarning: Attempting to set identical low and high xlims makes transformation singular; automatically expanding.\n",
      "  ax.set_xlim(\n",
      "C:\\Users\\dosre\\AppData\\Local\\Temp\\ipykernel_23500\\508105216.py:46: UserWarning: No artists with labels found to put in legend.  Note that artists whose label start with an underscore are ignored when legend() is called with no argument.\n",
      "  ax.legend()\n"
     ]
    },
    {
     "name": "stdout",
     "output_type": "stream",
     "text": [
      "KeyError: unprecond CurlCurl_4 30\n",
      "KeyError: unprecond CurlCurl_4 40\n"
     ]
    },
    {
     "name": "stderr",
     "output_type": "stream",
     "text": [
      "C:\\Users\\dosre\\AppData\\Local\\Temp\\ipykernel_23500\\508105216.py:41: UserWarning: Attempting to set identical low and high xlims makes transformation singular; automatically expanding.\n",
      "  ax.set_xlim(\n",
      "C:\\Users\\dosre\\AppData\\Local\\Temp\\ipykernel_23500\\508105216.py:46: UserWarning: No artists with labels found to put in legend.  Note that artists whose label start with an underscore are ignored when legend() is called with no argument.\n",
      "  ax.legend()\n"
     ]
    },
    {
     "name": "stdout",
     "output_type": "stream",
     "text": [
      "KeyError: unprecond CurlCurl_4 50\n"
     ]
    },
    {
     "name": "stderr",
     "output_type": "stream",
     "text": [
      "C:\\Users\\dosre\\AppData\\Local\\Temp\\ipykernel_23500\\508105216.py:41: UserWarning: Attempting to set identical low and high xlims makes transformation singular; automatically expanding.\n",
      "  ax.set_xlim(\n",
      "C:\\Users\\dosre\\AppData\\Local\\Temp\\ipykernel_23500\\508105216.py:46: UserWarning: No artists with labels found to put in legend.  Note that artists whose label start with an underscore are ignored when legend() is called with no argument.\n",
      "  ax.legend()\n",
      "C:\\Users\\dosre\\AppData\\Local\\Temp\\ipykernel_23500\\508105216.py:41: UserWarning: Attempting to set identical low and high xlims makes transformation singular; automatically expanding.\n",
      "  ax.set_xlim(\n",
      "C:\\Users\\dosre\\AppData\\Local\\Temp\\ipykernel_23500\\508105216.py:46: UserWarning: No artists with labels found to put in legend.  Note that artists whose label start with an underscore are ignored when legend() is called with no argument.\n",
      "  ax.legend()\n"
     ]
    },
    {
     "name": "stdout",
     "output_type": "stream",
     "text": [
      "KeyError: unprecond e40r0100 30\n",
      "KeyError: unprecond e40r0100 40\n"
     ]
    },
    {
     "name": "stderr",
     "output_type": "stream",
     "text": [
      "C:\\Users\\dosre\\AppData\\Local\\Temp\\ipykernel_23500\\508105216.py:41: UserWarning: Attempting to set identical low and high xlims makes transformation singular; automatically expanding.\n",
      "  ax.set_xlim(\n",
      "C:\\Users\\dosre\\AppData\\Local\\Temp\\ipykernel_23500\\508105216.py:46: UserWarning: No artists with labels found to put in legend.  Note that artists whose label start with an underscore are ignored when legend() is called with no argument.\n",
      "  ax.legend()\n"
     ]
    },
    {
     "name": "stdout",
     "output_type": "stream",
     "text": [
      "KeyError: unprecond e40r0100 50\n"
     ]
    },
    {
     "name": "stderr",
     "output_type": "stream",
     "text": [
      "C:\\Users\\dosre\\AppData\\Local\\Temp\\ipykernel_23500\\508105216.py:41: UserWarning: Attempting to set identical low and high xlims makes transformation singular; automatically expanding.\n",
      "  ax.set_xlim(\n",
      "C:\\Users\\dosre\\AppData\\Local\\Temp\\ipykernel_23500\\508105216.py:46: UserWarning: No artists with labels found to put in legend.  Note that artists whose label start with an underscore are ignored when legend() is called with no argument.\n",
      "  ax.legend()\n"
     ]
    },
    {
     "name": "stdout",
     "output_type": "stream",
     "text": [
      "KeyError: unprecond e40r0100 200\n"
     ]
    },
    {
     "name": "stderr",
     "output_type": "stream",
     "text": [
      "C:\\Users\\dosre\\AppData\\Local\\Temp\\ipykernel_23500\\508105216.py:41: UserWarning: Attempting to set identical low and high xlims makes transformation singular; automatically expanding.\n",
      "  ax.set_xlim(\n",
      "C:\\Users\\dosre\\AppData\\Local\\Temp\\ipykernel_23500\\508105216.py:46: UserWarning: No artists with labels found to put in legend.  Note that artists whose label start with an underscore are ignored when legend() is called with no argument.\n",
      "  ax.legend()\n",
      "C:\\Users\\dosre\\AppData\\Local\\Temp\\ipykernel_23500\\508105216.py:41: UserWarning: Attempting to set identical low and high xlims makes transformation singular; automatically expanding.\n",
      "  ax.set_xlim(\n",
      "C:\\Users\\dosre\\AppData\\Local\\Temp\\ipykernel_23500\\508105216.py:46: UserWarning: No artists with labels found to put in legend.  Note that artists whose label start with an underscore are ignored when legend() is called with no argument.\n",
      "  ax.legend()\n"
     ]
    },
    {
     "name": "stdout",
     "output_type": "stream",
     "text": [
      "KeyError: unprecond ecology2 30\n",
      "KeyError: unprecond ecology2 40\n"
     ]
    },
    {
     "name": "stderr",
     "output_type": "stream",
     "text": [
      "C:\\Users\\dosre\\AppData\\Local\\Temp\\ipykernel_23500\\508105216.py:41: UserWarning: Attempting to set identical low and high xlims makes transformation singular; automatically expanding.\n",
      "  ax.set_xlim(\n",
      "C:\\Users\\dosre\\AppData\\Local\\Temp\\ipykernel_23500\\508105216.py:46: UserWarning: No artists with labels found to put in legend.  Note that artists whose label start with an underscore are ignored when legend() is called with no argument.\n",
      "  ax.legend()\n"
     ]
    },
    {
     "name": "stdout",
     "output_type": "stream",
     "text": [
      "KeyError: unprecond ecology2 50\n"
     ]
    },
    {
     "name": "stderr",
     "output_type": "stream",
     "text": [
      "C:\\Users\\dosre\\AppData\\Local\\Temp\\ipykernel_23500\\508105216.py:41: UserWarning: Attempting to set identical low and high xlims makes transformation singular; automatically expanding.\n",
      "  ax.set_xlim(\n",
      "C:\\Users\\dosre\\AppData\\Local\\Temp\\ipykernel_23500\\508105216.py:46: UserWarning: No artists with labels found to put in legend.  Note that artists whose label start with an underscore are ignored when legend() is called with no argument.\n",
      "  ax.legend()\n"
     ]
    },
    {
     "name": "stdout",
     "output_type": "stream",
     "text": [
      "KeyError: unprecond ecology2 200\n"
     ]
    },
    {
     "name": "stderr",
     "output_type": "stream",
     "text": [
      "C:\\Users\\dosre\\AppData\\Local\\Temp\\ipykernel_23500\\508105216.py:41: UserWarning: Attempting to set identical low and high xlims makes transformation singular; automatically expanding.\n",
      "  ax.set_xlim(\n",
      "C:\\Users\\dosre\\AppData\\Local\\Temp\\ipykernel_23500\\508105216.py:46: UserWarning: No artists with labels found to put in legend.  Note that artists whose label start with an underscore are ignored when legend() is called with no argument.\n",
      "  ax.legend()\n",
      "C:\\Users\\dosre\\AppData\\Local\\Temp\\ipykernel_23500\\508105216.py:41: UserWarning: Attempting to set identical low and high xlims makes transformation singular; automatically expanding.\n",
      "  ax.set_xlim(\n",
      "C:\\Users\\dosre\\AppData\\Local\\Temp\\ipykernel_23500\\508105216.py:46: UserWarning: No artists with labels found to put in legend.  Note that artists whose label start with an underscore are ignored when legend() is called with no argument.\n",
      "  ax.legend()\n"
     ]
    },
    {
     "name": "stdout",
     "output_type": "stream",
     "text": [
      "KeyError: unprecond epb1 30\n",
      "KeyError: unprecond epb1 40\n"
     ]
    },
    {
     "name": "stderr",
     "output_type": "stream",
     "text": [
      "C:\\Users\\dosre\\AppData\\Local\\Temp\\ipykernel_23500\\508105216.py:41: UserWarning: Attempting to set identical low and high xlims makes transformation singular; automatically expanding.\n",
      "  ax.set_xlim(\n",
      "C:\\Users\\dosre\\AppData\\Local\\Temp\\ipykernel_23500\\508105216.py:46: UserWarning: No artists with labels found to put in legend.  Note that artists whose label start with an underscore are ignored when legend() is called with no argument.\n",
      "  ax.legend()\n"
     ]
    },
    {
     "name": "stdout",
     "output_type": "stream",
     "text": [
      "KeyError: unprecond epb1 50\n"
     ]
    },
    {
     "name": "stderr",
     "output_type": "stream",
     "text": [
      "C:\\Users\\dosre\\AppData\\Local\\Temp\\ipykernel_23500\\508105216.py:41: UserWarning: Attempting to set identical low and high xlims makes transformation singular; automatically expanding.\n",
      "  ax.set_xlim(\n",
      "C:\\Users\\dosre\\AppData\\Local\\Temp\\ipykernel_23500\\508105216.py:46: UserWarning: No artists with labels found to put in legend.  Note that artists whose label start with an underscore are ignored when legend() is called with no argument.\n",
      "  ax.legend()\n"
     ]
    },
    {
     "name": "stdout",
     "output_type": "stream",
     "text": [
      "KeyError: unprecond epb1 200\n"
     ]
    },
    {
     "name": "stderr",
     "output_type": "stream",
     "text": [
      "C:\\Users\\dosre\\AppData\\Local\\Temp\\ipykernel_23500\\508105216.py:41: UserWarning: Attempting to set identical low and high xlims makes transformation singular; automatically expanding.\n",
      "  ax.set_xlim(\n",
      "C:\\Users\\dosre\\AppData\\Local\\Temp\\ipykernel_23500\\508105216.py:46: UserWarning: No artists with labels found to put in legend.  Note that artists whose label start with an underscore are ignored when legend() is called with no argument.\n",
      "  ax.legend()\n",
      "C:\\Users\\dosre\\AppData\\Local\\Temp\\ipykernel_23500\\508105216.py:41: UserWarning: Attempting to set identical low and high xlims makes transformation singular; automatically expanding.\n",
      "  ax.set_xlim(\n",
      "C:\\Users\\dosre\\AppData\\Local\\Temp\\ipykernel_23500\\508105216.py:46: UserWarning: No artists with labels found to put in legend.  Note that artists whose label start with an underscore are ignored when legend() is called with no argument.\n",
      "  ax.legend()\n"
     ]
    },
    {
     "name": "stdout",
     "output_type": "stream",
     "text": [
      "KeyError: unprecond F1 30\n",
      "KeyError: unprecond F1 40\n"
     ]
    },
    {
     "name": "stderr",
     "output_type": "stream",
     "text": [
      "C:\\Users\\dosre\\AppData\\Local\\Temp\\ipykernel_23500\\508105216.py:41: UserWarning: Attempting to set identical low and high xlims makes transformation singular; automatically expanding.\n",
      "  ax.set_xlim(\n",
      "C:\\Users\\dosre\\AppData\\Local\\Temp\\ipykernel_23500\\508105216.py:46: UserWarning: No artists with labels found to put in legend.  Note that artists whose label start with an underscore are ignored when legend() is called with no argument.\n",
      "  ax.legend()\n"
     ]
    },
    {
     "name": "stdout",
     "output_type": "stream",
     "text": [
      "KeyError: unprecond F1 50\n"
     ]
    },
    {
     "name": "stderr",
     "output_type": "stream",
     "text": [
      "C:\\Users\\dosre\\AppData\\Local\\Temp\\ipykernel_23500\\508105216.py:41: UserWarning: Attempting to set identical low and high xlims makes transformation singular; automatically expanding.\n",
      "  ax.set_xlim(\n",
      "C:\\Users\\dosre\\AppData\\Local\\Temp\\ipykernel_23500\\508105216.py:46: UserWarning: No artists with labels found to put in legend.  Note that artists whose label start with an underscore are ignored when legend() is called with no argument.\n",
      "  ax.legend()\n"
     ]
    },
    {
     "name": "stdout",
     "output_type": "stream",
     "text": [
      "KeyError: unprecond F1 200\n"
     ]
    },
    {
     "name": "stderr",
     "output_type": "stream",
     "text": [
      "C:\\Users\\dosre\\AppData\\Local\\Temp\\ipykernel_23500\\508105216.py:41: UserWarning: Attempting to set identical low and high xlims makes transformation singular; automatically expanding.\n",
      "  ax.set_xlim(\n",
      "C:\\Users\\dosre\\AppData\\Local\\Temp\\ipykernel_23500\\508105216.py:46: UserWarning: No artists with labels found to put in legend.  Note that artists whose label start with an underscore are ignored when legend() is called with no argument.\n",
      "  ax.legend()\n",
      "C:\\Users\\dosre\\AppData\\Local\\Temp\\ipykernel_23500\\508105216.py:41: UserWarning: Attempting to set identical low and high xlims makes transformation singular; automatically expanding.\n",
      "  ax.set_xlim(\n",
      "C:\\Users\\dosre\\AppData\\Local\\Temp\\ipykernel_23500\\508105216.py:46: UserWarning: No artists with labels found to put in legend.  Note that artists whose label start with an underscore are ignored when legend() is called with no argument.\n",
      "  ax.legend()\n"
     ]
    },
    {
     "name": "stdout",
     "output_type": "stream",
     "text": [
      "KeyError: unprecond FEM_3D_thermal1 30\n",
      "KeyError: unprecond FEM_3D_thermal1 40\n"
     ]
    },
    {
     "name": "stderr",
     "output_type": "stream",
     "text": [
      "C:\\Users\\dosre\\AppData\\Local\\Temp\\ipykernel_23500\\508105216.py:41: UserWarning: Attempting to set identical low and high xlims makes transformation singular; automatically expanding.\n",
      "  ax.set_xlim(\n",
      "C:\\Users\\dosre\\AppData\\Local\\Temp\\ipykernel_23500\\508105216.py:46: UserWarning: No artists with labels found to put in legend.  Note that artists whose label start with an underscore are ignored when legend() is called with no argument.\n",
      "  ax.legend()\n"
     ]
    },
    {
     "name": "stdout",
     "output_type": "stream",
     "text": [
      "KeyError: unprecond FEM_3D_thermal1 50\n"
     ]
    },
    {
     "name": "stderr",
     "output_type": "stream",
     "text": [
      "C:\\Users\\dosre\\AppData\\Local\\Temp\\ipykernel_23500\\508105216.py:41: UserWarning: Attempting to set identical low and high xlims makes transformation singular; automatically expanding.\n",
      "  ax.set_xlim(\n",
      "C:\\Users\\dosre\\AppData\\Local\\Temp\\ipykernel_23500\\508105216.py:46: UserWarning: No artists with labels found to put in legend.  Note that artists whose label start with an underscore are ignored when legend() is called with no argument.\n",
      "  ax.legend()\n"
     ]
    },
    {
     "name": "stdout",
     "output_type": "stream",
     "text": [
      "KeyError: unprecond FEM_3D_thermal1 200\n"
     ]
    },
    {
     "name": "stderr",
     "output_type": "stream",
     "text": [
      "C:\\Users\\dosre\\AppData\\Local\\Temp\\ipykernel_23500\\508105216.py:41: UserWarning: Attempting to set identical low and high xlims makes transformation singular; automatically expanding.\n",
      "  ax.set_xlim(\n",
      "C:\\Users\\dosre\\AppData\\Local\\Temp\\ipykernel_23500\\508105216.py:46: UserWarning: No artists with labels found to put in legend.  Note that artists whose label start with an underscore are ignored when legend() is called with no argument.\n",
      "  ax.legend()\n",
      "C:\\Users\\dosre\\AppData\\Local\\Temp\\ipykernel_23500\\508105216.py:41: UserWarning: Attempting to set identical low and high xlims makes transformation singular; automatically expanding.\n",
      "  ax.set_xlim(\n",
      "C:\\Users\\dosre\\AppData\\Local\\Temp\\ipykernel_23500\\508105216.py:46: UserWarning: No artists with labels found to put in legend.  Note that artists whose label start with an underscore are ignored when legend() is called with no argument.\n",
      "  ax.legend()\n"
     ]
    },
    {
     "name": "stdout",
     "output_type": "stream",
     "text": [
      "KeyError: unprecond FEM_3D_thermal2 30\n",
      "KeyError: unprecond FEM_3D_thermal2 40\n"
     ]
    },
    {
     "name": "stderr",
     "output_type": "stream",
     "text": [
      "C:\\Users\\dosre\\AppData\\Local\\Temp\\ipykernel_23500\\508105216.py:41: UserWarning: Attempting to set identical low and high xlims makes transformation singular; automatically expanding.\n",
      "  ax.set_xlim(\n",
      "C:\\Users\\dosre\\AppData\\Local\\Temp\\ipykernel_23500\\508105216.py:46: UserWarning: No artists with labels found to put in legend.  Note that artists whose label start with an underscore are ignored when legend() is called with no argument.\n",
      "  ax.legend()\n"
     ]
    },
    {
     "name": "stdout",
     "output_type": "stream",
     "text": [
      "KeyError: unprecond FEM_3D_thermal2 50\n"
     ]
    },
    {
     "name": "stderr",
     "output_type": "stream",
     "text": [
      "C:\\Users\\dosre\\AppData\\Local\\Temp\\ipykernel_23500\\508105216.py:41: UserWarning: Attempting to set identical low and high xlims makes transformation singular; automatically expanding.\n",
      "  ax.set_xlim(\n",
      "C:\\Users\\dosre\\AppData\\Local\\Temp\\ipykernel_23500\\508105216.py:46: UserWarning: No artists with labels found to put in legend.  Note that artists whose label start with an underscore are ignored when legend() is called with no argument.\n",
      "  ax.legend()\n"
     ]
    },
    {
     "name": "stdout",
     "output_type": "stream",
     "text": [
      "KeyError: unprecond FEM_3D_thermal2 200\n"
     ]
    },
    {
     "name": "stderr",
     "output_type": "stream",
     "text": [
      "C:\\Users\\dosre\\AppData\\Local\\Temp\\ipykernel_23500\\508105216.py:41: UserWarning: Attempting to set identical low and high xlims makes transformation singular; automatically expanding.\n",
      "  ax.set_xlim(\n",
      "C:\\Users\\dosre\\AppData\\Local\\Temp\\ipykernel_23500\\508105216.py:46: UserWarning: No artists with labels found to put in legend.  Note that artists whose label start with an underscore are ignored when legend() is called with no argument.\n",
      "  ax.legend()\n",
      "C:\\Users\\dosre\\AppData\\Local\\Temp\\ipykernel_23500\\508105216.py:41: UserWarning: Attempting to set identical low and high xlims makes transformation singular; automatically expanding.\n",
      "  ax.set_xlim(\n",
      "C:\\Users\\dosre\\AppData\\Local\\Temp\\ipykernel_23500\\508105216.py:46: UserWarning: No artists with labels found to put in legend.  Note that artists whose label start with an underscore are ignored when legend() is called with no argument.\n",
      "  ax.legend()\n"
     ]
    },
    {
     "name": "stdout",
     "output_type": "stream",
     "text": [
      "KeyError: unprecond G3_circuit 30\n",
      "KeyError: unprecond G3_circuit 40\n"
     ]
    },
    {
     "name": "stderr",
     "output_type": "stream",
     "text": [
      "C:\\Users\\dosre\\AppData\\Local\\Temp\\ipykernel_23500\\508105216.py:41: UserWarning: Attempting to set identical low and high xlims makes transformation singular; automatically expanding.\n",
      "  ax.set_xlim(\n",
      "C:\\Users\\dosre\\AppData\\Local\\Temp\\ipykernel_23500\\508105216.py:46: UserWarning: No artists with labels found to put in legend.  Note that artists whose label start with an underscore are ignored when legend() is called with no argument.\n",
      "  ax.legend()\n"
     ]
    },
    {
     "name": "stdout",
     "output_type": "stream",
     "text": [
      "KeyError: unprecond G3_circuit 50\n"
     ]
    },
    {
     "name": "stderr",
     "output_type": "stream",
     "text": [
      "C:\\Users\\dosre\\AppData\\Local\\Temp\\ipykernel_23500\\508105216.py:41: UserWarning: Attempting to set identical low and high xlims makes transformation singular; automatically expanding.\n",
      "  ax.set_xlim(\n",
      "C:\\Users\\dosre\\AppData\\Local\\Temp\\ipykernel_23500\\508105216.py:46: UserWarning: No artists with labels found to put in legend.  Note that artists whose label start with an underscore are ignored when legend() is called with no argument.\n",
      "  ax.legend()\n"
     ]
    },
    {
     "name": "stdout",
     "output_type": "stream",
     "text": [
      "KeyError: unprecond G3_circuit 200\n"
     ]
    },
    {
     "name": "stderr",
     "output_type": "stream",
     "text": [
      "C:\\Users\\dosre\\AppData\\Local\\Temp\\ipykernel_23500\\508105216.py:41: UserWarning: Attempting to set identical low and high xlims makes transformation singular; automatically expanding.\n",
      "  ax.set_xlim(\n",
      "C:\\Users\\dosre\\AppData\\Local\\Temp\\ipykernel_23500\\508105216.py:46: UserWarning: No artists with labels found to put in legend.  Note that artists whose label start with an underscore are ignored when legend() is called with no argument.\n",
      "  ax.legend()\n",
      "C:\\Users\\dosre\\AppData\\Local\\Temp\\ipykernel_23500\\508105216.py:41: UserWarning: Attempting to set identical low and high xlims makes transformation singular; automatically expanding.\n",
      "  ax.set_xlim(\n",
      "C:\\Users\\dosre\\AppData\\Local\\Temp\\ipykernel_23500\\508105216.py:46: UserWarning: No artists with labels found to put in legend.  Note that artists whose label start with an underscore are ignored when legend() is called with no argument.\n",
      "  ax.legend()\n"
     ]
    },
    {
     "name": "stdout",
     "output_type": "stream",
     "text": [
      "KeyError: unprecond garon2 30\n",
      "KeyError: unprecond garon2 40\n"
     ]
    },
    {
     "name": "stderr",
     "output_type": "stream",
     "text": [
      "C:\\Users\\dosre\\AppData\\Local\\Temp\\ipykernel_23500\\508105216.py:41: UserWarning: Attempting to set identical low and high xlims makes transformation singular; automatically expanding.\n",
      "  ax.set_xlim(\n",
      "C:\\Users\\dosre\\AppData\\Local\\Temp\\ipykernel_23500\\508105216.py:46: UserWarning: No artists with labels found to put in legend.  Note that artists whose label start with an underscore are ignored when legend() is called with no argument.\n",
      "  ax.legend()\n"
     ]
    },
    {
     "name": "stdout",
     "output_type": "stream",
     "text": [
      "KeyError: unprecond garon2 50\n"
     ]
    },
    {
     "name": "stderr",
     "output_type": "stream",
     "text": [
      "C:\\Users\\dosre\\AppData\\Local\\Temp\\ipykernel_23500\\508105216.py:41: UserWarning: Attempting to set identical low and high xlims makes transformation singular; automatically expanding.\n",
      "  ax.set_xlim(\n",
      "C:\\Users\\dosre\\AppData\\Local\\Temp\\ipykernel_23500\\508105216.py:46: UserWarning: No artists with labels found to put in legend.  Note that artists whose label start with an underscore are ignored when legend() is called with no argument.\n",
      "  ax.legend()\n"
     ]
    },
    {
     "name": "stdout",
     "output_type": "stream",
     "text": [
      "KeyError: unprecond garon2 200\n"
     ]
    },
    {
     "name": "stderr",
     "output_type": "stream",
     "text": [
      "C:\\Users\\dosre\\AppData\\Local\\Temp\\ipykernel_23500\\508105216.py:41: UserWarning: Attempting to set identical low and high xlims makes transformation singular; automatically expanding.\n",
      "  ax.set_xlim(\n",
      "C:\\Users\\dosre\\AppData\\Local\\Temp\\ipykernel_23500\\508105216.py:46: UserWarning: No artists with labels found to put in legend.  Note that artists whose label start with an underscore are ignored when legend() is called with no argument.\n",
      "  ax.legend()\n",
      "C:\\Users\\dosre\\AppData\\Local\\Temp\\ipykernel_23500\\508105216.py:41: UserWarning: Attempting to set identical low and high xlims makes transformation singular; automatically expanding.\n",
      "  ax.set_xlim(\n",
      "C:\\Users\\dosre\\AppData\\Local\\Temp\\ipykernel_23500\\508105216.py:46: UserWarning: No artists with labels found to put in legend.  Note that artists whose label start with an underscore are ignored when legend() is called with no argument.\n",
      "  ax.legend()\n"
     ]
    },
    {
     "name": "stdout",
     "output_type": "stream",
     "text": [
      "KeyError: unprecond hood 30\n",
      "KeyError: unprecond hood 40\n",
      "KeyError: unprecond hood 50\n"
     ]
    },
    {
     "name": "stderr",
     "output_type": "stream",
     "text": [
      "C:\\Users\\dosre\\AppData\\Local\\Temp\\ipykernel_23500\\508105216.py:41: UserWarning: Attempting to set identical low and high xlims makes transformation singular; automatically expanding.\n",
      "  ax.set_xlim(\n",
      "C:\\Users\\dosre\\AppData\\Local\\Temp\\ipykernel_23500\\508105216.py:46: UserWarning: No artists with labels found to put in legend.  Note that artists whose label start with an underscore are ignored when legend() is called with no argument.\n",
      "  ax.legend()\n",
      "C:\\Users\\dosre\\AppData\\Local\\Temp\\ipykernel_23500\\508105216.py:41: UserWarning: Attempting to set identical low and high xlims makes transformation singular; automatically expanding.\n",
      "  ax.set_xlim(\n",
      "C:\\Users\\dosre\\AppData\\Local\\Temp\\ipykernel_23500\\508105216.py:46: UserWarning: No artists with labels found to put in legend.  Note that artists whose label start with an underscore are ignored when legend() is called with no argument.\n",
      "  ax.legend()\n"
     ]
    },
    {
     "name": "stdout",
     "output_type": "stream",
     "text": [
      "KeyError: unprecond hood 200\n"
     ]
    },
    {
     "name": "stderr",
     "output_type": "stream",
     "text": [
      "C:\\Users\\dosre\\AppData\\Local\\Temp\\ipykernel_23500\\508105216.py:41: UserWarning: Attempting to set identical low and high xlims makes transformation singular; automatically expanding.\n",
      "  ax.set_xlim(\n",
      "C:\\Users\\dosre\\AppData\\Local\\Temp\\ipykernel_23500\\508105216.py:46: UserWarning: No artists with labels found to put in legend.  Note that artists whose label start with an underscore are ignored when legend() is called with no argument.\n",
      "  ax.legend()\n",
      "C:\\Users\\dosre\\AppData\\Local\\Temp\\ipykernel_23500\\508105216.py:41: UserWarning: Attempting to set identical low and high xlims makes transformation singular; automatically expanding.\n",
      "  ax.set_xlim(\n",
      "C:\\Users\\dosre\\AppData\\Local\\Temp\\ipykernel_23500\\508105216.py:46: UserWarning: No artists with labels found to put in legend.  Note that artists whose label start with an underscore are ignored when legend() is called with no argument.\n",
      "  ax.legend()\n"
     ]
    },
    {
     "name": "stdout",
     "output_type": "stream",
     "text": [
      "KeyError: unprecond inlet 30\n",
      "KeyError: unprecond inlet 40\n"
     ]
    },
    {
     "name": "stderr",
     "output_type": "stream",
     "text": [
      "C:\\Users\\dosre\\AppData\\Local\\Temp\\ipykernel_23500\\508105216.py:41: UserWarning: Attempting to set identical low and high xlims makes transformation singular; automatically expanding.\n",
      "  ax.set_xlim(\n",
      "C:\\Users\\dosre\\AppData\\Local\\Temp\\ipykernel_23500\\508105216.py:46: UserWarning: No artists with labels found to put in legend.  Note that artists whose label start with an underscore are ignored when legend() is called with no argument.\n",
      "  ax.legend()\n"
     ]
    },
    {
     "name": "stdout",
     "output_type": "stream",
     "text": [
      "KeyError: unprecond inlet 50\n"
     ]
    },
    {
     "name": "stderr",
     "output_type": "stream",
     "text": [
      "C:\\Users\\dosre\\AppData\\Local\\Temp\\ipykernel_23500\\508105216.py:41: UserWarning: Attempting to set identical low and high xlims makes transformation singular; automatically expanding.\n",
      "  ax.set_xlim(\n",
      "C:\\Users\\dosre\\AppData\\Local\\Temp\\ipykernel_23500\\508105216.py:46: UserWarning: No artists with labels found to put in legend.  Note that artists whose label start with an underscore are ignored when legend() is called with no argument.\n",
      "  ax.legend()\n"
     ]
    },
    {
     "name": "stdout",
     "output_type": "stream",
     "text": [
      "KeyError: unprecond inlet 200\n"
     ]
    },
    {
     "name": "stderr",
     "output_type": "stream",
     "text": [
      "C:\\Users\\dosre\\AppData\\Local\\Temp\\ipykernel_23500\\508105216.py:41: UserWarning: Attempting to set identical low and high xlims makes transformation singular; automatically expanding.\n",
      "  ax.set_xlim(\n",
      "C:\\Users\\dosre\\AppData\\Local\\Temp\\ipykernel_23500\\508105216.py:46: UserWarning: No artists with labels found to put in legend.  Note that artists whose label start with an underscore are ignored when legend() is called with no argument.\n",
      "  ax.legend()\n",
      "C:\\Users\\dosre\\AppData\\Local\\Temp\\ipykernel_23500\\508105216.py:41: UserWarning: Attempting to set identical low and high xlims makes transformation singular; automatically expanding.\n",
      "  ax.set_xlim(\n",
      "C:\\Users\\dosre\\AppData\\Local\\Temp\\ipykernel_23500\\508105216.py:46: UserWarning: No artists with labels found to put in legend.  Note that artists whose label start with an underscore are ignored when legend() is called with no argument.\n",
      "  ax.legend()\n"
     ]
    },
    {
     "name": "stdout",
     "output_type": "stream",
     "text": [
      "KeyError: unprecond jan99jac040sc 30\n",
      "KeyError: unprecond jan99jac040sc 40\n"
     ]
    },
    {
     "name": "stderr",
     "output_type": "stream",
     "text": [
      "C:\\Users\\dosre\\AppData\\Local\\Temp\\ipykernel_23500\\508105216.py:41: UserWarning: Attempting to set identical low and high xlims makes transformation singular; automatically expanding.\n",
      "  ax.set_xlim(\n",
      "C:\\Users\\dosre\\AppData\\Local\\Temp\\ipykernel_23500\\508105216.py:46: UserWarning: No artists with labels found to put in legend.  Note that artists whose label start with an underscore are ignored when legend() is called with no argument.\n",
      "  ax.legend()\n"
     ]
    },
    {
     "name": "stdout",
     "output_type": "stream",
     "text": [
      "KeyError: unprecond jan99jac040sc 50\n"
     ]
    },
    {
     "name": "stderr",
     "output_type": "stream",
     "text": [
      "C:\\Users\\dosre\\AppData\\Local\\Temp\\ipykernel_23500\\508105216.py:41: UserWarning: Attempting to set identical low and high xlims makes transformation singular; automatically expanding.\n",
      "  ax.set_xlim(\n",
      "C:\\Users\\dosre\\AppData\\Local\\Temp\\ipykernel_23500\\508105216.py:46: UserWarning: No artists with labels found to put in legend.  Note that artists whose label start with an underscore are ignored when legend() is called with no argument.\n",
      "  ax.legend()\n"
     ]
    },
    {
     "name": "stdout",
     "output_type": "stream",
     "text": [
      "KeyError: unprecond jan99jac040sc 200\n"
     ]
    },
    {
     "name": "stderr",
     "output_type": "stream",
     "text": [
      "C:\\Users\\dosre\\AppData\\Local\\Temp\\ipykernel_23500\\508105216.py:41: UserWarning: Attempting to set identical low and high xlims makes transformation singular; automatically expanding.\n",
      "  ax.set_xlim(\n",
      "C:\\Users\\dosre\\AppData\\Local\\Temp\\ipykernel_23500\\508105216.py:46: UserWarning: No artists with labels found to put in legend.  Note that artists whose label start with an underscore are ignored when legend() is called with no argument.\n",
      "  ax.legend()\n",
      "C:\\Users\\dosre\\AppData\\Local\\Temp\\ipykernel_23500\\508105216.py:41: UserWarning: Attempting to set identical low and high xlims makes transformation singular; automatically expanding.\n",
      "  ax.set_xlim(\n",
      "C:\\Users\\dosre\\AppData\\Local\\Temp\\ipykernel_23500\\508105216.py:46: UserWarning: No artists with labels found to put in legend.  Note that artists whose label start with an underscore are ignored when legend() is called with no argument.\n",
      "  ax.legend()\n"
     ]
    },
    {
     "name": "stdout",
     "output_type": "stream",
     "text": [
      "KeyError: unprecond language 30\n",
      "KeyError: unprecond language 40\n"
     ]
    },
    {
     "name": "stderr",
     "output_type": "stream",
     "text": [
      "C:\\Users\\dosre\\AppData\\Local\\Temp\\ipykernel_23500\\508105216.py:41: UserWarning: Attempting to set identical low and high xlims makes transformation singular; automatically expanding.\n",
      "  ax.set_xlim(\n",
      "C:\\Users\\dosre\\AppData\\Local\\Temp\\ipykernel_23500\\508105216.py:46: UserWarning: No artists with labels found to put in legend.  Note that artists whose label start with an underscore are ignored when legend() is called with no argument.\n",
      "  ax.legend()\n"
     ]
    },
    {
     "name": "stdout",
     "output_type": "stream",
     "text": [
      "KeyError: unprecond language 50\n"
     ]
    },
    {
     "name": "stderr",
     "output_type": "stream",
     "text": [
      "C:\\Users\\dosre\\AppData\\Local\\Temp\\ipykernel_23500\\508105216.py:41: UserWarning: Attempting to set identical low and high xlims makes transformation singular; automatically expanding.\n",
      "  ax.set_xlim(\n",
      "C:\\Users\\dosre\\AppData\\Local\\Temp\\ipykernel_23500\\508105216.py:46: UserWarning: No artists with labels found to put in legend.  Note that artists whose label start with an underscore are ignored when legend() is called with no argument.\n",
      "  ax.legend()\n"
     ]
    },
    {
     "name": "stdout",
     "output_type": "stream",
     "text": [
      "KeyError: unprecond language 200\n"
     ]
    },
    {
     "name": "stderr",
     "output_type": "stream",
     "text": [
      "C:\\Users\\dosre\\AppData\\Local\\Temp\\ipykernel_23500\\508105216.py:41: UserWarning: Attempting to set identical low and high xlims makes transformation singular; automatically expanding.\n",
      "  ax.set_xlim(\n",
      "C:\\Users\\dosre\\AppData\\Local\\Temp\\ipykernel_23500\\508105216.py:46: UserWarning: No artists with labels found to put in legend.  Note that artists whose label start with an underscore are ignored when legend() is called with no argument.\n",
      "  ax.legend()\n",
      "C:\\Users\\dosre\\AppData\\Local\\Temp\\ipykernel_23500\\508105216.py:41: UserWarning: Attempting to set identical low and high xlims makes transformation singular; automatically expanding.\n",
      "  ax.set_xlim(\n",
      "C:\\Users\\dosre\\AppData\\Local\\Temp\\ipykernel_23500\\508105216.py:46: UserWarning: No artists with labels found to put in legend.  Note that artists whose label start with an underscore are ignored when legend() is called with no argument.\n",
      "  ax.legend()\n"
     ]
    },
    {
     "name": "stdout",
     "output_type": "stream",
     "text": [
      "KeyError: unprecond marine1 30\n",
      "KeyError: unprecond marine1 40\n"
     ]
    },
    {
     "name": "stderr",
     "output_type": "stream",
     "text": [
      "C:\\Users\\dosre\\AppData\\Local\\Temp\\ipykernel_23500\\508105216.py:41: UserWarning: Attempting to set identical low and high xlims makes transformation singular; automatically expanding.\n",
      "  ax.set_xlim(\n",
      "C:\\Users\\dosre\\AppData\\Local\\Temp\\ipykernel_23500\\508105216.py:46: UserWarning: No artists with labels found to put in legend.  Note that artists whose label start with an underscore are ignored when legend() is called with no argument.\n",
      "  ax.legend()\n"
     ]
    },
    {
     "name": "stdout",
     "output_type": "stream",
     "text": [
      "KeyError: unprecond marine1 50\n"
     ]
    },
    {
     "name": "stderr",
     "output_type": "stream",
     "text": [
      "C:\\Users\\dosre\\AppData\\Local\\Temp\\ipykernel_23500\\508105216.py:41: UserWarning: Attempting to set identical low and high xlims makes transformation singular; automatically expanding.\n",
      "  ax.set_xlim(\n",
      "C:\\Users\\dosre\\AppData\\Local\\Temp\\ipykernel_23500\\508105216.py:46: UserWarning: No artists with labels found to put in legend.  Note that artists whose label start with an underscore are ignored when legend() is called with no argument.\n",
      "  ax.legend()\n"
     ]
    },
    {
     "name": "stdout",
     "output_type": "stream",
     "text": [
      "KeyError: unprecond marine1 200\n"
     ]
    },
    {
     "name": "stderr",
     "output_type": "stream",
     "text": [
      "C:\\Users\\dosre\\AppData\\Local\\Temp\\ipykernel_23500\\508105216.py:41: UserWarning: Attempting to set identical low and high xlims makes transformation singular; automatically expanding.\n",
      "  ax.set_xlim(\n",
      "C:\\Users\\dosre\\AppData\\Local\\Temp\\ipykernel_23500\\508105216.py:46: UserWarning: No artists with labels found to put in legend.  Note that artists whose label start with an underscore are ignored when legend() is called with no argument.\n",
      "  ax.legend()\n",
      "C:\\Users\\dosre\\AppData\\Local\\Temp\\ipykernel_23500\\508105216.py:41: UserWarning: Attempting to set identical low and high xlims makes transformation singular; automatically expanding.\n",
      "  ax.set_xlim(\n",
      "C:\\Users\\dosre\\AppData\\Local\\Temp\\ipykernel_23500\\508105216.py:46: UserWarning: No artists with labels found to put in legend.  Note that artists whose label start with an underscore are ignored when legend() is called with no argument.\n",
      "  ax.legend()\n"
     ]
    },
    {
     "name": "stdout",
     "output_type": "stream",
     "text": [
      "KeyError: unprecond mc2depi 30\n",
      "KeyError: unprecond mc2depi 40\n"
     ]
    },
    {
     "name": "stderr",
     "output_type": "stream",
     "text": [
      "C:\\Users\\dosre\\AppData\\Local\\Temp\\ipykernel_23500\\508105216.py:41: UserWarning: Attempting to set identical low and high xlims makes transformation singular; automatically expanding.\n",
      "  ax.set_xlim(\n",
      "C:\\Users\\dosre\\AppData\\Local\\Temp\\ipykernel_23500\\508105216.py:46: UserWarning: No artists with labels found to put in legend.  Note that artists whose label start with an underscore are ignored when legend() is called with no argument.\n",
      "  ax.legend()\n"
     ]
    },
    {
     "name": "stdout",
     "output_type": "stream",
     "text": [
      "KeyError: unprecond mc2depi 50\n"
     ]
    },
    {
     "name": "stderr",
     "output_type": "stream",
     "text": [
      "C:\\Users\\dosre\\AppData\\Local\\Temp\\ipykernel_23500\\508105216.py:41: UserWarning: Attempting to set identical low and high xlims makes transformation singular; automatically expanding.\n",
      "  ax.set_xlim(\n",
      "C:\\Users\\dosre\\AppData\\Local\\Temp\\ipykernel_23500\\508105216.py:46: UserWarning: No artists with labels found to put in legend.  Note that artists whose label start with an underscore are ignored when legend() is called with no argument.\n",
      "  ax.legend()\n"
     ]
    },
    {
     "name": "stdout",
     "output_type": "stream",
     "text": [
      "KeyError: unprecond mc2depi 200\n"
     ]
    },
    {
     "name": "stderr",
     "output_type": "stream",
     "text": [
      "C:\\Users\\dosre\\AppData\\Local\\Temp\\ipykernel_23500\\508105216.py:41: UserWarning: Attempting to set identical low and high xlims makes transformation singular; automatically expanding.\n",
      "  ax.set_xlim(\n",
      "C:\\Users\\dosre\\AppData\\Local\\Temp\\ipykernel_23500\\508105216.py:46: UserWarning: No artists with labels found to put in legend.  Note that artists whose label start with an underscore are ignored when legend() is called with no argument.\n",
      "  ax.legend()\n",
      "C:\\Users\\dosre\\AppData\\Local\\Temp\\ipykernel_23500\\508105216.py:41: UserWarning: Attempting to set identical low and high xlims makes transformation singular; automatically expanding.\n",
      "  ax.set_xlim(\n",
      "C:\\Users\\dosre\\AppData\\Local\\Temp\\ipykernel_23500\\508105216.py:46: UserWarning: No artists with labels found to put in legend.  Note that artists whose label start with an underscore are ignored when legend() is called with no argument.\n",
      "  ax.legend()\n"
     ]
    },
    {
     "name": "stdout",
     "output_type": "stream",
     "text": [
      "KeyError: unprecond memplus 30\n",
      "KeyError: unprecond memplus 40\n"
     ]
    },
    {
     "name": "stderr",
     "output_type": "stream",
     "text": [
      "C:\\Users\\dosre\\AppData\\Local\\Temp\\ipykernel_23500\\508105216.py:41: UserWarning: Attempting to set identical low and high xlims makes transformation singular; automatically expanding.\n",
      "  ax.set_xlim(\n",
      "C:\\Users\\dosre\\AppData\\Local\\Temp\\ipykernel_23500\\508105216.py:46: UserWarning: No artists with labels found to put in legend.  Note that artists whose label start with an underscore are ignored when legend() is called with no argument.\n",
      "  ax.legend()\n"
     ]
    },
    {
     "name": "stdout",
     "output_type": "stream",
     "text": [
      "KeyError: unprecond memplus 50\n"
     ]
    },
    {
     "name": "stderr",
     "output_type": "stream",
     "text": [
      "C:\\Users\\dosre\\AppData\\Local\\Temp\\ipykernel_23500\\508105216.py:41: UserWarning: Attempting to set identical low and high xlims makes transformation singular; automatically expanding.\n",
      "  ax.set_xlim(\n",
      "C:\\Users\\dosre\\AppData\\Local\\Temp\\ipykernel_23500\\508105216.py:46: UserWarning: No artists with labels found to put in legend.  Note that artists whose label start with an underscore are ignored when legend() is called with no argument.\n",
      "  ax.legend()\n"
     ]
    },
    {
     "name": "stdout",
     "output_type": "stream",
     "text": [
      "KeyError: unprecond memplus 200\n"
     ]
    },
    {
     "name": "stderr",
     "output_type": "stream",
     "text": [
      "C:\\Users\\dosre\\AppData\\Local\\Temp\\ipykernel_23500\\508105216.py:41: UserWarning: Attempting to set identical low and high xlims makes transformation singular; automatically expanding.\n",
      "  ax.set_xlim(\n",
      "C:\\Users\\dosre\\AppData\\Local\\Temp\\ipykernel_23500\\508105216.py:46: UserWarning: No artists with labels found to put in legend.  Note that artists whose label start with an underscore are ignored when legend() is called with no argument.\n",
      "  ax.legend()\n",
      "C:\\Users\\dosre\\AppData\\Local\\Temp\\ipykernel_23500\\508105216.py:41: UserWarning: Attempting to set identical low and high xlims makes transformation singular; automatically expanding.\n",
      "  ax.set_xlim(\n",
      "C:\\Users\\dosre\\AppData\\Local\\Temp\\ipykernel_23500\\508105216.py:46: UserWarning: No artists with labels found to put in legend.  Note that artists whose label start with an underscore are ignored when legend() is called with no argument.\n",
      "  ax.legend()\n"
     ]
    },
    {
     "name": "stdout",
     "output_type": "stream",
     "text": [
      "KeyError: unprecond ns3Da 30\n",
      "KeyError: unprecond ns3Da 40\n"
     ]
    },
    {
     "name": "stderr",
     "output_type": "stream",
     "text": [
      "C:\\Users\\dosre\\AppData\\Local\\Temp\\ipykernel_23500\\508105216.py:41: UserWarning: Attempting to set identical low and high xlims makes transformation singular; automatically expanding.\n",
      "  ax.set_xlim(\n",
      "C:\\Users\\dosre\\AppData\\Local\\Temp\\ipykernel_23500\\508105216.py:46: UserWarning: No artists with labels found to put in legend.  Note that artists whose label start with an underscore are ignored when legend() is called with no argument.\n",
      "  ax.legend()\n"
     ]
    },
    {
     "name": "stdout",
     "output_type": "stream",
     "text": [
      "KeyError: unprecond ns3Da 50\n"
     ]
    },
    {
     "name": "stderr",
     "output_type": "stream",
     "text": [
      "C:\\Users\\dosre\\AppData\\Local\\Temp\\ipykernel_23500\\508105216.py:41: UserWarning: Attempting to set identical low and high xlims makes transformation singular; automatically expanding.\n",
      "  ax.set_xlim(\n",
      "C:\\Users\\dosre\\AppData\\Local\\Temp\\ipykernel_23500\\508105216.py:46: UserWarning: No artists with labels found to put in legend.  Note that artists whose label start with an underscore are ignored when legend() is called with no argument.\n",
      "  ax.legend()\n"
     ]
    },
    {
     "name": "stdout",
     "output_type": "stream",
     "text": [
      "KeyError: unprecond ns3Da 200\n"
     ]
    },
    {
     "name": "stderr",
     "output_type": "stream",
     "text": [
      "C:\\Users\\dosre\\AppData\\Local\\Temp\\ipykernel_23500\\508105216.py:41: UserWarning: Attempting to set identical low and high xlims makes transformation singular; automatically expanding.\n",
      "  ax.set_xlim(\n",
      "C:\\Users\\dosre\\AppData\\Local\\Temp\\ipykernel_23500\\508105216.py:46: UserWarning: No artists with labels found to put in legend.  Note that artists whose label start with an underscore are ignored when legend() is called with no argument.\n",
      "  ax.legend()\n",
      "C:\\Users\\dosre\\AppData\\Local\\Temp\\ipykernel_23500\\508105216.py:41: UserWarning: Attempting to set identical low and high xlims makes transformation singular; automatically expanding.\n",
      "  ax.set_xlim(\n",
      "C:\\Users\\dosre\\AppData\\Local\\Temp\\ipykernel_23500\\508105216.py:46: UserWarning: No artists with labels found to put in legend.  Note that artists whose label start with an underscore are ignored when legend() is called with no argument.\n",
      "  ax.legend()\n"
     ]
    },
    {
     "name": "stdout",
     "output_type": "stream",
     "text": [
      "KeyError: unprecond parabolic_fem 30\n",
      "KeyError: unprecond parabolic_fem 40\n"
     ]
    },
    {
     "name": "stderr",
     "output_type": "stream",
     "text": [
      "C:\\Users\\dosre\\AppData\\Local\\Temp\\ipykernel_23500\\508105216.py:41: UserWarning: Attempting to set identical low and high xlims makes transformation singular; automatically expanding.\n",
      "  ax.set_xlim(\n",
      "C:\\Users\\dosre\\AppData\\Local\\Temp\\ipykernel_23500\\508105216.py:46: UserWarning: No artists with labels found to put in legend.  Note that artists whose label start with an underscore are ignored when legend() is called with no argument.\n",
      "  ax.legend()\n"
     ]
    },
    {
     "name": "stdout",
     "output_type": "stream",
     "text": [
      "KeyError: unprecond parabolic_fem 50\n"
     ]
    },
    {
     "name": "stderr",
     "output_type": "stream",
     "text": [
      "C:\\Users\\dosre\\AppData\\Local\\Temp\\ipykernel_23500\\508105216.py:41: UserWarning: Attempting to set identical low and high xlims makes transformation singular; automatically expanding.\n",
      "  ax.set_xlim(\n",
      "C:\\Users\\dosre\\AppData\\Local\\Temp\\ipykernel_23500\\508105216.py:46: UserWarning: No artists with labels found to put in legend.  Note that artists whose label start with an underscore are ignored when legend() is called with no argument.\n",
      "  ax.legend()\n"
     ]
    },
    {
     "name": "stdout",
     "output_type": "stream",
     "text": [
      "KeyError: unprecond parabolic_fem 200\n"
     ]
    },
    {
     "name": "stderr",
     "output_type": "stream",
     "text": [
      "C:\\Users\\dosre\\AppData\\Local\\Temp\\ipykernel_23500\\508105216.py:41: UserWarning: Attempting to set identical low and high xlims makes transformation singular; automatically expanding.\n",
      "  ax.set_xlim(\n",
      "C:\\Users\\dosre\\AppData\\Local\\Temp\\ipykernel_23500\\508105216.py:46: UserWarning: No artists with labels found to put in legend.  Note that artists whose label start with an underscore are ignored when legend() is called with no argument.\n",
      "  ax.legend()\n",
      "C:\\Users\\dosre\\AppData\\Local\\Temp\\ipykernel_23500\\508105216.py:41: UserWarning: Attempting to set identical low and high xlims makes transformation singular; automatically expanding.\n",
      "  ax.set_xlim(\n",
      "C:\\Users\\dosre\\AppData\\Local\\Temp\\ipykernel_23500\\508105216.py:46: UserWarning: No artists with labels found to put in legend.  Note that artists whose label start with an underscore are ignored when legend() is called with no argument.\n",
      "  ax.legend()\n"
     ]
    },
    {
     "name": "stdout",
     "output_type": "stream",
     "text": [
      "KeyError: unprecond poisson3Da 30\n",
      "KeyError: unprecond poisson3Da 40\n"
     ]
    },
    {
     "name": "stderr",
     "output_type": "stream",
     "text": [
      "C:\\Users\\dosre\\AppData\\Local\\Temp\\ipykernel_23500\\508105216.py:41: UserWarning: Attempting to set identical low and high xlims makes transformation singular; automatically expanding.\n",
      "  ax.set_xlim(\n",
      "C:\\Users\\dosre\\AppData\\Local\\Temp\\ipykernel_23500\\508105216.py:46: UserWarning: No artists with labels found to put in legend.  Note that artists whose label start with an underscore are ignored when legend() is called with no argument.\n",
      "  ax.legend()\n"
     ]
    },
    {
     "name": "stdout",
     "output_type": "stream",
     "text": [
      "KeyError: unprecond poisson3Da 50\n"
     ]
    },
    {
     "name": "stderr",
     "output_type": "stream",
     "text": [
      "C:\\Users\\dosre\\AppData\\Local\\Temp\\ipykernel_23500\\508105216.py:41: UserWarning: Attempting to set identical low and high xlims makes transformation singular; automatically expanding.\n",
      "  ax.set_xlim(\n",
      "C:\\Users\\dosre\\AppData\\Local\\Temp\\ipykernel_23500\\508105216.py:46: UserWarning: No artists with labels found to put in legend.  Note that artists whose label start with an underscore are ignored when legend() is called with no argument.\n",
      "  ax.legend()\n"
     ]
    },
    {
     "name": "stdout",
     "output_type": "stream",
     "text": [
      "KeyError: unprecond poisson3Da 200\n"
     ]
    },
    {
     "name": "stderr",
     "output_type": "stream",
     "text": [
      "C:\\Users\\dosre\\AppData\\Local\\Temp\\ipykernel_23500\\508105216.py:41: UserWarning: Attempting to set identical low and high xlims makes transformation singular; automatically expanding.\n",
      "  ax.set_xlim(\n",
      "C:\\Users\\dosre\\AppData\\Local\\Temp\\ipykernel_23500\\508105216.py:46: UserWarning: No artists with labels found to put in legend.  Note that artists whose label start with an underscore are ignored when legend() is called with no argument.\n",
      "  ax.legend()\n",
      "C:\\Users\\dosre\\AppData\\Local\\Temp\\ipykernel_23500\\508105216.py:41: UserWarning: Attempting to set identical low and high xlims makes transformation singular; automatically expanding.\n",
      "  ax.set_xlim(\n",
      "C:\\Users\\dosre\\AppData\\Local\\Temp\\ipykernel_23500\\508105216.py:46: UserWarning: No artists with labels found to put in legend.  Note that artists whose label start with an underscore are ignored when legend() is called with no argument.\n",
      "  ax.legend()\n"
     ]
    },
    {
     "name": "stdout",
     "output_type": "stream",
     "text": [
      "KeyError: unprecond poisson3Db 30\n",
      "KeyError: unprecond poisson3Db 40\n"
     ]
    },
    {
     "name": "stderr",
     "output_type": "stream",
     "text": [
      "C:\\Users\\dosre\\AppData\\Local\\Temp\\ipykernel_23500\\508105216.py:41: UserWarning: Attempting to set identical low and high xlims makes transformation singular; automatically expanding.\n",
      "  ax.set_xlim(\n",
      "C:\\Users\\dosre\\AppData\\Local\\Temp\\ipykernel_23500\\508105216.py:46: UserWarning: No artists with labels found to put in legend.  Note that artists whose label start with an underscore are ignored when legend() is called with no argument.\n",
      "  ax.legend()\n"
     ]
    },
    {
     "name": "stdout",
     "output_type": "stream",
     "text": [
      "KeyError: unprecond poisson3Db 50\n"
     ]
    },
    {
     "name": "stderr",
     "output_type": "stream",
     "text": [
      "C:\\Users\\dosre\\AppData\\Local\\Temp\\ipykernel_23500\\508105216.py:41: UserWarning: Attempting to set identical low and high xlims makes transformation singular; automatically expanding.\n",
      "  ax.set_xlim(\n",
      "C:\\Users\\dosre\\AppData\\Local\\Temp\\ipykernel_23500\\508105216.py:46: UserWarning: No artists with labels found to put in legend.  Note that artists whose label start with an underscore are ignored when legend() is called with no argument.\n",
      "  ax.legend()\n"
     ]
    },
    {
     "name": "stdout",
     "output_type": "stream",
     "text": [
      "KeyError: unprecond poisson3Db 200\n"
     ]
    },
    {
     "name": "stderr",
     "output_type": "stream",
     "text": [
      "C:\\Users\\dosre\\AppData\\Local\\Temp\\ipykernel_23500\\508105216.py:41: UserWarning: Attempting to set identical low and high xlims makes transformation singular; automatically expanding.\n",
      "  ax.set_xlim(\n",
      "C:\\Users\\dosre\\AppData\\Local\\Temp\\ipykernel_23500\\508105216.py:46: UserWarning: No artists with labels found to put in legend.  Note that artists whose label start with an underscore are ignored when legend() is called with no argument.\n",
      "  ax.legend()\n",
      "C:\\Users\\dosre\\AppData\\Local\\Temp\\ipykernel_23500\\508105216.py:41: UserWarning: Attempting to set identical low and high xlims makes transformation singular; automatically expanding.\n",
      "  ax.set_xlim(\n",
      "C:\\Users\\dosre\\AppData\\Local\\Temp\\ipykernel_23500\\508105216.py:46: UserWarning: No artists with labels found to put in legend.  Note that artists whose label start with an underscore are ignored when legend() is called with no argument.\n",
      "  ax.legend()\n"
     ]
    },
    {
     "name": "stdout",
     "output_type": "stream",
     "text": [
      "KeyError: unprecond powersim 30\n",
      "KeyError: unprecond powersim 40\n"
     ]
    },
    {
     "name": "stderr",
     "output_type": "stream",
     "text": [
      "C:\\Users\\dosre\\AppData\\Local\\Temp\\ipykernel_23500\\508105216.py:41: UserWarning: Attempting to set identical low and high xlims makes transformation singular; automatically expanding.\n",
      "  ax.set_xlim(\n",
      "C:\\Users\\dosre\\AppData\\Local\\Temp\\ipykernel_23500\\508105216.py:46: UserWarning: No artists with labels found to put in legend.  Note that artists whose label start with an underscore are ignored when legend() is called with no argument.\n",
      "  ax.legend()\n"
     ]
    },
    {
     "name": "stdout",
     "output_type": "stream",
     "text": [
      "KeyError: unprecond powersim 50\n"
     ]
    },
    {
     "name": "stderr",
     "output_type": "stream",
     "text": [
      "C:\\Users\\dosre\\AppData\\Local\\Temp\\ipykernel_23500\\508105216.py:41: UserWarning: Attempting to set identical low and high xlims makes transformation singular; automatically expanding.\n",
      "  ax.set_xlim(\n",
      "C:\\Users\\dosre\\AppData\\Local\\Temp\\ipykernel_23500\\508105216.py:46: UserWarning: No artists with labels found to put in legend.  Note that artists whose label start with an underscore are ignored when legend() is called with no argument.\n",
      "  ax.legend()\n"
     ]
    },
    {
     "name": "stdout",
     "output_type": "stream",
     "text": [
      "KeyError: unprecond powersim 200\n"
     ]
    },
    {
     "name": "stderr",
     "output_type": "stream",
     "text": [
      "C:\\Users\\dosre\\AppData\\Local\\Temp\\ipykernel_23500\\508105216.py:41: UserWarning: Attempting to set identical low and high xlims makes transformation singular; automatically expanding.\n",
      "  ax.set_xlim(\n",
      "C:\\Users\\dosre\\AppData\\Local\\Temp\\ipykernel_23500\\508105216.py:46: UserWarning: No artists with labels found to put in legend.  Note that artists whose label start with an underscore are ignored when legend() is called with no argument.\n",
      "  ax.legend()\n",
      "C:\\Users\\dosre\\AppData\\Local\\Temp\\ipykernel_23500\\508105216.py:41: UserWarning: Attempting to set identical low and high xlims makes transformation singular; automatically expanding.\n",
      "  ax.set_xlim(\n",
      "C:\\Users\\dosre\\AppData\\Local\\Temp\\ipykernel_23500\\508105216.py:46: UserWarning: No artists with labels found to put in legend.  Note that artists whose label start with an underscore are ignored when legend() is called with no argument.\n",
      "  ax.legend()\n"
     ]
    },
    {
     "name": "stdout",
     "output_type": "stream",
     "text": [
      "KeyError: unprecond pwtk 30\n",
      "KeyError: unprecond pwtk 40\n"
     ]
    },
    {
     "name": "stderr",
     "output_type": "stream",
     "text": [
      "C:\\Users\\dosre\\AppData\\Local\\Temp\\ipykernel_23500\\508105216.py:41: UserWarning: Attempting to set identical low and high xlims makes transformation singular; automatically expanding.\n",
      "  ax.set_xlim(\n",
      "C:\\Users\\dosre\\AppData\\Local\\Temp\\ipykernel_23500\\508105216.py:46: UserWarning: No artists with labels found to put in legend.  Note that artists whose label start with an underscore are ignored when legend() is called with no argument.\n",
      "  ax.legend()\n"
     ]
    },
    {
     "name": "stdout",
     "output_type": "stream",
     "text": [
      "KeyError: unprecond pwtk 50\n"
     ]
    },
    {
     "name": "stderr",
     "output_type": "stream",
     "text": [
      "C:\\Users\\dosre\\AppData\\Local\\Temp\\ipykernel_23500\\508105216.py:41: UserWarning: Attempting to set identical low and high xlims makes transformation singular; automatically expanding.\n",
      "  ax.set_xlim(\n",
      "C:\\Users\\dosre\\AppData\\Local\\Temp\\ipykernel_23500\\508105216.py:46: UserWarning: No artists with labels found to put in legend.  Note that artists whose label start with an underscore are ignored when legend() is called with no argument.\n",
      "  ax.legend()\n"
     ]
    },
    {
     "name": "stdout",
     "output_type": "stream",
     "text": [
      "KeyError: unprecond pwtk 200\n"
     ]
    },
    {
     "name": "stderr",
     "output_type": "stream",
     "text": [
      "C:\\Users\\dosre\\AppData\\Local\\Temp\\ipykernel_23500\\508105216.py:41: UserWarning: Attempting to set identical low and high xlims makes transformation singular; automatically expanding.\n",
      "  ax.set_xlim(\n",
      "C:\\Users\\dosre\\AppData\\Local\\Temp\\ipykernel_23500\\508105216.py:46: UserWarning: No artists with labels found to put in legend.  Note that artists whose label start with an underscore are ignored when legend() is called with no argument.\n",
      "  ax.legend()\n",
      "C:\\Users\\dosre\\AppData\\Local\\Temp\\ipykernel_23500\\508105216.py:41: UserWarning: Attempting to set identical low and high xlims makes transformation singular; automatically expanding.\n",
      "  ax.set_xlim(\n",
      "C:\\Users\\dosre\\AppData\\Local\\Temp\\ipykernel_23500\\508105216.py:46: UserWarning: No artists with labels found to put in legend.  Note that artists whose label start with an underscore are ignored when legend() is called with no argument.\n",
      "  ax.legend()\n"
     ]
    },
    {
     "name": "stdout",
     "output_type": "stream",
     "text": [
      "KeyError: unprecond rajat15 30\n",
      "KeyError: unprecond rajat15 40\n"
     ]
    },
    {
     "name": "stderr",
     "output_type": "stream",
     "text": [
      "C:\\Users\\dosre\\AppData\\Local\\Temp\\ipykernel_23500\\508105216.py:41: UserWarning: Attempting to set identical low and high xlims makes transformation singular; automatically expanding.\n",
      "  ax.set_xlim(\n",
      "C:\\Users\\dosre\\AppData\\Local\\Temp\\ipykernel_23500\\508105216.py:46: UserWarning: No artists with labels found to put in legend.  Note that artists whose label start with an underscore are ignored when legend() is called with no argument.\n",
      "  ax.legend()\n"
     ]
    },
    {
     "name": "stdout",
     "output_type": "stream",
     "text": [
      "KeyError: unprecond rajat15 50\n"
     ]
    },
    {
     "name": "stderr",
     "output_type": "stream",
     "text": [
      "C:\\Users\\dosre\\AppData\\Local\\Temp\\ipykernel_23500\\508105216.py:41: UserWarning: Attempting to set identical low and high xlims makes transformation singular; automatically expanding.\n",
      "  ax.set_xlim(\n",
      "C:\\Users\\dosre\\AppData\\Local\\Temp\\ipykernel_23500\\508105216.py:46: UserWarning: No artists with labels found to put in legend.  Note that artists whose label start with an underscore are ignored when legend() is called with no argument.\n",
      "  ax.legend()\n"
     ]
    },
    {
     "name": "stdout",
     "output_type": "stream",
     "text": [
      "KeyError: unprecond rajat15 200\n"
     ]
    },
    {
     "name": "stderr",
     "output_type": "stream",
     "text": [
      "C:\\Users\\dosre\\AppData\\Local\\Temp\\ipykernel_23500\\508105216.py:41: UserWarning: Attempting to set identical low and high xlims makes transformation singular; automatically expanding.\n",
      "  ax.set_xlim(\n",
      "C:\\Users\\dosre\\AppData\\Local\\Temp\\ipykernel_23500\\508105216.py:46: UserWarning: No artists with labels found to put in legend.  Note that artists whose label start with an underscore are ignored when legend() is called with no argument.\n",
      "  ax.legend()\n",
      "C:\\Users\\dosre\\AppData\\Local\\Temp\\ipykernel_23500\\508105216.py:41: UserWarning: Attempting to set identical low and high xlims makes transformation singular; automatically expanding.\n",
      "  ax.set_xlim(\n",
      "C:\\Users\\dosre\\AppData\\Local\\Temp\\ipykernel_23500\\508105216.py:46: UserWarning: No artists with labels found to put in legend.  Note that artists whose label start with an underscore are ignored when legend() is called with no argument.\n",
      "  ax.legend()\n"
     ]
    },
    {
     "name": "stdout",
     "output_type": "stream",
     "text": [
      "KeyError: unprecond rajat31 30\n",
      "KeyError: unprecond rajat31 40\n"
     ]
    },
    {
     "name": "stderr",
     "output_type": "stream",
     "text": [
      "C:\\Users\\dosre\\AppData\\Local\\Temp\\ipykernel_23500\\508105216.py:41: UserWarning: Attempting to set identical low and high xlims makes transformation singular; automatically expanding.\n",
      "  ax.set_xlim(\n",
      "C:\\Users\\dosre\\AppData\\Local\\Temp\\ipykernel_23500\\508105216.py:46: UserWarning: No artists with labels found to put in legend.  Note that artists whose label start with an underscore are ignored when legend() is called with no argument.\n",
      "  ax.legend()\n"
     ]
    },
    {
     "name": "stdout",
     "output_type": "stream",
     "text": [
      "KeyError: unprecond rajat31 50\n"
     ]
    },
    {
     "name": "stderr",
     "output_type": "stream",
     "text": [
      "C:\\Users\\dosre\\AppData\\Local\\Temp\\ipykernel_23500\\508105216.py:41: UserWarning: Attempting to set identical low and high xlims makes transformation singular; automatically expanding.\n",
      "  ax.set_xlim(\n",
      "C:\\Users\\dosre\\AppData\\Local\\Temp\\ipykernel_23500\\508105216.py:46: UserWarning: No artists with labels found to put in legend.  Note that artists whose label start with an underscore are ignored when legend() is called with no argument.\n",
      "  ax.legend()\n"
     ]
    },
    {
     "name": "stdout",
     "output_type": "stream",
     "text": [
      "KeyError: unprecond rajat31 200\n"
     ]
    },
    {
     "name": "stderr",
     "output_type": "stream",
     "text": [
      "C:\\Users\\dosre\\AppData\\Local\\Temp\\ipykernel_23500\\508105216.py:41: UserWarning: Attempting to set identical low and high xlims makes transformation singular; automatically expanding.\n",
      "  ax.set_xlim(\n",
      "C:\\Users\\dosre\\AppData\\Local\\Temp\\ipykernel_23500\\508105216.py:46: UserWarning: No artists with labels found to put in legend.  Note that artists whose label start with an underscore are ignored when legend() is called with no argument.\n",
      "  ax.legend()\n",
      "C:\\Users\\dosre\\AppData\\Local\\Temp\\ipykernel_23500\\508105216.py:41: UserWarning: Attempting to set identical low and high xlims makes transformation singular; automatically expanding.\n",
      "  ax.set_xlim(\n",
      "C:\\Users\\dosre\\AppData\\Local\\Temp\\ipykernel_23500\\508105216.py:46: UserWarning: No artists with labels found to put in legend.  Note that artists whose label start with an underscore are ignored when legend() is called with no argument.\n",
      "  ax.legend()\n"
     ]
    },
    {
     "name": "stdout",
     "output_type": "stream",
     "text": [
      "KeyError: unprecond shermanACb 30\n",
      "KeyError: unprecond shermanACb 40\n"
     ]
    },
    {
     "name": "stderr",
     "output_type": "stream",
     "text": [
      "C:\\Users\\dosre\\AppData\\Local\\Temp\\ipykernel_23500\\508105216.py:41: UserWarning: Attempting to set identical low and high xlims makes transformation singular; automatically expanding.\n",
      "  ax.set_xlim(\n",
      "C:\\Users\\dosre\\AppData\\Local\\Temp\\ipykernel_23500\\508105216.py:46: UserWarning: No artists with labels found to put in legend.  Note that artists whose label start with an underscore are ignored when legend() is called with no argument.\n",
      "  ax.legend()\n"
     ]
    },
    {
     "name": "stdout",
     "output_type": "stream",
     "text": [
      "KeyError: unprecond shermanACb 50\n"
     ]
    },
    {
     "name": "stderr",
     "output_type": "stream",
     "text": [
      "C:\\Users\\dosre\\AppData\\Local\\Temp\\ipykernel_23500\\508105216.py:41: UserWarning: Attempting to set identical low and high xlims makes transformation singular; automatically expanding.\n",
      "  ax.set_xlim(\n",
      "C:\\Users\\dosre\\AppData\\Local\\Temp\\ipykernel_23500\\508105216.py:46: UserWarning: No artists with labels found to put in legend.  Note that artists whose label start with an underscore are ignored when legend() is called with no argument.\n",
      "  ax.legend()\n"
     ]
    },
    {
     "name": "stdout",
     "output_type": "stream",
     "text": [
      "KeyError: unprecond shermanACb 200\n"
     ]
    },
    {
     "name": "stderr",
     "output_type": "stream",
     "text": [
      "C:\\Users\\dosre\\AppData\\Local\\Temp\\ipykernel_23500\\508105216.py:41: UserWarning: Attempting to set identical low and high xlims makes transformation singular; automatically expanding.\n",
      "  ax.set_xlim(\n",
      "C:\\Users\\dosre\\AppData\\Local\\Temp\\ipykernel_23500\\508105216.py:46: UserWarning: No artists with labels found to put in legend.  Note that artists whose label start with an underscore are ignored when legend() is called with no argument.\n",
      "  ax.legend()\n",
      "C:\\Users\\dosre\\AppData\\Local\\Temp\\ipykernel_23500\\508105216.py:41: UserWarning: Attempting to set identical low and high xlims makes transformation singular; automatically expanding.\n",
      "  ax.set_xlim(\n",
      "C:\\Users\\dosre\\AppData\\Local\\Temp\\ipykernel_23500\\508105216.py:46: UserWarning: No artists with labels found to put in legend.  Note that artists whose label start with an underscore are ignored when legend() is called with no argument.\n",
      "  ax.legend()\n"
     ]
    },
    {
     "name": "stdout",
     "output_type": "stream",
     "text": [
      "KeyError: unprecond sme3Da 30\n",
      "KeyError: unprecond sme3Da 40\n"
     ]
    },
    {
     "name": "stderr",
     "output_type": "stream",
     "text": [
      "C:\\Users\\dosre\\AppData\\Local\\Temp\\ipykernel_23500\\508105216.py:41: UserWarning: Attempting to set identical low and high xlims makes transformation singular; automatically expanding.\n",
      "  ax.set_xlim(\n",
      "C:\\Users\\dosre\\AppData\\Local\\Temp\\ipykernel_23500\\508105216.py:46: UserWarning: No artists with labels found to put in legend.  Note that artists whose label start with an underscore are ignored when legend() is called with no argument.\n",
      "  ax.legend()\n"
     ]
    },
    {
     "name": "stdout",
     "output_type": "stream",
     "text": [
      "KeyError: unprecond sme3Da 50\n"
     ]
    },
    {
     "name": "stderr",
     "output_type": "stream",
     "text": [
      "C:\\Users\\dosre\\AppData\\Local\\Temp\\ipykernel_23500\\508105216.py:41: UserWarning: Attempting to set identical low and high xlims makes transformation singular; automatically expanding.\n",
      "  ax.set_xlim(\n",
      "C:\\Users\\dosre\\AppData\\Local\\Temp\\ipykernel_23500\\508105216.py:46: UserWarning: No artists with labels found to put in legend.  Note that artists whose label start with an underscore are ignored when legend() is called with no argument.\n",
      "  ax.legend()\n"
     ]
    },
    {
     "name": "stdout",
     "output_type": "stream",
     "text": [
      "KeyError: unprecond sme3Da 200\n"
     ]
    },
    {
     "name": "stderr",
     "output_type": "stream",
     "text": [
      "C:\\Users\\dosre\\AppData\\Local\\Temp\\ipykernel_23500\\508105216.py:41: UserWarning: Attempting to set identical low and high xlims makes transformation singular; automatically expanding.\n",
      "  ax.set_xlim(\n",
      "C:\\Users\\dosre\\AppData\\Local\\Temp\\ipykernel_23500\\508105216.py:46: UserWarning: No artists with labels found to put in legend.  Note that artists whose label start with an underscore are ignored when legend() is called with no argument.\n",
      "  ax.legend()\n",
      "C:\\Users\\dosre\\AppData\\Local\\Temp\\ipykernel_23500\\508105216.py:41: UserWarning: Attempting to set identical low and high xlims makes transformation singular; automatically expanding.\n",
      "  ax.set_xlim(\n",
      "C:\\Users\\dosre\\AppData\\Local\\Temp\\ipykernel_23500\\508105216.py:46: UserWarning: No artists with labels found to put in legend.  Note that artists whose label start with an underscore are ignored when legend() is called with no argument.\n",
      "  ax.legend()\n"
     ]
    },
    {
     "name": "stdout",
     "output_type": "stream",
     "text": [
      "KeyError: unprecond stomach 30\n",
      "KeyError: unprecond stomach 40\n"
     ]
    },
    {
     "name": "stderr",
     "output_type": "stream",
     "text": [
      "C:\\Users\\dosre\\AppData\\Local\\Temp\\ipykernel_23500\\508105216.py:41: UserWarning: Attempting to set identical low and high xlims makes transformation singular; automatically expanding.\n",
      "  ax.set_xlim(\n",
      "C:\\Users\\dosre\\AppData\\Local\\Temp\\ipykernel_23500\\508105216.py:46: UserWarning: No artists with labels found to put in legend.  Note that artists whose label start with an underscore are ignored when legend() is called with no argument.\n",
      "  ax.legend()\n"
     ]
    },
    {
     "name": "stdout",
     "output_type": "stream",
     "text": [
      "KeyError: unprecond stomach 50\n"
     ]
    },
    {
     "name": "stderr",
     "output_type": "stream",
     "text": [
      "C:\\Users\\dosre\\AppData\\Local\\Temp\\ipykernel_23500\\508105216.py:41: UserWarning: Attempting to set identical low and high xlims makes transformation singular; automatically expanding.\n",
      "  ax.set_xlim(\n",
      "C:\\Users\\dosre\\AppData\\Local\\Temp\\ipykernel_23500\\508105216.py:46: UserWarning: No artists with labels found to put in legend.  Note that artists whose label start with an underscore are ignored when legend() is called with no argument.\n",
      "  ax.legend()\n"
     ]
    },
    {
     "name": "stdout",
     "output_type": "stream",
     "text": [
      "KeyError: unprecond stomach 200\n"
     ]
    },
    {
     "name": "stderr",
     "output_type": "stream",
     "text": [
      "C:\\Users\\dosre\\AppData\\Local\\Temp\\ipykernel_23500\\508105216.py:41: UserWarning: Attempting to set identical low and high xlims makes transformation singular; automatically expanding.\n",
      "  ax.set_xlim(\n",
      "C:\\Users\\dosre\\AppData\\Local\\Temp\\ipykernel_23500\\508105216.py:46: UserWarning: No artists with labels found to put in legend.  Note that artists whose label start with an underscore are ignored when legend() is called with no argument.\n",
      "  ax.legend()\n",
      "C:\\Users\\dosre\\AppData\\Local\\Temp\\ipykernel_23500\\508105216.py:41: UserWarning: Attempting to set identical low and high xlims makes transformation singular; automatically expanding.\n",
      "  ax.set_xlim(\n",
      "C:\\Users\\dosre\\AppData\\Local\\Temp\\ipykernel_23500\\508105216.py:46: UserWarning: No artists with labels found to put in legend.  Note that artists whose label start with an underscore are ignored when legend() is called with no argument.\n",
      "  ax.legend()\n"
     ]
    },
    {
     "name": "stdout",
     "output_type": "stream",
     "text": [
      "KeyError: unprecond t2em 30\n",
      "KeyError: unprecond t2em 40\n"
     ]
    },
    {
     "name": "stderr",
     "output_type": "stream",
     "text": [
      "C:\\Users\\dosre\\AppData\\Local\\Temp\\ipykernel_23500\\508105216.py:41: UserWarning: Attempting to set identical low and high xlims makes transformation singular; automatically expanding.\n",
      "  ax.set_xlim(\n",
      "C:\\Users\\dosre\\AppData\\Local\\Temp\\ipykernel_23500\\508105216.py:46: UserWarning: No artists with labels found to put in legend.  Note that artists whose label start with an underscore are ignored when legend() is called with no argument.\n",
      "  ax.legend()\n"
     ]
    },
    {
     "name": "stdout",
     "output_type": "stream",
     "text": [
      "KeyError: unprecond t2em 50\n"
     ]
    },
    {
     "name": "stderr",
     "output_type": "stream",
     "text": [
      "C:\\Users\\dosre\\AppData\\Local\\Temp\\ipykernel_23500\\508105216.py:41: UserWarning: Attempting to set identical low and high xlims makes transformation singular; automatically expanding.\n",
      "  ax.set_xlim(\n",
      "C:\\Users\\dosre\\AppData\\Local\\Temp\\ipykernel_23500\\508105216.py:46: UserWarning: No artists with labels found to put in legend.  Note that artists whose label start with an underscore are ignored when legend() is called with no argument.\n",
      "  ax.legend()\n"
     ]
    },
    {
     "name": "stdout",
     "output_type": "stream",
     "text": [
      "KeyError: unprecond t2em 200\n"
     ]
    },
    {
     "name": "stderr",
     "output_type": "stream",
     "text": [
      "C:\\Users\\dosre\\AppData\\Local\\Temp\\ipykernel_23500\\508105216.py:41: UserWarning: Attempting to set identical low and high xlims makes transformation singular; automatically expanding.\n",
      "  ax.set_xlim(\n",
      "C:\\Users\\dosre\\AppData\\Local\\Temp\\ipykernel_23500\\508105216.py:46: UserWarning: No artists with labels found to put in legend.  Note that artists whose label start with an underscore are ignored when legend() is called with no argument.\n",
      "  ax.legend()\n",
      "C:\\Users\\dosre\\AppData\\Local\\Temp\\ipykernel_23500\\508105216.py:41: UserWarning: Attempting to set identical low and high xlims makes transformation singular; automatically expanding.\n",
      "  ax.set_xlim(\n",
      "C:\\Users\\dosre\\AppData\\Local\\Temp\\ipykernel_23500\\508105216.py:46: UserWarning: No artists with labels found to put in legend.  Note that artists whose label start with an underscore are ignored when legend() is called with no argument.\n",
      "  ax.legend()\n"
     ]
    },
    {
     "name": "stdout",
     "output_type": "stream",
     "text": [
      "KeyError: unprecond thermal2 30\n",
      "KeyError: unprecond thermal2 40\n"
     ]
    },
    {
     "name": "stderr",
     "output_type": "stream",
     "text": [
      "C:\\Users\\dosre\\AppData\\Local\\Temp\\ipykernel_23500\\508105216.py:41: UserWarning: Attempting to set identical low and high xlims makes transformation singular; automatically expanding.\n",
      "  ax.set_xlim(\n",
      "C:\\Users\\dosre\\AppData\\Local\\Temp\\ipykernel_23500\\508105216.py:46: UserWarning: No artists with labels found to put in legend.  Note that artists whose label start with an underscore are ignored when legend() is called with no argument.\n",
      "  ax.legend()\n"
     ]
    },
    {
     "name": "stdout",
     "output_type": "stream",
     "text": [
      "KeyError: unprecond thermal2 50\n"
     ]
    },
    {
     "name": "stderr",
     "output_type": "stream",
     "text": [
      "C:\\Users\\dosre\\AppData\\Local\\Temp\\ipykernel_23500\\508105216.py:41: UserWarning: Attempting to set identical low and high xlims makes transformation singular; automatically expanding.\n",
      "  ax.set_xlim(\n",
      "C:\\Users\\dosre\\AppData\\Local\\Temp\\ipykernel_23500\\508105216.py:46: UserWarning: No artists with labels found to put in legend.  Note that artists whose label start with an underscore are ignored when legend() is called with no argument.\n",
      "  ax.legend()\n"
     ]
    },
    {
     "name": "stdout",
     "output_type": "stream",
     "text": [
      "KeyError: unprecond thermal2 200\n"
     ]
    },
    {
     "name": "stderr",
     "output_type": "stream",
     "text": [
      "C:\\Users\\dosre\\AppData\\Local\\Temp\\ipykernel_23500\\508105216.py:41: UserWarning: Attempting to set identical low and high xlims makes transformation singular; automatically expanding.\n",
      "  ax.set_xlim(\n",
      "C:\\Users\\dosre\\AppData\\Local\\Temp\\ipykernel_23500\\508105216.py:46: UserWarning: No artists with labels found to put in legend.  Note that artists whose label start with an underscore are ignored when legend() is called with no argument.\n",
      "  ax.legend()\n",
      "C:\\Users\\dosre\\AppData\\Local\\Temp\\ipykernel_23500\\508105216.py:41: UserWarning: Attempting to set identical low and high xlims makes transformation singular; automatically expanding.\n",
      "  ax.set_xlim(\n",
      "C:\\Users\\dosre\\AppData\\Local\\Temp\\ipykernel_23500\\508105216.py:46: UserWarning: No artists with labels found to put in legend.  Note that artists whose label start with an underscore are ignored when legend() is called with no argument.\n",
      "  ax.legend()\n"
     ]
    },
    {
     "name": "stdout",
     "output_type": "stream",
     "text": [
      "KeyError: unprecond tmt_unsym 30\n",
      "KeyError: unprecond tmt_unsym 40\n"
     ]
    },
    {
     "name": "stderr",
     "output_type": "stream",
     "text": [
      "C:\\Users\\dosre\\AppData\\Local\\Temp\\ipykernel_23500\\508105216.py:41: UserWarning: Attempting to set identical low and high xlims makes transformation singular; automatically expanding.\n",
      "  ax.set_xlim(\n",
      "C:\\Users\\dosre\\AppData\\Local\\Temp\\ipykernel_23500\\508105216.py:46: UserWarning: No artists with labels found to put in legend.  Note that artists whose label start with an underscore are ignored when legend() is called with no argument.\n",
      "  ax.legend()\n"
     ]
    },
    {
     "name": "stdout",
     "output_type": "stream",
     "text": [
      "KeyError: unprecond tmt_unsym 50\n"
     ]
    },
    {
     "name": "stderr",
     "output_type": "stream",
     "text": [
      "C:\\Users\\dosre\\AppData\\Local\\Temp\\ipykernel_23500\\508105216.py:41: UserWarning: Attempting to set identical low and high xlims makes transformation singular; automatically expanding.\n",
      "  ax.set_xlim(\n",
      "C:\\Users\\dosre\\AppData\\Local\\Temp\\ipykernel_23500\\508105216.py:46: UserWarning: No artists with labels found to put in legend.  Note that artists whose label start with an underscore are ignored when legend() is called with no argument.\n",
      "  ax.legend()\n"
     ]
    },
    {
     "name": "stdout",
     "output_type": "stream",
     "text": [
      "KeyError: unprecond tmt_unsym 200\n"
     ]
    },
    {
     "name": "stderr",
     "output_type": "stream",
     "text": [
      "C:\\Users\\dosre\\AppData\\Local\\Temp\\ipykernel_23500\\508105216.py:41: UserWarning: Attempting to set identical low and high xlims makes transformation singular; automatically expanding.\n",
      "  ax.set_xlim(\n",
      "C:\\Users\\dosre\\AppData\\Local\\Temp\\ipykernel_23500\\508105216.py:46: UserWarning: No artists with labels found to put in legend.  Note that artists whose label start with an underscore are ignored when legend() is called with no argument.\n",
      "  ax.legend()\n",
      "C:\\Users\\dosre\\AppData\\Local\\Temp\\ipykernel_23500\\508105216.py:41: UserWarning: Attempting to set identical low and high xlims makes transformation singular; automatically expanding.\n",
      "  ax.set_xlim(\n",
      "C:\\Users\\dosre\\AppData\\Local\\Temp\\ipykernel_23500\\508105216.py:46: UserWarning: No artists with labels found to put in legend.  Note that artists whose label start with an underscore are ignored when legend() is called with no argument.\n",
      "  ax.legend()\n"
     ]
    },
    {
     "name": "stdout",
     "output_type": "stream",
     "text": [
      "KeyError: unprecond torso2 30\n",
      "KeyError: unprecond torso2 40\n"
     ]
    },
    {
     "name": "stderr",
     "output_type": "stream",
     "text": [
      "C:\\Users\\dosre\\AppData\\Local\\Temp\\ipykernel_23500\\508105216.py:41: UserWarning: Attempting to set identical low and high xlims makes transformation singular; automatically expanding.\n",
      "  ax.set_xlim(\n",
      "C:\\Users\\dosre\\AppData\\Local\\Temp\\ipykernel_23500\\508105216.py:46: UserWarning: No artists with labels found to put in legend.  Note that artists whose label start with an underscore are ignored when legend() is called with no argument.\n",
      "  ax.legend()\n"
     ]
    },
    {
     "name": "stdout",
     "output_type": "stream",
     "text": [
      "KeyError: unprecond torso2 50\n"
     ]
    },
    {
     "name": "stderr",
     "output_type": "stream",
     "text": [
      "C:\\Users\\dosre\\AppData\\Local\\Temp\\ipykernel_23500\\508105216.py:41: UserWarning: Attempting to set identical low and high xlims makes transformation singular; automatically expanding.\n",
      "  ax.set_xlim(\n",
      "C:\\Users\\dosre\\AppData\\Local\\Temp\\ipykernel_23500\\508105216.py:46: UserWarning: No artists with labels found to put in legend.  Note that artists whose label start with an underscore are ignored when legend() is called with no argument.\n",
      "  ax.legend()\n"
     ]
    },
    {
     "name": "stdout",
     "output_type": "stream",
     "text": [
      "KeyError: unprecond torso2 200\n"
     ]
    },
    {
     "name": "stderr",
     "output_type": "stream",
     "text": [
      "C:\\Users\\dosre\\AppData\\Local\\Temp\\ipykernel_23500\\508105216.py:41: UserWarning: Attempting to set identical low and high xlims makes transformation singular; automatically expanding.\n",
      "  ax.set_xlim(\n",
      "C:\\Users\\dosre\\AppData\\Local\\Temp\\ipykernel_23500\\508105216.py:46: UserWarning: No artists with labels found to put in legend.  Note that artists whose label start with an underscore are ignored when legend() is called with no argument.\n",
      "  ax.legend()\n",
      "C:\\Users\\dosre\\AppData\\Local\\Temp\\ipykernel_23500\\508105216.py:41: UserWarning: Attempting to set identical low and high xlims makes transformation singular; automatically expanding.\n",
      "  ax.set_xlim(\n",
      "C:\\Users\\dosre\\AppData\\Local\\Temp\\ipykernel_23500\\508105216.py:46: UserWarning: No artists with labels found to put in legend.  Note that artists whose label start with an underscore are ignored when legend() is called with no argument.\n",
      "  ax.legend()\n"
     ]
    },
    {
     "name": "stdout",
     "output_type": "stream",
     "text": [
      "KeyError: unprecond torso3 30\n",
      "KeyError: unprecond torso3 40\n"
     ]
    },
    {
     "name": "stderr",
     "output_type": "stream",
     "text": [
      "C:\\Users\\dosre\\AppData\\Local\\Temp\\ipykernel_23500\\508105216.py:41: UserWarning: Attempting to set identical low and high xlims makes transformation singular; automatically expanding.\n",
      "  ax.set_xlim(\n",
      "C:\\Users\\dosre\\AppData\\Local\\Temp\\ipykernel_23500\\508105216.py:46: UserWarning: No artists with labels found to put in legend.  Note that artists whose label start with an underscore are ignored when legend() is called with no argument.\n",
      "  ax.legend()\n"
     ]
    },
    {
     "name": "stdout",
     "output_type": "stream",
     "text": [
      "KeyError: unprecond torso3 50\n"
     ]
    },
    {
     "name": "stderr",
     "output_type": "stream",
     "text": [
      "C:\\Users\\dosre\\AppData\\Local\\Temp\\ipykernel_23500\\508105216.py:41: UserWarning: Attempting to set identical low and high xlims makes transformation singular; automatically expanding.\n",
      "  ax.set_xlim(\n",
      "C:\\Users\\dosre\\AppData\\Local\\Temp\\ipykernel_23500\\508105216.py:46: UserWarning: No artists with labels found to put in legend.  Note that artists whose label start with an underscore are ignored when legend() is called with no argument.\n",
      "  ax.legend()\n"
     ]
    },
    {
     "name": "stdout",
     "output_type": "stream",
     "text": [
      "KeyError: unprecond torso3 200\n"
     ]
    },
    {
     "name": "stderr",
     "output_type": "stream",
     "text": [
      "C:\\Users\\dosre\\AppData\\Local\\Temp\\ipykernel_23500\\508105216.py:41: UserWarning: Attempting to set identical low and high xlims makes transformation singular; automatically expanding.\n",
      "  ax.set_xlim(\n",
      "C:\\Users\\dosre\\AppData\\Local\\Temp\\ipykernel_23500\\508105216.py:46: UserWarning: No artists with labels found to put in legend.  Note that artists whose label start with an underscore are ignored when legend() is called with no argument.\n",
      "  ax.legend()\n",
      "C:\\Users\\dosre\\AppData\\Local\\Temp\\ipykernel_23500\\508105216.py:41: UserWarning: Attempting to set identical low and high xlims makes transformation singular; automatically expanding.\n",
      "  ax.set_xlim(\n",
      "C:\\Users\\dosre\\AppData\\Local\\Temp\\ipykernel_23500\\508105216.py:46: UserWarning: No artists with labels found to put in legend.  Note that artists whose label start with an underscore are ignored when legend() is called with no argument.\n",
      "  ax.legend()\n"
     ]
    },
    {
     "name": "stdout",
     "output_type": "stream",
     "text": [
      "KeyError: unprecond TSOPF_RS_b39_c7 30\n",
      "KeyError: unprecond TSOPF_RS_b39_c7 40\n"
     ]
    },
    {
     "name": "stderr",
     "output_type": "stream",
     "text": [
      "C:\\Users\\dosre\\AppData\\Local\\Temp\\ipykernel_23500\\508105216.py:41: UserWarning: Attempting to set identical low and high xlims makes transformation singular; automatically expanding.\n",
      "  ax.set_xlim(\n",
      "C:\\Users\\dosre\\AppData\\Local\\Temp\\ipykernel_23500\\508105216.py:46: UserWarning: No artists with labels found to put in legend.  Note that artists whose label start with an underscore are ignored when legend() is called with no argument.\n",
      "  ax.legend()\n"
     ]
    },
    {
     "name": "stdout",
     "output_type": "stream",
     "text": [
      "KeyError: unprecond TSOPF_RS_b39_c7 50\n"
     ]
    },
    {
     "name": "stderr",
     "output_type": "stream",
     "text": [
      "C:\\Users\\dosre\\AppData\\Local\\Temp\\ipykernel_23500\\508105216.py:41: UserWarning: Attempting to set identical low and high xlims makes transformation singular; automatically expanding.\n",
      "  ax.set_xlim(\n",
      "C:\\Users\\dosre\\AppData\\Local\\Temp\\ipykernel_23500\\508105216.py:46: UserWarning: No artists with labels found to put in legend.  Note that artists whose label start with an underscore are ignored when legend() is called with no argument.\n",
      "  ax.legend()\n"
     ]
    },
    {
     "name": "stdout",
     "output_type": "stream",
     "text": [
      "KeyError: unprecond TSOPF_RS_b39_c7 200\n"
     ]
    },
    {
     "name": "stderr",
     "output_type": "stream",
     "text": [
      "C:\\Users\\dosre\\AppData\\Local\\Temp\\ipykernel_23500\\508105216.py:41: UserWarning: Attempting to set identical low and high xlims makes transformation singular; automatically expanding.\n",
      "  ax.set_xlim(\n",
      "C:\\Users\\dosre\\AppData\\Local\\Temp\\ipykernel_23500\\508105216.py:46: UserWarning: No artists with labels found to put in legend.  Note that artists whose label start with an underscore are ignored when legend() is called with no argument.\n",
      "  ax.legend()\n",
      "C:\\Users\\dosre\\AppData\\Local\\Temp\\ipykernel_23500\\508105216.py:41: UserWarning: Attempting to set identical low and high xlims makes transformation singular; automatically expanding.\n",
      "  ax.set_xlim(\n",
      "C:\\Users\\dosre\\AppData\\Local\\Temp\\ipykernel_23500\\508105216.py:46: UserWarning: No artists with labels found to put in legend.  Note that artists whose label start with an underscore are ignored when legend() is called with no argument.\n",
      "  ax.legend()\n"
     ]
    },
    {
     "name": "stdout",
     "output_type": "stream",
     "text": [
      "KeyError: unprecond venkat01 30\n",
      "KeyError: unprecond venkat01 40\n"
     ]
    },
    {
     "name": "stderr",
     "output_type": "stream",
     "text": [
      "C:\\Users\\dosre\\AppData\\Local\\Temp\\ipykernel_23500\\508105216.py:41: UserWarning: Attempting to set identical low and high xlims makes transformation singular; automatically expanding.\n",
      "  ax.set_xlim(\n",
      "C:\\Users\\dosre\\AppData\\Local\\Temp\\ipykernel_23500\\508105216.py:46: UserWarning: No artists with labels found to put in legend.  Note that artists whose label start with an underscore are ignored when legend() is called with no argument.\n",
      "  ax.legend()\n"
     ]
    },
    {
     "name": "stdout",
     "output_type": "stream",
     "text": [
      "KeyError: unprecond venkat01 50\n"
     ]
    },
    {
     "name": "stderr",
     "output_type": "stream",
     "text": [
      "C:\\Users\\dosre\\AppData\\Local\\Temp\\ipykernel_23500\\508105216.py:41: UserWarning: Attempting to set identical low and high xlims makes transformation singular; automatically expanding.\n",
      "  ax.set_xlim(\n",
      "C:\\Users\\dosre\\AppData\\Local\\Temp\\ipykernel_23500\\508105216.py:46: UserWarning: No artists with labels found to put in legend.  Note that artists whose label start with an underscore are ignored when legend() is called with no argument.\n",
      "  ax.legend()\n"
     ]
    },
    {
     "name": "stdout",
     "output_type": "stream",
     "text": [
      "KeyError: unprecond venkat01 200\n"
     ]
    },
    {
     "name": "stderr",
     "output_type": "stream",
     "text": [
      "C:\\Users\\dosre\\AppData\\Local\\Temp\\ipykernel_23500\\508105216.py:41: UserWarning: Attempting to set identical low and high xlims makes transformation singular; automatically expanding.\n",
      "  ax.set_xlim(\n",
      "C:\\Users\\dosre\\AppData\\Local\\Temp\\ipykernel_23500\\508105216.py:46: UserWarning: No artists with labels found to put in legend.  Note that artists whose label start with an underscore are ignored when legend() is called with no argument.\n",
      "  ax.legend()\n",
      "C:\\Users\\dosre\\AppData\\Local\\Temp\\ipykernel_23500\\508105216.py:41: UserWarning: Attempting to set identical low and high xlims makes transformation singular; automatically expanding.\n",
      "  ax.set_xlim(\n",
      "C:\\Users\\dosre\\AppData\\Local\\Temp\\ipykernel_23500\\508105216.py:46: UserWarning: No artists with labels found to put in legend.  Note that artists whose label start with an underscore are ignored when legend() is called with no argument.\n",
      "  ax.legend()\n"
     ]
    },
    {
     "name": "stdout",
     "output_type": "stream",
     "text": [
      "KeyError: unprecond viscoplastic2 30\n",
      "KeyError: unprecond viscoplastic2 40\n"
     ]
    },
    {
     "name": "stderr",
     "output_type": "stream",
     "text": [
      "C:\\Users\\dosre\\AppData\\Local\\Temp\\ipykernel_23500\\508105216.py:41: UserWarning: Attempting to set identical low and high xlims makes transformation singular; automatically expanding.\n",
      "  ax.set_xlim(\n",
      "C:\\Users\\dosre\\AppData\\Local\\Temp\\ipykernel_23500\\508105216.py:46: UserWarning: No artists with labels found to put in legend.  Note that artists whose label start with an underscore are ignored when legend() is called with no argument.\n",
      "  ax.legend()\n"
     ]
    },
    {
     "name": "stdout",
     "output_type": "stream",
     "text": [
      "KeyError: unprecond viscoplastic2 50\n"
     ]
    },
    {
     "name": "stderr",
     "output_type": "stream",
     "text": [
      "C:\\Users\\dosre\\AppData\\Local\\Temp\\ipykernel_23500\\508105216.py:41: UserWarning: Attempting to set identical low and high xlims makes transformation singular; automatically expanding.\n",
      "  ax.set_xlim(\n",
      "C:\\Users\\dosre\\AppData\\Local\\Temp\\ipykernel_23500\\508105216.py:46: UserWarning: No artists with labels found to put in legend.  Note that artists whose label start with an underscore are ignored when legend() is called with no argument.\n",
      "  ax.legend()\n"
     ]
    },
    {
     "name": "stdout",
     "output_type": "stream",
     "text": [
      "KeyError: unprecond viscoplastic2 200\n"
     ]
    },
    {
     "name": "stderr",
     "output_type": "stream",
     "text": [
      "C:\\Users\\dosre\\AppData\\Local\\Temp\\ipykernel_23500\\508105216.py:41: UserWarning: Attempting to set identical low and high xlims makes transformation singular; automatically expanding.\n",
      "  ax.set_xlim(\n",
      "C:\\Users\\dosre\\AppData\\Local\\Temp\\ipykernel_23500\\508105216.py:46: UserWarning: No artists with labels found to put in legend.  Note that artists whose label start with an underscore are ignored when legend() is called with no argument.\n",
      "  ax.legend()\n",
      "C:\\Users\\dosre\\AppData\\Local\\Temp\\ipykernel_23500\\508105216.py:41: UserWarning: Attempting to set identical low and high xlims makes transformation singular; automatically expanding.\n",
      "  ax.set_xlim(\n",
      "C:\\Users\\dosre\\AppData\\Local\\Temp\\ipykernel_23500\\508105216.py:46: UserWarning: No artists with labels found to put in legend.  Note that artists whose label start with an underscore are ignored when legend() is called with no argument.\n",
      "  ax.legend()\n",
      "C:\\Users\\dosre\\AppData\\Local\\Temp\\ipykernel_23500\\508105216.py:41: UserWarning: Attempting to set identical low and high xlims makes transformation singular; automatically expanding.\n",
      "  ax.set_xlim(\n",
      "C:\\Users\\dosre\\AppData\\Local\\Temp\\ipykernel_23500\\508105216.py:46: UserWarning: No artists with labels found to put in legend.  Note that artists whose label start with an underscore are ignored when legend() is called with no argument.\n",
      "  ax.legend()\n"
     ]
    },
    {
     "name": "stdout",
     "output_type": "stream",
     "text": [
      "KeyError: unprecond wang3 30\n",
      "KeyError: unprecond wang3 40\n",
      "KeyError: unprecond wang3 50\n"
     ]
    },
    {
     "name": "stderr",
     "output_type": "stream",
     "text": [
      "C:\\Users\\dosre\\AppData\\Local\\Temp\\ipykernel_23500\\508105216.py:41: UserWarning: Attempting to set identical low and high xlims makes transformation singular; automatically expanding.\n",
      "  ax.set_xlim(\n",
      "C:\\Users\\dosre\\AppData\\Local\\Temp\\ipykernel_23500\\508105216.py:46: UserWarning: No artists with labels found to put in legend.  Note that artists whose label start with an underscore are ignored when legend() is called with no argument.\n",
      "  ax.legend()\n"
     ]
    },
    {
     "name": "stdout",
     "output_type": "stream",
     "text": [
      "KeyError: unprecond wang3 200\n"
     ]
    },
    {
     "name": "stderr",
     "output_type": "stream",
     "text": [
      "C:\\Users\\dosre\\AppData\\Local\\Temp\\ipykernel_23500\\508105216.py:41: UserWarning: Attempting to set identical low and high xlims makes transformation singular; automatically expanding.\n",
      "  ax.set_xlim(\n",
      "C:\\Users\\dosre\\AppData\\Local\\Temp\\ipykernel_23500\\508105216.py:46: UserWarning: No artists with labels found to put in legend.  Note that artists whose label start with an underscore are ignored when legend() is called with no argument.\n",
      "  ax.legend()\n",
      "C:\\Users\\dosre\\AppData\\Local\\Temp\\ipykernel_23500\\508105216.py:41: UserWarning: Attempting to set identical low and high xlims makes transformation singular; automatically expanding.\n",
      "  ax.set_xlim(\n",
      "C:\\Users\\dosre\\AppData\\Local\\Temp\\ipykernel_23500\\508105216.py:46: UserWarning: No artists with labels found to put in legend.  Note that artists whose label start with an underscore are ignored when legend() is called with no argument.\n",
      "  ax.legend()\n"
     ]
    },
    {
     "name": "stdout",
     "output_type": "stream",
     "text": [
      "KeyError: unprecond wang4 30\n",
      "KeyError: unprecond wang4 40\n"
     ]
    },
    {
     "name": "stderr",
     "output_type": "stream",
     "text": [
      "C:\\Users\\dosre\\AppData\\Local\\Temp\\ipykernel_23500\\508105216.py:41: UserWarning: Attempting to set identical low and high xlims makes transformation singular; automatically expanding.\n",
      "  ax.set_xlim(\n",
      "C:\\Users\\dosre\\AppData\\Local\\Temp\\ipykernel_23500\\508105216.py:46: UserWarning: No artists with labels found to put in legend.  Note that artists whose label start with an underscore are ignored when legend() is called with no argument.\n",
      "  ax.legend()\n"
     ]
    },
    {
     "name": "stdout",
     "output_type": "stream",
     "text": [
      "KeyError: unprecond wang4 50\n"
     ]
    },
    {
     "name": "stderr",
     "output_type": "stream",
     "text": [
      "C:\\Users\\dosre\\AppData\\Local\\Temp\\ipykernel_23500\\508105216.py:41: UserWarning: Attempting to set identical low and high xlims makes transformation singular; automatically expanding.\n",
      "  ax.set_xlim(\n",
      "C:\\Users\\dosre\\AppData\\Local\\Temp\\ipykernel_23500\\508105216.py:46: UserWarning: No artists with labels found to put in legend.  Note that artists whose label start with an underscore are ignored when legend() is called with no argument.\n",
      "  ax.legend()\n"
     ]
    },
    {
     "name": "stdout",
     "output_type": "stream",
     "text": [
      "KeyError: unprecond wang4 200\n"
     ]
    },
    {
     "name": "stderr",
     "output_type": "stream",
     "text": [
      "C:\\Users\\dosre\\AppData\\Local\\Temp\\ipykernel_23500\\508105216.py:41: UserWarning: Attempting to set identical low and high xlims makes transformation singular; automatically expanding.\n",
      "  ax.set_xlim(\n",
      "C:\\Users\\dosre\\AppData\\Local\\Temp\\ipykernel_23500\\508105216.py:46: UserWarning: No artists with labels found to put in legend.  Note that artists whose label start with an underscore are ignored when legend() is called with no argument.\n",
      "  ax.legend()\n",
      "C:\\Users\\dosre\\AppData\\Local\\Temp\\ipykernel_23500\\508105216.py:41: UserWarning: Attempting to set identical low and high xlims makes transformation singular; automatically expanding.\n",
      "  ax.set_xlim(\n",
      "C:\\Users\\dosre\\AppData\\Local\\Temp\\ipykernel_23500\\508105216.py:46: UserWarning: No artists with labels found to put in legend.  Note that artists whose label start with an underscore are ignored when legend() is called with no argument.\n",
      "  ax.legend()\n"
     ]
    },
    {
     "name": "stdout",
     "output_type": "stream",
     "text": [
      "KeyError: unprecond Zhao1 30\n",
      "KeyError: unprecond Zhao1 40\n"
     ]
    },
    {
     "name": "stderr",
     "output_type": "stream",
     "text": [
      "C:\\Users\\dosre\\AppData\\Local\\Temp\\ipykernel_23500\\508105216.py:41: UserWarning: Attempting to set identical low and high xlims makes transformation singular; automatically expanding.\n",
      "  ax.set_xlim(\n",
      "C:\\Users\\dosre\\AppData\\Local\\Temp\\ipykernel_23500\\508105216.py:46: UserWarning: No artists with labels found to put in legend.  Note that artists whose label start with an underscore are ignored when legend() is called with no argument.\n",
      "  ax.legend()\n"
     ]
    },
    {
     "name": "stdout",
     "output_type": "stream",
     "text": [
      "KeyError: unprecond Zhao1 50\n"
     ]
    },
    {
     "name": "stderr",
     "output_type": "stream",
     "text": [
      "C:\\Users\\dosre\\AppData\\Local\\Temp\\ipykernel_23500\\508105216.py:41: UserWarning: Attempting to set identical low and high xlims makes transformation singular; automatically expanding.\n",
      "  ax.set_xlim(\n",
      "C:\\Users\\dosre\\AppData\\Local\\Temp\\ipykernel_23500\\508105216.py:46: UserWarning: No artists with labels found to put in legend.  Note that artists whose label start with an underscore are ignored when legend() is called with no argument.\n",
      "  ax.legend()\n"
     ]
    },
    {
     "name": "stdout",
     "output_type": "stream",
     "text": [
      "KeyError: unprecond Zhao1 200\n"
     ]
    },
    {
     "name": "stderr",
     "output_type": "stream",
     "text": [
      "C:\\Users\\dosre\\AppData\\Local\\Temp\\ipykernel_23500\\508105216.py:41: UserWarning: Attempting to set identical low and high xlims makes transformation singular; automatically expanding.\n",
      "  ax.set_xlim(\n",
      "C:\\Users\\dosre\\AppData\\Local\\Temp\\ipykernel_23500\\508105216.py:46: UserWarning: No artists with labels found to put in legend.  Note that artists whose label start with an underscore are ignored when legend() is called with no argument.\n",
      "  ax.legend()\n",
      "C:\\Users\\dosre\\AppData\\Local\\Temp\\ipykernel_23500\\508105216.py:41: UserWarning: Attempting to set identical low and high xlims makes transformation singular; automatically expanding.\n",
      "  ax.set_xlim(\n",
      "C:\\Users\\dosre\\AppData\\Local\\Temp\\ipykernel_23500\\508105216.py:46: UserWarning: No artists with labels found to put in legend.  Note that artists whose label start with an underscore are ignored when legend() is called with no argument.\n",
      "  ax.legend()\n"
     ]
    },
    {
     "name": "stdout",
     "output_type": "stream",
     "text": [
      "KeyError: unprecond Zhao2 30\n",
      "KeyError: unprecond Zhao2 40\n"
     ]
    },
    {
     "name": "stderr",
     "output_type": "stream",
     "text": [
      "C:\\Users\\dosre\\AppData\\Local\\Temp\\ipykernel_23500\\508105216.py:41: UserWarning: Attempting to set identical low and high xlims makes transformation singular; automatically expanding.\n",
      "  ax.set_xlim(\n",
      "C:\\Users\\dosre\\AppData\\Local\\Temp\\ipykernel_23500\\508105216.py:46: UserWarning: No artists with labels found to put in legend.  Note that artists whose label start with an underscore are ignored when legend() is called with no argument.\n",
      "  ax.legend()\n"
     ]
    },
    {
     "name": "stdout",
     "output_type": "stream",
     "text": [
      "KeyError: unprecond Zhao2 50\n"
     ]
    },
    {
     "name": "stderr",
     "output_type": "stream",
     "text": [
      "C:\\Users\\dosre\\AppData\\Local\\Temp\\ipykernel_23500\\508105216.py:41: UserWarning: Attempting to set identical low and high xlims makes transformation singular; automatically expanding.\n",
      "  ax.set_xlim(\n",
      "C:\\Users\\dosre\\AppData\\Local\\Temp\\ipykernel_23500\\508105216.py:46: UserWarning: No artists with labels found to put in legend.  Note that artists whose label start with an underscore are ignored when legend() is called with no argument.\n",
      "  ax.legend()\n"
     ]
    },
    {
     "name": "stdout",
     "output_type": "stream",
     "text": [
      "KeyError: unprecond Zhao2 200\n"
     ]
    },
    {
     "name": "stderr",
     "output_type": "stream",
     "text": [
      "C:\\Users\\dosre\\AppData\\Local\\Temp\\ipykernel_23500\\508105216.py:41: UserWarning: Attempting to set identical low and high xlims makes transformation singular; automatically expanding.\n",
      "  ax.set_xlim(\n",
      "C:\\Users\\dosre\\AppData\\Local\\Temp\\ipykernel_23500\\508105216.py:46: UserWarning: No artists with labels found to put in legend.  Note that artists whose label start with an underscore are ignored when legend() is called with no argument.\n",
      "  ax.legend()\n",
      "C:\\Users\\dosre\\AppData\\Local\\Temp\\ipykernel_23500\\508105216.py:41: UserWarning: Attempting to set identical low and high xlims makes transformation singular; automatically expanding.\n",
      "  ax.set_xlim(\n",
      "C:\\Users\\dosre\\AppData\\Local\\Temp\\ipykernel_23500\\508105216.py:46: UserWarning: No artists with labels found to put in legend.  Note that artists whose label start with an underscore are ignored when legend() is called with no argument.\n",
      "  ax.legend()\n",
      "C:\\Users\\dosre\\AppData\\Local\\Temp\\ipykernel_23500\\508105216.py:41: UserWarning: Attempting to set identical low and high xlims makes transformation singular; automatically expanding.\n",
      "  ax.set_xlim(\n",
      "C:\\Users\\dosre\\AppData\\Local\\Temp\\ipykernel_23500\\508105216.py:46: UserWarning: No artists with labels found to put in legend.  Note that artists whose label start with an underscore are ignored when legend() is called with no argument.\n",
      "  ax.legend()\n"
     ]
    },
    {
     "name": "stdout",
     "output_type": "stream",
     "text": [
      "KeyError: unpreconddense af23560 20\n",
      "KeyError: unpreconddense af23560 30\n",
      "KeyError: unpreconddense af23560 40\n",
      "KeyError: unpreconddense af23560 50\n",
      "KeyError: unpreconddense af23560 100\n"
     ]
    },
    {
     "name": "stderr",
     "output_type": "stream",
     "text": [
      "C:\\Users\\dosre\\AppData\\Local\\Temp\\ipykernel_23500\\508105216.py:41: UserWarning: Attempting to set identical low and high xlims makes transformation singular; automatically expanding.\n",
      "  ax.set_xlim(\n",
      "C:\\Users\\dosre\\AppData\\Local\\Temp\\ipykernel_23500\\508105216.py:46: UserWarning: No artists with labels found to put in legend.  Note that artists whose label start with an underscore are ignored when legend() is called with no argument.\n",
      "  ax.legend()\n",
      "C:\\Users\\dosre\\AppData\\Local\\Temp\\ipykernel_23500\\508105216.py:41: UserWarning: Attempting to set identical low and high xlims makes transformation singular; automatically expanding.\n",
      "  ax.set_xlim(\n",
      "C:\\Users\\dosre\\AppData\\Local\\Temp\\ipykernel_23500\\508105216.py:46: UserWarning: No artists with labels found to put in legend.  Note that artists whose label start with an underscore are ignored when legend() is called with no argument.\n",
      "  ax.legend()\n",
      "C:\\Users\\dosre\\AppData\\Local\\Temp\\ipykernel_23500\\508105216.py:41: UserWarning: Attempting to set identical low and high xlims makes transformation singular; automatically expanding.\n",
      "  ax.set_xlim(\n",
      "C:\\Users\\dosre\\AppData\\Local\\Temp\\ipykernel_23500\\508105216.py:46: UserWarning: No artists with labels found to put in legend.  Note that artists whose label start with an underscore are ignored when legend() is called with no argument.\n",
      "  ax.legend()\n",
      "C:\\Users\\dosre\\AppData\\Local\\Temp\\ipykernel_23500\\508105216.py:41: UserWarning: Attempting to set identical low and high xlims makes transformation singular; automatically expanding.\n",
      "  ax.set_xlim(\n",
      "C:\\Users\\dosre\\AppData\\Local\\Temp\\ipykernel_23500\\508105216.py:46: UserWarning: No artists with labels found to put in legend.  Note that artists whose label start with an underscore are ignored when legend() is called with no argument.\n",
      "  ax.legend()\n"
     ]
    },
    {
     "name": "stdout",
     "output_type": "stream",
     "text": [
      "KeyError: unpreconddense af23560 150\n",
      "KeyError: unpreconddense af23560 200\n"
     ]
    },
    {
     "name": "stderr",
     "output_type": "stream",
     "text": [
      "C:\\Users\\dosre\\AppData\\Local\\Temp\\ipykernel_23500\\508105216.py:41: UserWarning: Attempting to set identical low and high xlims makes transformation singular; automatically expanding.\n",
      "  ax.set_xlim(\n",
      "C:\\Users\\dosre\\AppData\\Local\\Temp\\ipykernel_23500\\508105216.py:46: UserWarning: No artists with labels found to put in legend.  Note that artists whose label start with an underscore are ignored when legend() is called with no argument.\n",
      "  ax.legend()\n",
      "C:\\Users\\dosre\\AppData\\Local\\Temp\\ipykernel_23500\\508105216.py:41: UserWarning: Attempting to set identical low and high xlims makes transformation singular; automatically expanding.\n",
      "  ax.set_xlim(\n",
      "C:\\Users\\dosre\\AppData\\Local\\Temp\\ipykernel_23500\\508105216.py:46: UserWarning: No artists with labels found to put in legend.  Note that artists whose label start with an underscore are ignored when legend() is called with no argument.\n",
      "  ax.legend()\n"
     ]
    },
    {
     "name": "stdout",
     "output_type": "stream",
     "text": [
      "KeyError: unpreconddense airfoil_2d 20\n",
      "KeyError: unpreconddense airfoil_2d 30\n"
     ]
    },
    {
     "name": "stderr",
     "output_type": "stream",
     "text": [
      "C:\\Users\\dosre\\AppData\\Local\\Temp\\ipykernel_23500\\508105216.py:41: UserWarning: Attempting to set identical low and high xlims makes transformation singular; automatically expanding.\n",
      "  ax.set_xlim(\n",
      "C:\\Users\\dosre\\AppData\\Local\\Temp\\ipykernel_23500\\508105216.py:46: UserWarning: No artists with labels found to put in legend.  Note that artists whose label start with an underscore are ignored when legend() is called with no argument.\n",
      "  ax.legend()\n",
      "C:\\Users\\dosre\\AppData\\Local\\Temp\\ipykernel_23500\\508105216.py:41: UserWarning: Attempting to set identical low and high xlims makes transformation singular; automatically expanding.\n",
      "  ax.set_xlim(\n",
      "C:\\Users\\dosre\\AppData\\Local\\Temp\\ipykernel_23500\\508105216.py:46: UserWarning: No artists with labels found to put in legend.  Note that artists whose label start with an underscore are ignored when legend() is called with no argument.\n",
      "  ax.legend()\n"
     ]
    },
    {
     "name": "stdout",
     "output_type": "stream",
     "text": [
      "KeyError: unpreconddense airfoil_2d 40\n",
      "KeyError: unpreconddense airfoil_2d 50\n"
     ]
    },
    {
     "name": "stderr",
     "output_type": "stream",
     "text": [
      "C:\\Users\\dosre\\AppData\\Local\\Temp\\ipykernel_23500\\508105216.py:41: UserWarning: Attempting to set identical low and high xlims makes transformation singular; automatically expanding.\n",
      "  ax.set_xlim(\n",
      "C:\\Users\\dosre\\AppData\\Local\\Temp\\ipykernel_23500\\508105216.py:46: UserWarning: No artists with labels found to put in legend.  Note that artists whose label start with an underscore are ignored when legend() is called with no argument.\n",
      "  ax.legend()\n",
      "C:\\Users\\dosre\\AppData\\Local\\Temp\\ipykernel_23500\\508105216.py:41: UserWarning: Attempting to set identical low and high xlims makes transformation singular; automatically expanding.\n",
      "  ax.set_xlim(\n",
      "C:\\Users\\dosre\\AppData\\Local\\Temp\\ipykernel_23500\\508105216.py:46: UserWarning: No artists with labels found to put in legend.  Note that artists whose label start with an underscore are ignored when legend() is called with no argument.\n",
      "  ax.legend()\n"
     ]
    },
    {
     "name": "stdout",
     "output_type": "stream",
     "text": [
      "KeyError: unpreconddense airfoil_2d 100\n",
      "KeyError: unpreconddense airfoil_2d 150\n"
     ]
    },
    {
     "name": "stderr",
     "output_type": "stream",
     "text": [
      "C:\\Users\\dosre\\AppData\\Local\\Temp\\ipykernel_23500\\508105216.py:41: UserWarning: Attempting to set identical low and high xlims makes transformation singular; automatically expanding.\n",
      "  ax.set_xlim(\n",
      "C:\\Users\\dosre\\AppData\\Local\\Temp\\ipykernel_23500\\508105216.py:46: UserWarning: No artists with labels found to put in legend.  Note that artists whose label start with an underscore are ignored when legend() is called with no argument.\n",
      "  ax.legend()\n"
     ]
    },
    {
     "name": "stdout",
     "output_type": "stream",
     "text": [
      "KeyError: unpreconddense airfoil_2d 200\n"
     ]
    },
    {
     "name": "stderr",
     "output_type": "stream",
     "text": [
      "C:\\Users\\dosre\\AppData\\Local\\Temp\\ipykernel_23500\\508105216.py:41: UserWarning: Attempting to set identical low and high xlims makes transformation singular; automatically expanding.\n",
      "  ax.set_xlim(\n",
      "C:\\Users\\dosre\\AppData\\Local\\Temp\\ipykernel_23500\\508105216.py:46: UserWarning: No artists with labels found to put in legend.  Note that artists whose label start with an underscore are ignored when legend() is called with no argument.\n",
      "  ax.legend()\n",
      "C:\\Users\\dosre\\AppData\\Local\\Temp\\ipykernel_23500\\508105216.py:41: UserWarning: Attempting to set identical low and high xlims makes transformation singular; automatically expanding.\n",
      "  ax.set_xlim(\n",
      "C:\\Users\\dosre\\AppData\\Local\\Temp\\ipykernel_23500\\508105216.py:46: UserWarning: No artists with labels found to put in legend.  Note that artists whose label start with an underscore are ignored when legend() is called with no argument.\n",
      "  ax.legend()\n"
     ]
    },
    {
     "name": "stdout",
     "output_type": "stream",
     "text": [
      "KeyError: unpreconddense appu 20\n",
      "KeyError: unpreconddense appu 30\n"
     ]
    },
    {
     "name": "stderr",
     "output_type": "stream",
     "text": [
      "C:\\Users\\dosre\\AppData\\Local\\Temp\\ipykernel_23500\\508105216.py:41: UserWarning: Attempting to set identical low and high xlims makes transformation singular; automatically expanding.\n",
      "  ax.set_xlim(\n",
      "C:\\Users\\dosre\\AppData\\Local\\Temp\\ipykernel_23500\\508105216.py:46: UserWarning: No artists with labels found to put in legend.  Note that artists whose label start with an underscore are ignored when legend() is called with no argument.\n",
      "  ax.legend()\n",
      "C:\\Users\\dosre\\AppData\\Local\\Temp\\ipykernel_23500\\508105216.py:41: UserWarning: Attempting to set identical low and high xlims makes transformation singular; automatically expanding.\n",
      "  ax.set_xlim(\n",
      "C:\\Users\\dosre\\AppData\\Local\\Temp\\ipykernel_23500\\508105216.py:46: UserWarning: No artists with labels found to put in legend.  Note that artists whose label start with an underscore are ignored when legend() is called with no argument.\n",
      "  ax.legend()\n"
     ]
    },
    {
     "name": "stdout",
     "output_type": "stream",
     "text": [
      "KeyError: unpreconddense appu 40\n",
      "KeyError: unpreconddense appu 50\n"
     ]
    },
    {
     "name": "stderr",
     "output_type": "stream",
     "text": [
      "C:\\Users\\dosre\\AppData\\Local\\Temp\\ipykernel_23500\\508105216.py:41: UserWarning: Attempting to set identical low and high xlims makes transformation singular; automatically expanding.\n",
      "  ax.set_xlim(\n",
      "C:\\Users\\dosre\\AppData\\Local\\Temp\\ipykernel_23500\\508105216.py:46: UserWarning: No artists with labels found to put in legend.  Note that artists whose label start with an underscore are ignored when legend() is called with no argument.\n",
      "  ax.legend()\n",
      "C:\\Users\\dosre\\AppData\\Local\\Temp\\ipykernel_23500\\508105216.py:41: UserWarning: Attempting to set identical low and high xlims makes transformation singular; automatically expanding.\n",
      "  ax.set_xlim(\n",
      "C:\\Users\\dosre\\AppData\\Local\\Temp\\ipykernel_23500\\508105216.py:46: UserWarning: No artists with labels found to put in legend.  Note that artists whose label start with an underscore are ignored when legend() is called with no argument.\n",
      "  ax.legend()\n",
      "C:\\Users\\dosre\\AppData\\Local\\Temp\\ipykernel_23500\\508105216.py:41: UserWarning: Attempting to set identical low and high xlims makes transformation singular; automatically expanding.\n",
      "  ax.set_xlim(\n",
      "C:\\Users\\dosre\\AppData\\Local\\Temp\\ipykernel_23500\\508105216.py:46: UserWarning: No artists with labels found to put in legend.  Note that artists whose label start with an underscore are ignored when legend() is called with no argument.\n",
      "  ax.legend()\n"
     ]
    },
    {
     "name": "stdout",
     "output_type": "stream",
     "text": [
      "KeyError: unpreconddense appu 100\n",
      "KeyError: unpreconddense appu 150\n",
      "KeyError: unpreconddense appu 200\n"
     ]
    },
    {
     "name": "stderr",
     "output_type": "stream",
     "text": [
      "C:\\Users\\dosre\\AppData\\Local\\Temp\\ipykernel_23500\\508105216.py:41: UserWarning: Attempting to set identical low and high xlims makes transformation singular; automatically expanding.\n",
      "  ax.set_xlim(\n",
      "C:\\Users\\dosre\\AppData\\Local\\Temp\\ipykernel_23500\\508105216.py:46: UserWarning: No artists with labels found to put in legend.  Note that artists whose label start with an underscore are ignored when legend() is called with no argument.\n",
      "  ax.legend()\n",
      "C:\\Users\\dosre\\AppData\\Local\\Temp\\ipykernel_23500\\508105216.py:41: UserWarning: Attempting to set identical low and high xlims makes transformation singular; automatically expanding.\n",
      "  ax.set_xlim(\n",
      "C:\\Users\\dosre\\AppData\\Local\\Temp\\ipykernel_23500\\508105216.py:46: UserWarning: No artists with labels found to put in legend.  Note that artists whose label start with an underscore are ignored when legend() is called with no argument.\n",
      "  ax.legend()\n",
      "C:\\Users\\dosre\\AppData\\Local\\Temp\\ipykernel_23500\\508105216.py:41: UserWarning: Attempting to set identical low and high xlims makes transformation singular; automatically expanding.\n",
      "  ax.set_xlim(\n",
      "C:\\Users\\dosre\\AppData\\Local\\Temp\\ipykernel_23500\\508105216.py:46: UserWarning: No artists with labels found to put in legend.  Note that artists whose label start with an underscore are ignored when legend() is called with no argument.\n",
      "  ax.legend()\n"
     ]
    },
    {
     "name": "stdout",
     "output_type": "stream",
     "text": [
      "KeyError: unpreconddense cage10 20\n",
      "KeyError: unpreconddense cage10 30\n",
      "KeyError: unpreconddense cage10 40\n"
     ]
    },
    {
     "name": "stderr",
     "output_type": "stream",
     "text": [
      "C:\\Users\\dosre\\AppData\\Local\\Temp\\ipykernel_23500\\508105216.py:41: UserWarning: Attempting to set identical low and high xlims makes transformation singular; automatically expanding.\n",
      "  ax.set_xlim(\n",
      "C:\\Users\\dosre\\AppData\\Local\\Temp\\ipykernel_23500\\508105216.py:46: UserWarning: No artists with labels found to put in legend.  Note that artists whose label start with an underscore are ignored when legend() is called with no argument.\n",
      "  ax.legend()\n",
      "C:\\Users\\dosre\\AppData\\Local\\Temp\\ipykernel_23500\\508105216.py:41: UserWarning: Attempting to set identical low and high xlims makes transformation singular; automatically expanding.\n",
      "  ax.set_xlim(\n",
      "C:\\Users\\dosre\\AppData\\Local\\Temp\\ipykernel_23500\\508105216.py:46: UserWarning: No artists with labels found to put in legend.  Note that artists whose label start with an underscore are ignored when legend() is called with no argument.\n",
      "  ax.legend()\n"
     ]
    },
    {
     "name": "stdout",
     "output_type": "stream",
     "text": [
      "KeyError: unpreconddense cage10 50\n",
      "KeyError: unpreconddense cage10 100\n"
     ]
    },
    {
     "name": "stderr",
     "output_type": "stream",
     "text": [
      "C:\\Users\\dosre\\AppData\\Local\\Temp\\ipykernel_23500\\508105216.py:41: UserWarning: Attempting to set identical low and high xlims makes transformation singular; automatically expanding.\n",
      "  ax.set_xlim(\n",
      "C:\\Users\\dosre\\AppData\\Local\\Temp\\ipykernel_23500\\508105216.py:46: UserWarning: No artists with labels found to put in legend.  Note that artists whose label start with an underscore are ignored when legend() is called with no argument.\n",
      "  ax.legend()\n",
      "C:\\Users\\dosre\\AppData\\Local\\Temp\\ipykernel_23500\\508105216.py:41: UserWarning: Attempting to set identical low and high xlims makes transformation singular; automatically expanding.\n",
      "  ax.set_xlim(\n",
      "C:\\Users\\dosre\\AppData\\Local\\Temp\\ipykernel_23500\\508105216.py:46: UserWarning: No artists with labels found to put in legend.  Note that artists whose label start with an underscore are ignored when legend() is called with no argument.\n",
      "  ax.legend()\n"
     ]
    },
    {
     "name": "stdout",
     "output_type": "stream",
     "text": [
      "KeyError: unpreconddense cage10 150\n",
      "KeyError: unpreconddense cage10 200\n"
     ]
    },
    {
     "name": "stderr",
     "output_type": "stream",
     "text": [
      "C:\\Users\\dosre\\AppData\\Local\\Temp\\ipykernel_23500\\508105216.py:41: UserWarning: Attempting to set identical low and high xlims makes transformation singular; automatically expanding.\n",
      "  ax.set_xlim(\n",
      "C:\\Users\\dosre\\AppData\\Local\\Temp\\ipykernel_23500\\508105216.py:46: UserWarning: No artists with labels found to put in legend.  Note that artists whose label start with an underscore are ignored when legend() is called with no argument.\n",
      "  ax.legend()\n",
      "C:\\Users\\dosre\\AppData\\Local\\Temp\\ipykernel_23500\\508105216.py:41: UserWarning: Attempting to set identical low and high xlims makes transformation singular; automatically expanding.\n",
      "  ax.set_xlim(\n",
      "C:\\Users\\dosre\\AppData\\Local\\Temp\\ipykernel_23500\\508105216.py:46: UserWarning: No artists with labels found to put in legend.  Note that artists whose label start with an underscore are ignored when legend() is called with no argument.\n",
      "  ax.legend()\n",
      "C:\\Users\\dosre\\AppData\\Local\\Temp\\ipykernel_23500\\508105216.py:41: UserWarning: Attempting to set identical low and high xlims makes transformation singular; automatically expanding.\n",
      "  ax.set_xlim(\n",
      "C:\\Users\\dosre\\AppData\\Local\\Temp\\ipykernel_23500\\508105216.py:46: UserWarning: No artists with labels found to put in legend.  Note that artists whose label start with an underscore are ignored when legend() is called with no argument.\n",
      "  ax.legend()\n"
     ]
    },
    {
     "name": "stdout",
     "output_type": "stream",
     "text": [
      "KeyError: unpreconddense chipcool1 20\n",
      "KeyError: unpreconddense chipcool1 30\n",
      "KeyError: unpreconddense chipcool1 40\n"
     ]
    },
    {
     "name": "stderr",
     "output_type": "stream",
     "text": [
      "C:\\Users\\dosre\\AppData\\Local\\Temp\\ipykernel_23500\\508105216.py:41: UserWarning: Attempting to set identical low and high xlims makes transformation singular; automatically expanding.\n",
      "  ax.set_xlim(\n",
      "C:\\Users\\dosre\\AppData\\Local\\Temp\\ipykernel_23500\\508105216.py:46: UserWarning: No artists with labels found to put in legend.  Note that artists whose label start with an underscore are ignored when legend() is called with no argument.\n",
      "  ax.legend()\n",
      "C:\\Users\\dosre\\AppData\\Local\\Temp\\ipykernel_23500\\508105216.py:41: UserWarning: Attempting to set identical low and high xlims makes transformation singular; automatically expanding.\n",
      "  ax.set_xlim(\n",
      "C:\\Users\\dosre\\AppData\\Local\\Temp\\ipykernel_23500\\508105216.py:46: UserWarning: No artists with labels found to put in legend.  Note that artists whose label start with an underscore are ignored when legend() is called with no argument.\n",
      "  ax.legend()\n"
     ]
    },
    {
     "name": "stdout",
     "output_type": "stream",
     "text": [
      "KeyError: unpreconddense chipcool1 50\n",
      "KeyError: unpreconddense chipcool1 100\n"
     ]
    },
    {
     "name": "stderr",
     "output_type": "stream",
     "text": [
      "C:\\Users\\dosre\\AppData\\Local\\Temp\\ipykernel_23500\\508105216.py:41: UserWarning: Attempting to set identical low and high xlims makes transformation singular; automatically expanding.\n",
      "  ax.set_xlim(\n",
      "C:\\Users\\dosre\\AppData\\Local\\Temp\\ipykernel_23500\\508105216.py:46: UserWarning: No artists with labels found to put in legend.  Note that artists whose label start with an underscore are ignored when legend() is called with no argument.\n",
      "  ax.legend()\n",
      "C:\\Users\\dosre\\AppData\\Local\\Temp\\ipykernel_23500\\508105216.py:41: UserWarning: Attempting to set identical low and high xlims makes transformation singular; automatically expanding.\n",
      "  ax.set_xlim(\n",
      "C:\\Users\\dosre\\AppData\\Local\\Temp\\ipykernel_23500\\508105216.py:46: UserWarning: No artists with labels found to put in legend.  Note that artists whose label start with an underscore are ignored when legend() is called with no argument.\n",
      "  ax.legend()\n"
     ]
    },
    {
     "name": "stdout",
     "output_type": "stream",
     "text": [
      "KeyError: unpreconddense chipcool1 150\n",
      "KeyError: unpreconddense chipcool1 200\n"
     ]
    },
    {
     "name": "stderr",
     "output_type": "stream",
     "text": [
      "C:\\Users\\dosre\\AppData\\Local\\Temp\\ipykernel_23500\\508105216.py:41: UserWarning: Attempting to set identical low and high xlims makes transformation singular; automatically expanding.\n",
      "  ax.set_xlim(\n",
      "C:\\Users\\dosre\\AppData\\Local\\Temp\\ipykernel_23500\\508105216.py:46: UserWarning: No artists with labels found to put in legend.  Note that artists whose label start with an underscore are ignored when legend() is called with no argument.\n",
      "  ax.legend()\n",
      "C:\\Users\\dosre\\AppData\\Local\\Temp\\ipykernel_23500\\508105216.py:41: UserWarning: Attempting to set identical low and high xlims makes transformation singular; automatically expanding.\n",
      "  ax.set_xlim(\n",
      "C:\\Users\\dosre\\AppData\\Local\\Temp\\ipykernel_23500\\508105216.py:46: UserWarning: No artists with labels found to put in legend.  Note that artists whose label start with an underscore are ignored when legend() is called with no argument.\n",
      "  ax.legend()\n"
     ]
    },
    {
     "name": "stdout",
     "output_type": "stream",
     "text": [
      "KeyError: unpreconddense circuit_3 20\n",
      "KeyError: unpreconddense circuit_3 30\n"
     ]
    },
    {
     "name": "stderr",
     "output_type": "stream",
     "text": [
      "C:\\Users\\dosre\\AppData\\Local\\Temp\\ipykernel_23500\\508105216.py:41: UserWarning: Attempting to set identical low and high xlims makes transformation singular; automatically expanding.\n",
      "  ax.set_xlim(\n",
      "C:\\Users\\dosre\\AppData\\Local\\Temp\\ipykernel_23500\\508105216.py:46: UserWarning: No artists with labels found to put in legend.  Note that artists whose label start with an underscore are ignored when legend() is called with no argument.\n",
      "  ax.legend()\n",
      "C:\\Users\\dosre\\AppData\\Local\\Temp\\ipykernel_23500\\508105216.py:41: UserWarning: Attempting to set identical low and high xlims makes transformation singular; automatically expanding.\n",
      "  ax.set_xlim(\n",
      "C:\\Users\\dosre\\AppData\\Local\\Temp\\ipykernel_23500\\508105216.py:46: UserWarning: No artists with labels found to put in legend.  Note that artists whose label start with an underscore are ignored when legend() is called with no argument.\n",
      "  ax.legend()\n",
      "C:\\Users\\dosre\\AppData\\Local\\Temp\\ipykernel_23500\\508105216.py:41: UserWarning: Attempting to set identical low and high xlims makes transformation singular; automatically expanding.\n",
      "  ax.set_xlim(\n",
      "C:\\Users\\dosre\\AppData\\Local\\Temp\\ipykernel_23500\\508105216.py:46: UserWarning: No artists with labels found to put in legend.  Note that artists whose label start with an underscore are ignored when legend() is called with no argument.\n",
      "  ax.legend()\n"
     ]
    },
    {
     "name": "stdout",
     "output_type": "stream",
     "text": [
      "KeyError: unpreconddense circuit_3 40\n",
      "KeyError: unpreconddense circuit_3 50\n",
      "KeyError: unpreconddense circuit_3 100\n"
     ]
    },
    {
     "name": "stderr",
     "output_type": "stream",
     "text": [
      "C:\\Users\\dosre\\AppData\\Local\\Temp\\ipykernel_23500\\508105216.py:41: UserWarning: Attempting to set identical low and high xlims makes transformation singular; automatically expanding.\n",
      "  ax.set_xlim(\n",
      "C:\\Users\\dosre\\AppData\\Local\\Temp\\ipykernel_23500\\508105216.py:46: UserWarning: No artists with labels found to put in legend.  Note that artists whose label start with an underscore are ignored when legend() is called with no argument.\n",
      "  ax.legend()\n",
      "C:\\Users\\dosre\\AppData\\Local\\Temp\\ipykernel_23500\\508105216.py:41: UserWarning: Attempting to set identical low and high xlims makes transformation singular; automatically expanding.\n",
      "  ax.set_xlim(\n",
      "C:\\Users\\dosre\\AppData\\Local\\Temp\\ipykernel_23500\\508105216.py:46: UserWarning: No artists with labels found to put in legend.  Note that artists whose label start with an underscore are ignored when legend() is called with no argument.\n",
      "  ax.legend()\n"
     ]
    },
    {
     "name": "stdout",
     "output_type": "stream",
     "text": [
      "KeyError: unpreconddense circuit_3 150\n",
      "KeyError: unpreconddense circuit_3 200\n"
     ]
    },
    {
     "name": "stderr",
     "output_type": "stream",
     "text": [
      "C:\\Users\\dosre\\AppData\\Local\\Temp\\ipykernel_23500\\508105216.py:41: UserWarning: Attempting to set identical low and high xlims makes transformation singular; automatically expanding.\n",
      "  ax.set_xlim(\n",
      "C:\\Users\\dosre\\AppData\\Local\\Temp\\ipykernel_23500\\508105216.py:46: UserWarning: No artists with labels found to put in legend.  Note that artists whose label start with an underscore are ignored when legend() is called with no argument.\n",
      "  ax.legend()\n",
      "C:\\Users\\dosre\\AppData\\Local\\Temp\\ipykernel_23500\\508105216.py:41: UserWarning: Attempting to set identical low and high xlims makes transformation singular; automatically expanding.\n",
      "  ax.set_xlim(\n",
      "C:\\Users\\dosre\\AppData\\Local\\Temp\\ipykernel_23500\\508105216.py:46: UserWarning: No artists with labels found to put in legend.  Note that artists whose label start with an underscore are ignored when legend() is called with no argument.\n",
      "  ax.legend()\n"
     ]
    },
    {
     "name": "stdout",
     "output_type": "stream",
     "text": [
      "KeyError: unpreconddense coupled 20\n",
      "KeyError: unpreconddense coupled 30\n"
     ]
    },
    {
     "name": "stderr",
     "output_type": "stream",
     "text": [
      "C:\\Users\\dosre\\AppData\\Local\\Temp\\ipykernel_23500\\508105216.py:41: UserWarning: Attempting to set identical low and high xlims makes transformation singular; automatically expanding.\n",
      "  ax.set_xlim(\n",
      "C:\\Users\\dosre\\AppData\\Local\\Temp\\ipykernel_23500\\508105216.py:46: UserWarning: No artists with labels found to put in legend.  Note that artists whose label start with an underscore are ignored when legend() is called with no argument.\n",
      "  ax.legend()\n"
     ]
    },
    {
     "name": "stdout",
     "output_type": "stream",
     "text": [
      "KeyError: unpreconddense coupled 40\n"
     ]
    },
    {
     "name": "stderr",
     "output_type": "stream",
     "text": [
      "C:\\Users\\dosre\\AppData\\Local\\Temp\\ipykernel_23500\\508105216.py:41: UserWarning: Attempting to set identical low and high xlims makes transformation singular; automatically expanding.\n",
      "  ax.set_xlim(\n",
      "C:\\Users\\dosre\\AppData\\Local\\Temp\\ipykernel_23500\\508105216.py:46: UserWarning: No artists with labels found to put in legend.  Note that artists whose label start with an underscore are ignored when legend() is called with no argument.\n",
      "  ax.legend()\n",
      "C:\\Users\\dosre\\AppData\\Local\\Temp\\ipykernel_23500\\508105216.py:41: UserWarning: Attempting to set identical low and high xlims makes transformation singular; automatically expanding.\n",
      "  ax.set_xlim(\n",
      "C:\\Users\\dosre\\AppData\\Local\\Temp\\ipykernel_23500\\508105216.py:46: UserWarning: No artists with labels found to put in legend.  Note that artists whose label start with an underscore are ignored when legend() is called with no argument.\n",
      "  ax.legend()\n"
     ]
    },
    {
     "name": "stdout",
     "output_type": "stream",
     "text": [
      "KeyError: unpreconddense coupled 50\n",
      "KeyError: unpreconddense coupled 100\n"
     ]
    },
    {
     "name": "stderr",
     "output_type": "stream",
     "text": [
      "C:\\Users\\dosre\\AppData\\Local\\Temp\\ipykernel_23500\\508105216.py:41: UserWarning: Attempting to set identical low and high xlims makes transformation singular; automatically expanding.\n",
      "  ax.set_xlim(\n",
      "C:\\Users\\dosre\\AppData\\Local\\Temp\\ipykernel_23500\\508105216.py:46: UserWarning: No artists with labels found to put in legend.  Note that artists whose label start with an underscore are ignored when legend() is called with no argument.\n",
      "  ax.legend()\n",
      "C:\\Users\\dosre\\AppData\\Local\\Temp\\ipykernel_23500\\508105216.py:41: UserWarning: Attempting to set identical low and high xlims makes transformation singular; automatically expanding.\n",
      "  ax.set_xlim(\n",
      "C:\\Users\\dosre\\AppData\\Local\\Temp\\ipykernel_23500\\508105216.py:46: UserWarning: No artists with labels found to put in legend.  Note that artists whose label start with an underscore are ignored when legend() is called with no argument.\n",
      "  ax.legend()\n"
     ]
    },
    {
     "name": "stdout",
     "output_type": "stream",
     "text": [
      "KeyError: unpreconddense coupled 150\n",
      "KeyError: unpreconddense coupled 200\n"
     ]
    },
    {
     "name": "stderr",
     "output_type": "stream",
     "text": [
      "C:\\Users\\dosre\\AppData\\Local\\Temp\\ipykernel_23500\\508105216.py:41: UserWarning: Attempting to set identical low and high xlims makes transformation singular; automatically expanding.\n",
      "  ax.set_xlim(\n",
      "C:\\Users\\dosre\\AppData\\Local\\Temp\\ipykernel_23500\\508105216.py:46: UserWarning: No artists with labels found to put in legend.  Note that artists whose label start with an underscore are ignored when legend() is called with no argument.\n",
      "  ax.legend()\n",
      "C:\\Users\\dosre\\AppData\\Local\\Temp\\ipykernel_23500\\508105216.py:41: UserWarning: Attempting to set identical low and high xlims makes transformation singular; automatically expanding.\n",
      "  ax.set_xlim(\n",
      "C:\\Users\\dosre\\AppData\\Local\\Temp\\ipykernel_23500\\508105216.py:46: UserWarning: No artists with labels found to put in legend.  Note that artists whose label start with an underscore are ignored when legend() is called with no argument.\n",
      "  ax.legend()\n"
     ]
    },
    {
     "name": "stdout",
     "output_type": "stream",
     "text": [
      "KeyError: unpreconddense e40r0100 20\n",
      "KeyError: unpreconddense e40r0100 30\n"
     ]
    },
    {
     "name": "stderr",
     "output_type": "stream",
     "text": [
      "C:\\Users\\dosre\\AppData\\Local\\Temp\\ipykernel_23500\\508105216.py:41: UserWarning: Attempting to set identical low and high xlims makes transformation singular; automatically expanding.\n",
      "  ax.set_xlim(\n",
      "C:\\Users\\dosre\\AppData\\Local\\Temp\\ipykernel_23500\\508105216.py:46: UserWarning: No artists with labels found to put in legend.  Note that artists whose label start with an underscore are ignored when legend() is called with no argument.\n",
      "  ax.legend()\n",
      "C:\\Users\\dosre\\AppData\\Local\\Temp\\ipykernel_23500\\508105216.py:41: UserWarning: Attempting to set identical low and high xlims makes transformation singular; automatically expanding.\n",
      "  ax.set_xlim(\n",
      "C:\\Users\\dosre\\AppData\\Local\\Temp\\ipykernel_23500\\508105216.py:46: UserWarning: No artists with labels found to put in legend.  Note that artists whose label start with an underscore are ignored when legend() is called with no argument.\n",
      "  ax.legend()\n"
     ]
    },
    {
     "name": "stdout",
     "output_type": "stream",
     "text": [
      "KeyError: unpreconddense e40r0100 40\n",
      "KeyError: unpreconddense e40r0100 50\n"
     ]
    },
    {
     "name": "stderr",
     "output_type": "stream",
     "text": [
      "C:\\Users\\dosre\\AppData\\Local\\Temp\\ipykernel_23500\\508105216.py:41: UserWarning: Attempting to set identical low and high xlims makes transformation singular; automatically expanding.\n",
      "  ax.set_xlim(\n",
      "C:\\Users\\dosre\\AppData\\Local\\Temp\\ipykernel_23500\\508105216.py:46: UserWarning: No artists with labels found to put in legend.  Note that artists whose label start with an underscore are ignored when legend() is called with no argument.\n",
      "  ax.legend()\n",
      "C:\\Users\\dosre\\AppData\\Local\\Temp\\ipykernel_23500\\508105216.py:41: UserWarning: Attempting to set identical low and high xlims makes transformation singular; automatically expanding.\n",
      "  ax.set_xlim(\n",
      "C:\\Users\\dosre\\AppData\\Local\\Temp\\ipykernel_23500\\508105216.py:46: UserWarning: No artists with labels found to put in legend.  Note that artists whose label start with an underscore are ignored when legend() is called with no argument.\n",
      "  ax.legend()\n"
     ]
    },
    {
     "name": "stdout",
     "output_type": "stream",
     "text": [
      "KeyError: unpreconddense e40r0100 100\n",
      "KeyError: unpreconddense e40r0100 150\n"
     ]
    },
    {
     "name": "stderr",
     "output_type": "stream",
     "text": [
      "C:\\Users\\dosre\\AppData\\Local\\Temp\\ipykernel_23500\\508105216.py:41: UserWarning: Attempting to set identical low and high xlims makes transformation singular; automatically expanding.\n",
      "  ax.set_xlim(\n",
      "C:\\Users\\dosre\\AppData\\Local\\Temp\\ipykernel_23500\\508105216.py:46: UserWarning: No artists with labels found to put in legend.  Note that artists whose label start with an underscore are ignored when legend() is called with no argument.\n",
      "  ax.legend()\n"
     ]
    },
    {
     "name": "stdout",
     "output_type": "stream",
     "text": [
      "KeyError: unpreconddense e40r0100 200\n"
     ]
    },
    {
     "name": "stderr",
     "output_type": "stream",
     "text": [
      "C:\\Users\\dosre\\AppData\\Local\\Temp\\ipykernel_23500\\508105216.py:41: UserWarning: Attempting to set identical low and high xlims makes transformation singular; automatically expanding.\n",
      "  ax.set_xlim(\n",
      "C:\\Users\\dosre\\AppData\\Local\\Temp\\ipykernel_23500\\508105216.py:46: UserWarning: No artists with labels found to put in legend.  Note that artists whose label start with an underscore are ignored when legend() is called with no argument.\n",
      "  ax.legend()\n",
      "C:\\Users\\dosre\\AppData\\Local\\Temp\\ipykernel_23500\\508105216.py:41: UserWarning: Attempting to set identical low and high xlims makes transformation singular; automatically expanding.\n",
      "  ax.set_xlim(\n",
      "C:\\Users\\dosre\\AppData\\Local\\Temp\\ipykernel_23500\\508105216.py:46: UserWarning: No artists with labels found to put in legend.  Note that artists whose label start with an underscore are ignored when legend() is called with no argument.\n",
      "  ax.legend()\n"
     ]
    },
    {
     "name": "stdout",
     "output_type": "stream",
     "text": [
      "KeyError: unpreconddense epb1 20\n",
      "KeyError: unpreconddense epb1 30\n"
     ]
    },
    {
     "name": "stderr",
     "output_type": "stream",
     "text": [
      "C:\\Users\\dosre\\AppData\\Local\\Temp\\ipykernel_23500\\508105216.py:41: UserWarning: Attempting to set identical low and high xlims makes transformation singular; automatically expanding.\n",
      "  ax.set_xlim(\n",
      "C:\\Users\\dosre\\AppData\\Local\\Temp\\ipykernel_23500\\508105216.py:46: UserWarning: No artists with labels found to put in legend.  Note that artists whose label start with an underscore are ignored when legend() is called with no argument.\n",
      "  ax.legend()\n",
      "C:\\Users\\dosre\\AppData\\Local\\Temp\\ipykernel_23500\\508105216.py:41: UserWarning: Attempting to set identical low and high xlims makes transformation singular; automatically expanding.\n",
      "  ax.set_xlim(\n",
      "C:\\Users\\dosre\\AppData\\Local\\Temp\\ipykernel_23500\\508105216.py:46: UserWarning: No artists with labels found to put in legend.  Note that artists whose label start with an underscore are ignored when legend() is called with no argument.\n",
      "  ax.legend()\n"
     ]
    },
    {
     "name": "stdout",
     "output_type": "stream",
     "text": [
      "KeyError: unpreconddense epb1 40\n",
      "KeyError: unpreconddense epb1 50\n"
     ]
    },
    {
     "name": "stderr",
     "output_type": "stream",
     "text": [
      "C:\\Users\\dosre\\AppData\\Local\\Temp\\ipykernel_23500\\508105216.py:41: UserWarning: Attempting to set identical low and high xlims makes transformation singular; automatically expanding.\n",
      "  ax.set_xlim(\n",
      "C:\\Users\\dosre\\AppData\\Local\\Temp\\ipykernel_23500\\508105216.py:46: UserWarning: No artists with labels found to put in legend.  Note that artists whose label start with an underscore are ignored when legend() is called with no argument.\n",
      "  ax.legend()\n",
      "C:\\Users\\dosre\\AppData\\Local\\Temp\\ipykernel_23500\\508105216.py:41: UserWarning: Attempting to set identical low and high xlims makes transformation singular; automatically expanding.\n",
      "  ax.set_xlim(\n",
      "C:\\Users\\dosre\\AppData\\Local\\Temp\\ipykernel_23500\\508105216.py:46: UserWarning: No artists with labels found to put in legend.  Note that artists whose label start with an underscore are ignored when legend() is called with no argument.\n",
      "  ax.legend()\n"
     ]
    },
    {
     "name": "stdout",
     "output_type": "stream",
     "text": [
      "KeyError: unpreconddense epb1 100\n",
      "KeyError: unpreconddense epb1 150\n"
     ]
    },
    {
     "name": "stderr",
     "output_type": "stream",
     "text": [
      "C:\\Users\\dosre\\AppData\\Local\\Temp\\ipykernel_23500\\508105216.py:41: UserWarning: Attempting to set identical low and high xlims makes transformation singular; automatically expanding.\n",
      "  ax.set_xlim(\n",
      "C:\\Users\\dosre\\AppData\\Local\\Temp\\ipykernel_23500\\508105216.py:46: UserWarning: No artists with labels found to put in legend.  Note that artists whose label start with an underscore are ignored when legend() is called with no argument.\n",
      "  ax.legend()\n"
     ]
    },
    {
     "name": "stdout",
     "output_type": "stream",
     "text": [
      "KeyError: unpreconddense epb1 200\n"
     ]
    },
    {
     "name": "stderr",
     "output_type": "stream",
     "text": [
      "C:\\Users\\dosre\\AppData\\Local\\Temp\\ipykernel_23500\\508105216.py:41: UserWarning: Attempting to set identical low and high xlims makes transformation singular; automatically expanding.\n",
      "  ax.set_xlim(\n",
      "C:\\Users\\dosre\\AppData\\Local\\Temp\\ipykernel_23500\\508105216.py:46: UserWarning: No artists with labels found to put in legend.  Note that artists whose label start with an underscore are ignored when legend() is called with no argument.\n",
      "  ax.legend()\n",
      "C:\\Users\\dosre\\AppData\\Local\\Temp\\ipykernel_23500\\508105216.py:41: UserWarning: Attempting to set identical low and high xlims makes transformation singular; automatically expanding.\n",
      "  ax.set_xlim(\n",
      "C:\\Users\\dosre\\AppData\\Local\\Temp\\ipykernel_23500\\508105216.py:46: UserWarning: No artists with labels found to put in legend.  Note that artists whose label start with an underscore are ignored when legend() is called with no argument.\n",
      "  ax.legend()\n"
     ]
    },
    {
     "name": "stdout",
     "output_type": "stream",
     "text": [
      "KeyError: unpreconddense FEM_3D_thermal1 20\n",
      "KeyError: unpreconddense FEM_3D_thermal1 30\n"
     ]
    },
    {
     "name": "stderr",
     "output_type": "stream",
     "text": [
      "C:\\Users\\dosre\\AppData\\Local\\Temp\\ipykernel_23500\\508105216.py:41: UserWarning: Attempting to set identical low and high xlims makes transformation singular; automatically expanding.\n",
      "  ax.set_xlim(\n",
      "C:\\Users\\dosre\\AppData\\Local\\Temp\\ipykernel_23500\\508105216.py:46: UserWarning: No artists with labels found to put in legend.  Note that artists whose label start with an underscore are ignored when legend() is called with no argument.\n",
      "  ax.legend()\n",
      "C:\\Users\\dosre\\AppData\\Local\\Temp\\ipykernel_23500\\508105216.py:41: UserWarning: Attempting to set identical low and high xlims makes transformation singular; automatically expanding.\n",
      "  ax.set_xlim(\n",
      "C:\\Users\\dosre\\AppData\\Local\\Temp\\ipykernel_23500\\508105216.py:46: UserWarning: No artists with labels found to put in legend.  Note that artists whose label start with an underscore are ignored when legend() is called with no argument.\n",
      "  ax.legend()\n"
     ]
    },
    {
     "name": "stdout",
     "output_type": "stream",
     "text": [
      "KeyError: unpreconddense FEM_3D_thermal1 40\n",
      "KeyError: unpreconddense FEM_3D_thermal1 50\n"
     ]
    },
    {
     "name": "stderr",
     "output_type": "stream",
     "text": [
      "C:\\Users\\dosre\\AppData\\Local\\Temp\\ipykernel_23500\\508105216.py:41: UserWarning: Attempting to set identical low and high xlims makes transformation singular; automatically expanding.\n",
      "  ax.set_xlim(\n",
      "C:\\Users\\dosre\\AppData\\Local\\Temp\\ipykernel_23500\\508105216.py:46: UserWarning: No artists with labels found to put in legend.  Note that artists whose label start with an underscore are ignored when legend() is called with no argument.\n",
      "  ax.legend()\n",
      "C:\\Users\\dosre\\AppData\\Local\\Temp\\ipykernel_23500\\508105216.py:41: UserWarning: Attempting to set identical low and high xlims makes transformation singular; automatically expanding.\n",
      "  ax.set_xlim(\n",
      "C:\\Users\\dosre\\AppData\\Local\\Temp\\ipykernel_23500\\508105216.py:46: UserWarning: No artists with labels found to put in legend.  Note that artists whose label start with an underscore are ignored when legend() is called with no argument.\n",
      "  ax.legend()\n"
     ]
    },
    {
     "name": "stdout",
     "output_type": "stream",
     "text": [
      "KeyError: unpreconddense FEM_3D_thermal1 100\n",
      "KeyError: unpreconddense FEM_3D_thermal1 150\n"
     ]
    },
    {
     "name": "stderr",
     "output_type": "stream",
     "text": [
      "C:\\Users\\dosre\\AppData\\Local\\Temp\\ipykernel_23500\\508105216.py:41: UserWarning: Attempting to set identical low and high xlims makes transformation singular; automatically expanding.\n",
      "  ax.set_xlim(\n",
      "C:\\Users\\dosre\\AppData\\Local\\Temp\\ipykernel_23500\\508105216.py:46: UserWarning: No artists with labels found to put in legend.  Note that artists whose label start with an underscore are ignored when legend() is called with no argument.\n",
      "  ax.legend()\n"
     ]
    },
    {
     "name": "stdout",
     "output_type": "stream",
     "text": [
      "KeyError: unpreconddense FEM_3D_thermal1 200\n"
     ]
    },
    {
     "name": "stderr",
     "output_type": "stream",
     "text": [
      "C:\\Users\\dosre\\AppData\\Local\\Temp\\ipykernel_23500\\508105216.py:41: UserWarning: Attempting to set identical low and high xlims makes transformation singular; automatically expanding.\n",
      "  ax.set_xlim(\n",
      "C:\\Users\\dosre\\AppData\\Local\\Temp\\ipykernel_23500\\508105216.py:46: UserWarning: No artists with labels found to put in legend.  Note that artists whose label start with an underscore are ignored when legend() is called with no argument.\n",
      "  ax.legend()\n",
      "C:\\Users\\dosre\\AppData\\Local\\Temp\\ipykernel_23500\\508105216.py:41: UserWarning: Attempting to set identical low and high xlims makes transformation singular; automatically expanding.\n",
      "  ax.set_xlim(\n",
      "C:\\Users\\dosre\\AppData\\Local\\Temp\\ipykernel_23500\\508105216.py:46: UserWarning: No artists with labels found to put in legend.  Note that artists whose label start with an underscore are ignored when legend() is called with no argument.\n",
      "  ax.legend()\n"
     ]
    },
    {
     "name": "stdout",
     "output_type": "stream",
     "text": [
      "KeyError: unpreconddense garon2 20\n",
      "KeyError: unpreconddense garon2 30\n"
     ]
    },
    {
     "name": "stderr",
     "output_type": "stream",
     "text": [
      "C:\\Users\\dosre\\AppData\\Local\\Temp\\ipykernel_23500\\508105216.py:41: UserWarning: Attempting to set identical low and high xlims makes transformation singular; automatically expanding.\n",
      "  ax.set_xlim(\n",
      "C:\\Users\\dosre\\AppData\\Local\\Temp\\ipykernel_23500\\508105216.py:46: UserWarning: No artists with labels found to put in legend.  Note that artists whose label start with an underscore are ignored when legend() is called with no argument.\n",
      "  ax.legend()\n",
      "C:\\Users\\dosre\\AppData\\Local\\Temp\\ipykernel_23500\\508105216.py:41: UserWarning: Attempting to set identical low and high xlims makes transformation singular; automatically expanding.\n",
      "  ax.set_xlim(\n",
      "C:\\Users\\dosre\\AppData\\Local\\Temp\\ipykernel_23500\\508105216.py:46: UserWarning: No artists with labels found to put in legend.  Note that artists whose label start with an underscore are ignored when legend() is called with no argument.\n",
      "  ax.legend()\n"
     ]
    },
    {
     "name": "stdout",
     "output_type": "stream",
     "text": [
      "KeyError: unpreconddense garon2 40\n",
      "KeyError: unpreconddense garon2 50\n"
     ]
    },
    {
     "name": "stderr",
     "output_type": "stream",
     "text": [
      "C:\\Users\\dosre\\AppData\\Local\\Temp\\ipykernel_23500\\508105216.py:41: UserWarning: Attempting to set identical low and high xlims makes transformation singular; automatically expanding.\n",
      "  ax.set_xlim(\n",
      "C:\\Users\\dosre\\AppData\\Local\\Temp\\ipykernel_23500\\508105216.py:46: UserWarning: No artists with labels found to put in legend.  Note that artists whose label start with an underscore are ignored when legend() is called with no argument.\n",
      "  ax.legend()\n",
      "C:\\Users\\dosre\\AppData\\Local\\Temp\\ipykernel_23500\\508105216.py:41: UserWarning: Attempting to set identical low and high xlims makes transformation singular; automatically expanding.\n",
      "  ax.set_xlim(\n",
      "C:\\Users\\dosre\\AppData\\Local\\Temp\\ipykernel_23500\\508105216.py:46: UserWarning: No artists with labels found to put in legend.  Note that artists whose label start with an underscore are ignored when legend() is called with no argument.\n",
      "  ax.legend()\n"
     ]
    },
    {
     "name": "stdout",
     "output_type": "stream",
     "text": [
      "KeyError: unpreconddense garon2 100\n",
      "KeyError: unpreconddense garon2 150\n"
     ]
    },
    {
     "name": "stderr",
     "output_type": "stream",
     "text": [
      "C:\\Users\\dosre\\AppData\\Local\\Temp\\ipykernel_23500\\508105216.py:41: UserWarning: Attempting to set identical low and high xlims makes transformation singular; automatically expanding.\n",
      "  ax.set_xlim(\n",
      "C:\\Users\\dosre\\AppData\\Local\\Temp\\ipykernel_23500\\508105216.py:46: UserWarning: No artists with labels found to put in legend.  Note that artists whose label start with an underscore are ignored when legend() is called with no argument.\n",
      "  ax.legend()\n"
     ]
    },
    {
     "name": "stdout",
     "output_type": "stream",
     "text": [
      "KeyError: unpreconddense garon2 200\n"
     ]
    },
    {
     "name": "stderr",
     "output_type": "stream",
     "text": [
      "C:\\Users\\dosre\\AppData\\Local\\Temp\\ipykernel_23500\\508105216.py:41: UserWarning: Attempting to set identical low and high xlims makes transformation singular; automatically expanding.\n",
      "  ax.set_xlim(\n",
      "C:\\Users\\dosre\\AppData\\Local\\Temp\\ipykernel_23500\\508105216.py:46: UserWarning: No artists with labels found to put in legend.  Note that artists whose label start with an underscore are ignored when legend() is called with no argument.\n",
      "  ax.legend()\n",
      "C:\\Users\\dosre\\AppData\\Local\\Temp\\ipykernel_23500\\508105216.py:41: UserWarning: Attempting to set identical low and high xlims makes transformation singular; automatically expanding.\n",
      "  ax.set_xlim(\n",
      "C:\\Users\\dosre\\AppData\\Local\\Temp\\ipykernel_23500\\508105216.py:46: UserWarning: No artists with labels found to put in legend.  Note that artists whose label start with an underscore are ignored when legend() is called with no argument.\n",
      "  ax.legend()\n"
     ]
    },
    {
     "name": "stdout",
     "output_type": "stream",
     "text": [
      "KeyError: unpreconddense inlet 20\n",
      "KeyError: unpreconddense inlet 30\n"
     ]
    },
    {
     "name": "stderr",
     "output_type": "stream",
     "text": [
      "C:\\Users\\dosre\\AppData\\Local\\Temp\\ipykernel_23500\\508105216.py:41: UserWarning: Attempting to set identical low and high xlims makes transformation singular; automatically expanding.\n",
      "  ax.set_xlim(\n",
      "C:\\Users\\dosre\\AppData\\Local\\Temp\\ipykernel_23500\\508105216.py:46: UserWarning: No artists with labels found to put in legend.  Note that artists whose label start with an underscore are ignored when legend() is called with no argument.\n",
      "  ax.legend()\n",
      "C:\\Users\\dosre\\AppData\\Local\\Temp\\ipykernel_23500\\508105216.py:41: UserWarning: Attempting to set identical low and high xlims makes transformation singular; automatically expanding.\n",
      "  ax.set_xlim(\n",
      "C:\\Users\\dosre\\AppData\\Local\\Temp\\ipykernel_23500\\508105216.py:46: UserWarning: No artists with labels found to put in legend.  Note that artists whose label start with an underscore are ignored when legend() is called with no argument.\n",
      "  ax.legend()\n"
     ]
    },
    {
     "name": "stdout",
     "output_type": "stream",
     "text": [
      "KeyError: unpreconddense inlet 40\n",
      "KeyError: unpreconddense inlet 50\n"
     ]
    },
    {
     "name": "stderr",
     "output_type": "stream",
     "text": [
      "C:\\Users\\dosre\\AppData\\Local\\Temp\\ipykernel_23500\\508105216.py:41: UserWarning: Attempting to set identical low and high xlims makes transformation singular; automatically expanding.\n",
      "  ax.set_xlim(\n",
      "C:\\Users\\dosre\\AppData\\Local\\Temp\\ipykernel_23500\\508105216.py:46: UserWarning: No artists with labels found to put in legend.  Note that artists whose label start with an underscore are ignored when legend() is called with no argument.\n",
      "  ax.legend()\n"
     ]
    },
    {
     "name": "stdout",
     "output_type": "stream",
     "text": [
      "KeyError: unpreconddense inlet 100\n"
     ]
    },
    {
     "name": "stderr",
     "output_type": "stream",
     "text": [
      "C:\\Users\\dosre\\AppData\\Local\\Temp\\ipykernel_23500\\508105216.py:41: UserWarning: Attempting to set identical low and high xlims makes transformation singular; automatically expanding.\n",
      "  ax.set_xlim(\n",
      "C:\\Users\\dosre\\AppData\\Local\\Temp\\ipykernel_23500\\508105216.py:46: UserWarning: No artists with labels found to put in legend.  Note that artists whose label start with an underscore are ignored when legend() is called with no argument.\n",
      "  ax.legend()\n",
      "C:\\Users\\dosre\\AppData\\Local\\Temp\\ipykernel_23500\\508105216.py:41: UserWarning: Attempting to set identical low and high xlims makes transformation singular; automatically expanding.\n",
      "  ax.set_xlim(\n",
      "C:\\Users\\dosre\\AppData\\Local\\Temp\\ipykernel_23500\\508105216.py:46: UserWarning: No artists with labels found to put in legend.  Note that artists whose label start with an underscore are ignored when legend() is called with no argument.\n",
      "  ax.legend()\n"
     ]
    },
    {
     "name": "stdout",
     "output_type": "stream",
     "text": [
      "KeyError: unpreconddense inlet 150\n",
      "KeyError: unpreconddense inlet 200\n"
     ]
    },
    {
     "name": "stderr",
     "output_type": "stream",
     "text": [
      "C:\\Users\\dosre\\AppData\\Local\\Temp\\ipykernel_23500\\508105216.py:41: UserWarning: Attempting to set identical low and high xlims makes transformation singular; automatically expanding.\n",
      "  ax.set_xlim(\n",
      "C:\\Users\\dosre\\AppData\\Local\\Temp\\ipykernel_23500\\508105216.py:46: UserWarning: No artists with labels found to put in legend.  Note that artists whose label start with an underscore are ignored when legend() is called with no argument.\n",
      "  ax.legend()\n",
      "C:\\Users\\dosre\\AppData\\Local\\Temp\\ipykernel_23500\\508105216.py:41: UserWarning: Attempting to set identical low and high xlims makes transformation singular; automatically expanding.\n",
      "  ax.set_xlim(\n",
      "C:\\Users\\dosre\\AppData\\Local\\Temp\\ipykernel_23500\\508105216.py:46: UserWarning: No artists with labels found to put in legend.  Note that artists whose label start with an underscore are ignored when legend() is called with no argument.\n",
      "  ax.legend()\n"
     ]
    },
    {
     "name": "stdout",
     "output_type": "stream",
     "text": [
      "KeyError: unpreconddense jan99jac040sc 20\n",
      "KeyError: unpreconddense jan99jac040sc 30\n"
     ]
    },
    {
     "name": "stderr",
     "output_type": "stream",
     "text": [
      "C:\\Users\\dosre\\AppData\\Local\\Temp\\ipykernel_23500\\508105216.py:41: UserWarning: Attempting to set identical low and high xlims makes transformation singular; automatically expanding.\n",
      "  ax.set_xlim(\n",
      "C:\\Users\\dosre\\AppData\\Local\\Temp\\ipykernel_23500\\508105216.py:46: UserWarning: No artists with labels found to put in legend.  Note that artists whose label start with an underscore are ignored when legend() is called with no argument.\n",
      "  ax.legend()\n",
      "C:\\Users\\dosre\\AppData\\Local\\Temp\\ipykernel_23500\\508105216.py:41: UserWarning: Attempting to set identical low and high xlims makes transformation singular; automatically expanding.\n",
      "  ax.set_xlim(\n",
      "C:\\Users\\dosre\\AppData\\Local\\Temp\\ipykernel_23500\\508105216.py:46: UserWarning: No artists with labels found to put in legend.  Note that artists whose label start with an underscore are ignored when legend() is called with no argument.\n",
      "  ax.legend()\n"
     ]
    },
    {
     "name": "stdout",
     "output_type": "stream",
     "text": [
      "KeyError: unpreconddense jan99jac040sc 40\n",
      "KeyError: unpreconddense jan99jac040sc 50\n"
     ]
    },
    {
     "name": "stderr",
     "output_type": "stream",
     "text": [
      "C:\\Users\\dosre\\AppData\\Local\\Temp\\ipykernel_23500\\508105216.py:41: UserWarning: Attempting to set identical low and high xlims makes transformation singular; automatically expanding.\n",
      "  ax.set_xlim(\n",
      "C:\\Users\\dosre\\AppData\\Local\\Temp\\ipykernel_23500\\508105216.py:46: UserWarning: No artists with labels found to put in legend.  Note that artists whose label start with an underscore are ignored when legend() is called with no argument.\n",
      "  ax.legend()\n",
      "C:\\Users\\dosre\\AppData\\Local\\Temp\\ipykernel_23500\\508105216.py:41: UserWarning: Attempting to set identical low and high xlims makes transformation singular; automatically expanding.\n",
      "  ax.set_xlim(\n",
      "C:\\Users\\dosre\\AppData\\Local\\Temp\\ipykernel_23500\\508105216.py:46: UserWarning: No artists with labels found to put in legend.  Note that artists whose label start with an underscore are ignored when legend() is called with no argument.\n",
      "  ax.legend()\n"
     ]
    },
    {
     "name": "stdout",
     "output_type": "stream",
     "text": [
      "KeyError: unpreconddense jan99jac040sc 100\n",
      "KeyError: unpreconddense jan99jac040sc 150\n"
     ]
    },
    {
     "name": "stderr",
     "output_type": "stream",
     "text": [
      "C:\\Users\\dosre\\AppData\\Local\\Temp\\ipykernel_23500\\508105216.py:41: UserWarning: Attempting to set identical low and high xlims makes transformation singular; automatically expanding.\n",
      "  ax.set_xlim(\n",
      "C:\\Users\\dosre\\AppData\\Local\\Temp\\ipykernel_23500\\508105216.py:46: UserWarning: No artists with labels found to put in legend.  Note that artists whose label start with an underscore are ignored when legend() is called with no argument.\n",
      "  ax.legend()\n"
     ]
    },
    {
     "name": "stdout",
     "output_type": "stream",
     "text": [
      "KeyError: unpreconddense jan99jac040sc 200\n"
     ]
    },
    {
     "name": "stderr",
     "output_type": "stream",
     "text": [
      "C:\\Users\\dosre\\AppData\\Local\\Temp\\ipykernel_23500\\508105216.py:41: UserWarning: Attempting to set identical low and high xlims makes transformation singular; automatically expanding.\n",
      "  ax.set_xlim(\n",
      "C:\\Users\\dosre\\AppData\\Local\\Temp\\ipykernel_23500\\508105216.py:46: UserWarning: No artists with labels found to put in legend.  Note that artists whose label start with an underscore are ignored when legend() is called with no argument.\n",
      "  ax.legend()\n",
      "C:\\Users\\dosre\\AppData\\Local\\Temp\\ipykernel_23500\\508105216.py:41: UserWarning: Attempting to set identical low and high xlims makes transformation singular; automatically expanding.\n",
      "  ax.set_xlim(\n",
      "C:\\Users\\dosre\\AppData\\Local\\Temp\\ipykernel_23500\\508105216.py:46: UserWarning: No artists with labels found to put in legend.  Note that artists whose label start with an underscore are ignored when legend() is called with no argument.\n",
      "  ax.legend()\n"
     ]
    },
    {
     "name": "stdout",
     "output_type": "stream",
     "text": [
      "KeyError: unpreconddense memplus 20\n",
      "KeyError: unpreconddense memplus 30\n"
     ]
    },
    {
     "name": "stderr",
     "output_type": "stream",
     "text": [
      "C:\\Users\\dosre\\AppData\\Local\\Temp\\ipykernel_23500\\508105216.py:41: UserWarning: Attempting to set identical low and high xlims makes transformation singular; automatically expanding.\n",
      "  ax.set_xlim(\n",
      "C:\\Users\\dosre\\AppData\\Local\\Temp\\ipykernel_23500\\508105216.py:46: UserWarning: No artists with labels found to put in legend.  Note that artists whose label start with an underscore are ignored when legend() is called with no argument.\n",
      "  ax.legend()\n",
      "C:\\Users\\dosre\\AppData\\Local\\Temp\\ipykernel_23500\\508105216.py:41: UserWarning: Attempting to set identical low and high xlims makes transformation singular; automatically expanding.\n",
      "  ax.set_xlim(\n",
      "C:\\Users\\dosre\\AppData\\Local\\Temp\\ipykernel_23500\\508105216.py:46: UserWarning: No artists with labels found to put in legend.  Note that artists whose label start with an underscore are ignored when legend() is called with no argument.\n",
      "  ax.legend()\n"
     ]
    },
    {
     "name": "stdout",
     "output_type": "stream",
     "text": [
      "KeyError: unpreconddense memplus 40\n",
      "KeyError: unpreconddense memplus 50\n"
     ]
    },
    {
     "name": "stderr",
     "output_type": "stream",
     "text": [
      "C:\\Users\\dosre\\AppData\\Local\\Temp\\ipykernel_23500\\508105216.py:41: UserWarning: Attempting to set identical low and high xlims makes transformation singular; automatically expanding.\n",
      "  ax.set_xlim(\n",
      "C:\\Users\\dosre\\AppData\\Local\\Temp\\ipykernel_23500\\508105216.py:46: UserWarning: No artists with labels found to put in legend.  Note that artists whose label start with an underscore are ignored when legend() is called with no argument.\n",
      "  ax.legend()\n",
      "C:\\Users\\dosre\\AppData\\Local\\Temp\\ipykernel_23500\\508105216.py:41: UserWarning: Attempting to set identical low and high xlims makes transformation singular; automatically expanding.\n",
      "  ax.set_xlim(\n",
      "C:\\Users\\dosre\\AppData\\Local\\Temp\\ipykernel_23500\\508105216.py:46: UserWarning: No artists with labels found to put in legend.  Note that artists whose label start with an underscore are ignored when legend() is called with no argument.\n",
      "  ax.legend()\n"
     ]
    },
    {
     "name": "stdout",
     "output_type": "stream",
     "text": [
      "KeyError: unpreconddense memplus 100\n",
      "KeyError: unpreconddense memplus 150\n"
     ]
    },
    {
     "name": "stderr",
     "output_type": "stream",
     "text": [
      "C:\\Users\\dosre\\AppData\\Local\\Temp\\ipykernel_23500\\508105216.py:41: UserWarning: Attempting to set identical low and high xlims makes transformation singular; automatically expanding.\n",
      "  ax.set_xlim(\n",
      "C:\\Users\\dosre\\AppData\\Local\\Temp\\ipykernel_23500\\508105216.py:46: UserWarning: No artists with labels found to put in legend.  Note that artists whose label start with an underscore are ignored when legend() is called with no argument.\n",
      "  ax.legend()\n"
     ]
    },
    {
     "name": "stdout",
     "output_type": "stream",
     "text": [
      "KeyError: unpreconddense memplus 200\n"
     ]
    },
    {
     "name": "stderr",
     "output_type": "stream",
     "text": [
      "C:\\Users\\dosre\\AppData\\Local\\Temp\\ipykernel_23500\\508105216.py:41: UserWarning: Attempting to set identical low and high xlims makes transformation singular; automatically expanding.\n",
      "  ax.set_xlim(\n",
      "C:\\Users\\dosre\\AppData\\Local\\Temp\\ipykernel_23500\\508105216.py:46: UserWarning: No artists with labels found to put in legend.  Note that artists whose label start with an underscore are ignored when legend() is called with no argument.\n",
      "  ax.legend()\n",
      "C:\\Users\\dosre\\AppData\\Local\\Temp\\ipykernel_23500\\508105216.py:41: UserWarning: Attempting to set identical low and high xlims makes transformation singular; automatically expanding.\n",
      "  ax.set_xlim(\n",
      "C:\\Users\\dosre\\AppData\\Local\\Temp\\ipykernel_23500\\508105216.py:46: UserWarning: No artists with labels found to put in legend.  Note that artists whose label start with an underscore are ignored when legend() is called with no argument.\n",
      "  ax.legend()\n"
     ]
    },
    {
     "name": "stdout",
     "output_type": "stream",
     "text": [
      "KeyError: unpreconddense ns3Da 20\n",
      "KeyError: unpreconddense ns3Da 30\n"
     ]
    },
    {
     "name": "stderr",
     "output_type": "stream",
     "text": [
      "C:\\Users\\dosre\\AppData\\Local\\Temp\\ipykernel_23500\\508105216.py:41: UserWarning: Attempting to set identical low and high xlims makes transformation singular; automatically expanding.\n",
      "  ax.set_xlim(\n",
      "C:\\Users\\dosre\\AppData\\Local\\Temp\\ipykernel_23500\\508105216.py:46: UserWarning: No artists with labels found to put in legend.  Note that artists whose label start with an underscore are ignored when legend() is called with no argument.\n",
      "  ax.legend()\n",
      "C:\\Users\\dosre\\AppData\\Local\\Temp\\ipykernel_23500\\508105216.py:41: UserWarning: Attempting to set identical low and high xlims makes transformation singular; automatically expanding.\n",
      "  ax.set_xlim(\n",
      "C:\\Users\\dosre\\AppData\\Local\\Temp\\ipykernel_23500\\508105216.py:46: UserWarning: No artists with labels found to put in legend.  Note that artists whose label start with an underscore are ignored when legend() is called with no argument.\n",
      "  ax.legend()\n",
      "C:\\Users\\dosre\\AppData\\Local\\Temp\\ipykernel_23500\\508105216.py:41: UserWarning: Attempting to set identical low and high xlims makes transformation singular; automatically expanding.\n",
      "  ax.set_xlim(\n",
      "C:\\Users\\dosre\\AppData\\Local\\Temp\\ipykernel_23500\\508105216.py:46: UserWarning: No artists with labels found to put in legend.  Note that artists whose label start with an underscore are ignored when legend() is called with no argument.\n",
      "  ax.legend()\n"
     ]
    },
    {
     "name": "stdout",
     "output_type": "stream",
     "text": [
      "KeyError: unpreconddense ns3Da 40\n",
      "KeyError: unpreconddense ns3Da 50\n",
      "KeyError: unpreconddense ns3Da 100\n"
     ]
    },
    {
     "name": "stderr",
     "output_type": "stream",
     "text": [
      "C:\\Users\\dosre\\AppData\\Local\\Temp\\ipykernel_23500\\508105216.py:41: UserWarning: Attempting to set identical low and high xlims makes transformation singular; automatically expanding.\n",
      "  ax.set_xlim(\n",
      "C:\\Users\\dosre\\AppData\\Local\\Temp\\ipykernel_23500\\508105216.py:46: UserWarning: No artists with labels found to put in legend.  Note that artists whose label start with an underscore are ignored when legend() is called with no argument.\n",
      "  ax.legend()\n",
      "C:\\Users\\dosre\\AppData\\Local\\Temp\\ipykernel_23500\\508105216.py:41: UserWarning: Attempting to set identical low and high xlims makes transformation singular; automatically expanding.\n",
      "  ax.set_xlim(\n",
      "C:\\Users\\dosre\\AppData\\Local\\Temp\\ipykernel_23500\\508105216.py:46: UserWarning: No artists with labels found to put in legend.  Note that artists whose label start with an underscore are ignored when legend() is called with no argument.\n",
      "  ax.legend()\n"
     ]
    },
    {
     "name": "stdout",
     "output_type": "stream",
     "text": [
      "KeyError: unpreconddense ns3Da 150\n",
      "KeyError: unpreconddense ns3Da 200\n"
     ]
    },
    {
     "name": "stderr",
     "output_type": "stream",
     "text": [
      "C:\\Users\\dosre\\AppData\\Local\\Temp\\ipykernel_23500\\508105216.py:41: UserWarning: Attempting to set identical low and high xlims makes transformation singular; automatically expanding.\n",
      "  ax.set_xlim(\n",
      "C:\\Users\\dosre\\AppData\\Local\\Temp\\ipykernel_23500\\508105216.py:46: UserWarning: No artists with labels found to put in legend.  Note that artists whose label start with an underscore are ignored when legend() is called with no argument.\n",
      "  ax.legend()\n",
      "C:\\Users\\dosre\\AppData\\Local\\Temp\\ipykernel_23500\\508105216.py:41: UserWarning: Attempting to set identical low and high xlims makes transformation singular; automatically expanding.\n",
      "  ax.set_xlim(\n",
      "C:\\Users\\dosre\\AppData\\Local\\Temp\\ipykernel_23500\\508105216.py:46: UserWarning: No artists with labels found to put in legend.  Note that artists whose label start with an underscore are ignored when legend() is called with no argument.\n",
      "  ax.legend()\n"
     ]
    },
    {
     "name": "stdout",
     "output_type": "stream",
     "text": [
      "KeyError: unpreconddense poisson3Da 20\n",
      "KeyError: unpreconddense poisson3Da 30\n"
     ]
    },
    {
     "name": "stderr",
     "output_type": "stream",
     "text": [
      "C:\\Users\\dosre\\AppData\\Local\\Temp\\ipykernel_23500\\508105216.py:41: UserWarning: Attempting to set identical low and high xlims makes transformation singular; automatically expanding.\n",
      "  ax.set_xlim(\n",
      "C:\\Users\\dosre\\AppData\\Local\\Temp\\ipykernel_23500\\508105216.py:46: UserWarning: No artists with labels found to put in legend.  Note that artists whose label start with an underscore are ignored when legend() is called with no argument.\n",
      "  ax.legend()\n",
      "C:\\Users\\dosre\\AppData\\Local\\Temp\\ipykernel_23500\\508105216.py:41: UserWarning: Attempting to set identical low and high xlims makes transformation singular; automatically expanding.\n",
      "  ax.set_xlim(\n",
      "C:\\Users\\dosre\\AppData\\Local\\Temp\\ipykernel_23500\\508105216.py:46: UserWarning: No artists with labels found to put in legend.  Note that artists whose label start with an underscore are ignored when legend() is called with no argument.\n",
      "  ax.legend()\n"
     ]
    },
    {
     "name": "stdout",
     "output_type": "stream",
     "text": [
      "KeyError: unpreconddense poisson3Da 40\n",
      "KeyError: unpreconddense poisson3Da 50\n"
     ]
    },
    {
     "name": "stderr",
     "output_type": "stream",
     "text": [
      "C:\\Users\\dosre\\AppData\\Local\\Temp\\ipykernel_23500\\508105216.py:41: UserWarning: Attempting to set identical low and high xlims makes transformation singular; automatically expanding.\n",
      "  ax.set_xlim(\n",
      "C:\\Users\\dosre\\AppData\\Local\\Temp\\ipykernel_23500\\508105216.py:46: UserWarning: No artists with labels found to put in legend.  Note that artists whose label start with an underscore are ignored when legend() is called with no argument.\n",
      "  ax.legend()\n",
      "C:\\Users\\dosre\\AppData\\Local\\Temp\\ipykernel_23500\\508105216.py:41: UserWarning: Attempting to set identical low and high xlims makes transformation singular; automatically expanding.\n",
      "  ax.set_xlim(\n",
      "C:\\Users\\dosre\\AppData\\Local\\Temp\\ipykernel_23500\\508105216.py:46: UserWarning: No artists with labels found to put in legend.  Note that artists whose label start with an underscore are ignored when legend() is called with no argument.\n",
      "  ax.legend()\n",
      "C:\\Users\\dosre\\AppData\\Local\\Temp\\ipykernel_23500\\508105216.py:41: UserWarning: Attempting to set identical low and high xlims makes transformation singular; automatically expanding.\n",
      "  ax.set_xlim(\n",
      "C:\\Users\\dosre\\AppData\\Local\\Temp\\ipykernel_23500\\508105216.py:46: UserWarning: No artists with labels found to put in legend.  Note that artists whose label start with an underscore are ignored when legend() is called with no argument.\n",
      "  ax.legend()\n"
     ]
    },
    {
     "name": "stdout",
     "output_type": "stream",
     "text": [
      "KeyError: unpreconddense poisson3Da 100\n",
      "KeyError: unpreconddense poisson3Da 150\n",
      "KeyError: unpreconddense poisson3Da 200\n"
     ]
    },
    {
     "name": "stderr",
     "output_type": "stream",
     "text": [
      "C:\\Users\\dosre\\AppData\\Local\\Temp\\ipykernel_23500\\508105216.py:41: UserWarning: Attempting to set identical low and high xlims makes transformation singular; automatically expanding.\n",
      "  ax.set_xlim(\n",
      "C:\\Users\\dosre\\AppData\\Local\\Temp\\ipykernel_23500\\508105216.py:46: UserWarning: No artists with labels found to put in legend.  Note that artists whose label start with an underscore are ignored when legend() is called with no argument.\n",
      "  ax.legend()\n",
      "C:\\Users\\dosre\\AppData\\Local\\Temp\\ipykernel_23500\\508105216.py:41: UserWarning: Attempting to set identical low and high xlims makes transformation singular; automatically expanding.\n",
      "  ax.set_xlim(\n",
      "C:\\Users\\dosre\\AppData\\Local\\Temp\\ipykernel_23500\\508105216.py:46: UserWarning: No artists with labels found to put in legend.  Note that artists whose label start with an underscore are ignored when legend() is called with no argument.\n",
      "  ax.legend()\n"
     ]
    },
    {
     "name": "stdout",
     "output_type": "stream",
     "text": [
      "KeyError: unpreconddense powersim 20\n",
      "KeyError: unpreconddense powersim 30\n"
     ]
    },
    {
     "name": "stderr",
     "output_type": "stream",
     "text": [
      "C:\\Users\\dosre\\AppData\\Local\\Temp\\ipykernel_23500\\508105216.py:41: UserWarning: Attempting to set identical low and high xlims makes transformation singular; automatically expanding.\n",
      "  ax.set_xlim(\n",
      "C:\\Users\\dosre\\AppData\\Local\\Temp\\ipykernel_23500\\508105216.py:46: UserWarning: No artists with labels found to put in legend.  Note that artists whose label start with an underscore are ignored when legend() is called with no argument.\n",
      "  ax.legend()\n",
      "C:\\Users\\dosre\\AppData\\Local\\Temp\\ipykernel_23500\\508105216.py:41: UserWarning: Attempting to set identical low and high xlims makes transformation singular; automatically expanding.\n",
      "  ax.set_xlim(\n",
      "C:\\Users\\dosre\\AppData\\Local\\Temp\\ipykernel_23500\\508105216.py:46: UserWarning: No artists with labels found to put in legend.  Note that artists whose label start with an underscore are ignored when legend() is called with no argument.\n",
      "  ax.legend()\n"
     ]
    },
    {
     "name": "stdout",
     "output_type": "stream",
     "text": [
      "KeyError: unpreconddense powersim 40\n",
      "KeyError: unpreconddense powersim 50\n"
     ]
    },
    {
     "name": "stderr",
     "output_type": "stream",
     "text": [
      "C:\\Users\\dosre\\AppData\\Local\\Temp\\ipykernel_23500\\508105216.py:41: UserWarning: Attempting to set identical low and high xlims makes transformation singular; automatically expanding.\n",
      "  ax.set_xlim(\n",
      "C:\\Users\\dosre\\AppData\\Local\\Temp\\ipykernel_23500\\508105216.py:46: UserWarning: No artists with labels found to put in legend.  Note that artists whose label start with an underscore are ignored when legend() is called with no argument.\n",
      "  ax.legend()\n",
      "C:\\Users\\dosre\\AppData\\Local\\Temp\\ipykernel_23500\\508105216.py:41: UserWarning: Attempting to set identical low and high xlims makes transformation singular; automatically expanding.\n",
      "  ax.set_xlim(\n",
      "C:\\Users\\dosre\\AppData\\Local\\Temp\\ipykernel_23500\\508105216.py:46: UserWarning: No artists with labels found to put in legend.  Note that artists whose label start with an underscore are ignored when legend() is called with no argument.\n",
      "  ax.legend()\n",
      "C:\\Users\\dosre\\AppData\\Local\\Temp\\ipykernel_23500\\508105216.py:41: UserWarning: Attempting to set identical low and high xlims makes transformation singular; automatically expanding.\n",
      "  ax.set_xlim(\n",
      "C:\\Users\\dosre\\AppData\\Local\\Temp\\ipykernel_23500\\508105216.py:46: UserWarning: No artists with labels found to put in legend.  Note that artists whose label start with an underscore are ignored when legend() is called with no argument.\n",
      "  ax.legend()\n"
     ]
    },
    {
     "name": "stdout",
     "output_type": "stream",
     "text": [
      "KeyError: unpreconddense powersim 100\n",
      "KeyError: unpreconddense powersim 150\n",
      "KeyError: unpreconddense powersim 200\n"
     ]
    },
    {
     "name": "stderr",
     "output_type": "stream",
     "text": [
      "C:\\Users\\dosre\\AppData\\Local\\Temp\\ipykernel_23500\\508105216.py:41: UserWarning: Attempting to set identical low and high xlims makes transformation singular; automatically expanding.\n",
      "  ax.set_xlim(\n",
      "C:\\Users\\dosre\\AppData\\Local\\Temp\\ipykernel_23500\\508105216.py:46: UserWarning: No artists with labels found to put in legend.  Note that artists whose label start with an underscore are ignored when legend() is called with no argument.\n",
      "  ax.legend()\n",
      "C:\\Users\\dosre\\AppData\\Local\\Temp\\ipykernel_23500\\508105216.py:41: UserWarning: Attempting to set identical low and high xlims makes transformation singular; automatically expanding.\n",
      "  ax.set_xlim(\n",
      "C:\\Users\\dosre\\AppData\\Local\\Temp\\ipykernel_23500\\508105216.py:46: UserWarning: No artists with labels found to put in legend.  Note that artists whose label start with an underscore are ignored when legend() is called with no argument.\n",
      "  ax.legend()\n"
     ]
    },
    {
     "name": "stdout",
     "output_type": "stream",
     "text": [
      "KeyError: unpreconddense rajat15 20\n",
      "KeyError: unpreconddense rajat15 30\n"
     ]
    },
    {
     "name": "stderr",
     "output_type": "stream",
     "text": [
      "C:\\Users\\dosre\\AppData\\Local\\Temp\\ipykernel_23500\\508105216.py:41: UserWarning: Attempting to set identical low and high xlims makes transformation singular; automatically expanding.\n",
      "  ax.set_xlim(\n",
      "C:\\Users\\dosre\\AppData\\Local\\Temp\\ipykernel_23500\\508105216.py:46: UserWarning: No artists with labels found to put in legend.  Note that artists whose label start with an underscore are ignored when legend() is called with no argument.\n",
      "  ax.legend()\n",
      "C:\\Users\\dosre\\AppData\\Local\\Temp\\ipykernel_23500\\508105216.py:41: UserWarning: Attempting to set identical low and high xlims makes transformation singular; automatically expanding.\n",
      "  ax.set_xlim(\n",
      "C:\\Users\\dosre\\AppData\\Local\\Temp\\ipykernel_23500\\508105216.py:46: UserWarning: No artists with labels found to put in legend.  Note that artists whose label start with an underscore are ignored when legend() is called with no argument.\n",
      "  ax.legend()\n"
     ]
    },
    {
     "name": "stdout",
     "output_type": "stream",
     "text": [
      "KeyError: unpreconddense rajat15 40\n",
      "KeyError: unpreconddense rajat15 50\n"
     ]
    },
    {
     "name": "stderr",
     "output_type": "stream",
     "text": [
      "C:\\Users\\dosre\\AppData\\Local\\Temp\\ipykernel_23500\\508105216.py:41: UserWarning: Attempting to set identical low and high xlims makes transformation singular; automatically expanding.\n",
      "  ax.set_xlim(\n",
      "C:\\Users\\dosre\\AppData\\Local\\Temp\\ipykernel_23500\\508105216.py:46: UserWarning: No artists with labels found to put in legend.  Note that artists whose label start with an underscore are ignored when legend() is called with no argument.\n",
      "  ax.legend()\n",
      "C:\\Users\\dosre\\AppData\\Local\\Temp\\ipykernel_23500\\508105216.py:41: UserWarning: Attempting to set identical low and high xlims makes transformation singular; automatically expanding.\n",
      "  ax.set_xlim(\n",
      "C:\\Users\\dosre\\AppData\\Local\\Temp\\ipykernel_23500\\508105216.py:46: UserWarning: No artists with labels found to put in legend.  Note that artists whose label start with an underscore are ignored when legend() is called with no argument.\n",
      "  ax.legend()\n"
     ]
    },
    {
     "name": "stdout",
     "output_type": "stream",
     "text": [
      "KeyError: unpreconddense rajat15 100\n",
      "KeyError: unpreconddense rajat15 150\n"
     ]
    },
    {
     "name": "stderr",
     "output_type": "stream",
     "text": [
      "C:\\Users\\dosre\\AppData\\Local\\Temp\\ipykernel_23500\\508105216.py:41: UserWarning: Attempting to set identical low and high xlims makes transformation singular; automatically expanding.\n",
      "  ax.set_xlim(\n",
      "C:\\Users\\dosre\\AppData\\Local\\Temp\\ipykernel_23500\\508105216.py:46: UserWarning: No artists with labels found to put in legend.  Note that artists whose label start with an underscore are ignored when legend() is called with no argument.\n",
      "  ax.legend()\n"
     ]
    },
    {
     "name": "stdout",
     "output_type": "stream",
     "text": [
      "KeyError: unpreconddense rajat15 200\n"
     ]
    },
    {
     "name": "stderr",
     "output_type": "stream",
     "text": [
      "C:\\Users\\dosre\\AppData\\Local\\Temp\\ipykernel_23500\\508105216.py:41: UserWarning: Attempting to set identical low and high xlims makes transformation singular; automatically expanding.\n",
      "  ax.set_xlim(\n",
      "C:\\Users\\dosre\\AppData\\Local\\Temp\\ipykernel_23500\\508105216.py:46: UserWarning: No artists with labels found to put in legend.  Note that artists whose label start with an underscore are ignored when legend() is called with no argument.\n",
      "  ax.legend()\n",
      "C:\\Users\\dosre\\AppData\\Local\\Temp\\ipykernel_23500\\508105216.py:41: UserWarning: Attempting to set identical low and high xlims makes transformation singular; automatically expanding.\n",
      "  ax.set_xlim(\n",
      "C:\\Users\\dosre\\AppData\\Local\\Temp\\ipykernel_23500\\508105216.py:46: UserWarning: No artists with labels found to put in legend.  Note that artists whose label start with an underscore are ignored when legend() is called with no argument.\n",
      "  ax.legend()\n"
     ]
    },
    {
     "name": "stdout",
     "output_type": "stream",
     "text": [
      "KeyError: unpreconddense shermanACb 20\n",
      "KeyError: unpreconddense shermanACb 30\n"
     ]
    },
    {
     "name": "stderr",
     "output_type": "stream",
     "text": [
      "C:\\Users\\dosre\\AppData\\Local\\Temp\\ipykernel_23500\\508105216.py:41: UserWarning: Attempting to set identical low and high xlims makes transformation singular; automatically expanding.\n",
      "  ax.set_xlim(\n",
      "C:\\Users\\dosre\\AppData\\Local\\Temp\\ipykernel_23500\\508105216.py:46: UserWarning: No artists with labels found to put in legend.  Note that artists whose label start with an underscore are ignored when legend() is called with no argument.\n",
      "  ax.legend()\n",
      "C:\\Users\\dosre\\AppData\\Local\\Temp\\ipykernel_23500\\508105216.py:41: UserWarning: Attempting to set identical low and high xlims makes transformation singular; automatically expanding.\n",
      "  ax.set_xlim(\n",
      "C:\\Users\\dosre\\AppData\\Local\\Temp\\ipykernel_23500\\508105216.py:46: UserWarning: No artists with labels found to put in legend.  Note that artists whose label start with an underscore are ignored when legend() is called with no argument.\n",
      "  ax.legend()\n"
     ]
    },
    {
     "name": "stdout",
     "output_type": "stream",
     "text": [
      "KeyError: unpreconddense shermanACb 40\n",
      "KeyError: unpreconddense shermanACb 50\n"
     ]
    },
    {
     "name": "stderr",
     "output_type": "stream",
     "text": [
      "C:\\Users\\dosre\\AppData\\Local\\Temp\\ipykernel_23500\\508105216.py:41: UserWarning: Attempting to set identical low and high xlims makes transformation singular; automatically expanding.\n",
      "  ax.set_xlim(\n",
      "C:\\Users\\dosre\\AppData\\Local\\Temp\\ipykernel_23500\\508105216.py:46: UserWarning: No artists with labels found to put in legend.  Note that artists whose label start with an underscore are ignored when legend() is called with no argument.\n",
      "  ax.legend()\n",
      "C:\\Users\\dosre\\AppData\\Local\\Temp\\ipykernel_23500\\508105216.py:41: UserWarning: Attempting to set identical low and high xlims makes transformation singular; automatically expanding.\n",
      "  ax.set_xlim(\n",
      "C:\\Users\\dosre\\AppData\\Local\\Temp\\ipykernel_23500\\508105216.py:46: UserWarning: No artists with labels found to put in legend.  Note that artists whose label start with an underscore are ignored when legend() is called with no argument.\n",
      "  ax.legend()\n"
     ]
    },
    {
     "name": "stdout",
     "output_type": "stream",
     "text": [
      "KeyError: unpreconddense shermanACb 100\n",
      "KeyError: unpreconddense shermanACb 150\n"
     ]
    },
    {
     "name": "stderr",
     "output_type": "stream",
     "text": [
      "C:\\Users\\dosre\\AppData\\Local\\Temp\\ipykernel_23500\\508105216.py:41: UserWarning: Attempting to set identical low and high xlims makes transformation singular; automatically expanding.\n",
      "  ax.set_xlim(\n",
      "C:\\Users\\dosre\\AppData\\Local\\Temp\\ipykernel_23500\\508105216.py:46: UserWarning: No artists with labels found to put in legend.  Note that artists whose label start with an underscore are ignored when legend() is called with no argument.\n",
      "  ax.legend()\n"
     ]
    },
    {
     "name": "stdout",
     "output_type": "stream",
     "text": [
      "KeyError: unpreconddense shermanACb 200\n"
     ]
    },
    {
     "name": "stderr",
     "output_type": "stream",
     "text": [
      "C:\\Users\\dosre\\AppData\\Local\\Temp\\ipykernel_23500\\508105216.py:41: UserWarning: Attempting to set identical low and high xlims makes transformation singular; automatically expanding.\n",
      "  ax.set_xlim(\n",
      "C:\\Users\\dosre\\AppData\\Local\\Temp\\ipykernel_23500\\508105216.py:46: UserWarning: No artists with labels found to put in legend.  Note that artists whose label start with an underscore are ignored when legend() is called with no argument.\n",
      "  ax.legend()\n",
      "C:\\Users\\dosre\\AppData\\Local\\Temp\\ipykernel_23500\\508105216.py:41: UserWarning: Attempting to set identical low and high xlims makes transformation singular; automatically expanding.\n",
      "  ax.set_xlim(\n",
      "C:\\Users\\dosre\\AppData\\Local\\Temp\\ipykernel_23500\\508105216.py:46: UserWarning: No artists with labels found to put in legend.  Note that artists whose label start with an underscore are ignored when legend() is called with no argument.\n",
      "  ax.legend()\n"
     ]
    },
    {
     "name": "stdout",
     "output_type": "stream",
     "text": [
      "KeyError: unpreconddense sme3Da 20\n",
      "KeyError: unpreconddense sme3Da 30\n"
     ]
    },
    {
     "name": "stderr",
     "output_type": "stream",
     "text": [
      "C:\\Users\\dosre\\AppData\\Local\\Temp\\ipykernel_23500\\508105216.py:41: UserWarning: Attempting to set identical low and high xlims makes transformation singular; automatically expanding.\n",
      "  ax.set_xlim(\n",
      "C:\\Users\\dosre\\AppData\\Local\\Temp\\ipykernel_23500\\508105216.py:46: UserWarning: No artists with labels found to put in legend.  Note that artists whose label start with an underscore are ignored when legend() is called with no argument.\n",
      "  ax.legend()\n"
     ]
    },
    {
     "name": "stdout",
     "output_type": "stream",
     "text": [
      "KeyError: unpreconddense sme3Da 40\n"
     ]
    },
    {
     "name": "stderr",
     "output_type": "stream",
     "text": [
      "C:\\Users\\dosre\\AppData\\Local\\Temp\\ipykernel_23500\\508105216.py:41: UserWarning: Attempting to set identical low and high xlims makes transformation singular; automatically expanding.\n",
      "  ax.set_xlim(\n",
      "C:\\Users\\dosre\\AppData\\Local\\Temp\\ipykernel_23500\\508105216.py:46: UserWarning: No artists with labels found to put in legend.  Note that artists whose label start with an underscore are ignored when legend() is called with no argument.\n",
      "  ax.legend()\n",
      "C:\\Users\\dosre\\AppData\\Local\\Temp\\ipykernel_23500\\508105216.py:41: UserWarning: Attempting to set identical low and high xlims makes transformation singular; automatically expanding.\n",
      "  ax.set_xlim(\n",
      "C:\\Users\\dosre\\AppData\\Local\\Temp\\ipykernel_23500\\508105216.py:46: UserWarning: No artists with labels found to put in legend.  Note that artists whose label start with an underscore are ignored when legend() is called with no argument.\n",
      "  ax.legend()\n",
      "C:\\Users\\dosre\\AppData\\Local\\Temp\\ipykernel_23500\\508105216.py:41: UserWarning: Attempting to set identical low and high xlims makes transformation singular; automatically expanding.\n",
      "  ax.set_xlim(\n",
      "C:\\Users\\dosre\\AppData\\Local\\Temp\\ipykernel_23500\\508105216.py:46: UserWarning: No artists with labels found to put in legend.  Note that artists whose label start with an underscore are ignored when legend() is called with no argument.\n",
      "  ax.legend()\n"
     ]
    },
    {
     "name": "stdout",
     "output_type": "stream",
     "text": [
      "KeyError: unpreconddense sme3Da 50\n",
      "KeyError: unpreconddense sme3Da 100\n",
      "KeyError: unpreconddense sme3Da 150\n"
     ]
    },
    {
     "name": "stderr",
     "output_type": "stream",
     "text": [
      "C:\\Users\\dosre\\AppData\\Local\\Temp\\ipykernel_23500\\508105216.py:41: UserWarning: Attempting to set identical low and high xlims makes transformation singular; automatically expanding.\n",
      "  ax.set_xlim(\n",
      "C:\\Users\\dosre\\AppData\\Local\\Temp\\ipykernel_23500\\508105216.py:46: UserWarning: No artists with labels found to put in legend.  Note that artists whose label start with an underscore are ignored when legend() is called with no argument.\n",
      "  ax.legend()\n"
     ]
    },
    {
     "name": "stdout",
     "output_type": "stream",
     "text": [
      "KeyError: unpreconddense sme3Da 200\n"
     ]
    },
    {
     "name": "stderr",
     "output_type": "stream",
     "text": [
      "C:\\Users\\dosre\\AppData\\Local\\Temp\\ipykernel_23500\\508105216.py:41: UserWarning: Attempting to set identical low and high xlims makes transformation singular; automatically expanding.\n",
      "  ax.set_xlim(\n",
      "C:\\Users\\dosre\\AppData\\Local\\Temp\\ipykernel_23500\\508105216.py:46: UserWarning: No artists with labels found to put in legend.  Note that artists whose label start with an underscore are ignored when legend() is called with no argument.\n",
      "  ax.legend()\n",
      "C:\\Users\\dosre\\AppData\\Local\\Temp\\ipykernel_23500\\508105216.py:41: UserWarning: Attempting to set identical low and high xlims makes transformation singular; automatically expanding.\n",
      "  ax.set_xlim(\n",
      "C:\\Users\\dosre\\AppData\\Local\\Temp\\ipykernel_23500\\508105216.py:46: UserWarning: No artists with labels found to put in legend.  Note that artists whose label start with an underscore are ignored when legend() is called with no argument.\n",
      "  ax.legend()\n"
     ]
    },
    {
     "name": "stdout",
     "output_type": "stream",
     "text": [
      "KeyError: unpreconddense TSOPF_RS_b39_c7 20\n",
      "KeyError: unpreconddense TSOPF_RS_b39_c7 30\n"
     ]
    },
    {
     "name": "stderr",
     "output_type": "stream",
     "text": [
      "C:\\Users\\dosre\\AppData\\Local\\Temp\\ipykernel_23500\\508105216.py:41: UserWarning: Attempting to set identical low and high xlims makes transformation singular; automatically expanding.\n",
      "  ax.set_xlim(\n",
      "C:\\Users\\dosre\\AppData\\Local\\Temp\\ipykernel_23500\\508105216.py:46: UserWarning: No artists with labels found to put in legend.  Note that artists whose label start with an underscore are ignored when legend() is called with no argument.\n",
      "  ax.legend()\n",
      "C:\\Users\\dosre\\AppData\\Local\\Temp\\ipykernel_23500\\508105216.py:41: UserWarning: Attempting to set identical low and high xlims makes transformation singular; automatically expanding.\n",
      "  ax.set_xlim(\n",
      "C:\\Users\\dosre\\AppData\\Local\\Temp\\ipykernel_23500\\508105216.py:46: UserWarning: No artists with labels found to put in legend.  Note that artists whose label start with an underscore are ignored when legend() is called with no argument.\n",
      "  ax.legend()\n"
     ]
    },
    {
     "name": "stdout",
     "output_type": "stream",
     "text": [
      "KeyError: unpreconddense TSOPF_RS_b39_c7 40\n",
      "KeyError: unpreconddense TSOPF_RS_b39_c7 50\n"
     ]
    },
    {
     "name": "stderr",
     "output_type": "stream",
     "text": [
      "C:\\Users\\dosre\\AppData\\Local\\Temp\\ipykernel_23500\\508105216.py:41: UserWarning: Attempting to set identical low and high xlims makes transformation singular; automatically expanding.\n",
      "  ax.set_xlim(\n",
      "C:\\Users\\dosre\\AppData\\Local\\Temp\\ipykernel_23500\\508105216.py:46: UserWarning: No artists with labels found to put in legend.  Note that artists whose label start with an underscore are ignored when legend() is called with no argument.\n",
      "  ax.legend()\n",
      "C:\\Users\\dosre\\AppData\\Local\\Temp\\ipykernel_23500\\508105216.py:41: UserWarning: Attempting to set identical low and high xlims makes transformation singular; automatically expanding.\n",
      "  ax.set_xlim(\n",
      "C:\\Users\\dosre\\AppData\\Local\\Temp\\ipykernel_23500\\508105216.py:46: UserWarning: No artists with labels found to put in legend.  Note that artists whose label start with an underscore are ignored when legend() is called with no argument.\n",
      "  ax.legend()\n"
     ]
    },
    {
     "name": "stdout",
     "output_type": "stream",
     "text": [
      "KeyError: unpreconddense TSOPF_RS_b39_c7 100\n",
      "KeyError: unpreconddense TSOPF_RS_b39_c7 150\n"
     ]
    },
    {
     "name": "stderr",
     "output_type": "stream",
     "text": [
      "C:\\Users\\dosre\\AppData\\Local\\Temp\\ipykernel_23500\\508105216.py:41: UserWarning: Attempting to set identical low and high xlims makes transformation singular; automatically expanding.\n",
      "  ax.set_xlim(\n",
      "C:\\Users\\dosre\\AppData\\Local\\Temp\\ipykernel_23500\\508105216.py:46: UserWarning: No artists with labels found to put in legend.  Note that artists whose label start with an underscore are ignored when legend() is called with no argument.\n",
      "  ax.legend()\n"
     ]
    },
    {
     "name": "stdout",
     "output_type": "stream",
     "text": [
      "KeyError: unpreconddense TSOPF_RS_b39_c7 200\n"
     ]
    },
    {
     "name": "stderr",
     "output_type": "stream",
     "text": [
      "C:\\Users\\dosre\\AppData\\Local\\Temp\\ipykernel_23500\\508105216.py:41: UserWarning: Attempting to set identical low and high xlims makes transformation singular; automatically expanding.\n",
      "  ax.set_xlim(\n",
      "C:\\Users\\dosre\\AppData\\Local\\Temp\\ipykernel_23500\\508105216.py:46: UserWarning: No artists with labels found to put in legend.  Note that artists whose label start with an underscore are ignored when legend() is called with no argument.\n",
      "  ax.legend()\n",
      "C:\\Users\\dosre\\AppData\\Local\\Temp\\ipykernel_23500\\508105216.py:41: UserWarning: Attempting to set identical low and high xlims makes transformation singular; automatically expanding.\n",
      "  ax.set_xlim(\n",
      "C:\\Users\\dosre\\AppData\\Local\\Temp\\ipykernel_23500\\508105216.py:46: UserWarning: No artists with labels found to put in legend.  Note that artists whose label start with an underscore are ignored when legend() is called with no argument.\n",
      "  ax.legend()\n"
     ]
    },
    {
     "name": "stdout",
     "output_type": "stream",
     "text": [
      "KeyError: unpreconddense viscoplastic2 20\n",
      "KeyError: unpreconddense viscoplastic2 30\n"
     ]
    },
    {
     "name": "stderr",
     "output_type": "stream",
     "text": [
      "C:\\Users\\dosre\\AppData\\Local\\Temp\\ipykernel_23500\\508105216.py:41: UserWarning: Attempting to set identical low and high xlims makes transformation singular; automatically expanding.\n",
      "  ax.set_xlim(\n",
      "C:\\Users\\dosre\\AppData\\Local\\Temp\\ipykernel_23500\\508105216.py:46: UserWarning: No artists with labels found to put in legend.  Note that artists whose label start with an underscore are ignored when legend() is called with no argument.\n",
      "  ax.legend()\n",
      "C:\\Users\\dosre\\AppData\\Local\\Temp\\ipykernel_23500\\508105216.py:41: UserWarning: Attempting to set identical low and high xlims makes transformation singular; automatically expanding.\n",
      "  ax.set_xlim(\n",
      "C:\\Users\\dosre\\AppData\\Local\\Temp\\ipykernel_23500\\508105216.py:46: UserWarning: No artists with labels found to put in legend.  Note that artists whose label start with an underscore are ignored when legend() is called with no argument.\n",
      "  ax.legend()\n"
     ]
    },
    {
     "name": "stdout",
     "output_type": "stream",
     "text": [
      "KeyError: unpreconddense viscoplastic2 40\n",
      "KeyError: unpreconddense viscoplastic2 50\n"
     ]
    },
    {
     "name": "stderr",
     "output_type": "stream",
     "text": [
      "C:\\Users\\dosre\\AppData\\Local\\Temp\\ipykernel_23500\\508105216.py:41: UserWarning: Attempting to set identical low and high xlims makes transformation singular; automatically expanding.\n",
      "  ax.set_xlim(\n",
      "C:\\Users\\dosre\\AppData\\Local\\Temp\\ipykernel_23500\\508105216.py:46: UserWarning: No artists with labels found to put in legend.  Note that artists whose label start with an underscore are ignored when legend() is called with no argument.\n",
      "  ax.legend()\n",
      "C:\\Users\\dosre\\AppData\\Local\\Temp\\ipykernel_23500\\508105216.py:41: UserWarning: Attempting to set identical low and high xlims makes transformation singular; automatically expanding.\n",
      "  ax.set_xlim(\n",
      "C:\\Users\\dosre\\AppData\\Local\\Temp\\ipykernel_23500\\508105216.py:46: UserWarning: No artists with labels found to put in legend.  Note that artists whose label start with an underscore are ignored when legend() is called with no argument.\n",
      "  ax.legend()\n",
      "C:\\Users\\dosre\\AppData\\Local\\Temp\\ipykernel_23500\\508105216.py:41: UserWarning: Attempting to set identical low and high xlims makes transformation singular; automatically expanding.\n",
      "  ax.set_xlim(\n",
      "C:\\Users\\dosre\\AppData\\Local\\Temp\\ipykernel_23500\\508105216.py:46: UserWarning: No artists with labels found to put in legend.  Note that artists whose label start with an underscore are ignored when legend() is called with no argument.\n",
      "  ax.legend()\n"
     ]
    },
    {
     "name": "stdout",
     "output_type": "stream",
     "text": [
      "KeyError: unpreconddense viscoplastic2 100\n",
      "KeyError: unpreconddense viscoplastic2 150\n",
      "KeyError: unpreconddense viscoplastic2 200\n"
     ]
    },
    {
     "name": "stderr",
     "output_type": "stream",
     "text": [
      "C:\\Users\\dosre\\AppData\\Local\\Temp\\ipykernel_23500\\508105216.py:41: UserWarning: Attempting to set identical low and high xlims makes transformation singular; automatically expanding.\n",
      "  ax.set_xlim(\n",
      "C:\\Users\\dosre\\AppData\\Local\\Temp\\ipykernel_23500\\508105216.py:46: UserWarning: No artists with labels found to put in legend.  Note that artists whose label start with an underscore are ignored when legend() is called with no argument.\n",
      "  ax.legend()\n",
      "C:\\Users\\dosre\\AppData\\Local\\Temp\\ipykernel_23500\\508105216.py:41: UserWarning: Attempting to set identical low and high xlims makes transformation singular; automatically expanding.\n",
      "  ax.set_xlim(\n",
      "C:\\Users\\dosre\\AppData\\Local\\Temp\\ipykernel_23500\\508105216.py:46: UserWarning: No artists with labels found to put in legend.  Note that artists whose label start with an underscore are ignored when legend() is called with no argument.\n",
      "  ax.legend()\n"
     ]
    },
    {
     "name": "stdout",
     "output_type": "stream",
     "text": [
      "KeyError: unpreconddense wang3 20\n",
      "KeyError: unpreconddense wang3 30\n"
     ]
    },
    {
     "name": "stderr",
     "output_type": "stream",
     "text": [
      "C:\\Users\\dosre\\AppData\\Local\\Temp\\ipykernel_23500\\508105216.py:41: UserWarning: Attempting to set identical low and high xlims makes transformation singular; automatically expanding.\n",
      "  ax.set_xlim(\n",
      "C:\\Users\\dosre\\AppData\\Local\\Temp\\ipykernel_23500\\508105216.py:46: UserWarning: No artists with labels found to put in legend.  Note that artists whose label start with an underscore are ignored when legend() is called with no argument.\n",
      "  ax.legend()\n",
      "C:\\Users\\dosre\\AppData\\Local\\Temp\\ipykernel_23500\\508105216.py:41: UserWarning: Attempting to set identical low and high xlims makes transformation singular; automatically expanding.\n",
      "  ax.set_xlim(\n",
      "C:\\Users\\dosre\\AppData\\Local\\Temp\\ipykernel_23500\\508105216.py:46: UserWarning: No artists with labels found to put in legend.  Note that artists whose label start with an underscore are ignored when legend() is called with no argument.\n",
      "  ax.legend()\n"
     ]
    },
    {
     "name": "stdout",
     "output_type": "stream",
     "text": [
      "KeyError: unpreconddense wang3 40\n",
      "KeyError: unpreconddense wang3 50\n"
     ]
    },
    {
     "name": "stderr",
     "output_type": "stream",
     "text": [
      "C:\\Users\\dosre\\AppData\\Local\\Temp\\ipykernel_23500\\508105216.py:41: UserWarning: Attempting to set identical low and high xlims makes transformation singular; automatically expanding.\n",
      "  ax.set_xlim(\n",
      "C:\\Users\\dosre\\AppData\\Local\\Temp\\ipykernel_23500\\508105216.py:46: UserWarning: No artists with labels found to put in legend.  Note that artists whose label start with an underscore are ignored when legend() is called with no argument.\n",
      "  ax.legend()\n",
      "C:\\Users\\dosre\\AppData\\Local\\Temp\\ipykernel_23500\\508105216.py:41: UserWarning: Attempting to set identical low and high xlims makes transformation singular; automatically expanding.\n",
      "  ax.set_xlim(\n",
      "C:\\Users\\dosre\\AppData\\Local\\Temp\\ipykernel_23500\\508105216.py:46: UserWarning: No artists with labels found to put in legend.  Note that artists whose label start with an underscore are ignored when legend() is called with no argument.\n",
      "  ax.legend()\n"
     ]
    },
    {
     "name": "stdout",
     "output_type": "stream",
     "text": [
      "KeyError: unpreconddense wang3 100\n",
      "KeyError: unpreconddense wang3 150\n"
     ]
    },
    {
     "name": "stderr",
     "output_type": "stream",
     "text": [
      "C:\\Users\\dosre\\AppData\\Local\\Temp\\ipykernel_23500\\508105216.py:41: UserWarning: Attempting to set identical low and high xlims makes transformation singular; automatically expanding.\n",
      "  ax.set_xlim(\n",
      "C:\\Users\\dosre\\AppData\\Local\\Temp\\ipykernel_23500\\508105216.py:46: UserWarning: No artists with labels found to put in legend.  Note that artists whose label start with an underscore are ignored when legend() is called with no argument.\n",
      "  ax.legend()\n"
     ]
    },
    {
     "name": "stdout",
     "output_type": "stream",
     "text": [
      "KeyError: unpreconddense wang3 200\n"
     ]
    },
    {
     "name": "stderr",
     "output_type": "stream",
     "text": [
      "C:\\Users\\dosre\\AppData\\Local\\Temp\\ipykernel_23500\\508105216.py:41: UserWarning: Attempting to set identical low and high xlims makes transformation singular; automatically expanding.\n",
      "  ax.set_xlim(\n",
      "C:\\Users\\dosre\\AppData\\Local\\Temp\\ipykernel_23500\\508105216.py:46: UserWarning: No artists with labels found to put in legend.  Note that artists whose label start with an underscore are ignored when legend() is called with no argument.\n",
      "  ax.legend()\n",
      "C:\\Users\\dosre\\AppData\\Local\\Temp\\ipykernel_23500\\508105216.py:41: UserWarning: Attempting to set identical low and high xlims makes transformation singular; automatically expanding.\n",
      "  ax.set_xlim(\n",
      "C:\\Users\\dosre\\AppData\\Local\\Temp\\ipykernel_23500\\508105216.py:46: UserWarning: No artists with labels found to put in legend.  Note that artists whose label start with an underscore are ignored when legend() is called with no argument.\n",
      "  ax.legend()\n"
     ]
    },
    {
     "name": "stdout",
     "output_type": "stream",
     "text": [
      "KeyError: unpreconddense wang4 20\n",
      "KeyError: unpreconddense wang4 30\n"
     ]
    },
    {
     "name": "stderr",
     "output_type": "stream",
     "text": [
      "C:\\Users\\dosre\\AppData\\Local\\Temp\\ipykernel_23500\\508105216.py:41: UserWarning: Attempting to set identical low and high xlims makes transformation singular; automatically expanding.\n",
      "  ax.set_xlim(\n",
      "C:\\Users\\dosre\\AppData\\Local\\Temp\\ipykernel_23500\\508105216.py:46: UserWarning: No artists with labels found to put in legend.  Note that artists whose label start with an underscore are ignored when legend() is called with no argument.\n",
      "  ax.legend()\n",
      "C:\\Users\\dosre\\AppData\\Local\\Temp\\ipykernel_23500\\508105216.py:41: UserWarning: Attempting to set identical low and high xlims makes transformation singular; automatically expanding.\n",
      "  ax.set_xlim(\n",
      "C:\\Users\\dosre\\AppData\\Local\\Temp\\ipykernel_23500\\508105216.py:46: UserWarning: No artists with labels found to put in legend.  Note that artists whose label start with an underscore are ignored when legend() is called with no argument.\n",
      "  ax.legend()\n"
     ]
    },
    {
     "name": "stdout",
     "output_type": "stream",
     "text": [
      "KeyError: unpreconddense wang4 40\n",
      "KeyError: unpreconddense wang4 50\n"
     ]
    },
    {
     "name": "stderr",
     "output_type": "stream",
     "text": [
      "C:\\Users\\dosre\\AppData\\Local\\Temp\\ipykernel_23500\\508105216.py:41: UserWarning: Attempting to set identical low and high xlims makes transformation singular; automatically expanding.\n",
      "  ax.set_xlim(\n",
      "C:\\Users\\dosre\\AppData\\Local\\Temp\\ipykernel_23500\\508105216.py:46: UserWarning: No artists with labels found to put in legend.  Note that artists whose label start with an underscore are ignored when legend() is called with no argument.\n",
      "  ax.legend()\n",
      "C:\\Users\\dosre\\AppData\\Local\\Temp\\ipykernel_23500\\508105216.py:41: UserWarning: Attempting to set identical low and high xlims makes transformation singular; automatically expanding.\n",
      "  ax.set_xlim(\n",
      "C:\\Users\\dosre\\AppData\\Local\\Temp\\ipykernel_23500\\508105216.py:46: UserWarning: No artists with labels found to put in legend.  Note that artists whose label start with an underscore are ignored when legend() is called with no argument.\n",
      "  ax.legend()\n"
     ]
    },
    {
     "name": "stdout",
     "output_type": "stream",
     "text": [
      "KeyError: unpreconddense wang4 100\n",
      "KeyError: unpreconddense wang4 150\n"
     ]
    },
    {
     "name": "stderr",
     "output_type": "stream",
     "text": [
      "C:\\Users\\dosre\\AppData\\Local\\Temp\\ipykernel_23500\\508105216.py:41: UserWarning: Attempting to set identical low and high xlims makes transformation singular; automatically expanding.\n",
      "  ax.set_xlim(\n",
      "C:\\Users\\dosre\\AppData\\Local\\Temp\\ipykernel_23500\\508105216.py:46: UserWarning: No artists with labels found to put in legend.  Note that artists whose label start with an underscore are ignored when legend() is called with no argument.\n",
      "  ax.legend()\n"
     ]
    },
    {
     "name": "stdout",
     "output_type": "stream",
     "text": [
      "KeyError: unpreconddense wang4 200\n"
     ]
    },
    {
     "name": "stderr",
     "output_type": "stream",
     "text": [
      "C:\\Users\\dosre\\AppData\\Local\\Temp\\ipykernel_23500\\508105216.py:41: UserWarning: Attempting to set identical low and high xlims makes transformation singular; automatically expanding.\n",
      "  ax.set_xlim(\n",
      "C:\\Users\\dosre\\AppData\\Local\\Temp\\ipykernel_23500\\508105216.py:46: UserWarning: No artists with labels found to put in legend.  Note that artists whose label start with an underscore are ignored when legend() is called with no argument.\n",
      "  ax.legend()\n",
      "C:\\Users\\dosre\\AppData\\Local\\Temp\\ipykernel_23500\\508105216.py:41: UserWarning: Attempting to set identical low and high xlims makes transformation singular; automatically expanding.\n",
      "  ax.set_xlim(\n",
      "C:\\Users\\dosre\\AppData\\Local\\Temp\\ipykernel_23500\\508105216.py:46: UserWarning: No artists with labels found to put in legend.  Note that artists whose label start with an underscore are ignored when legend() is called with no argument.\n",
      "  ax.legend()\n"
     ]
    },
    {
     "name": "stdout",
     "output_type": "stream",
     "text": [
      "KeyError: unpreconddense Zhao1 20\n",
      "KeyError: unpreconddense Zhao1 30\n"
     ]
    },
    {
     "name": "stderr",
     "output_type": "stream",
     "text": [
      "C:\\Users\\dosre\\AppData\\Local\\Temp\\ipykernel_23500\\508105216.py:41: UserWarning: Attempting to set identical low and high xlims makes transformation singular; automatically expanding.\n",
      "  ax.set_xlim(\n",
      "C:\\Users\\dosre\\AppData\\Local\\Temp\\ipykernel_23500\\508105216.py:46: UserWarning: No artists with labels found to put in legend.  Note that artists whose label start with an underscore are ignored when legend() is called with no argument.\n",
      "  ax.legend()\n",
      "C:\\Users\\dosre\\AppData\\Local\\Temp\\ipykernel_23500\\508105216.py:41: UserWarning: Attempting to set identical low and high xlims makes transformation singular; automatically expanding.\n",
      "  ax.set_xlim(\n",
      "C:\\Users\\dosre\\AppData\\Local\\Temp\\ipykernel_23500\\508105216.py:46: UserWarning: No artists with labels found to put in legend.  Note that artists whose label start with an underscore are ignored when legend() is called with no argument.\n",
      "  ax.legend()\n"
     ]
    },
    {
     "name": "stdout",
     "output_type": "stream",
     "text": [
      "KeyError: unpreconddense Zhao1 40\n",
      "KeyError: unpreconddense Zhao1 50\n"
     ]
    },
    {
     "name": "stderr",
     "output_type": "stream",
     "text": [
      "C:\\Users\\dosre\\AppData\\Local\\Temp\\ipykernel_23500\\508105216.py:41: UserWarning: Attempting to set identical low and high xlims makes transformation singular; automatically expanding.\n",
      "  ax.set_xlim(\n",
      "C:\\Users\\dosre\\AppData\\Local\\Temp\\ipykernel_23500\\508105216.py:46: UserWarning: No artists with labels found to put in legend.  Note that artists whose label start with an underscore are ignored when legend() is called with no argument.\n",
      "  ax.legend()\n",
      "C:\\Users\\dosre\\AppData\\Local\\Temp\\ipykernel_23500\\508105216.py:41: UserWarning: Attempting to set identical low and high xlims makes transformation singular; automatically expanding.\n",
      "  ax.set_xlim(\n",
      "C:\\Users\\dosre\\AppData\\Local\\Temp\\ipykernel_23500\\508105216.py:46: UserWarning: No artists with labels found to put in legend.  Note that artists whose label start with an underscore are ignored when legend() is called with no argument.\n",
      "  ax.legend()\n"
     ]
    },
    {
     "name": "stdout",
     "output_type": "stream",
     "text": [
      "KeyError: unpreconddense Zhao1 100\n",
      "KeyError: unpreconddense Zhao1 150\n"
     ]
    },
    {
     "name": "stderr",
     "output_type": "stream",
     "text": [
      "C:\\Users\\dosre\\AppData\\Local\\Temp\\ipykernel_23500\\508105216.py:41: UserWarning: Attempting to set identical low and high xlims makes transformation singular; automatically expanding.\n",
      "  ax.set_xlim(\n",
      "C:\\Users\\dosre\\AppData\\Local\\Temp\\ipykernel_23500\\508105216.py:46: UserWarning: No artists with labels found to put in legend.  Note that artists whose label start with an underscore are ignored when legend() is called with no argument.\n",
      "  ax.legend()\n"
     ]
    },
    {
     "name": "stdout",
     "output_type": "stream",
     "text": [
      "KeyError: unpreconddense Zhao1 200\n",
      "KeyError: unpreconddense Zhao2 10\n"
     ]
    },
    {
     "name": "stderr",
     "output_type": "stream",
     "text": [
      "C:\\Users\\dosre\\AppData\\Local\\Temp\\ipykernel_23500\\508105216.py:41: UserWarning: Attempting to set identical low and high xlims makes transformation singular; automatically expanding.\n",
      "  ax.set_xlim(\n",
      "C:\\Users\\dosre\\AppData\\Local\\Temp\\ipykernel_23500\\508105216.py:46: UserWarning: No artists with labels found to put in legend.  Note that artists whose label start with an underscore are ignored when legend() is called with no argument.\n",
      "  ax.legend()\n",
      "C:\\Users\\dosre\\AppData\\Local\\Temp\\ipykernel_23500\\508105216.py:41: UserWarning: Attempting to set identical low and high xlims makes transformation singular; automatically expanding.\n",
      "  ax.set_xlim(\n",
      "C:\\Users\\dosre\\AppData\\Local\\Temp\\ipykernel_23500\\508105216.py:46: UserWarning: No artists with labels found to put in legend.  Note that artists whose label start with an underscore are ignored when legend() is called with no argument.\n",
      "  ax.legend()\n"
     ]
    },
    {
     "name": "stdout",
     "output_type": "stream",
     "text": [
      "KeyError: unpreconddense Zhao2 20\n",
      "KeyError: unpreconddense Zhao2 30\n"
     ]
    },
    {
     "name": "stderr",
     "output_type": "stream",
     "text": [
      "C:\\Users\\dosre\\AppData\\Local\\Temp\\ipykernel_23500\\508105216.py:41: UserWarning: Attempting to set identical low and high xlims makes transformation singular; automatically expanding.\n",
      "  ax.set_xlim(\n",
      "C:\\Users\\dosre\\AppData\\Local\\Temp\\ipykernel_23500\\508105216.py:46: UserWarning: No artists with labels found to put in legend.  Note that artists whose label start with an underscore are ignored when legend() is called with no argument.\n",
      "  ax.legend()\n",
      "C:\\Users\\dosre\\AppData\\Local\\Temp\\ipykernel_23500\\508105216.py:41: UserWarning: Attempting to set identical low and high xlims makes transformation singular; automatically expanding.\n",
      "  ax.set_xlim(\n",
      "C:\\Users\\dosre\\AppData\\Local\\Temp\\ipykernel_23500\\508105216.py:46: UserWarning: No artists with labels found to put in legend.  Note that artists whose label start with an underscore are ignored when legend() is called with no argument.\n",
      "  ax.legend()\n"
     ]
    },
    {
     "name": "stdout",
     "output_type": "stream",
     "text": [
      "KeyError: unpreconddense Zhao2 40\n",
      "KeyError: unpreconddense Zhao2 50\n"
     ]
    },
    {
     "name": "stderr",
     "output_type": "stream",
     "text": [
      "C:\\Users\\dosre\\AppData\\Local\\Temp\\ipykernel_23500\\508105216.py:41: UserWarning: Attempting to set identical low and high xlims makes transformation singular; automatically expanding.\n",
      "  ax.set_xlim(\n",
      "C:\\Users\\dosre\\AppData\\Local\\Temp\\ipykernel_23500\\508105216.py:46: UserWarning: No artists with labels found to put in legend.  Note that artists whose label start with an underscore are ignored when legend() is called with no argument.\n",
      "  ax.legend()\n",
      "C:\\Users\\dosre\\AppData\\Local\\Temp\\ipykernel_23500\\508105216.py:41: UserWarning: Attempting to set identical low and high xlims makes transformation singular; automatically expanding.\n",
      "  ax.set_xlim(\n",
      "C:\\Users\\dosre\\AppData\\Local\\Temp\\ipykernel_23500\\508105216.py:46: UserWarning: No artists with labels found to put in legend.  Note that artists whose label start with an underscore are ignored when legend() is called with no argument.\n",
      "  ax.legend()\n"
     ]
    },
    {
     "name": "stdout",
     "output_type": "stream",
     "text": [
      "KeyError: unpreconddense Zhao2 100\n",
      "KeyError: unpreconddense Zhao2 150\n"
     ]
    },
    {
     "name": "stderr",
     "output_type": "stream",
     "text": [
      "C:\\Users\\dosre\\AppData\\Local\\Temp\\ipykernel_23500\\508105216.py:41: UserWarning: Attempting to set identical low and high xlims makes transformation singular; automatically expanding.\n",
      "  ax.set_xlim(\n",
      "C:\\Users\\dosre\\AppData\\Local\\Temp\\ipykernel_23500\\508105216.py:46: UserWarning: No artists with labels found to put in legend.  Note that artists whose label start with an underscore are ignored when legend() is called with no argument.\n",
      "  ax.legend()\n",
      "C:\\Users\\dosre\\AppData\\Local\\Temp\\ipykernel_23500\\508105216.py:41: UserWarning: Attempting to set identical low and high xlims makes transformation singular; automatically expanding.\n",
      "  ax.set_xlim(\n",
      "C:\\Users\\dosre\\AppData\\Local\\Temp\\ipykernel_23500\\508105216.py:46: UserWarning: No artists with labels found to put in legend.  Note that artists whose label start with an underscore are ignored when legend() is called with no argument.\n",
      "  ax.legend()\n"
     ]
    },
    {
     "name": "stdout",
     "output_type": "stream",
     "text": [
      "KeyError: unpreconddense Zhao2 200\n",
      "KeyError: ilu0 af23560 10\n"
     ]
    },
    {
     "name": "stderr",
     "output_type": "stream",
     "text": [
      "C:\\Users\\dosre\\AppData\\Local\\Temp\\ipykernel_23500\\508105216.py:41: UserWarning: Attempting to set identical low and high xlims makes transformation singular; automatically expanding.\n",
      "  ax.set_xlim(\n",
      "C:\\Users\\dosre\\AppData\\Local\\Temp\\ipykernel_23500\\508105216.py:46: UserWarning: No artists with labels found to put in legend.  Note that artists whose label start with an underscore are ignored when legend() is called with no argument.\n",
      "  ax.legend()\n",
      "C:\\Users\\dosre\\AppData\\Local\\Temp\\ipykernel_23500\\508105216.py:41: UserWarning: Attempting to set identical low and high xlims makes transformation singular; automatically expanding.\n",
      "  ax.set_xlim(\n",
      "C:\\Users\\dosre\\AppData\\Local\\Temp\\ipykernel_23500\\508105216.py:46: UserWarning: No artists with labels found to put in legend.  Note that artists whose label start with an underscore are ignored when legend() is called with no argument.\n",
      "  ax.legend()\n"
     ]
    },
    {
     "name": "stdout",
     "output_type": "stream",
     "text": [
      "KeyError: ilu0 af23560 20\n",
      "KeyError: ilu0 af23560 30\n"
     ]
    },
    {
     "name": "stderr",
     "output_type": "stream",
     "text": [
      "C:\\Users\\dosre\\AppData\\Local\\Temp\\ipykernel_23500\\508105216.py:41: UserWarning: Attempting to set identical low and high xlims makes transformation singular; automatically expanding.\n",
      "  ax.set_xlim(\n",
      "C:\\Users\\dosre\\AppData\\Local\\Temp\\ipykernel_23500\\508105216.py:46: UserWarning: No artists with labels found to put in legend.  Note that artists whose label start with an underscore are ignored when legend() is called with no argument.\n",
      "  ax.legend()\n",
      "C:\\Users\\dosre\\AppData\\Local\\Temp\\ipykernel_23500\\508105216.py:41: UserWarning: Attempting to set identical low and high xlims makes transformation singular; automatically expanding.\n",
      "  ax.set_xlim(\n",
      "C:\\Users\\dosre\\AppData\\Local\\Temp\\ipykernel_23500\\508105216.py:46: UserWarning: No artists with labels found to put in legend.  Note that artists whose label start with an underscore are ignored when legend() is called with no argument.\n",
      "  ax.legend()\n"
     ]
    },
    {
     "name": "stdout",
     "output_type": "stream",
     "text": [
      "KeyError: ilu0 af23560 40\n",
      "KeyError: ilu0 af23560 50\n"
     ]
    },
    {
     "name": "stderr",
     "output_type": "stream",
     "text": [
      "C:\\Users\\dosre\\AppData\\Local\\Temp\\ipykernel_23500\\508105216.py:41: UserWarning: Attempting to set identical low and high xlims makes transformation singular; automatically expanding.\n",
      "  ax.set_xlim(\n",
      "C:\\Users\\dosre\\AppData\\Local\\Temp\\ipykernel_23500\\508105216.py:46: UserWarning: No artists with labels found to put in legend.  Note that artists whose label start with an underscore are ignored when legend() is called with no argument.\n",
      "  ax.legend()\n",
      "C:\\Users\\dosre\\AppData\\Local\\Temp\\ipykernel_23500\\508105216.py:41: UserWarning: Attempting to set identical low and high xlims makes transformation singular; automatically expanding.\n",
      "  ax.set_xlim(\n",
      "C:\\Users\\dosre\\AppData\\Local\\Temp\\ipykernel_23500\\508105216.py:46: UserWarning: No artists with labels found to put in legend.  Note that artists whose label start with an underscore are ignored when legend() is called with no argument.\n",
      "  ax.legend()\n"
     ]
    },
    {
     "name": "stdout",
     "output_type": "stream",
     "text": [
      "KeyError: ilu0 af23560 100\n",
      "KeyError: ilu0 af23560 150\n"
     ]
    },
    {
     "name": "stderr",
     "output_type": "stream",
     "text": [
      "C:\\Users\\dosre\\AppData\\Local\\Temp\\ipykernel_23500\\508105216.py:41: UserWarning: Attempting to set identical low and high xlims makes transformation singular; automatically expanding.\n",
      "  ax.set_xlim(\n",
      "C:\\Users\\dosre\\AppData\\Local\\Temp\\ipykernel_23500\\508105216.py:46: UserWarning: No artists with labels found to put in legend.  Note that artists whose label start with an underscore are ignored when legend() is called with no argument.\n",
      "  ax.legend()\n",
      "C:\\Users\\dosre\\AppData\\Local\\Temp\\ipykernel_23500\\508105216.py:41: UserWarning: Attempting to set identical low and high xlims makes transformation singular; automatically expanding.\n",
      "  ax.set_xlim(\n",
      "C:\\Users\\dosre\\AppData\\Local\\Temp\\ipykernel_23500\\508105216.py:46: UserWarning: No artists with labels found to put in legend.  Note that artists whose label start with an underscore are ignored when legend() is called with no argument.\n",
      "  ax.legend()\n"
     ]
    },
    {
     "name": "stdout",
     "output_type": "stream",
     "text": [
      "KeyError: ilu0 af23560 200\n",
      "KeyError: ilu0 airfoil_2d 10\n"
     ]
    },
    {
     "name": "stderr",
     "output_type": "stream",
     "text": [
      "C:\\Users\\dosre\\AppData\\Local\\Temp\\ipykernel_23500\\508105216.py:41: UserWarning: Attempting to set identical low and high xlims makes transformation singular; automatically expanding.\n",
      "  ax.set_xlim(\n",
      "C:\\Users\\dosre\\AppData\\Local\\Temp\\ipykernel_23500\\508105216.py:46: UserWarning: No artists with labels found to put in legend.  Note that artists whose label start with an underscore are ignored when legend() is called with no argument.\n",
      "  ax.legend()\n",
      "C:\\Users\\dosre\\AppData\\Local\\Temp\\ipykernel_23500\\508105216.py:41: UserWarning: Attempting to set identical low and high xlims makes transformation singular; automatically expanding.\n",
      "  ax.set_xlim(\n",
      "C:\\Users\\dosre\\AppData\\Local\\Temp\\ipykernel_23500\\508105216.py:46: UserWarning: No artists with labels found to put in legend.  Note that artists whose label start with an underscore are ignored when legend() is called with no argument.\n",
      "  ax.legend()\n"
     ]
    },
    {
     "name": "stdout",
     "output_type": "stream",
     "text": [
      "KeyError: ilu0 airfoil_2d 20\n",
      "KeyError: ilu0 airfoil_2d 30\n"
     ]
    },
    {
     "name": "stderr",
     "output_type": "stream",
     "text": [
      "C:\\Users\\dosre\\AppData\\Local\\Temp\\ipykernel_23500\\508105216.py:41: UserWarning: Attempting to set identical low and high xlims makes transformation singular; automatically expanding.\n",
      "  ax.set_xlim(\n",
      "C:\\Users\\dosre\\AppData\\Local\\Temp\\ipykernel_23500\\508105216.py:46: UserWarning: No artists with labels found to put in legend.  Note that artists whose label start with an underscore are ignored when legend() is called with no argument.\n",
      "  ax.legend()\n",
      "C:\\Users\\dosre\\AppData\\Local\\Temp\\ipykernel_23500\\508105216.py:41: UserWarning: Attempting to set identical low and high xlims makes transformation singular; automatically expanding.\n",
      "  ax.set_xlim(\n",
      "C:\\Users\\dosre\\AppData\\Local\\Temp\\ipykernel_23500\\508105216.py:46: UserWarning: No artists with labels found to put in legend.  Note that artists whose label start with an underscore are ignored when legend() is called with no argument.\n",
      "  ax.legend()\n"
     ]
    },
    {
     "name": "stdout",
     "output_type": "stream",
     "text": [
      "KeyError: ilu0 airfoil_2d 40\n",
      "KeyError: ilu0 airfoil_2d 50\n"
     ]
    },
    {
     "name": "stderr",
     "output_type": "stream",
     "text": [
      "C:\\Users\\dosre\\AppData\\Local\\Temp\\ipykernel_23500\\508105216.py:41: UserWarning: Attempting to set identical low and high xlims makes transformation singular; automatically expanding.\n",
      "  ax.set_xlim(\n",
      "C:\\Users\\dosre\\AppData\\Local\\Temp\\ipykernel_23500\\508105216.py:46: UserWarning: No artists with labels found to put in legend.  Note that artists whose label start with an underscore are ignored when legend() is called with no argument.\n",
      "  ax.legend()\n",
      "C:\\Users\\dosre\\AppData\\Local\\Temp\\ipykernel_23500\\508105216.py:41: UserWarning: Attempting to set identical low and high xlims makes transformation singular; automatically expanding.\n",
      "  ax.set_xlim(\n",
      "C:\\Users\\dosre\\AppData\\Local\\Temp\\ipykernel_23500\\508105216.py:46: UserWarning: No artists with labels found to put in legend.  Note that artists whose label start with an underscore are ignored when legend() is called with no argument.\n",
      "  ax.legend()\n"
     ]
    },
    {
     "name": "stdout",
     "output_type": "stream",
     "text": [
      "KeyError: ilu0 airfoil_2d 100\n",
      "KeyError: ilu0 airfoil_2d 150\n"
     ]
    },
    {
     "name": "stderr",
     "output_type": "stream",
     "text": [
      "C:\\Users\\dosre\\AppData\\Local\\Temp\\ipykernel_23500\\508105216.py:41: UserWarning: Attempting to set identical low and high xlims makes transformation singular; automatically expanding.\n",
      "  ax.set_xlim(\n",
      "C:\\Users\\dosre\\AppData\\Local\\Temp\\ipykernel_23500\\508105216.py:46: UserWarning: No artists with labels found to put in legend.  Note that artists whose label start with an underscore are ignored when legend() is called with no argument.\n",
      "  ax.legend()\n",
      "C:\\Users\\dosre\\AppData\\Local\\Temp\\ipykernel_23500\\508105216.py:41: UserWarning: Attempting to set identical low and high xlims makes transformation singular; automatically expanding.\n",
      "  ax.set_xlim(\n",
      "C:\\Users\\dosre\\AppData\\Local\\Temp\\ipykernel_23500\\508105216.py:46: UserWarning: No artists with labels found to put in legend.  Note that artists whose label start with an underscore are ignored when legend() is called with no argument.\n",
      "  ax.legend()\n",
      "C:\\Users\\dosre\\AppData\\Local\\Temp\\ipykernel_23500\\508105216.py:41: UserWarning: Attempting to set identical low and high xlims makes transformation singular; automatically expanding.\n",
      "  ax.set_xlim(\n",
      "C:\\Users\\dosre\\AppData\\Local\\Temp\\ipykernel_23500\\508105216.py:46: UserWarning: No artists with labels found to put in legend.  Note that artists whose label start with an underscore are ignored when legend() is called with no argument.\n",
      "  ax.legend()\n"
     ]
    },
    {
     "name": "stdout",
     "output_type": "stream",
     "text": [
      "KeyError: ilu0 airfoil_2d 200\n",
      "KeyError: ilu0 appu 10\n",
      "KeyError: ilu0 appu 20\n"
     ]
    },
    {
     "name": "stderr",
     "output_type": "stream",
     "text": [
      "C:\\Users\\dosre\\AppData\\Local\\Temp\\ipykernel_23500\\508105216.py:41: UserWarning: Attempting to set identical low and high xlims makes transformation singular; automatically expanding.\n",
      "  ax.set_xlim(\n",
      "C:\\Users\\dosre\\AppData\\Local\\Temp\\ipykernel_23500\\508105216.py:46: UserWarning: No artists with labels found to put in legend.  Note that artists whose label start with an underscore are ignored when legend() is called with no argument.\n",
      "  ax.legend()\n",
      "C:\\Users\\dosre\\AppData\\Local\\Temp\\ipykernel_23500\\508105216.py:41: UserWarning: Attempting to set identical low and high xlims makes transformation singular; automatically expanding.\n",
      "  ax.set_xlim(\n",
      "C:\\Users\\dosre\\AppData\\Local\\Temp\\ipykernel_23500\\508105216.py:46: UserWarning: No artists with labels found to put in legend.  Note that artists whose label start with an underscore are ignored when legend() is called with no argument.\n",
      "  ax.legend()\n"
     ]
    },
    {
     "name": "stdout",
     "output_type": "stream",
     "text": [
      "KeyError: ilu0 appu 30\n",
      "KeyError: ilu0 appu 40\n"
     ]
    },
    {
     "name": "stderr",
     "output_type": "stream",
     "text": [
      "C:\\Users\\dosre\\AppData\\Local\\Temp\\ipykernel_23500\\508105216.py:41: UserWarning: Attempting to set identical low and high xlims makes transformation singular; automatically expanding.\n",
      "  ax.set_xlim(\n",
      "C:\\Users\\dosre\\AppData\\Local\\Temp\\ipykernel_23500\\508105216.py:46: UserWarning: No artists with labels found to put in legend.  Note that artists whose label start with an underscore are ignored when legend() is called with no argument.\n",
      "  ax.legend()\n",
      "C:\\Users\\dosre\\AppData\\Local\\Temp\\ipykernel_23500\\508105216.py:41: UserWarning: Attempting to set identical low and high xlims makes transformation singular; automatically expanding.\n",
      "  ax.set_xlim(\n",
      "C:\\Users\\dosre\\AppData\\Local\\Temp\\ipykernel_23500\\508105216.py:46: UserWarning: No artists with labels found to put in legend.  Note that artists whose label start with an underscore are ignored when legend() is called with no argument.\n",
      "  ax.legend()\n"
     ]
    },
    {
     "name": "stdout",
     "output_type": "stream",
     "text": [
      "KeyError: ilu0 appu 50\n",
      "KeyError: ilu0 appu 100\n"
     ]
    },
    {
     "name": "stderr",
     "output_type": "stream",
     "text": [
      "C:\\Users\\dosre\\AppData\\Local\\Temp\\ipykernel_23500\\508105216.py:41: UserWarning: Attempting to set identical low and high xlims makes transformation singular; automatically expanding.\n",
      "  ax.set_xlim(\n",
      "C:\\Users\\dosre\\AppData\\Local\\Temp\\ipykernel_23500\\508105216.py:46: UserWarning: No artists with labels found to put in legend.  Note that artists whose label start with an underscore are ignored when legend() is called with no argument.\n",
      "  ax.legend()\n",
      "C:\\Users\\dosre\\AppData\\Local\\Temp\\ipykernel_23500\\508105216.py:41: UserWarning: Attempting to set identical low and high xlims makes transformation singular; automatically expanding.\n",
      "  ax.set_xlim(\n",
      "C:\\Users\\dosre\\AppData\\Local\\Temp\\ipykernel_23500\\508105216.py:46: UserWarning: No artists with labels found to put in legend.  Note that artists whose label start with an underscore are ignored when legend() is called with no argument.\n",
      "  ax.legend()\n"
     ]
    },
    {
     "name": "stdout",
     "output_type": "stream",
     "text": [
      "KeyError: ilu0 appu 150\n",
      "KeyError: ilu0 appu 200\n"
     ]
    },
    {
     "name": "stderr",
     "output_type": "stream",
     "text": [
      "C:\\Users\\dosre\\AppData\\Local\\Temp\\ipykernel_23500\\508105216.py:41: UserWarning: Attempting to set identical low and high xlims makes transformation singular; automatically expanding.\n",
      "  ax.set_xlim(\n",
      "C:\\Users\\dosre\\AppData\\Local\\Temp\\ipykernel_23500\\508105216.py:46: UserWarning: No artists with labels found to put in legend.  Note that artists whose label start with an underscore are ignored when legend() is called with no argument.\n",
      "  ax.legend()\n",
      "C:\\Users\\dosre\\AppData\\Local\\Temp\\ipykernel_23500\\508105216.py:41: UserWarning: Attempting to set identical low and high xlims makes transformation singular; automatically expanding.\n",
      "  ax.set_xlim(\n",
      "C:\\Users\\dosre\\AppData\\Local\\Temp\\ipykernel_23500\\508105216.py:46: UserWarning: No artists with labels found to put in legend.  Note that artists whose label start with an underscore are ignored when legend() is called with no argument.\n",
      "  ax.legend()\n"
     ]
    },
    {
     "name": "stdout",
     "output_type": "stream",
     "text": [
      "KeyError: ilu0 cage10 10\n",
      "KeyError: ilu0 cage10 20\n"
     ]
    },
    {
     "name": "stderr",
     "output_type": "stream",
     "text": [
      "C:\\Users\\dosre\\AppData\\Local\\Temp\\ipykernel_23500\\508105216.py:41: UserWarning: Attempting to set identical low and high xlims makes transformation singular; automatically expanding.\n",
      "  ax.set_xlim(\n",
      "C:\\Users\\dosre\\AppData\\Local\\Temp\\ipykernel_23500\\508105216.py:46: UserWarning: No artists with labels found to put in legend.  Note that artists whose label start with an underscore are ignored when legend() is called with no argument.\n",
      "  ax.legend()\n",
      "C:\\Users\\dosre\\AppData\\Local\\Temp\\ipykernel_23500\\508105216.py:41: UserWarning: Attempting to set identical low and high xlims makes transformation singular; automatically expanding.\n",
      "  ax.set_xlim(\n",
      "C:\\Users\\dosre\\AppData\\Local\\Temp\\ipykernel_23500\\508105216.py:46: UserWarning: No artists with labels found to put in legend.  Note that artists whose label start with an underscore are ignored when legend() is called with no argument.\n",
      "  ax.legend()\n"
     ]
    },
    {
     "name": "stdout",
     "output_type": "stream",
     "text": [
      "KeyError: ilu0 cage10 30\n",
      "KeyError: ilu0 cage10 40\n"
     ]
    },
    {
     "name": "stderr",
     "output_type": "stream",
     "text": [
      "C:\\Users\\dosre\\AppData\\Local\\Temp\\ipykernel_23500\\508105216.py:41: UserWarning: Attempting to set identical low and high xlims makes transformation singular; automatically expanding.\n",
      "  ax.set_xlim(\n",
      "C:\\Users\\dosre\\AppData\\Local\\Temp\\ipykernel_23500\\508105216.py:46: UserWarning: No artists with labels found to put in legend.  Note that artists whose label start with an underscore are ignored when legend() is called with no argument.\n",
      "  ax.legend()\n",
      "C:\\Users\\dosre\\AppData\\Local\\Temp\\ipykernel_23500\\508105216.py:41: UserWarning: Attempting to set identical low and high xlims makes transformation singular; automatically expanding.\n",
      "  ax.set_xlim(\n",
      "C:\\Users\\dosre\\AppData\\Local\\Temp\\ipykernel_23500\\508105216.py:46: UserWarning: No artists with labels found to put in legend.  Note that artists whose label start with an underscore are ignored when legend() is called with no argument.\n",
      "  ax.legend()\n"
     ]
    },
    {
     "name": "stdout",
     "output_type": "stream",
     "text": [
      "KeyError: ilu0 cage10 50\n",
      "KeyError: ilu0 cage10 100\n"
     ]
    },
    {
     "name": "stderr",
     "output_type": "stream",
     "text": [
      "C:\\Users\\dosre\\AppData\\Local\\Temp\\ipykernel_23500\\508105216.py:41: UserWarning: Attempting to set identical low and high xlims makes transformation singular; automatically expanding.\n",
      "  ax.set_xlim(\n",
      "C:\\Users\\dosre\\AppData\\Local\\Temp\\ipykernel_23500\\508105216.py:46: UserWarning: No artists with labels found to put in legend.  Note that artists whose label start with an underscore are ignored when legend() is called with no argument.\n",
      "  ax.legend()\n",
      "C:\\Users\\dosre\\AppData\\Local\\Temp\\ipykernel_23500\\508105216.py:41: UserWarning: Attempting to set identical low and high xlims makes transformation singular; automatically expanding.\n",
      "  ax.set_xlim(\n",
      "C:\\Users\\dosre\\AppData\\Local\\Temp\\ipykernel_23500\\508105216.py:46: UserWarning: No artists with labels found to put in legend.  Note that artists whose label start with an underscore are ignored when legend() is called with no argument.\n",
      "  ax.legend()\n",
      "C:\\Users\\dosre\\AppData\\Local\\Temp\\ipykernel_23500\\508105216.py:41: UserWarning: Attempting to set identical low and high xlims makes transformation singular; automatically expanding.\n",
      "  ax.set_xlim(\n",
      "C:\\Users\\dosre\\AppData\\Local\\Temp\\ipykernel_23500\\508105216.py:46: UserWarning: No artists with labels found to put in legend.  Note that artists whose label start with an underscore are ignored when legend() is called with no argument.\n",
      "  ax.legend()\n"
     ]
    },
    {
     "name": "stdout",
     "output_type": "stream",
     "text": [
      "KeyError: ilu0 cage10 150\n",
      "KeyError: ilu0 cage10 200\n",
      "KeyError: ilu0 chipcool1 10\n"
     ]
    },
    {
     "name": "stderr",
     "output_type": "stream",
     "text": [
      "C:\\Users\\dosre\\AppData\\Local\\Temp\\ipykernel_23500\\508105216.py:41: UserWarning: Attempting to set identical low and high xlims makes transformation singular; automatically expanding.\n",
      "  ax.set_xlim(\n",
      "C:\\Users\\dosre\\AppData\\Local\\Temp\\ipykernel_23500\\508105216.py:46: UserWarning: No artists with labels found to put in legend.  Note that artists whose label start with an underscore are ignored when legend() is called with no argument.\n",
      "  ax.legend()\n",
      "C:\\Users\\dosre\\AppData\\Local\\Temp\\ipykernel_23500\\508105216.py:41: UserWarning: Attempting to set identical low and high xlims makes transformation singular; automatically expanding.\n",
      "  ax.set_xlim(\n",
      "C:\\Users\\dosre\\AppData\\Local\\Temp\\ipykernel_23500\\508105216.py:46: UserWarning: No artists with labels found to put in legend.  Note that artists whose label start with an underscore are ignored when legend() is called with no argument.\n",
      "  ax.legend()\n"
     ]
    },
    {
     "name": "stdout",
     "output_type": "stream",
     "text": [
      "KeyError: ilu0 chipcool1 20\n",
      "KeyError: ilu0 chipcool1 30\n"
     ]
    },
    {
     "name": "stderr",
     "output_type": "stream",
     "text": [
      "C:\\Users\\dosre\\AppData\\Local\\Temp\\ipykernel_23500\\508105216.py:41: UserWarning: Attempting to set identical low and high xlims makes transformation singular; automatically expanding.\n",
      "  ax.set_xlim(\n",
      "C:\\Users\\dosre\\AppData\\Local\\Temp\\ipykernel_23500\\508105216.py:46: UserWarning: No artists with labels found to put in legend.  Note that artists whose label start with an underscore are ignored when legend() is called with no argument.\n",
      "  ax.legend()\n",
      "C:\\Users\\dosre\\AppData\\Local\\Temp\\ipykernel_23500\\508105216.py:41: UserWarning: Attempting to set identical low and high xlims makes transformation singular; automatically expanding.\n",
      "  ax.set_xlim(\n",
      "C:\\Users\\dosre\\AppData\\Local\\Temp\\ipykernel_23500\\508105216.py:46: UserWarning: No artists with labels found to put in legend.  Note that artists whose label start with an underscore are ignored when legend() is called with no argument.\n",
      "  ax.legend()\n"
     ]
    },
    {
     "name": "stdout",
     "output_type": "stream",
     "text": [
      "KeyError: ilu0 chipcool1 40\n",
      "KeyError: ilu0 chipcool1 50\n"
     ]
    },
    {
     "name": "stderr",
     "output_type": "stream",
     "text": [
      "C:\\Users\\dosre\\AppData\\Local\\Temp\\ipykernel_23500\\508105216.py:41: UserWarning: Attempting to set identical low and high xlims makes transformation singular; automatically expanding.\n",
      "  ax.set_xlim(\n",
      "C:\\Users\\dosre\\AppData\\Local\\Temp\\ipykernel_23500\\508105216.py:46: UserWarning: No artists with labels found to put in legend.  Note that artists whose label start with an underscore are ignored when legend() is called with no argument.\n",
      "  ax.legend()\n",
      "C:\\Users\\dosre\\AppData\\Local\\Temp\\ipykernel_23500\\508105216.py:41: UserWarning: Attempting to set identical low and high xlims makes transformation singular; automatically expanding.\n",
      "  ax.set_xlim(\n",
      "C:\\Users\\dosre\\AppData\\Local\\Temp\\ipykernel_23500\\508105216.py:46: UserWarning: No artists with labels found to put in legend.  Note that artists whose label start with an underscore are ignored when legend() is called with no argument.\n",
      "  ax.legend()\n",
      "C:\\Users\\dosre\\AppData\\Local\\Temp\\ipykernel_23500\\508105216.py:41: UserWarning: Attempting to set identical low and high xlims makes transformation singular; automatically expanding.\n",
      "  ax.set_xlim(\n",
      "C:\\Users\\dosre\\AppData\\Local\\Temp\\ipykernel_23500\\508105216.py:46: UserWarning: No artists with labels found to put in legend.  Note that artists whose label start with an underscore are ignored when legend() is called with no argument.\n",
      "  ax.legend()\n"
     ]
    },
    {
     "name": "stdout",
     "output_type": "stream",
     "text": [
      "KeyError: ilu0 chipcool1 100\n",
      "KeyError: ilu0 chipcool1 150\n",
      "KeyError: ilu0 chipcool1 200\n"
     ]
    },
    {
     "name": "stderr",
     "output_type": "stream",
     "text": [
      "C:\\Users\\dosre\\AppData\\Local\\Temp\\ipykernel_23500\\508105216.py:41: UserWarning: Attempting to set identical low and high xlims makes transformation singular; automatically expanding.\n",
      "  ax.set_xlim(\n",
      "C:\\Users\\dosre\\AppData\\Local\\Temp\\ipykernel_23500\\508105216.py:46: UserWarning: No artists with labels found to put in legend.  Note that artists whose label start with an underscore are ignored when legend() is called with no argument.\n",
      "  ax.legend()\n",
      "C:\\Users\\dosre\\AppData\\Local\\Temp\\ipykernel_23500\\508105216.py:41: UserWarning: Attempting to set identical low and high xlims makes transformation singular; automatically expanding.\n",
      "  ax.set_xlim(\n",
      "C:\\Users\\dosre\\AppData\\Local\\Temp\\ipykernel_23500\\508105216.py:46: UserWarning: No artists with labels found to put in legend.  Note that artists whose label start with an underscore are ignored when legend() is called with no argument.\n",
      "  ax.legend()\n"
     ]
    },
    {
     "name": "stdout",
     "output_type": "stream",
     "text": [
      "KeyError: ilu0 epb1 10\n",
      "KeyError: ilu0 epb1 20\n"
     ]
    },
    {
     "name": "stderr",
     "output_type": "stream",
     "text": [
      "C:\\Users\\dosre\\AppData\\Local\\Temp\\ipykernel_23500\\508105216.py:41: UserWarning: Attempting to set identical low and high xlims makes transformation singular; automatically expanding.\n",
      "  ax.set_xlim(\n",
      "C:\\Users\\dosre\\AppData\\Local\\Temp\\ipykernel_23500\\508105216.py:46: UserWarning: No artists with labels found to put in legend.  Note that artists whose label start with an underscore are ignored when legend() is called with no argument.\n",
      "  ax.legend()\n",
      "C:\\Users\\dosre\\AppData\\Local\\Temp\\ipykernel_23500\\508105216.py:41: UserWarning: Attempting to set identical low and high xlims makes transformation singular; automatically expanding.\n",
      "  ax.set_xlim(\n",
      "C:\\Users\\dosre\\AppData\\Local\\Temp\\ipykernel_23500\\508105216.py:46: UserWarning: No artists with labels found to put in legend.  Note that artists whose label start with an underscore are ignored when legend() is called with no argument.\n",
      "  ax.legend()\n"
     ]
    },
    {
     "name": "stdout",
     "output_type": "stream",
     "text": [
      "KeyError: ilu0 epb1 30\n",
      "KeyError: ilu0 epb1 40\n"
     ]
    },
    {
     "name": "stderr",
     "output_type": "stream",
     "text": [
      "C:\\Users\\dosre\\AppData\\Local\\Temp\\ipykernel_23500\\508105216.py:41: UserWarning: Attempting to set identical low and high xlims makes transformation singular; automatically expanding.\n",
      "  ax.set_xlim(\n",
      "C:\\Users\\dosre\\AppData\\Local\\Temp\\ipykernel_23500\\508105216.py:46: UserWarning: No artists with labels found to put in legend.  Note that artists whose label start with an underscore are ignored when legend() is called with no argument.\n",
      "  ax.legend()\n",
      "C:\\Users\\dosre\\AppData\\Local\\Temp\\ipykernel_23500\\508105216.py:41: UserWarning: Attempting to set identical low and high xlims makes transformation singular; automatically expanding.\n",
      "  ax.set_xlim(\n",
      "C:\\Users\\dosre\\AppData\\Local\\Temp\\ipykernel_23500\\508105216.py:46: UserWarning: No artists with labels found to put in legend.  Note that artists whose label start with an underscore are ignored when legend() is called with no argument.\n",
      "  ax.legend()\n",
      "C:\\Users\\dosre\\AppData\\Local\\Temp\\ipykernel_23500\\508105216.py:41: UserWarning: Attempting to set identical low and high xlims makes transformation singular; automatically expanding.\n",
      "  ax.set_xlim(\n",
      "C:\\Users\\dosre\\AppData\\Local\\Temp\\ipykernel_23500\\508105216.py:46: UserWarning: No artists with labels found to put in legend.  Note that artists whose label start with an underscore are ignored when legend() is called with no argument.\n",
      "  ax.legend()\n"
     ]
    },
    {
     "name": "stdout",
     "output_type": "stream",
     "text": [
      "KeyError: ilu0 epb1 50\n",
      "KeyError: ilu0 epb1 100\n",
      "KeyError: ilu0 epb1 150\n"
     ]
    },
    {
     "name": "stderr",
     "output_type": "stream",
     "text": [
      "C:\\Users\\dosre\\AppData\\Local\\Temp\\ipykernel_23500\\508105216.py:41: UserWarning: Attempting to set identical low and high xlims makes transformation singular; automatically expanding.\n",
      "  ax.set_xlim(\n",
      "C:\\Users\\dosre\\AppData\\Local\\Temp\\ipykernel_23500\\508105216.py:46: UserWarning: No artists with labels found to put in legend.  Note that artists whose label start with an underscore are ignored when legend() is called with no argument.\n",
      "  ax.legend()\n",
      "C:\\Users\\dosre\\AppData\\Local\\Temp\\ipykernel_23500\\508105216.py:41: UserWarning: Attempting to set identical low and high xlims makes transformation singular; automatically expanding.\n",
      "  ax.set_xlim(\n",
      "C:\\Users\\dosre\\AppData\\Local\\Temp\\ipykernel_23500\\508105216.py:46: UserWarning: No artists with labels found to put in legend.  Note that artists whose label start with an underscore are ignored when legend() is called with no argument.\n",
      "  ax.legend()\n",
      "C:\\Users\\dosre\\AppData\\Local\\Temp\\ipykernel_23500\\508105216.py:41: UserWarning: Attempting to set identical low and high xlims makes transformation singular; automatically expanding.\n",
      "  ax.set_xlim(\n",
      "C:\\Users\\dosre\\AppData\\Local\\Temp\\ipykernel_23500\\508105216.py:46: UserWarning: No artists with labels found to put in legend.  Note that artists whose label start with an underscore are ignored when legend() is called with no argument.\n",
      "  ax.legend()\n"
     ]
    },
    {
     "name": "stdout",
     "output_type": "stream",
     "text": [
      "KeyError: ilu0 epb1 200\n",
      "KeyError: ilu0 FEM_3D_thermal1 10\n",
      "KeyError: ilu0 FEM_3D_thermal1 20\n",
      "KeyError: ilu0 FEM_3D_thermal1 30\n"
     ]
    },
    {
     "name": "stderr",
     "output_type": "stream",
     "text": [
      "C:\\Users\\dosre\\AppData\\Local\\Temp\\ipykernel_23500\\508105216.py:41: UserWarning: Attempting to set identical low and high xlims makes transformation singular; automatically expanding.\n",
      "  ax.set_xlim(\n",
      "C:\\Users\\dosre\\AppData\\Local\\Temp\\ipykernel_23500\\508105216.py:46: UserWarning: No artists with labels found to put in legend.  Note that artists whose label start with an underscore are ignored when legend() is called with no argument.\n",
      "  ax.legend()\n",
      "C:\\Users\\dosre\\AppData\\Local\\Temp\\ipykernel_23500\\508105216.py:41: UserWarning: Attempting to set identical low and high xlims makes transformation singular; automatically expanding.\n",
      "  ax.set_xlim(\n",
      "C:\\Users\\dosre\\AppData\\Local\\Temp\\ipykernel_23500\\508105216.py:46: UserWarning: No artists with labels found to put in legend.  Note that artists whose label start with an underscore are ignored when legend() is called with no argument.\n",
      "  ax.legend()\n"
     ]
    },
    {
     "name": "stdout",
     "output_type": "stream",
     "text": [
      "KeyError: ilu0 FEM_3D_thermal1 40\n",
      "KeyError: ilu0 FEM_3D_thermal1 50\n"
     ]
    },
    {
     "name": "stderr",
     "output_type": "stream",
     "text": [
      "C:\\Users\\dosre\\AppData\\Local\\Temp\\ipykernel_23500\\508105216.py:41: UserWarning: Attempting to set identical low and high xlims makes transformation singular; automatically expanding.\n",
      "  ax.set_xlim(\n",
      "C:\\Users\\dosre\\AppData\\Local\\Temp\\ipykernel_23500\\508105216.py:46: UserWarning: No artists with labels found to put in legend.  Note that artists whose label start with an underscore are ignored when legend() is called with no argument.\n",
      "  ax.legend()\n",
      "C:\\Users\\dosre\\AppData\\Local\\Temp\\ipykernel_23500\\508105216.py:41: UserWarning: Attempting to set identical low and high xlims makes transformation singular; automatically expanding.\n",
      "  ax.set_xlim(\n",
      "C:\\Users\\dosre\\AppData\\Local\\Temp\\ipykernel_23500\\508105216.py:46: UserWarning: No artists with labels found to put in legend.  Note that artists whose label start with an underscore are ignored when legend() is called with no argument.\n",
      "  ax.legend()\n"
     ]
    },
    {
     "name": "stdout",
     "output_type": "stream",
     "text": [
      "KeyError: ilu0 FEM_3D_thermal1 100\n",
      "KeyError: ilu0 FEM_3D_thermal1 150\n"
     ]
    },
    {
     "name": "stderr",
     "output_type": "stream",
     "text": [
      "C:\\Users\\dosre\\AppData\\Local\\Temp\\ipykernel_23500\\508105216.py:41: UserWarning: Attempting to set identical low and high xlims makes transformation singular; automatically expanding.\n",
      "  ax.set_xlim(\n",
      "C:\\Users\\dosre\\AppData\\Local\\Temp\\ipykernel_23500\\508105216.py:46: UserWarning: No artists with labels found to put in legend.  Note that artists whose label start with an underscore are ignored when legend() is called with no argument.\n",
      "  ax.legend()\n",
      "C:\\Users\\dosre\\AppData\\Local\\Temp\\ipykernel_23500\\508105216.py:41: UserWarning: Attempting to set identical low and high xlims makes transformation singular; automatically expanding.\n",
      "  ax.set_xlim(\n",
      "C:\\Users\\dosre\\AppData\\Local\\Temp\\ipykernel_23500\\508105216.py:46: UserWarning: No artists with labels found to put in legend.  Note that artists whose label start with an underscore are ignored when legend() is called with no argument.\n",
      "  ax.legend()\n",
      "C:\\Users\\dosre\\AppData\\Local\\Temp\\ipykernel_23500\\508105216.py:41: UserWarning: Attempting to set identical low and high xlims makes transformation singular; automatically expanding.\n",
      "  ax.set_xlim(\n",
      "C:\\Users\\dosre\\AppData\\Local\\Temp\\ipykernel_23500\\508105216.py:46: UserWarning: No artists with labels found to put in legend.  Note that artists whose label start with an underscore are ignored when legend() is called with no argument.\n",
      "  ax.legend()\n"
     ]
    },
    {
     "name": "stdout",
     "output_type": "stream",
     "text": [
      "KeyError: ilu0 FEM_3D_thermal1 200\n",
      "KeyError: ilu0 inlet 10\n"
     ]
    },
    {
     "name": "stderr",
     "output_type": "stream",
     "text": [
      "C:\\Users\\dosre\\AppData\\Local\\Temp\\ipykernel_23500\\508105216.py:41: UserWarning: Attempting to set identical low and high xlims makes transformation singular; automatically expanding.\n",
      "  ax.set_xlim(\n",
      "C:\\Users\\dosre\\AppData\\Local\\Temp\\ipykernel_23500\\508105216.py:46: UserWarning: No artists with labels found to put in legend.  Note that artists whose label start with an underscore are ignored when legend() is called with no argument.\n",
      "  ax.legend()\n",
      "C:\\Users\\dosre\\AppData\\Local\\Temp\\ipykernel_23500\\508105216.py:41: UserWarning: Attempting to set identical low and high xlims makes transformation singular; automatically expanding.\n",
      "  ax.set_xlim(\n",
      "C:\\Users\\dosre\\AppData\\Local\\Temp\\ipykernel_23500\\508105216.py:46: UserWarning: No artists with labels found to put in legend.  Note that artists whose label start with an underscore are ignored when legend() is called with no argument.\n",
      "  ax.legend()\n"
     ]
    },
    {
     "name": "stdout",
     "output_type": "stream",
     "text": [
      "KeyError: ilu0 inlet 20\n",
      "KeyError: ilu0 inlet 30\n"
     ]
    },
    {
     "name": "stderr",
     "output_type": "stream",
     "text": [
      "C:\\Users\\dosre\\AppData\\Local\\Temp\\ipykernel_23500\\508105216.py:41: UserWarning: Attempting to set identical low and high xlims makes transformation singular; automatically expanding.\n",
      "  ax.set_xlim(\n",
      "C:\\Users\\dosre\\AppData\\Local\\Temp\\ipykernel_23500\\508105216.py:46: UserWarning: No artists with labels found to put in legend.  Note that artists whose label start with an underscore are ignored when legend() is called with no argument.\n",
      "  ax.legend()\n",
      "C:\\Users\\dosre\\AppData\\Local\\Temp\\ipykernel_23500\\508105216.py:41: UserWarning: Attempting to set identical low and high xlims makes transformation singular; automatically expanding.\n",
      "  ax.set_xlim(\n",
      "C:\\Users\\dosre\\AppData\\Local\\Temp\\ipykernel_23500\\508105216.py:46: UserWarning: No artists with labels found to put in legend.  Note that artists whose label start with an underscore are ignored when legend() is called with no argument.\n",
      "  ax.legend()\n"
     ]
    },
    {
     "name": "stdout",
     "output_type": "stream",
     "text": [
      "KeyError: ilu0 inlet 40\n",
      "KeyError: ilu0 inlet 50\n"
     ]
    },
    {
     "name": "stderr",
     "output_type": "stream",
     "text": [
      "C:\\Users\\dosre\\AppData\\Local\\Temp\\ipykernel_23500\\508105216.py:41: UserWarning: Attempting to set identical low and high xlims makes transformation singular; automatically expanding.\n",
      "  ax.set_xlim(\n",
      "C:\\Users\\dosre\\AppData\\Local\\Temp\\ipykernel_23500\\508105216.py:46: UserWarning: No artists with labels found to put in legend.  Note that artists whose label start with an underscore are ignored when legend() is called with no argument.\n",
      "  ax.legend()\n",
      "C:\\Users\\dosre\\AppData\\Local\\Temp\\ipykernel_23500\\508105216.py:41: UserWarning: Attempting to set identical low and high xlims makes transformation singular; automatically expanding.\n",
      "  ax.set_xlim(\n",
      "C:\\Users\\dosre\\AppData\\Local\\Temp\\ipykernel_23500\\508105216.py:46: UserWarning: No artists with labels found to put in legend.  Note that artists whose label start with an underscore are ignored when legend() is called with no argument.\n",
      "  ax.legend()\n"
     ]
    },
    {
     "name": "stdout",
     "output_type": "stream",
     "text": [
      "KeyError: ilu0 inlet 100\n",
      "KeyError: ilu0 inlet 150\n"
     ]
    },
    {
     "name": "stderr",
     "output_type": "stream",
     "text": [
      "C:\\Users\\dosre\\AppData\\Local\\Temp\\ipykernel_23500\\508105216.py:41: UserWarning: Attempting to set identical low and high xlims makes transformation singular; automatically expanding.\n",
      "  ax.set_xlim(\n",
      "C:\\Users\\dosre\\AppData\\Local\\Temp\\ipykernel_23500\\508105216.py:46: UserWarning: No artists with labels found to put in legend.  Note that artists whose label start with an underscore are ignored when legend() is called with no argument.\n",
      "  ax.legend()\n",
      "C:\\Users\\dosre\\AppData\\Local\\Temp\\ipykernel_23500\\508105216.py:41: UserWarning: Attempting to set identical low and high xlims makes transformation singular; automatically expanding.\n",
      "  ax.set_xlim(\n",
      "C:\\Users\\dosre\\AppData\\Local\\Temp\\ipykernel_23500\\508105216.py:46: UserWarning: No artists with labels found to put in legend.  Note that artists whose label start with an underscore are ignored when legend() is called with no argument.\n",
      "  ax.legend()\n"
     ]
    },
    {
     "name": "stdout",
     "output_type": "stream",
     "text": [
      "KeyError: ilu0 inlet 200\n",
      "KeyError: ilu0 memplus 10\n"
     ]
    },
    {
     "name": "stderr",
     "output_type": "stream",
     "text": [
      "C:\\Users\\dosre\\AppData\\Local\\Temp\\ipykernel_23500\\508105216.py:41: UserWarning: Attempting to set identical low and high xlims makes transformation singular; automatically expanding.\n",
      "  ax.set_xlim(\n",
      "C:\\Users\\dosre\\AppData\\Local\\Temp\\ipykernel_23500\\508105216.py:46: UserWarning: No artists with labels found to put in legend.  Note that artists whose label start with an underscore are ignored when legend() is called with no argument.\n",
      "  ax.legend()\n",
      "C:\\Users\\dosre\\AppData\\Local\\Temp\\ipykernel_23500\\508105216.py:41: UserWarning: Attempting to set identical low and high xlims makes transformation singular; automatically expanding.\n",
      "  ax.set_xlim(\n",
      "C:\\Users\\dosre\\AppData\\Local\\Temp\\ipykernel_23500\\508105216.py:46: UserWarning: No artists with labels found to put in legend.  Note that artists whose label start with an underscore are ignored when legend() is called with no argument.\n",
      "  ax.legend()\n"
     ]
    },
    {
     "name": "stdout",
     "output_type": "stream",
     "text": [
      "KeyError: ilu0 memplus 20\n",
      "KeyError: ilu0 memplus 30\n"
     ]
    },
    {
     "name": "stderr",
     "output_type": "stream",
     "text": [
      "C:\\Users\\dosre\\AppData\\Local\\Temp\\ipykernel_23500\\508105216.py:41: UserWarning: Attempting to set identical low and high xlims makes transformation singular; automatically expanding.\n",
      "  ax.set_xlim(\n",
      "C:\\Users\\dosre\\AppData\\Local\\Temp\\ipykernel_23500\\508105216.py:46: UserWarning: No artists with labels found to put in legend.  Note that artists whose label start with an underscore are ignored when legend() is called with no argument.\n",
      "  ax.legend()\n",
      "C:\\Users\\dosre\\AppData\\Local\\Temp\\ipykernel_23500\\508105216.py:41: UserWarning: Attempting to set identical low and high xlims makes transformation singular; automatically expanding.\n",
      "  ax.set_xlim(\n",
      "C:\\Users\\dosre\\AppData\\Local\\Temp\\ipykernel_23500\\508105216.py:46: UserWarning: No artists with labels found to put in legend.  Note that artists whose label start with an underscore are ignored when legend() is called with no argument.\n",
      "  ax.legend()\n"
     ]
    },
    {
     "name": "stdout",
     "output_type": "stream",
     "text": [
      "KeyError: ilu0 memplus 40\n",
      "KeyError: ilu0 memplus 50\n"
     ]
    },
    {
     "name": "stderr",
     "output_type": "stream",
     "text": [
      "C:\\Users\\dosre\\AppData\\Local\\Temp\\ipykernel_23500\\508105216.py:41: UserWarning: Attempting to set identical low and high xlims makes transformation singular; automatically expanding.\n",
      "  ax.set_xlim(\n",
      "C:\\Users\\dosre\\AppData\\Local\\Temp\\ipykernel_23500\\508105216.py:46: UserWarning: No artists with labels found to put in legend.  Note that artists whose label start with an underscore are ignored when legend() is called with no argument.\n",
      "  ax.legend()\n",
      "C:\\Users\\dosre\\AppData\\Local\\Temp\\ipykernel_23500\\508105216.py:41: UserWarning: Attempting to set identical low and high xlims makes transformation singular; automatically expanding.\n",
      "  ax.set_xlim(\n",
      "C:\\Users\\dosre\\AppData\\Local\\Temp\\ipykernel_23500\\508105216.py:46: UserWarning: No artists with labels found to put in legend.  Note that artists whose label start with an underscore are ignored when legend() is called with no argument.\n",
      "  ax.legend()\n"
     ]
    },
    {
     "name": "stdout",
     "output_type": "stream",
     "text": [
      "KeyError: ilu0 memplus 100\n",
      "KeyError: ilu0 memplus 150\n"
     ]
    },
    {
     "name": "stderr",
     "output_type": "stream",
     "text": [
      "C:\\Users\\dosre\\AppData\\Local\\Temp\\ipykernel_23500\\508105216.py:41: UserWarning: Attempting to set identical low and high xlims makes transformation singular; automatically expanding.\n",
      "  ax.set_xlim(\n",
      "C:\\Users\\dosre\\AppData\\Local\\Temp\\ipykernel_23500\\508105216.py:46: UserWarning: No artists with labels found to put in legend.  Note that artists whose label start with an underscore are ignored when legend() is called with no argument.\n",
      "  ax.legend()\n",
      "C:\\Users\\dosre\\AppData\\Local\\Temp\\ipykernel_23500\\508105216.py:41: UserWarning: Attempting to set identical low and high xlims makes transformation singular; automatically expanding.\n",
      "  ax.set_xlim(\n",
      "C:\\Users\\dosre\\AppData\\Local\\Temp\\ipykernel_23500\\508105216.py:46: UserWarning: No artists with labels found to put in legend.  Note that artists whose label start with an underscore are ignored when legend() is called with no argument.\n",
      "  ax.legend()\n"
     ]
    },
    {
     "name": "stdout",
     "output_type": "stream",
     "text": [
      "KeyError: ilu0 memplus 200\n",
      "KeyError: ilu0 poisson3Da 10\n"
     ]
    },
    {
     "name": "stderr",
     "output_type": "stream",
     "text": [
      "C:\\Users\\dosre\\AppData\\Local\\Temp\\ipykernel_23500\\508105216.py:41: UserWarning: Attempting to set identical low and high xlims makes transformation singular; automatically expanding.\n",
      "  ax.set_xlim(\n",
      "C:\\Users\\dosre\\AppData\\Local\\Temp\\ipykernel_23500\\508105216.py:46: UserWarning: No artists with labels found to put in legend.  Note that artists whose label start with an underscore are ignored when legend() is called with no argument.\n",
      "  ax.legend()\n",
      "C:\\Users\\dosre\\AppData\\Local\\Temp\\ipykernel_23500\\508105216.py:41: UserWarning: Attempting to set identical low and high xlims makes transformation singular; automatically expanding.\n",
      "  ax.set_xlim(\n",
      "C:\\Users\\dosre\\AppData\\Local\\Temp\\ipykernel_23500\\508105216.py:46: UserWarning: No artists with labels found to put in legend.  Note that artists whose label start with an underscore are ignored when legend() is called with no argument.\n",
      "  ax.legend()\n"
     ]
    },
    {
     "name": "stdout",
     "output_type": "stream",
     "text": [
      "KeyError: ilu0 poisson3Da 20\n",
      "KeyError: ilu0 poisson3Da 30\n"
     ]
    },
    {
     "name": "stderr",
     "output_type": "stream",
     "text": [
      "C:\\Users\\dosre\\AppData\\Local\\Temp\\ipykernel_23500\\508105216.py:41: UserWarning: Attempting to set identical low and high xlims makes transformation singular; automatically expanding.\n",
      "  ax.set_xlim(\n",
      "C:\\Users\\dosre\\AppData\\Local\\Temp\\ipykernel_23500\\508105216.py:46: UserWarning: No artists with labels found to put in legend.  Note that artists whose label start with an underscore are ignored when legend() is called with no argument.\n",
      "  ax.legend()\n",
      "C:\\Users\\dosre\\AppData\\Local\\Temp\\ipykernel_23500\\508105216.py:41: UserWarning: Attempting to set identical low and high xlims makes transformation singular; automatically expanding.\n",
      "  ax.set_xlim(\n",
      "C:\\Users\\dosre\\AppData\\Local\\Temp\\ipykernel_23500\\508105216.py:46: UserWarning: No artists with labels found to put in legend.  Note that artists whose label start with an underscore are ignored when legend() is called with no argument.\n",
      "  ax.legend()\n"
     ]
    },
    {
     "name": "stdout",
     "output_type": "stream",
     "text": [
      "KeyError: ilu0 poisson3Da 40\n",
      "KeyError: ilu0 poisson3Da 50\n"
     ]
    },
    {
     "name": "stderr",
     "output_type": "stream",
     "text": [
      "C:\\Users\\dosre\\AppData\\Local\\Temp\\ipykernel_23500\\508105216.py:41: UserWarning: Attempting to set identical low and high xlims makes transformation singular; automatically expanding.\n",
      "  ax.set_xlim(\n",
      "C:\\Users\\dosre\\AppData\\Local\\Temp\\ipykernel_23500\\508105216.py:46: UserWarning: No artists with labels found to put in legend.  Note that artists whose label start with an underscore are ignored when legend() is called with no argument.\n",
      "  ax.legend()\n",
      "C:\\Users\\dosre\\AppData\\Local\\Temp\\ipykernel_23500\\508105216.py:41: UserWarning: Attempting to set identical low and high xlims makes transformation singular; automatically expanding.\n",
      "  ax.set_xlim(\n",
      "C:\\Users\\dosre\\AppData\\Local\\Temp\\ipykernel_23500\\508105216.py:46: UserWarning: No artists with labels found to put in legend.  Note that artists whose label start with an underscore are ignored when legend() is called with no argument.\n",
      "  ax.legend()\n"
     ]
    },
    {
     "name": "stdout",
     "output_type": "stream",
     "text": [
      "KeyError: ilu0 poisson3Da 100\n",
      "KeyError: ilu0 poisson3Da 150\n"
     ]
    },
    {
     "name": "stderr",
     "output_type": "stream",
     "text": [
      "C:\\Users\\dosre\\AppData\\Local\\Temp\\ipykernel_23500\\508105216.py:41: UserWarning: Attempting to set identical low and high xlims makes transformation singular; automatically expanding.\n",
      "  ax.set_xlim(\n",
      "C:\\Users\\dosre\\AppData\\Local\\Temp\\ipykernel_23500\\508105216.py:46: UserWarning: No artists with labels found to put in legend.  Note that artists whose label start with an underscore are ignored when legend() is called with no argument.\n",
      "  ax.legend()\n",
      "C:\\Users\\dosre\\AppData\\Local\\Temp\\ipykernel_23500\\508105216.py:41: UserWarning: Attempting to set identical low and high xlims makes transformation singular; automatically expanding.\n",
      "  ax.set_xlim(\n",
      "C:\\Users\\dosre\\AppData\\Local\\Temp\\ipykernel_23500\\508105216.py:46: UserWarning: No artists with labels found to put in legend.  Note that artists whose label start with an underscore are ignored when legend() is called with no argument.\n",
      "  ax.legend()\n",
      "C:\\Users\\dosre\\AppData\\Local\\Temp\\ipykernel_23500\\508105216.py:41: UserWarning: Attempting to set identical low and high xlims makes transformation singular; automatically expanding.\n",
      "  ax.set_xlim(\n",
      "C:\\Users\\dosre\\AppData\\Local\\Temp\\ipykernel_23500\\508105216.py:46: UserWarning: No artists with labels found to put in legend.  Note that artists whose label start with an underscore are ignored when legend() is called with no argument.\n",
      "  ax.legend()\n"
     ]
    },
    {
     "name": "stdout",
     "output_type": "stream",
     "text": [
      "KeyError: ilu0 poisson3Da 200\n",
      "KeyError: ilu0 powersim 10\n",
      "KeyError: ilu0 powersim 20\n"
     ]
    },
    {
     "name": "stderr",
     "output_type": "stream",
     "text": [
      "C:\\Users\\dosre\\AppData\\Local\\Temp\\ipykernel_23500\\508105216.py:41: UserWarning: Attempting to set identical low and high xlims makes transformation singular; automatically expanding.\n",
      "  ax.set_xlim(\n",
      "C:\\Users\\dosre\\AppData\\Local\\Temp\\ipykernel_23500\\508105216.py:46: UserWarning: No artists with labels found to put in legend.  Note that artists whose label start with an underscore are ignored when legend() is called with no argument.\n",
      "  ax.legend()\n",
      "C:\\Users\\dosre\\AppData\\Local\\Temp\\ipykernel_23500\\508105216.py:41: UserWarning: Attempting to set identical low and high xlims makes transformation singular; automatically expanding.\n",
      "  ax.set_xlim(\n",
      "C:\\Users\\dosre\\AppData\\Local\\Temp\\ipykernel_23500\\508105216.py:46: UserWarning: No artists with labels found to put in legend.  Note that artists whose label start with an underscore are ignored when legend() is called with no argument.\n",
      "  ax.legend()\n"
     ]
    },
    {
     "name": "stdout",
     "output_type": "stream",
     "text": [
      "KeyError: ilu0 powersim 30\n",
      "KeyError: ilu0 powersim 40\n"
     ]
    },
    {
     "name": "stderr",
     "output_type": "stream",
     "text": [
      "C:\\Users\\dosre\\AppData\\Local\\Temp\\ipykernel_23500\\508105216.py:41: UserWarning: Attempting to set identical low and high xlims makes transformation singular; automatically expanding.\n",
      "  ax.set_xlim(\n",
      "C:\\Users\\dosre\\AppData\\Local\\Temp\\ipykernel_23500\\508105216.py:46: UserWarning: No artists with labels found to put in legend.  Note that artists whose label start with an underscore are ignored when legend() is called with no argument.\n",
      "  ax.legend()\n",
      "C:\\Users\\dosre\\AppData\\Local\\Temp\\ipykernel_23500\\508105216.py:41: UserWarning: Attempting to set identical low and high xlims makes transformation singular; automatically expanding.\n",
      "  ax.set_xlim(\n",
      "C:\\Users\\dosre\\AppData\\Local\\Temp\\ipykernel_23500\\508105216.py:46: UserWarning: No artists with labels found to put in legend.  Note that artists whose label start with an underscore are ignored when legend() is called with no argument.\n",
      "  ax.legend()\n"
     ]
    },
    {
     "name": "stdout",
     "output_type": "stream",
     "text": [
      "KeyError: ilu0 powersim 50\n",
      "KeyError: ilu0 powersim 100\n"
     ]
    },
    {
     "name": "stderr",
     "output_type": "stream",
     "text": [
      "C:\\Users\\dosre\\AppData\\Local\\Temp\\ipykernel_23500\\508105216.py:41: UserWarning: Attempting to set identical low and high xlims makes transformation singular; automatically expanding.\n",
      "  ax.set_xlim(\n",
      "C:\\Users\\dosre\\AppData\\Local\\Temp\\ipykernel_23500\\508105216.py:46: UserWarning: No artists with labels found to put in legend.  Note that artists whose label start with an underscore are ignored when legend() is called with no argument.\n",
      "  ax.legend()\n",
      "C:\\Users\\dosre\\AppData\\Local\\Temp\\ipykernel_23500\\508105216.py:41: UserWarning: Attempting to set identical low and high xlims makes transformation singular; automatically expanding.\n",
      "  ax.set_xlim(\n",
      "C:\\Users\\dosre\\AppData\\Local\\Temp\\ipykernel_23500\\508105216.py:46: UserWarning: No artists with labels found to put in legend.  Note that artists whose label start with an underscore are ignored when legend() is called with no argument.\n",
      "  ax.legend()\n"
     ]
    },
    {
     "name": "stdout",
     "output_type": "stream",
     "text": [
      "KeyError: ilu0 powersim 150\n",
      "KeyError: ilu0 powersim 200\n"
     ]
    },
    {
     "name": "stderr",
     "output_type": "stream",
     "text": [
      "C:\\Users\\dosre\\AppData\\Local\\Temp\\ipykernel_23500\\508105216.py:41: UserWarning: Attempting to set identical low and high xlims makes transformation singular; automatically expanding.\n",
      "  ax.set_xlim(\n",
      "C:\\Users\\dosre\\AppData\\Local\\Temp\\ipykernel_23500\\508105216.py:46: UserWarning: No artists with labels found to put in legend.  Note that artists whose label start with an underscore are ignored when legend() is called with no argument.\n",
      "  ax.legend()\n",
      "C:\\Users\\dosre\\AppData\\Local\\Temp\\ipykernel_23500\\508105216.py:41: UserWarning: Attempting to set identical low and high xlims makes transformation singular; automatically expanding.\n",
      "  ax.set_xlim(\n",
      "C:\\Users\\dosre\\AppData\\Local\\Temp\\ipykernel_23500\\508105216.py:46: UserWarning: No artists with labels found to put in legend.  Note that artists whose label start with an underscore are ignored when legend() is called with no argument.\n",
      "  ax.legend()\n"
     ]
    },
    {
     "name": "stdout",
     "output_type": "stream",
     "text": [
      "KeyError: ilu0 sme3Da 10\n",
      "KeyError: ilu0 sme3Da 20\n"
     ]
    },
    {
     "name": "stderr",
     "output_type": "stream",
     "text": [
      "C:\\Users\\dosre\\AppData\\Local\\Temp\\ipykernel_23500\\508105216.py:41: UserWarning: Attempting to set identical low and high xlims makes transformation singular; automatically expanding.\n",
      "  ax.set_xlim(\n",
      "C:\\Users\\dosre\\AppData\\Local\\Temp\\ipykernel_23500\\508105216.py:46: UserWarning: No artists with labels found to put in legend.  Note that artists whose label start with an underscore are ignored when legend() is called with no argument.\n",
      "  ax.legend()\n",
      "C:\\Users\\dosre\\AppData\\Local\\Temp\\ipykernel_23500\\508105216.py:41: UserWarning: Attempting to set identical low and high xlims makes transformation singular; automatically expanding.\n",
      "  ax.set_xlim(\n",
      "C:\\Users\\dosre\\AppData\\Local\\Temp\\ipykernel_23500\\508105216.py:46: UserWarning: No artists with labels found to put in legend.  Note that artists whose label start with an underscore are ignored when legend() is called with no argument.\n",
      "  ax.legend()\n"
     ]
    },
    {
     "name": "stdout",
     "output_type": "stream",
     "text": [
      "KeyError: ilu0 sme3Da 30\n",
      "KeyError: ilu0 sme3Da 40\n"
     ]
    },
    {
     "name": "stderr",
     "output_type": "stream",
     "text": [
      "C:\\Users\\dosre\\AppData\\Local\\Temp\\ipykernel_23500\\508105216.py:41: UserWarning: Attempting to set identical low and high xlims makes transformation singular; automatically expanding.\n",
      "  ax.set_xlim(\n",
      "C:\\Users\\dosre\\AppData\\Local\\Temp\\ipykernel_23500\\508105216.py:46: UserWarning: No artists with labels found to put in legend.  Note that artists whose label start with an underscore are ignored when legend() is called with no argument.\n",
      "  ax.legend()\n",
      "C:\\Users\\dosre\\AppData\\Local\\Temp\\ipykernel_23500\\508105216.py:41: UserWarning: Attempting to set identical low and high xlims makes transformation singular; automatically expanding.\n",
      "  ax.set_xlim(\n",
      "C:\\Users\\dosre\\AppData\\Local\\Temp\\ipykernel_23500\\508105216.py:46: UserWarning: No artists with labels found to put in legend.  Note that artists whose label start with an underscore are ignored when legend() is called with no argument.\n",
      "  ax.legend()\n"
     ]
    },
    {
     "name": "stdout",
     "output_type": "stream",
     "text": [
      "KeyError: ilu0 sme3Da 50\n",
      "KeyError: ilu0 sme3Da 100\n"
     ]
    },
    {
     "name": "stderr",
     "output_type": "stream",
     "text": [
      "C:\\Users\\dosre\\AppData\\Local\\Temp\\ipykernel_23500\\508105216.py:41: UserWarning: Attempting to set identical low and high xlims makes transformation singular; automatically expanding.\n",
      "  ax.set_xlim(\n",
      "C:\\Users\\dosre\\AppData\\Local\\Temp\\ipykernel_23500\\508105216.py:46: UserWarning: No artists with labels found to put in legend.  Note that artists whose label start with an underscore are ignored when legend() is called with no argument.\n",
      "  ax.legend()\n",
      "C:\\Users\\dosre\\AppData\\Local\\Temp\\ipykernel_23500\\508105216.py:41: UserWarning: Attempting to set identical low and high xlims makes transformation singular; automatically expanding.\n",
      "  ax.set_xlim(\n",
      "C:\\Users\\dosre\\AppData\\Local\\Temp\\ipykernel_23500\\508105216.py:46: UserWarning: No artists with labels found to put in legend.  Note that artists whose label start with an underscore are ignored when legend() is called with no argument.\n",
      "  ax.legend()\n"
     ]
    },
    {
     "name": "stdout",
     "output_type": "stream",
     "text": [
      "KeyError: ilu0 sme3Da 150\n",
      "KeyError: ilu0 sme3Da 200\n"
     ]
    },
    {
     "name": "stderr",
     "output_type": "stream",
     "text": [
      "C:\\Users\\dosre\\AppData\\Local\\Temp\\ipykernel_23500\\508105216.py:41: UserWarning: Attempting to set identical low and high xlims makes transformation singular; automatically expanding.\n",
      "  ax.set_xlim(\n",
      "C:\\Users\\dosre\\AppData\\Local\\Temp\\ipykernel_23500\\508105216.py:46: UserWarning: No artists with labels found to put in legend.  Note that artists whose label start with an underscore are ignored when legend() is called with no argument.\n",
      "  ax.legend()\n",
      "C:\\Users\\dosre\\AppData\\Local\\Temp\\ipykernel_23500\\508105216.py:41: UserWarning: Attempting to set identical low and high xlims makes transformation singular; automatically expanding.\n",
      "  ax.set_xlim(\n",
      "C:\\Users\\dosre\\AppData\\Local\\Temp\\ipykernel_23500\\508105216.py:46: UserWarning: No artists with labels found to put in legend.  Note that artists whose label start with an underscore are ignored when legend() is called with no argument.\n",
      "  ax.legend()\n"
     ]
    },
    {
     "name": "stdout",
     "output_type": "stream",
     "text": [
      "KeyError: ilu0 viscoplastic2 10\n",
      "KeyError: ilu0 viscoplastic2 20\n"
     ]
    },
    {
     "name": "stderr",
     "output_type": "stream",
     "text": [
      "C:\\Users\\dosre\\AppData\\Local\\Temp\\ipykernel_23500\\508105216.py:41: UserWarning: Attempting to set identical low and high xlims makes transformation singular; automatically expanding.\n",
      "  ax.set_xlim(\n",
      "C:\\Users\\dosre\\AppData\\Local\\Temp\\ipykernel_23500\\508105216.py:46: UserWarning: No artists with labels found to put in legend.  Note that artists whose label start with an underscore are ignored when legend() is called with no argument.\n",
      "  ax.legend()\n",
      "C:\\Users\\dosre\\AppData\\Local\\Temp\\ipykernel_23500\\508105216.py:41: UserWarning: Attempting to set identical low and high xlims makes transformation singular; automatically expanding.\n",
      "  ax.set_xlim(\n",
      "C:\\Users\\dosre\\AppData\\Local\\Temp\\ipykernel_23500\\508105216.py:46: UserWarning: No artists with labels found to put in legend.  Note that artists whose label start with an underscore are ignored when legend() is called with no argument.\n",
      "  ax.legend()\n"
     ]
    },
    {
     "name": "stdout",
     "output_type": "stream",
     "text": [
      "KeyError: ilu0 viscoplastic2 30\n",
      "KeyError: ilu0 viscoplastic2 40\n"
     ]
    },
    {
     "name": "stderr",
     "output_type": "stream",
     "text": [
      "C:\\Users\\dosre\\AppData\\Local\\Temp\\ipykernel_23500\\508105216.py:41: UserWarning: Attempting to set identical low and high xlims makes transformation singular; automatically expanding.\n",
      "  ax.set_xlim(\n",
      "C:\\Users\\dosre\\AppData\\Local\\Temp\\ipykernel_23500\\508105216.py:46: UserWarning: No artists with labels found to put in legend.  Note that artists whose label start with an underscore are ignored when legend() is called with no argument.\n",
      "  ax.legend()\n",
      "C:\\Users\\dosre\\AppData\\Local\\Temp\\ipykernel_23500\\508105216.py:41: UserWarning: Attempting to set identical low and high xlims makes transformation singular; automatically expanding.\n",
      "  ax.set_xlim(\n",
      "C:\\Users\\dosre\\AppData\\Local\\Temp\\ipykernel_23500\\508105216.py:46: UserWarning: No artists with labels found to put in legend.  Note that artists whose label start with an underscore are ignored when legend() is called with no argument.\n",
      "  ax.legend()\n"
     ]
    },
    {
     "name": "stdout",
     "output_type": "stream",
     "text": [
      "KeyError: ilu0 viscoplastic2 50\n",
      "KeyError: ilu0 viscoplastic2 100\n"
     ]
    },
    {
     "name": "stderr",
     "output_type": "stream",
     "text": [
      "C:\\Users\\dosre\\AppData\\Local\\Temp\\ipykernel_23500\\508105216.py:41: UserWarning: Attempting to set identical low and high xlims makes transformation singular; automatically expanding.\n",
      "  ax.set_xlim(\n",
      "C:\\Users\\dosre\\AppData\\Local\\Temp\\ipykernel_23500\\508105216.py:46: UserWarning: No artists with labels found to put in legend.  Note that artists whose label start with an underscore are ignored when legend() is called with no argument.\n",
      "  ax.legend()\n",
      "C:\\Users\\dosre\\AppData\\Local\\Temp\\ipykernel_23500\\508105216.py:41: UserWarning: Attempting to set identical low and high xlims makes transformation singular; automatically expanding.\n",
      "  ax.set_xlim(\n",
      "C:\\Users\\dosre\\AppData\\Local\\Temp\\ipykernel_23500\\508105216.py:46: UserWarning: No artists with labels found to put in legend.  Note that artists whose label start with an underscore are ignored when legend() is called with no argument.\n",
      "  ax.legend()\n"
     ]
    },
    {
     "name": "stdout",
     "output_type": "stream",
     "text": [
      "KeyError: ilu0 viscoplastic2 150\n",
      "KeyError: ilu0 viscoplastic2 200\n"
     ]
    },
    {
     "name": "stderr",
     "output_type": "stream",
     "text": [
      "C:\\Users\\dosre\\AppData\\Local\\Temp\\ipykernel_23500\\508105216.py:41: UserWarning: Attempting to set identical low and high xlims makes transformation singular; automatically expanding.\n",
      "  ax.set_xlim(\n",
      "C:\\Users\\dosre\\AppData\\Local\\Temp\\ipykernel_23500\\508105216.py:46: UserWarning: No artists with labels found to put in legend.  Note that artists whose label start with an underscore are ignored when legend() is called with no argument.\n",
      "  ax.legend()\n",
      "C:\\Users\\dosre\\AppData\\Local\\Temp\\ipykernel_23500\\508105216.py:41: UserWarning: Attempting to set identical low and high xlims makes transformation singular; automatically expanding.\n",
      "  ax.set_xlim(\n",
      "C:\\Users\\dosre\\AppData\\Local\\Temp\\ipykernel_23500\\508105216.py:46: UserWarning: No artists with labels found to put in legend.  Note that artists whose label start with an underscore are ignored when legend() is called with no argument.\n",
      "  ax.legend()\n"
     ]
    },
    {
     "name": "stdout",
     "output_type": "stream",
     "text": [
      "KeyError: ilu0 wang3 10\n",
      "KeyError: ilu0 wang3 20\n"
     ]
    },
    {
     "name": "stderr",
     "output_type": "stream",
     "text": [
      "C:\\Users\\dosre\\AppData\\Local\\Temp\\ipykernel_23500\\508105216.py:41: UserWarning: Attempting to set identical low and high xlims makes transformation singular; automatically expanding.\n",
      "  ax.set_xlim(\n",
      "C:\\Users\\dosre\\AppData\\Local\\Temp\\ipykernel_23500\\508105216.py:46: UserWarning: No artists with labels found to put in legend.  Note that artists whose label start with an underscore are ignored when legend() is called with no argument.\n",
      "  ax.legend()\n",
      "C:\\Users\\dosre\\AppData\\Local\\Temp\\ipykernel_23500\\508105216.py:41: UserWarning: Attempting to set identical low and high xlims makes transformation singular; automatically expanding.\n",
      "  ax.set_xlim(\n",
      "C:\\Users\\dosre\\AppData\\Local\\Temp\\ipykernel_23500\\508105216.py:46: UserWarning: No artists with labels found to put in legend.  Note that artists whose label start with an underscore are ignored when legend() is called with no argument.\n",
      "  ax.legend()\n"
     ]
    },
    {
     "name": "stdout",
     "output_type": "stream",
     "text": [
      "KeyError: ilu0 wang3 30\n",
      "KeyError: ilu0 wang3 40\n"
     ]
    },
    {
     "name": "stderr",
     "output_type": "stream",
     "text": [
      "C:\\Users\\dosre\\AppData\\Local\\Temp\\ipykernel_23500\\508105216.py:41: UserWarning: Attempting to set identical low and high xlims makes transformation singular; automatically expanding.\n",
      "  ax.set_xlim(\n",
      "C:\\Users\\dosre\\AppData\\Local\\Temp\\ipykernel_23500\\508105216.py:46: UserWarning: No artists with labels found to put in legend.  Note that artists whose label start with an underscore are ignored when legend() is called with no argument.\n",
      "  ax.legend()\n",
      "C:\\Users\\dosre\\AppData\\Local\\Temp\\ipykernel_23500\\508105216.py:41: UserWarning: Attempting to set identical low and high xlims makes transformation singular; automatically expanding.\n",
      "  ax.set_xlim(\n",
      "C:\\Users\\dosre\\AppData\\Local\\Temp\\ipykernel_23500\\508105216.py:46: UserWarning: No artists with labels found to put in legend.  Note that artists whose label start with an underscore are ignored when legend() is called with no argument.\n",
      "  ax.legend()\n"
     ]
    },
    {
     "name": "stdout",
     "output_type": "stream",
     "text": [
      "KeyError: ilu0 wang3 50\n",
      "KeyError: ilu0 wang3 100\n"
     ]
    },
    {
     "name": "stderr",
     "output_type": "stream",
     "text": [
      "C:\\Users\\dosre\\AppData\\Local\\Temp\\ipykernel_23500\\508105216.py:41: UserWarning: Attempting to set identical low and high xlims makes transformation singular; automatically expanding.\n",
      "  ax.set_xlim(\n",
      "C:\\Users\\dosre\\AppData\\Local\\Temp\\ipykernel_23500\\508105216.py:46: UserWarning: No artists with labels found to put in legend.  Note that artists whose label start with an underscore are ignored when legend() is called with no argument.\n",
      "  ax.legend()\n",
      "C:\\Users\\dosre\\AppData\\Local\\Temp\\ipykernel_23500\\508105216.py:41: UserWarning: Attempting to set identical low and high xlims makes transformation singular; automatically expanding.\n",
      "  ax.set_xlim(\n",
      "C:\\Users\\dosre\\AppData\\Local\\Temp\\ipykernel_23500\\508105216.py:46: UserWarning: No artists with labels found to put in legend.  Note that artists whose label start with an underscore are ignored when legend() is called with no argument.\n",
      "  ax.legend()\n"
     ]
    },
    {
     "name": "stdout",
     "output_type": "stream",
     "text": [
      "KeyError: ilu0 wang3 150\n",
      "KeyError: ilu0 wang3 200\n"
     ]
    },
    {
     "name": "stderr",
     "output_type": "stream",
     "text": [
      "C:\\Users\\dosre\\AppData\\Local\\Temp\\ipykernel_23500\\508105216.py:41: UserWarning: Attempting to set identical low and high xlims makes transformation singular; automatically expanding.\n",
      "  ax.set_xlim(\n",
      "C:\\Users\\dosre\\AppData\\Local\\Temp\\ipykernel_23500\\508105216.py:46: UserWarning: No artists with labels found to put in legend.  Note that artists whose label start with an underscore are ignored when legend() is called with no argument.\n",
      "  ax.legend()\n",
      "C:\\Users\\dosre\\AppData\\Local\\Temp\\ipykernel_23500\\508105216.py:41: UserWarning: Attempting to set identical low and high xlims makes transformation singular; automatically expanding.\n",
      "  ax.set_xlim(\n",
      "C:\\Users\\dosre\\AppData\\Local\\Temp\\ipykernel_23500\\508105216.py:46: UserWarning: No artists with labels found to put in legend.  Note that artists whose label start with an underscore are ignored when legend() is called with no argument.\n",
      "  ax.legend()\n"
     ]
    },
    {
     "name": "stdout",
     "output_type": "stream",
     "text": [
      "KeyError: ilu0 wang4 10\n",
      "KeyError: ilu0 wang4 20\n"
     ]
    },
    {
     "name": "stderr",
     "output_type": "stream",
     "text": [
      "C:\\Users\\dosre\\AppData\\Local\\Temp\\ipykernel_23500\\508105216.py:41: UserWarning: Attempting to set identical low and high xlims makes transformation singular; automatically expanding.\n",
      "  ax.set_xlim(\n",
      "C:\\Users\\dosre\\AppData\\Local\\Temp\\ipykernel_23500\\508105216.py:46: UserWarning: No artists with labels found to put in legend.  Note that artists whose label start with an underscore are ignored when legend() is called with no argument.\n",
      "  ax.legend()\n",
      "C:\\Users\\dosre\\AppData\\Local\\Temp\\ipykernel_23500\\508105216.py:41: UserWarning: Attempting to set identical low and high xlims makes transformation singular; automatically expanding.\n",
      "  ax.set_xlim(\n",
      "C:\\Users\\dosre\\AppData\\Local\\Temp\\ipykernel_23500\\508105216.py:46: UserWarning: No artists with labels found to put in legend.  Note that artists whose label start with an underscore are ignored when legend() is called with no argument.\n",
      "  ax.legend()\n"
     ]
    },
    {
     "name": "stdout",
     "output_type": "stream",
     "text": [
      "KeyError: ilu0 wang4 30\n",
      "KeyError: ilu0 wang4 40\n"
     ]
    },
    {
     "name": "stderr",
     "output_type": "stream",
     "text": [
      "C:\\Users\\dosre\\AppData\\Local\\Temp\\ipykernel_23500\\508105216.py:41: UserWarning: Attempting to set identical low and high xlims makes transformation singular; automatically expanding.\n",
      "  ax.set_xlim(\n",
      "C:\\Users\\dosre\\AppData\\Local\\Temp\\ipykernel_23500\\508105216.py:46: UserWarning: No artists with labels found to put in legend.  Note that artists whose label start with an underscore are ignored when legend() is called with no argument.\n",
      "  ax.legend()\n",
      "C:\\Users\\dosre\\AppData\\Local\\Temp\\ipykernel_23500\\508105216.py:41: UserWarning: Attempting to set identical low and high xlims makes transformation singular; automatically expanding.\n",
      "  ax.set_xlim(\n",
      "C:\\Users\\dosre\\AppData\\Local\\Temp\\ipykernel_23500\\508105216.py:46: UserWarning: No artists with labels found to put in legend.  Note that artists whose label start with an underscore are ignored when legend() is called with no argument.\n",
      "  ax.legend()\n"
     ]
    },
    {
     "name": "stdout",
     "output_type": "stream",
     "text": [
      "KeyError: ilu0 wang4 50\n",
      "KeyError: ilu0 wang4 100\n"
     ]
    },
    {
     "name": "stderr",
     "output_type": "stream",
     "text": [
      "C:\\Users\\dosre\\AppData\\Local\\Temp\\ipykernel_23500\\508105216.py:41: UserWarning: Attempting to set identical low and high xlims makes transformation singular; automatically expanding.\n",
      "  ax.set_xlim(\n",
      "C:\\Users\\dosre\\AppData\\Local\\Temp\\ipykernel_23500\\508105216.py:46: UserWarning: No artists with labels found to put in legend.  Note that artists whose label start with an underscore are ignored when legend() is called with no argument.\n",
      "  ax.legend()\n",
      "C:\\Users\\dosre\\AppData\\Local\\Temp\\ipykernel_23500\\508105216.py:41: UserWarning: Attempting to set identical low and high xlims makes transformation singular; automatically expanding.\n",
      "  ax.set_xlim(\n",
      "C:\\Users\\dosre\\AppData\\Local\\Temp\\ipykernel_23500\\508105216.py:46: UserWarning: No artists with labels found to put in legend.  Note that artists whose label start with an underscore are ignored when legend() is called with no argument.\n",
      "  ax.legend()\n",
      "C:\\Users\\dosre\\AppData\\Local\\Temp\\ipykernel_23500\\508105216.py:41: UserWarning: Attempting to set identical low and high xlims makes transformation singular; automatically expanding.\n",
      "  ax.set_xlim(\n",
      "C:\\Users\\dosre\\AppData\\Local\\Temp\\ipykernel_23500\\508105216.py:46: UserWarning: No artists with labels found to put in legend.  Note that artists whose label start with an underscore are ignored when legend() is called with no argument.\n",
      "  ax.legend()\n"
     ]
    },
    {
     "name": "stdout",
     "output_type": "stream",
     "text": [
      "KeyError: ilu0 wang4 150\n",
      "KeyError: ilu0 wang4 200\n",
      "KeyError: ilu0 Zhao1 10\n"
     ]
    },
    {
     "name": "stderr",
     "output_type": "stream",
     "text": [
      "C:\\Users\\dosre\\AppData\\Local\\Temp\\ipykernel_23500\\508105216.py:41: UserWarning: Attempting to set identical low and high xlims makes transformation singular; automatically expanding.\n",
      "  ax.set_xlim(\n",
      "C:\\Users\\dosre\\AppData\\Local\\Temp\\ipykernel_23500\\508105216.py:46: UserWarning: No artists with labels found to put in legend.  Note that artists whose label start with an underscore are ignored when legend() is called with no argument.\n",
      "  ax.legend()\n"
     ]
    },
    {
     "name": "stdout",
     "output_type": "stream",
     "text": [
      "KeyError: ilu0 Zhao1 20\n"
     ]
    },
    {
     "name": "stderr",
     "output_type": "stream",
     "text": [
      "C:\\Users\\dosre\\AppData\\Local\\Temp\\ipykernel_23500\\508105216.py:41: UserWarning: Attempting to set identical low and high xlims makes transformation singular; automatically expanding.\n",
      "  ax.set_xlim(\n",
      "C:\\Users\\dosre\\AppData\\Local\\Temp\\ipykernel_23500\\508105216.py:46: UserWarning: No artists with labels found to put in legend.  Note that artists whose label start with an underscore are ignored when legend() is called with no argument.\n",
      "  ax.legend()\n",
      "C:\\Users\\dosre\\AppData\\Local\\Temp\\ipykernel_23500\\508105216.py:41: UserWarning: Attempting to set identical low and high xlims makes transformation singular; automatically expanding.\n",
      "  ax.set_xlim(\n",
      "C:\\Users\\dosre\\AppData\\Local\\Temp\\ipykernel_23500\\508105216.py:46: UserWarning: No artists with labels found to put in legend.  Note that artists whose label start with an underscore are ignored when legend() is called with no argument.\n",
      "  ax.legend()\n"
     ]
    },
    {
     "name": "stdout",
     "output_type": "stream",
     "text": [
      "KeyError: ilu0 Zhao1 30\n",
      "KeyError: ilu0 Zhao1 40\n"
     ]
    },
    {
     "name": "stderr",
     "output_type": "stream",
     "text": [
      "C:\\Users\\dosre\\AppData\\Local\\Temp\\ipykernel_23500\\508105216.py:41: UserWarning: Attempting to set identical low and high xlims makes transformation singular; automatically expanding.\n",
      "  ax.set_xlim(\n",
      "C:\\Users\\dosre\\AppData\\Local\\Temp\\ipykernel_23500\\508105216.py:46: UserWarning: No artists with labels found to put in legend.  Note that artists whose label start with an underscore are ignored when legend() is called with no argument.\n",
      "  ax.legend()\n",
      "C:\\Users\\dosre\\AppData\\Local\\Temp\\ipykernel_23500\\508105216.py:41: UserWarning: Attempting to set identical low and high xlims makes transformation singular; automatically expanding.\n",
      "  ax.set_xlim(\n",
      "C:\\Users\\dosre\\AppData\\Local\\Temp\\ipykernel_23500\\508105216.py:46: UserWarning: No artists with labels found to put in legend.  Note that artists whose label start with an underscore are ignored when legend() is called with no argument.\n",
      "  ax.legend()\n"
     ]
    },
    {
     "name": "stdout",
     "output_type": "stream",
     "text": [
      "KeyError: ilu0 Zhao1 50\n",
      "KeyError: ilu0 Zhao1 100\n"
     ]
    },
    {
     "name": "stderr",
     "output_type": "stream",
     "text": [
      "C:\\Users\\dosre\\AppData\\Local\\Temp\\ipykernel_23500\\508105216.py:41: UserWarning: Attempting to set identical low and high xlims makes transformation singular; automatically expanding.\n",
      "  ax.set_xlim(\n",
      "C:\\Users\\dosre\\AppData\\Local\\Temp\\ipykernel_23500\\508105216.py:46: UserWarning: No artists with labels found to put in legend.  Note that artists whose label start with an underscore are ignored when legend() is called with no argument.\n",
      "  ax.legend()\n",
      "C:\\Users\\dosre\\AppData\\Local\\Temp\\ipykernel_23500\\508105216.py:41: UserWarning: Attempting to set identical low and high xlims makes transformation singular; automatically expanding.\n",
      "  ax.set_xlim(\n",
      "C:\\Users\\dosre\\AppData\\Local\\Temp\\ipykernel_23500\\508105216.py:46: UserWarning: No artists with labels found to put in legend.  Note that artists whose label start with an underscore are ignored when legend() is called with no argument.\n",
      "  ax.legend()\n",
      "C:\\Users\\dosre\\AppData\\Local\\Temp\\ipykernel_23500\\508105216.py:41: UserWarning: Attempting to set identical low and high xlims makes transformation singular; automatically expanding.\n",
      "  ax.set_xlim(\n",
      "C:\\Users\\dosre\\AppData\\Local\\Temp\\ipykernel_23500\\508105216.py:46: UserWarning: No artists with labels found to put in legend.  Note that artists whose label start with an underscore are ignored when legend() is called with no argument.\n",
      "  ax.legend()\n"
     ]
    },
    {
     "name": "stdout",
     "output_type": "stream",
     "text": [
      "KeyError: ilu0 Zhao1 150\n",
      "KeyError: ilu0 Zhao1 200\n",
      "KeyError: ilu0 Zhao2 10\n"
     ]
    },
    {
     "name": "stderr",
     "output_type": "stream",
     "text": [
      "C:\\Users\\dosre\\AppData\\Local\\Temp\\ipykernel_23500\\508105216.py:41: UserWarning: Attempting to set identical low and high xlims makes transformation singular; automatically expanding.\n",
      "  ax.set_xlim(\n",
      "C:\\Users\\dosre\\AppData\\Local\\Temp\\ipykernel_23500\\508105216.py:46: UserWarning: No artists with labels found to put in legend.  Note that artists whose label start with an underscore are ignored when legend() is called with no argument.\n",
      "  ax.legend()\n",
      "C:\\Users\\dosre\\AppData\\Local\\Temp\\ipykernel_23500\\508105216.py:41: UserWarning: Attempting to set identical low and high xlims makes transformation singular; automatically expanding.\n",
      "  ax.set_xlim(\n",
      "C:\\Users\\dosre\\AppData\\Local\\Temp\\ipykernel_23500\\508105216.py:46: UserWarning: No artists with labels found to put in legend.  Note that artists whose label start with an underscore are ignored when legend() is called with no argument.\n",
      "  ax.legend()\n"
     ]
    },
    {
     "name": "stdout",
     "output_type": "stream",
     "text": [
      "KeyError: ilu0 Zhao2 20\n",
      "KeyError: ilu0 Zhao2 30\n"
     ]
    },
    {
     "name": "stderr",
     "output_type": "stream",
     "text": [
      "C:\\Users\\dosre\\AppData\\Local\\Temp\\ipykernel_23500\\508105216.py:41: UserWarning: Attempting to set identical low and high xlims makes transformation singular; automatically expanding.\n",
      "  ax.set_xlim(\n",
      "C:\\Users\\dosre\\AppData\\Local\\Temp\\ipykernel_23500\\508105216.py:46: UserWarning: No artists with labels found to put in legend.  Note that artists whose label start with an underscore are ignored when legend() is called with no argument.\n",
      "  ax.legend()\n",
      "C:\\Users\\dosre\\AppData\\Local\\Temp\\ipykernel_23500\\508105216.py:41: UserWarning: Attempting to set identical low and high xlims makes transformation singular; automatically expanding.\n",
      "  ax.set_xlim(\n",
      "C:\\Users\\dosre\\AppData\\Local\\Temp\\ipykernel_23500\\508105216.py:46: UserWarning: No artists with labels found to put in legend.  Note that artists whose label start with an underscore are ignored when legend() is called with no argument.\n",
      "  ax.legend()\n"
     ]
    },
    {
     "name": "stdout",
     "output_type": "stream",
     "text": [
      "KeyError: ilu0 Zhao2 40\n",
      "KeyError: ilu0 Zhao2 50\n"
     ]
    },
    {
     "name": "stderr",
     "output_type": "stream",
     "text": [
      "C:\\Users\\dosre\\AppData\\Local\\Temp\\ipykernel_23500\\508105216.py:41: UserWarning: Attempting to set identical low and high xlims makes transformation singular; automatically expanding.\n",
      "  ax.set_xlim(\n",
      "C:\\Users\\dosre\\AppData\\Local\\Temp\\ipykernel_23500\\508105216.py:46: UserWarning: No artists with labels found to put in legend.  Note that artists whose label start with an underscore are ignored when legend() is called with no argument.\n",
      "  ax.legend()\n",
      "C:\\Users\\dosre\\AppData\\Local\\Temp\\ipykernel_23500\\508105216.py:41: UserWarning: Attempting to set identical low and high xlims makes transformation singular; automatically expanding.\n",
      "  ax.set_xlim(\n",
      "C:\\Users\\dosre\\AppData\\Local\\Temp\\ipykernel_23500\\508105216.py:46: UserWarning: No artists with labels found to put in legend.  Note that artists whose label start with an underscore are ignored when legend() is called with no argument.\n",
      "  ax.legend()\n"
     ]
    },
    {
     "name": "stdout",
     "output_type": "stream",
     "text": [
      "KeyError: ilu0 Zhao2 100\n",
      "KeyError: ilu0 Zhao2 150\n"
     ]
    },
    {
     "name": "stderr",
     "output_type": "stream",
     "text": [
      "C:\\Users\\dosre\\AppData\\Local\\Temp\\ipykernel_23500\\508105216.py:41: UserWarning: Attempting to set identical low and high xlims makes transformation singular; automatically expanding.\n",
      "  ax.set_xlim(\n",
      "C:\\Users\\dosre\\AppData\\Local\\Temp\\ipykernel_23500\\508105216.py:46: UserWarning: No artists with labels found to put in legend.  Note that artists whose label start with an underscore are ignored when legend() is called with no argument.\n",
      "  ax.legend()\n",
      "C:\\Users\\dosre\\AppData\\Local\\Temp\\ipykernel_23500\\508105216.py:41: UserWarning: Attempting to set identical low and high xlims makes transformation singular; automatically expanding.\n",
      "  ax.set_xlim(\n",
      "C:\\Users\\dosre\\AppData\\Local\\Temp\\ipykernel_23500\\508105216.py:46: UserWarning: No artists with labels found to put in legend.  Note that artists whose label start with an underscore are ignored when legend() is called with no argument.\n",
      "  ax.legend()\n"
     ]
    },
    {
     "name": "stdout",
     "output_type": "stream",
     "text": [
      "KeyError: ilu0 Zhao2 200\n",
      "KeyError: ilutp1em2 af23560 10\n"
     ]
    },
    {
     "name": "stderr",
     "output_type": "stream",
     "text": [
      "C:\\Users\\dosre\\AppData\\Local\\Temp\\ipykernel_23500\\508105216.py:41: UserWarning: Attempting to set identical low and high xlims makes transformation singular; automatically expanding.\n",
      "  ax.set_xlim(\n",
      "C:\\Users\\dosre\\AppData\\Local\\Temp\\ipykernel_23500\\508105216.py:46: UserWarning: No artists with labels found to put in legend.  Note that artists whose label start with an underscore are ignored when legend() is called with no argument.\n",
      "  ax.legend()\n",
      "C:\\Users\\dosre\\AppData\\Local\\Temp\\ipykernel_23500\\508105216.py:41: UserWarning: Attempting to set identical low and high xlims makes transformation singular; automatically expanding.\n",
      "  ax.set_xlim(\n",
      "C:\\Users\\dosre\\AppData\\Local\\Temp\\ipykernel_23500\\508105216.py:46: UserWarning: No artists with labels found to put in legend.  Note that artists whose label start with an underscore are ignored when legend() is called with no argument.\n",
      "  ax.legend()\n"
     ]
    },
    {
     "name": "stdout",
     "output_type": "stream",
     "text": [
      "KeyError: ilutp1em2 af23560 20\n",
      "KeyError: ilutp1em2 af23560 30\n"
     ]
    },
    {
     "name": "stderr",
     "output_type": "stream",
     "text": [
      "C:\\Users\\dosre\\AppData\\Local\\Temp\\ipykernel_23500\\508105216.py:41: UserWarning: Attempting to set identical low and high xlims makes transformation singular; automatically expanding.\n",
      "  ax.set_xlim(\n",
      "C:\\Users\\dosre\\AppData\\Local\\Temp\\ipykernel_23500\\508105216.py:46: UserWarning: No artists with labels found to put in legend.  Note that artists whose label start with an underscore are ignored when legend() is called with no argument.\n",
      "  ax.legend()\n",
      "C:\\Users\\dosre\\AppData\\Local\\Temp\\ipykernel_23500\\508105216.py:41: UserWarning: Attempting to set identical low and high xlims makes transformation singular; automatically expanding.\n",
      "  ax.set_xlim(\n",
      "C:\\Users\\dosre\\AppData\\Local\\Temp\\ipykernel_23500\\508105216.py:46: UserWarning: No artists with labels found to put in legend.  Note that artists whose label start with an underscore are ignored when legend() is called with no argument.\n",
      "  ax.legend()\n"
     ]
    },
    {
     "name": "stdout",
     "output_type": "stream",
     "text": [
      "KeyError: ilutp1em2 af23560 40\n",
      "KeyError: ilutp1em2 af23560 50\n"
     ]
    },
    {
     "name": "stderr",
     "output_type": "stream",
     "text": [
      "C:\\Users\\dosre\\AppData\\Local\\Temp\\ipykernel_23500\\508105216.py:41: UserWarning: Attempting to set identical low and high xlims makes transformation singular; automatically expanding.\n",
      "  ax.set_xlim(\n",
      "C:\\Users\\dosre\\AppData\\Local\\Temp\\ipykernel_23500\\508105216.py:46: UserWarning: No artists with labels found to put in legend.  Note that artists whose label start with an underscore are ignored when legend() is called with no argument.\n",
      "  ax.legend()\n",
      "C:\\Users\\dosre\\AppData\\Local\\Temp\\ipykernel_23500\\508105216.py:41: UserWarning: Attempting to set identical low and high xlims makes transformation singular; automatically expanding.\n",
      "  ax.set_xlim(\n",
      "C:\\Users\\dosre\\AppData\\Local\\Temp\\ipykernel_23500\\508105216.py:46: UserWarning: No artists with labels found to put in legend.  Note that artists whose label start with an underscore are ignored when legend() is called with no argument.\n",
      "  ax.legend()\n"
     ]
    },
    {
     "name": "stdout",
     "output_type": "stream",
     "text": [
      "KeyError: ilutp1em2 af23560 100\n",
      "KeyError: ilutp1em2 af23560 150\n"
     ]
    },
    {
     "name": "stderr",
     "output_type": "stream",
     "text": [
      "C:\\Users\\dosre\\AppData\\Local\\Temp\\ipykernel_23500\\508105216.py:41: UserWarning: Attempting to set identical low and high xlims makes transformation singular; automatically expanding.\n",
      "  ax.set_xlim(\n",
      "C:\\Users\\dosre\\AppData\\Local\\Temp\\ipykernel_23500\\508105216.py:46: UserWarning: No artists with labels found to put in legend.  Note that artists whose label start with an underscore are ignored when legend() is called with no argument.\n",
      "  ax.legend()\n",
      "C:\\Users\\dosre\\AppData\\Local\\Temp\\ipykernel_23500\\508105216.py:41: UserWarning: Attempting to set identical low and high xlims makes transformation singular; automatically expanding.\n",
      "  ax.set_xlim(\n",
      "C:\\Users\\dosre\\AppData\\Local\\Temp\\ipykernel_23500\\508105216.py:46: UserWarning: No artists with labels found to put in legend.  Note that artists whose label start with an underscore are ignored when legend() is called with no argument.\n",
      "  ax.legend()\n",
      "C:\\Users\\dosre\\AppData\\Local\\Temp\\ipykernel_23500\\508105216.py:41: UserWarning: Attempting to set identical low and high xlims makes transformation singular; automatically expanding.\n",
      "  ax.set_xlim(\n",
      "C:\\Users\\dosre\\AppData\\Local\\Temp\\ipykernel_23500\\508105216.py:46: UserWarning: No artists with labels found to put in legend.  Note that artists whose label start with an underscore are ignored when legend() is called with no argument.\n",
      "  ax.legend()\n"
     ]
    },
    {
     "name": "stdout",
     "output_type": "stream",
     "text": [
      "KeyError: ilutp1em2 af23560 200\n",
      "KeyError: ilutp1em2 airfoil_2d 10\n",
      "KeyError: ilutp1em2 airfoil_2d 20\n"
     ]
    },
    {
     "name": "stderr",
     "output_type": "stream",
     "text": [
      "C:\\Users\\dosre\\AppData\\Local\\Temp\\ipykernel_23500\\508105216.py:41: UserWarning: Attempting to set identical low and high xlims makes transformation singular; automatically expanding.\n",
      "  ax.set_xlim(\n",
      "C:\\Users\\dosre\\AppData\\Local\\Temp\\ipykernel_23500\\508105216.py:46: UserWarning: No artists with labels found to put in legend.  Note that artists whose label start with an underscore are ignored when legend() is called with no argument.\n",
      "  ax.legend()\n",
      "C:\\Users\\dosre\\AppData\\Local\\Temp\\ipykernel_23500\\508105216.py:41: UserWarning: Attempting to set identical low and high xlims makes transformation singular; automatically expanding.\n",
      "  ax.set_xlim(\n",
      "C:\\Users\\dosre\\AppData\\Local\\Temp\\ipykernel_23500\\508105216.py:46: UserWarning: No artists with labels found to put in legend.  Note that artists whose label start with an underscore are ignored when legend() is called with no argument.\n",
      "  ax.legend()\n"
     ]
    },
    {
     "name": "stdout",
     "output_type": "stream",
     "text": [
      "KeyError: ilutp1em2 airfoil_2d 30\n",
      "KeyError: ilutp1em2 airfoil_2d 40\n"
     ]
    },
    {
     "name": "stderr",
     "output_type": "stream",
     "text": [
      "C:\\Users\\dosre\\AppData\\Local\\Temp\\ipykernel_23500\\508105216.py:41: UserWarning: Attempting to set identical low and high xlims makes transformation singular; automatically expanding.\n",
      "  ax.set_xlim(\n",
      "C:\\Users\\dosre\\AppData\\Local\\Temp\\ipykernel_23500\\508105216.py:46: UserWarning: No artists with labels found to put in legend.  Note that artists whose label start with an underscore are ignored when legend() is called with no argument.\n",
      "  ax.legend()\n",
      "C:\\Users\\dosre\\AppData\\Local\\Temp\\ipykernel_23500\\508105216.py:41: UserWarning: Attempting to set identical low and high xlims makes transformation singular; automatically expanding.\n",
      "  ax.set_xlim(\n",
      "C:\\Users\\dosre\\AppData\\Local\\Temp\\ipykernel_23500\\508105216.py:46: UserWarning: No artists with labels found to put in legend.  Note that artists whose label start with an underscore are ignored when legend() is called with no argument.\n",
      "  ax.legend()\n"
     ]
    },
    {
     "name": "stdout",
     "output_type": "stream",
     "text": [
      "KeyError: ilutp1em2 airfoil_2d 50\n",
      "KeyError: ilutp1em2 airfoil_2d 100\n"
     ]
    },
    {
     "name": "stderr",
     "output_type": "stream",
     "text": [
      "C:\\Users\\dosre\\AppData\\Local\\Temp\\ipykernel_23500\\508105216.py:41: UserWarning: Attempting to set identical low and high xlims makes transformation singular; automatically expanding.\n",
      "  ax.set_xlim(\n",
      "C:\\Users\\dosre\\AppData\\Local\\Temp\\ipykernel_23500\\508105216.py:46: UserWarning: No artists with labels found to put in legend.  Note that artists whose label start with an underscore are ignored when legend() is called with no argument.\n",
      "  ax.legend()\n",
      "C:\\Users\\dosre\\AppData\\Local\\Temp\\ipykernel_23500\\508105216.py:41: UserWarning: Attempting to set identical low and high xlims makes transformation singular; automatically expanding.\n",
      "  ax.set_xlim(\n",
      "C:\\Users\\dosre\\AppData\\Local\\Temp\\ipykernel_23500\\508105216.py:46: UserWarning: No artists with labels found to put in legend.  Note that artists whose label start with an underscore are ignored when legend() is called with no argument.\n",
      "  ax.legend()\n"
     ]
    },
    {
     "name": "stdout",
     "output_type": "stream",
     "text": [
      "KeyError: ilutp1em2 airfoil_2d 150\n",
      "KeyError: ilutp1em2 airfoil_2d 200\n"
     ]
    },
    {
     "name": "stderr",
     "output_type": "stream",
     "text": [
      "C:\\Users\\dosre\\AppData\\Local\\Temp\\ipykernel_23500\\508105216.py:41: UserWarning: Attempting to set identical low and high xlims makes transformation singular; automatically expanding.\n",
      "  ax.set_xlim(\n",
      "C:\\Users\\dosre\\AppData\\Local\\Temp\\ipykernel_23500\\508105216.py:46: UserWarning: No artists with labels found to put in legend.  Note that artists whose label start with an underscore are ignored when legend() is called with no argument.\n",
      "  ax.legend()\n",
      "C:\\Users\\dosre\\AppData\\Local\\Temp\\ipykernel_23500\\508105216.py:41: UserWarning: Attempting to set identical low and high xlims makes transformation singular; automatically expanding.\n",
      "  ax.set_xlim(\n",
      "C:\\Users\\dosre\\AppData\\Local\\Temp\\ipykernel_23500\\508105216.py:46: UserWarning: No artists with labels found to put in legend.  Note that artists whose label start with an underscore are ignored when legend() is called with no argument.\n",
      "  ax.legend()\n"
     ]
    },
    {
     "name": "stdout",
     "output_type": "stream",
     "text": [
      "KeyError: ilutp1em2 appu 10\n",
      "KeyError: ilutp1em2 appu 20\n"
     ]
    },
    {
     "name": "stderr",
     "output_type": "stream",
     "text": [
      "C:\\Users\\dosre\\AppData\\Local\\Temp\\ipykernel_23500\\508105216.py:41: UserWarning: Attempting to set identical low and high xlims makes transformation singular; automatically expanding.\n",
      "  ax.set_xlim(\n",
      "C:\\Users\\dosre\\AppData\\Local\\Temp\\ipykernel_23500\\508105216.py:46: UserWarning: No artists with labels found to put in legend.  Note that artists whose label start with an underscore are ignored when legend() is called with no argument.\n",
      "  ax.legend()\n",
      "C:\\Users\\dosre\\AppData\\Local\\Temp\\ipykernel_23500\\508105216.py:41: UserWarning: Attempting to set identical low and high xlims makes transformation singular; automatically expanding.\n",
      "  ax.set_xlim(\n",
      "C:\\Users\\dosre\\AppData\\Local\\Temp\\ipykernel_23500\\508105216.py:46: UserWarning: No artists with labels found to put in legend.  Note that artists whose label start with an underscore are ignored when legend() is called with no argument.\n",
      "  ax.legend()\n",
      "C:\\Users\\dosre\\AppData\\Local\\Temp\\ipykernel_23500\\508105216.py:41: UserWarning: Attempting to set identical low and high xlims makes transformation singular; automatically expanding.\n",
      "  ax.set_xlim(\n",
      "C:\\Users\\dosre\\AppData\\Local\\Temp\\ipykernel_23500\\508105216.py:46: UserWarning: No artists with labels found to put in legend.  Note that artists whose label start with an underscore are ignored when legend() is called with no argument.\n",
      "  ax.legend()\n"
     ]
    },
    {
     "name": "stdout",
     "output_type": "stream",
     "text": [
      "KeyError: ilutp1em2 appu 30\n",
      "KeyError: ilutp1em2 appu 40\n",
      "KeyError: ilutp1em2 appu 50\n"
     ]
    },
    {
     "name": "stderr",
     "output_type": "stream",
     "text": [
      "C:\\Users\\dosre\\AppData\\Local\\Temp\\ipykernel_23500\\508105216.py:41: UserWarning: Attempting to set identical low and high xlims makes transformation singular; automatically expanding.\n",
      "  ax.set_xlim(\n",
      "C:\\Users\\dosre\\AppData\\Local\\Temp\\ipykernel_23500\\508105216.py:46: UserWarning: No artists with labels found to put in legend.  Note that artists whose label start with an underscore are ignored when legend() is called with no argument.\n",
      "  ax.legend()\n",
      "C:\\Users\\dosre\\AppData\\Local\\Temp\\ipykernel_23500\\508105216.py:41: UserWarning: Attempting to set identical low and high xlims makes transformation singular; automatically expanding.\n",
      "  ax.set_xlim(\n",
      "C:\\Users\\dosre\\AppData\\Local\\Temp\\ipykernel_23500\\508105216.py:46: UserWarning: No artists with labels found to put in legend.  Note that artists whose label start with an underscore are ignored when legend() is called with no argument.\n",
      "  ax.legend()\n"
     ]
    },
    {
     "name": "stdout",
     "output_type": "stream",
     "text": [
      "KeyError: ilutp1em2 appu 100\n",
      "KeyError: ilutp1em2 appu 150\n"
     ]
    },
    {
     "name": "stderr",
     "output_type": "stream",
     "text": [
      "C:\\Users\\dosre\\AppData\\Local\\Temp\\ipykernel_23500\\508105216.py:41: UserWarning: Attempting to set identical low and high xlims makes transformation singular; automatically expanding.\n",
      "  ax.set_xlim(\n",
      "C:\\Users\\dosre\\AppData\\Local\\Temp\\ipykernel_23500\\508105216.py:46: UserWarning: No artists with labels found to put in legend.  Note that artists whose label start with an underscore are ignored when legend() is called with no argument.\n",
      "  ax.legend()\n",
      "C:\\Users\\dosre\\AppData\\Local\\Temp\\ipykernel_23500\\508105216.py:41: UserWarning: Attempting to set identical low and high xlims makes transformation singular; automatically expanding.\n",
      "  ax.set_xlim(\n",
      "C:\\Users\\dosre\\AppData\\Local\\Temp\\ipykernel_23500\\508105216.py:46: UserWarning: No artists with labels found to put in legend.  Note that artists whose label start with an underscore are ignored when legend() is called with no argument.\n",
      "  ax.legend()\n"
     ]
    },
    {
     "name": "stdout",
     "output_type": "stream",
     "text": [
      "KeyError: ilutp1em2 appu 200\n",
      "KeyError: ilutp1em2 cage10 10\n",
      "KeyError: ilutp1em2 cage10 20\n"
     ]
    },
    {
     "name": "stderr",
     "output_type": "stream",
     "text": [
      "C:\\Users\\dosre\\AppData\\Local\\Temp\\ipykernel_23500\\508105216.py:41: UserWarning: Attempting to set identical low and high xlims makes transformation singular; automatically expanding.\n",
      "  ax.set_xlim(\n",
      "C:\\Users\\dosre\\AppData\\Local\\Temp\\ipykernel_23500\\508105216.py:46: UserWarning: No artists with labels found to put in legend.  Note that artists whose label start with an underscore are ignored when legend() is called with no argument.\n",
      "  ax.legend()\n",
      "C:\\Users\\dosre\\AppData\\Local\\Temp\\ipykernel_23500\\508105216.py:41: UserWarning: Attempting to set identical low and high xlims makes transformation singular; automatically expanding.\n",
      "  ax.set_xlim(\n",
      "C:\\Users\\dosre\\AppData\\Local\\Temp\\ipykernel_23500\\508105216.py:46: UserWarning: No artists with labels found to put in legend.  Note that artists whose label start with an underscore are ignored when legend() is called with no argument.\n",
      "  ax.legend()\n"
     ]
    },
    {
     "name": "stdout",
     "output_type": "stream",
     "text": [
      "KeyError: ilutp1em2 cage10 30\n",
      "KeyError: ilutp1em2 cage10 40\n"
     ]
    },
    {
     "name": "stderr",
     "output_type": "stream",
     "text": [
      "C:\\Users\\dosre\\AppData\\Local\\Temp\\ipykernel_23500\\508105216.py:41: UserWarning: Attempting to set identical low and high xlims makes transformation singular; automatically expanding.\n",
      "  ax.set_xlim(\n",
      "C:\\Users\\dosre\\AppData\\Local\\Temp\\ipykernel_23500\\508105216.py:46: UserWarning: No artists with labels found to put in legend.  Note that artists whose label start with an underscore are ignored when legend() is called with no argument.\n",
      "  ax.legend()\n",
      "C:\\Users\\dosre\\AppData\\Local\\Temp\\ipykernel_23500\\508105216.py:41: UserWarning: Attempting to set identical low and high xlims makes transformation singular; automatically expanding.\n",
      "  ax.set_xlim(\n",
      "C:\\Users\\dosre\\AppData\\Local\\Temp\\ipykernel_23500\\508105216.py:46: UserWarning: No artists with labels found to put in legend.  Note that artists whose label start with an underscore are ignored when legend() is called with no argument.\n",
      "  ax.legend()\n"
     ]
    },
    {
     "name": "stdout",
     "output_type": "stream",
     "text": [
      "KeyError: ilutp1em2 cage10 50\n",
      "KeyError: ilutp1em2 cage10 100\n"
     ]
    },
    {
     "name": "stderr",
     "output_type": "stream",
     "text": [
      "C:\\Users\\dosre\\AppData\\Local\\Temp\\ipykernel_23500\\508105216.py:41: UserWarning: Attempting to set identical low and high xlims makes transformation singular; automatically expanding.\n",
      "  ax.set_xlim(\n",
      "C:\\Users\\dosre\\AppData\\Local\\Temp\\ipykernel_23500\\508105216.py:46: UserWarning: No artists with labels found to put in legend.  Note that artists whose label start with an underscore are ignored when legend() is called with no argument.\n",
      "  ax.legend()\n",
      "C:\\Users\\dosre\\AppData\\Local\\Temp\\ipykernel_23500\\508105216.py:41: UserWarning: Attempting to set identical low and high xlims makes transformation singular; automatically expanding.\n",
      "  ax.set_xlim(\n",
      "C:\\Users\\dosre\\AppData\\Local\\Temp\\ipykernel_23500\\508105216.py:46: UserWarning: No artists with labels found to put in legend.  Note that artists whose label start with an underscore are ignored when legend() is called with no argument.\n",
      "  ax.legend()\n"
     ]
    },
    {
     "name": "stdout",
     "output_type": "stream",
     "text": [
      "KeyError: ilutp1em2 cage10 150\n",
      "KeyError: ilutp1em2 cage10 200\n"
     ]
    },
    {
     "name": "stderr",
     "output_type": "stream",
     "text": [
      "C:\\Users\\dosre\\AppData\\Local\\Temp\\ipykernel_23500\\508105216.py:41: UserWarning: Attempting to set identical low and high xlims makes transformation singular; automatically expanding.\n",
      "  ax.set_xlim(\n",
      "C:\\Users\\dosre\\AppData\\Local\\Temp\\ipykernel_23500\\508105216.py:46: UserWarning: No artists with labels found to put in legend.  Note that artists whose label start with an underscore are ignored when legend() is called with no argument.\n",
      "  ax.legend()\n",
      "C:\\Users\\dosre\\AppData\\Local\\Temp\\ipykernel_23500\\508105216.py:41: UserWarning: Attempting to set identical low and high xlims makes transformation singular; automatically expanding.\n",
      "  ax.set_xlim(\n",
      "C:\\Users\\dosre\\AppData\\Local\\Temp\\ipykernel_23500\\508105216.py:46: UserWarning: No artists with labels found to put in legend.  Note that artists whose label start with an underscore are ignored when legend() is called with no argument.\n",
      "  ax.legend()\n"
     ]
    },
    {
     "name": "stdout",
     "output_type": "stream",
     "text": [
      "KeyError: ilutp1em2 chipcool1 10\n",
      "KeyError: ilutp1em2 chipcool1 20\n"
     ]
    },
    {
     "name": "stderr",
     "output_type": "stream",
     "text": [
      "C:\\Users\\dosre\\AppData\\Local\\Temp\\ipykernel_23500\\508105216.py:41: UserWarning: Attempting to set identical low and high xlims makes transformation singular; automatically expanding.\n",
      "  ax.set_xlim(\n",
      "C:\\Users\\dosre\\AppData\\Local\\Temp\\ipykernel_23500\\508105216.py:46: UserWarning: No artists with labels found to put in legend.  Note that artists whose label start with an underscore are ignored when legend() is called with no argument.\n",
      "  ax.legend()\n",
      "C:\\Users\\dosre\\AppData\\Local\\Temp\\ipykernel_23500\\508105216.py:41: UserWarning: Attempting to set identical low and high xlims makes transformation singular; automatically expanding.\n",
      "  ax.set_xlim(\n",
      "C:\\Users\\dosre\\AppData\\Local\\Temp\\ipykernel_23500\\508105216.py:46: UserWarning: No artists with labels found to put in legend.  Note that artists whose label start with an underscore are ignored when legend() is called with no argument.\n",
      "  ax.legend()\n"
     ]
    },
    {
     "name": "stdout",
     "output_type": "stream",
     "text": [
      "KeyError: ilutp1em2 chipcool1 30\n"
     ]
    },
    {
     "name": "stderr",
     "output_type": "stream",
     "text": [
      "C:\\Users\\dosre\\AppData\\Local\\Temp\\ipykernel_23500\\508105216.py:41: UserWarning: Attempting to set identical low and high xlims makes transformation singular; automatically expanding.\n",
      "  ax.set_xlim(\n",
      "C:\\Users\\dosre\\AppData\\Local\\Temp\\ipykernel_23500\\508105216.py:46: UserWarning: No artists with labels found to put in legend.  Note that artists whose label start with an underscore are ignored when legend() is called with no argument.\n",
      "  ax.legend()\n",
      "C:\\Users\\dosre\\AppData\\Local\\Temp\\ipykernel_23500\\508105216.py:41: UserWarning: Attempting to set identical low and high xlims makes transformation singular; automatically expanding.\n",
      "  ax.set_xlim(\n",
      "C:\\Users\\dosre\\AppData\\Local\\Temp\\ipykernel_23500\\508105216.py:46: UserWarning: No artists with labels found to put in legend.  Note that artists whose label start with an underscore are ignored when legend() is called with no argument.\n",
      "  ax.legend()\n"
     ]
    },
    {
     "name": "stdout",
     "output_type": "stream",
     "text": [
      "KeyError: ilutp1em2 chipcool1 40\n",
      "KeyError: ilutp1em2 chipcool1 50\n"
     ]
    },
    {
     "name": "stderr",
     "output_type": "stream",
     "text": [
      "C:\\Users\\dosre\\AppData\\Local\\Temp\\ipykernel_23500\\508105216.py:41: UserWarning: Attempting to set identical low and high xlims makes transformation singular; automatically expanding.\n",
      "  ax.set_xlim(\n",
      "C:\\Users\\dosre\\AppData\\Local\\Temp\\ipykernel_23500\\508105216.py:46: UserWarning: No artists with labels found to put in legend.  Note that artists whose label start with an underscore are ignored when legend() is called with no argument.\n",
      "  ax.legend()\n",
      "C:\\Users\\dosre\\AppData\\Local\\Temp\\ipykernel_23500\\508105216.py:41: UserWarning: Attempting to set identical low and high xlims makes transformation singular; automatically expanding.\n",
      "  ax.set_xlim(\n",
      "C:\\Users\\dosre\\AppData\\Local\\Temp\\ipykernel_23500\\508105216.py:46: UserWarning: No artists with labels found to put in legend.  Note that artists whose label start with an underscore are ignored when legend() is called with no argument.\n",
      "  ax.legend()\n"
     ]
    },
    {
     "name": "stdout",
     "output_type": "stream",
     "text": [
      "KeyError: ilutp1em2 chipcool1 100\n",
      "KeyError: ilutp1em2 chipcool1 150\n"
     ]
    },
    {
     "name": "stderr",
     "output_type": "stream",
     "text": [
      "C:\\Users\\dosre\\AppData\\Local\\Temp\\ipykernel_23500\\508105216.py:41: UserWarning: Attempting to set identical low and high xlims makes transformation singular; automatically expanding.\n",
      "  ax.set_xlim(\n",
      "C:\\Users\\dosre\\AppData\\Local\\Temp\\ipykernel_23500\\508105216.py:46: UserWarning: No artists with labels found to put in legend.  Note that artists whose label start with an underscore are ignored when legend() is called with no argument.\n",
      "  ax.legend()\n",
      "C:\\Users\\dosre\\AppData\\Local\\Temp\\ipykernel_23500\\508105216.py:41: UserWarning: Attempting to set identical low and high xlims makes transformation singular; automatically expanding.\n",
      "  ax.set_xlim(\n",
      "C:\\Users\\dosre\\AppData\\Local\\Temp\\ipykernel_23500\\508105216.py:46: UserWarning: No artists with labels found to put in legend.  Note that artists whose label start with an underscore are ignored when legend() is called with no argument.\n",
      "  ax.legend()\n"
     ]
    },
    {
     "name": "stdout",
     "output_type": "stream",
     "text": [
      "KeyError: ilutp1em2 chipcool1 200\n",
      "KeyError: ilutp1em2 circuit_3 10\n"
     ]
    },
    {
     "name": "stderr",
     "output_type": "stream",
     "text": [
      "C:\\Users\\dosre\\AppData\\Local\\Temp\\ipykernel_23500\\508105216.py:41: UserWarning: Attempting to set identical low and high xlims makes transformation singular; automatically expanding.\n",
      "  ax.set_xlim(\n",
      "C:\\Users\\dosre\\AppData\\Local\\Temp\\ipykernel_23500\\508105216.py:46: UserWarning: No artists with labels found to put in legend.  Note that artists whose label start with an underscore are ignored when legend() is called with no argument.\n",
      "  ax.legend()\n",
      "C:\\Users\\dosre\\AppData\\Local\\Temp\\ipykernel_23500\\508105216.py:41: UserWarning: Attempting to set identical low and high xlims makes transformation singular; automatically expanding.\n",
      "  ax.set_xlim(\n",
      "C:\\Users\\dosre\\AppData\\Local\\Temp\\ipykernel_23500\\508105216.py:46: UserWarning: No artists with labels found to put in legend.  Note that artists whose label start with an underscore are ignored when legend() is called with no argument.\n",
      "  ax.legend()\n"
     ]
    },
    {
     "name": "stdout",
     "output_type": "stream",
     "text": [
      "KeyError: ilutp1em2 circuit_3 20\n",
      "KeyError: ilutp1em2 circuit_3 30\n"
     ]
    },
    {
     "name": "stderr",
     "output_type": "stream",
     "text": [
      "C:\\Users\\dosre\\AppData\\Local\\Temp\\ipykernel_23500\\508105216.py:41: UserWarning: Attempting to set identical low and high xlims makes transformation singular; automatically expanding.\n",
      "  ax.set_xlim(\n",
      "C:\\Users\\dosre\\AppData\\Local\\Temp\\ipykernel_23500\\508105216.py:46: UserWarning: No artists with labels found to put in legend.  Note that artists whose label start with an underscore are ignored when legend() is called with no argument.\n",
      "  ax.legend()\n",
      "C:\\Users\\dosre\\AppData\\Local\\Temp\\ipykernel_23500\\508105216.py:41: UserWarning: Attempting to set identical low and high xlims makes transformation singular; automatically expanding.\n",
      "  ax.set_xlim(\n",
      "C:\\Users\\dosre\\AppData\\Local\\Temp\\ipykernel_23500\\508105216.py:46: UserWarning: No artists with labels found to put in legend.  Note that artists whose label start with an underscore are ignored when legend() is called with no argument.\n",
      "  ax.legend()\n"
     ]
    },
    {
     "name": "stdout",
     "output_type": "stream",
     "text": [
      "KeyError: ilutp1em2 circuit_3 40\n",
      "KeyError: ilutp1em2 circuit_3 50\n"
     ]
    },
    {
     "name": "stderr",
     "output_type": "stream",
     "text": [
      "C:\\Users\\dosre\\AppData\\Local\\Temp\\ipykernel_23500\\508105216.py:41: UserWarning: Attempting to set identical low and high xlims makes transformation singular; automatically expanding.\n",
      "  ax.set_xlim(\n",
      "C:\\Users\\dosre\\AppData\\Local\\Temp\\ipykernel_23500\\508105216.py:46: UserWarning: No artists with labels found to put in legend.  Note that artists whose label start with an underscore are ignored when legend() is called with no argument.\n",
      "  ax.legend()\n",
      "C:\\Users\\dosre\\AppData\\Local\\Temp\\ipykernel_23500\\508105216.py:41: UserWarning: Attempting to set identical low and high xlims makes transformation singular; automatically expanding.\n",
      "  ax.set_xlim(\n",
      "C:\\Users\\dosre\\AppData\\Local\\Temp\\ipykernel_23500\\508105216.py:46: UserWarning: No artists with labels found to put in legend.  Note that artists whose label start with an underscore are ignored when legend() is called with no argument.\n",
      "  ax.legend()\n"
     ]
    },
    {
     "name": "stdout",
     "output_type": "stream",
     "text": [
      "KeyError: ilutp1em2 circuit_3 100\n",
      "KeyError: ilutp1em2 circuit_3 150\n"
     ]
    },
    {
     "name": "stderr",
     "output_type": "stream",
     "text": [
      "C:\\Users\\dosre\\AppData\\Local\\Temp\\ipykernel_23500\\508105216.py:41: UserWarning: Attempting to set identical low and high xlims makes transformation singular; automatically expanding.\n",
      "  ax.set_xlim(\n",
      "C:\\Users\\dosre\\AppData\\Local\\Temp\\ipykernel_23500\\508105216.py:46: UserWarning: No artists with labels found to put in legend.  Note that artists whose label start with an underscore are ignored when legend() is called with no argument.\n",
      "  ax.legend()\n",
      "C:\\Users\\dosre\\AppData\\Local\\Temp\\ipykernel_23500\\508105216.py:41: UserWarning: Attempting to set identical low and high xlims makes transformation singular; automatically expanding.\n",
      "  ax.set_xlim(\n",
      "C:\\Users\\dosre\\AppData\\Local\\Temp\\ipykernel_23500\\508105216.py:46: UserWarning: No artists with labels found to put in legend.  Note that artists whose label start with an underscore are ignored when legend() is called with no argument.\n",
      "  ax.legend()\n"
     ]
    },
    {
     "name": "stdout",
     "output_type": "stream",
     "text": [
      "KeyError: ilutp1em2 circuit_3 200\n",
      "KeyError: ilutp1em2 coupled 10\n"
     ]
    },
    {
     "name": "stderr",
     "output_type": "stream",
     "text": [
      "C:\\Users\\dosre\\AppData\\Local\\Temp\\ipykernel_23500\\508105216.py:41: UserWarning: Attempting to set identical low and high xlims makes transformation singular; automatically expanding.\n",
      "  ax.set_xlim(\n",
      "C:\\Users\\dosre\\AppData\\Local\\Temp\\ipykernel_23500\\508105216.py:46: UserWarning: No artists with labels found to put in legend.  Note that artists whose label start with an underscore are ignored when legend() is called with no argument.\n",
      "  ax.legend()\n",
      "C:\\Users\\dosre\\AppData\\Local\\Temp\\ipykernel_23500\\508105216.py:41: UserWarning: Attempting to set identical low and high xlims makes transformation singular; automatically expanding.\n",
      "  ax.set_xlim(\n",
      "C:\\Users\\dosre\\AppData\\Local\\Temp\\ipykernel_23500\\508105216.py:46: UserWarning: No artists with labels found to put in legend.  Note that artists whose label start with an underscore are ignored when legend() is called with no argument.\n",
      "  ax.legend()\n"
     ]
    },
    {
     "name": "stdout",
     "output_type": "stream",
     "text": [
      "KeyError: ilutp1em2 coupled 20\n",
      "KeyError: ilutp1em2 coupled 30\n"
     ]
    },
    {
     "name": "stderr",
     "output_type": "stream",
     "text": [
      "C:\\Users\\dosre\\AppData\\Local\\Temp\\ipykernel_23500\\508105216.py:41: UserWarning: Attempting to set identical low and high xlims makes transformation singular; automatically expanding.\n",
      "  ax.set_xlim(\n",
      "C:\\Users\\dosre\\AppData\\Local\\Temp\\ipykernel_23500\\508105216.py:46: UserWarning: No artists with labels found to put in legend.  Note that artists whose label start with an underscore are ignored when legend() is called with no argument.\n",
      "  ax.legend()\n",
      "C:\\Users\\dosre\\AppData\\Local\\Temp\\ipykernel_23500\\508105216.py:41: UserWarning: Attempting to set identical low and high xlims makes transformation singular; automatically expanding.\n",
      "  ax.set_xlim(\n",
      "C:\\Users\\dosre\\AppData\\Local\\Temp\\ipykernel_23500\\508105216.py:46: UserWarning: No artists with labels found to put in legend.  Note that artists whose label start with an underscore are ignored when legend() is called with no argument.\n",
      "  ax.legend()\n"
     ]
    },
    {
     "name": "stdout",
     "output_type": "stream",
     "text": [
      "KeyError: ilutp1em2 coupled 40\n",
      "KeyError: ilutp1em2 coupled 50\n"
     ]
    },
    {
     "name": "stderr",
     "output_type": "stream",
     "text": [
      "C:\\Users\\dosre\\AppData\\Local\\Temp\\ipykernel_23500\\508105216.py:41: UserWarning: Attempting to set identical low and high xlims makes transformation singular; automatically expanding.\n",
      "  ax.set_xlim(\n",
      "C:\\Users\\dosre\\AppData\\Local\\Temp\\ipykernel_23500\\508105216.py:46: UserWarning: No artists with labels found to put in legend.  Note that artists whose label start with an underscore are ignored when legend() is called with no argument.\n",
      "  ax.legend()\n",
      "C:\\Users\\dosre\\AppData\\Local\\Temp\\ipykernel_23500\\508105216.py:41: UserWarning: Attempting to set identical low and high xlims makes transformation singular; automatically expanding.\n",
      "  ax.set_xlim(\n",
      "C:\\Users\\dosre\\AppData\\Local\\Temp\\ipykernel_23500\\508105216.py:46: UserWarning: No artists with labels found to put in legend.  Note that artists whose label start with an underscore are ignored when legend() is called with no argument.\n",
      "  ax.legend()\n"
     ]
    },
    {
     "name": "stdout",
     "output_type": "stream",
     "text": [
      "KeyError: ilutp1em2 coupled 100\n",
      "KeyError: ilutp1em2 coupled 150\n"
     ]
    },
    {
     "name": "stderr",
     "output_type": "stream",
     "text": [
      "C:\\Users\\dosre\\AppData\\Local\\Temp\\ipykernel_23500\\508105216.py:41: UserWarning: Attempting to set identical low and high xlims makes transformation singular; automatically expanding.\n",
      "  ax.set_xlim(\n",
      "C:\\Users\\dosre\\AppData\\Local\\Temp\\ipykernel_23500\\508105216.py:46: UserWarning: No artists with labels found to put in legend.  Note that artists whose label start with an underscore are ignored when legend() is called with no argument.\n",
      "  ax.legend()\n",
      "C:\\Users\\dosre\\AppData\\Local\\Temp\\ipykernel_23500\\508105216.py:41: UserWarning: Attempting to set identical low and high xlims makes transformation singular; automatically expanding.\n",
      "  ax.set_xlim(\n",
      "C:\\Users\\dosre\\AppData\\Local\\Temp\\ipykernel_23500\\508105216.py:46: UserWarning: No artists with labels found to put in legend.  Note that artists whose label start with an underscore are ignored when legend() is called with no argument.\n",
      "  ax.legend()\n"
     ]
    },
    {
     "name": "stdout",
     "output_type": "stream",
     "text": [
      "KeyError: ilutp1em2 coupled 200\n",
      "KeyError: ilutp1em2 e40r0100 10\n"
     ]
    },
    {
     "name": "stderr",
     "output_type": "stream",
     "text": [
      "C:\\Users\\dosre\\AppData\\Local\\Temp\\ipykernel_23500\\508105216.py:41: UserWarning: Attempting to set identical low and high xlims makes transformation singular; automatically expanding.\n",
      "  ax.set_xlim(\n",
      "C:\\Users\\dosre\\AppData\\Local\\Temp\\ipykernel_23500\\508105216.py:46: UserWarning: No artists with labels found to put in legend.  Note that artists whose label start with an underscore are ignored when legend() is called with no argument.\n",
      "  ax.legend()\n",
      "C:\\Users\\dosre\\AppData\\Local\\Temp\\ipykernel_23500\\508105216.py:41: UserWarning: Attempting to set identical low and high xlims makes transformation singular; automatically expanding.\n",
      "  ax.set_xlim(\n",
      "C:\\Users\\dosre\\AppData\\Local\\Temp\\ipykernel_23500\\508105216.py:46: UserWarning: No artists with labels found to put in legend.  Note that artists whose label start with an underscore are ignored when legend() is called with no argument.\n",
      "  ax.legend()\n"
     ]
    },
    {
     "name": "stdout",
     "output_type": "stream",
     "text": [
      "KeyError: ilutp1em2 e40r0100 20\n",
      "KeyError: ilutp1em2 e40r0100 30\n"
     ]
    },
    {
     "name": "stderr",
     "output_type": "stream",
     "text": [
      "C:\\Users\\dosre\\AppData\\Local\\Temp\\ipykernel_23500\\508105216.py:41: UserWarning: Attempting to set identical low and high xlims makes transformation singular; automatically expanding.\n",
      "  ax.set_xlim(\n",
      "C:\\Users\\dosre\\AppData\\Local\\Temp\\ipykernel_23500\\508105216.py:46: UserWarning: No artists with labels found to put in legend.  Note that artists whose label start with an underscore are ignored when legend() is called with no argument.\n",
      "  ax.legend()\n",
      "C:\\Users\\dosre\\AppData\\Local\\Temp\\ipykernel_23500\\508105216.py:41: UserWarning: Attempting to set identical low and high xlims makes transformation singular; automatically expanding.\n",
      "  ax.set_xlim(\n",
      "C:\\Users\\dosre\\AppData\\Local\\Temp\\ipykernel_23500\\508105216.py:46: UserWarning: No artists with labels found to put in legend.  Note that artists whose label start with an underscore are ignored when legend() is called with no argument.\n",
      "  ax.legend()\n"
     ]
    },
    {
     "name": "stdout",
     "output_type": "stream",
     "text": [
      "KeyError: ilutp1em2 e40r0100 40\n",
      "KeyError: ilutp1em2 e40r0100 50\n"
     ]
    },
    {
     "name": "stderr",
     "output_type": "stream",
     "text": [
      "C:\\Users\\dosre\\AppData\\Local\\Temp\\ipykernel_23500\\508105216.py:41: UserWarning: Attempting to set identical low and high xlims makes transformation singular; automatically expanding.\n",
      "  ax.set_xlim(\n",
      "C:\\Users\\dosre\\AppData\\Local\\Temp\\ipykernel_23500\\508105216.py:46: UserWarning: No artists with labels found to put in legend.  Note that artists whose label start with an underscore are ignored when legend() is called with no argument.\n",
      "  ax.legend()\n",
      "C:\\Users\\dosre\\AppData\\Local\\Temp\\ipykernel_23500\\508105216.py:41: UserWarning: Attempting to set identical low and high xlims makes transformation singular; automatically expanding.\n",
      "  ax.set_xlim(\n",
      "C:\\Users\\dosre\\AppData\\Local\\Temp\\ipykernel_23500\\508105216.py:46: UserWarning: No artists with labels found to put in legend.  Note that artists whose label start with an underscore are ignored when legend() is called with no argument.\n",
      "  ax.legend()\n"
     ]
    },
    {
     "name": "stdout",
     "output_type": "stream",
     "text": [
      "KeyError: ilutp1em2 e40r0100 100\n",
      "KeyError: ilutp1em2 e40r0100 150\n"
     ]
    },
    {
     "name": "stderr",
     "output_type": "stream",
     "text": [
      "C:\\Users\\dosre\\AppData\\Local\\Temp\\ipykernel_23500\\508105216.py:41: UserWarning: Attempting to set identical low and high xlims makes transformation singular; automatically expanding.\n",
      "  ax.set_xlim(\n",
      "C:\\Users\\dosre\\AppData\\Local\\Temp\\ipykernel_23500\\508105216.py:46: UserWarning: No artists with labels found to put in legend.  Note that artists whose label start with an underscore are ignored when legend() is called with no argument.\n",
      "  ax.legend()\n",
      "C:\\Users\\dosre\\AppData\\Local\\Temp\\ipykernel_23500\\508105216.py:41: UserWarning: Attempting to set identical low and high xlims makes transformation singular; automatically expanding.\n",
      "  ax.set_xlim(\n",
      "C:\\Users\\dosre\\AppData\\Local\\Temp\\ipykernel_23500\\508105216.py:46: UserWarning: No artists with labels found to put in legend.  Note that artists whose label start with an underscore are ignored when legend() is called with no argument.\n",
      "  ax.legend()\n"
     ]
    },
    {
     "name": "stdout",
     "output_type": "stream",
     "text": [
      "KeyError: ilutp1em2 e40r0100 200\n",
      "KeyError: ilutp1em2 epb1 10\n"
     ]
    },
    {
     "name": "stderr",
     "output_type": "stream",
     "text": [
      "C:\\Users\\dosre\\AppData\\Local\\Temp\\ipykernel_23500\\508105216.py:41: UserWarning: Attempting to set identical low and high xlims makes transformation singular; automatically expanding.\n",
      "  ax.set_xlim(\n",
      "C:\\Users\\dosre\\AppData\\Local\\Temp\\ipykernel_23500\\508105216.py:46: UserWarning: No artists with labels found to put in legend.  Note that artists whose label start with an underscore are ignored when legend() is called with no argument.\n",
      "  ax.legend()\n",
      "C:\\Users\\dosre\\AppData\\Local\\Temp\\ipykernel_23500\\508105216.py:41: UserWarning: Attempting to set identical low and high xlims makes transformation singular; automatically expanding.\n",
      "  ax.set_xlim(\n",
      "C:\\Users\\dosre\\AppData\\Local\\Temp\\ipykernel_23500\\508105216.py:46: UserWarning: No artists with labels found to put in legend.  Note that artists whose label start with an underscore are ignored when legend() is called with no argument.\n",
      "  ax.legend()\n"
     ]
    },
    {
     "name": "stdout",
     "output_type": "stream",
     "text": [
      "KeyError: ilutp1em2 epb1 20\n",
      "KeyError: ilutp1em2 epb1 30\n"
     ]
    },
    {
     "name": "stderr",
     "output_type": "stream",
     "text": [
      "C:\\Users\\dosre\\AppData\\Local\\Temp\\ipykernel_23500\\508105216.py:41: UserWarning: Attempting to set identical low and high xlims makes transformation singular; automatically expanding.\n",
      "  ax.set_xlim(\n",
      "C:\\Users\\dosre\\AppData\\Local\\Temp\\ipykernel_23500\\508105216.py:46: UserWarning: No artists with labels found to put in legend.  Note that artists whose label start with an underscore are ignored when legend() is called with no argument.\n",
      "  ax.legend()\n",
      "C:\\Users\\dosre\\AppData\\Local\\Temp\\ipykernel_23500\\508105216.py:41: UserWarning: Attempting to set identical low and high xlims makes transformation singular; automatically expanding.\n",
      "  ax.set_xlim(\n",
      "C:\\Users\\dosre\\AppData\\Local\\Temp\\ipykernel_23500\\508105216.py:46: UserWarning: No artists with labels found to put in legend.  Note that artists whose label start with an underscore are ignored when legend() is called with no argument.\n",
      "  ax.legend()\n"
     ]
    },
    {
     "name": "stdout",
     "output_type": "stream",
     "text": [
      "KeyError: ilutp1em2 epb1 40\n",
      "KeyError: ilutp1em2 epb1 50\n"
     ]
    },
    {
     "name": "stderr",
     "output_type": "stream",
     "text": [
      "C:\\Users\\dosre\\AppData\\Local\\Temp\\ipykernel_23500\\508105216.py:41: UserWarning: Attempting to set identical low and high xlims makes transformation singular; automatically expanding.\n",
      "  ax.set_xlim(\n",
      "C:\\Users\\dosre\\AppData\\Local\\Temp\\ipykernel_23500\\508105216.py:46: UserWarning: No artists with labels found to put in legend.  Note that artists whose label start with an underscore are ignored when legend() is called with no argument.\n",
      "  ax.legend()\n",
      "C:\\Users\\dosre\\AppData\\Local\\Temp\\ipykernel_23500\\508105216.py:41: UserWarning: Attempting to set identical low and high xlims makes transformation singular; automatically expanding.\n",
      "  ax.set_xlim(\n",
      "C:\\Users\\dosre\\AppData\\Local\\Temp\\ipykernel_23500\\508105216.py:46: UserWarning: No artists with labels found to put in legend.  Note that artists whose label start with an underscore are ignored when legend() is called with no argument.\n",
      "  ax.legend()\n"
     ]
    },
    {
     "name": "stdout",
     "output_type": "stream",
     "text": [
      "KeyError: ilutp1em2 epb1 100\n",
      "KeyError: ilutp1em2 epb1 150\n"
     ]
    },
    {
     "name": "stderr",
     "output_type": "stream",
     "text": [
      "C:\\Users\\dosre\\AppData\\Local\\Temp\\ipykernel_23500\\508105216.py:41: UserWarning: Attempting to set identical low and high xlims makes transformation singular; automatically expanding.\n",
      "  ax.set_xlim(\n",
      "C:\\Users\\dosre\\AppData\\Local\\Temp\\ipykernel_23500\\508105216.py:46: UserWarning: No artists with labels found to put in legend.  Note that artists whose label start with an underscore are ignored when legend() is called with no argument.\n",
      "  ax.legend()\n",
      "C:\\Users\\dosre\\AppData\\Local\\Temp\\ipykernel_23500\\508105216.py:41: UserWarning: Attempting to set identical low and high xlims makes transformation singular; automatically expanding.\n",
      "  ax.set_xlim(\n",
      "C:\\Users\\dosre\\AppData\\Local\\Temp\\ipykernel_23500\\508105216.py:46: UserWarning: No artists with labels found to put in legend.  Note that artists whose label start with an underscore are ignored when legend() is called with no argument.\n",
      "  ax.legend()\n"
     ]
    },
    {
     "name": "stdout",
     "output_type": "stream",
     "text": [
      "KeyError: ilutp1em2 epb1 200\n",
      "KeyError: ilutp1em2 FEM_3D_thermal1 10\n"
     ]
    },
    {
     "name": "stderr",
     "output_type": "stream",
     "text": [
      "C:\\Users\\dosre\\AppData\\Local\\Temp\\ipykernel_23500\\508105216.py:41: UserWarning: Attempting to set identical low and high xlims makes transformation singular; automatically expanding.\n",
      "  ax.set_xlim(\n",
      "C:\\Users\\dosre\\AppData\\Local\\Temp\\ipykernel_23500\\508105216.py:46: UserWarning: No artists with labels found to put in legend.  Note that artists whose label start with an underscore are ignored when legend() is called with no argument.\n",
      "  ax.legend()\n",
      "C:\\Users\\dosre\\AppData\\Local\\Temp\\ipykernel_23500\\508105216.py:41: UserWarning: Attempting to set identical low and high xlims makes transformation singular; automatically expanding.\n",
      "  ax.set_xlim(\n",
      "C:\\Users\\dosre\\AppData\\Local\\Temp\\ipykernel_23500\\508105216.py:46: UserWarning: No artists with labels found to put in legend.  Note that artists whose label start with an underscore are ignored when legend() is called with no argument.\n",
      "  ax.legend()\n"
     ]
    },
    {
     "name": "stdout",
     "output_type": "stream",
     "text": [
      "KeyError: ilutp1em2 FEM_3D_thermal1 20\n",
      "KeyError: ilutp1em2 FEM_3D_thermal1 30\n"
     ]
    },
    {
     "name": "stderr",
     "output_type": "stream",
     "text": [
      "C:\\Users\\dosre\\AppData\\Local\\Temp\\ipykernel_23500\\508105216.py:41: UserWarning: Attempting to set identical low and high xlims makes transformation singular; automatically expanding.\n",
      "  ax.set_xlim(\n",
      "C:\\Users\\dosre\\AppData\\Local\\Temp\\ipykernel_23500\\508105216.py:46: UserWarning: No artists with labels found to put in legend.  Note that artists whose label start with an underscore are ignored when legend() is called with no argument.\n",
      "  ax.legend()\n",
      "C:\\Users\\dosre\\AppData\\Local\\Temp\\ipykernel_23500\\508105216.py:41: UserWarning: Attempting to set identical low and high xlims makes transformation singular; automatically expanding.\n",
      "  ax.set_xlim(\n",
      "C:\\Users\\dosre\\AppData\\Local\\Temp\\ipykernel_23500\\508105216.py:46: UserWarning: No artists with labels found to put in legend.  Note that artists whose label start with an underscore are ignored when legend() is called with no argument.\n",
      "  ax.legend()\n"
     ]
    },
    {
     "name": "stdout",
     "output_type": "stream",
     "text": [
      "KeyError: ilutp1em2 FEM_3D_thermal1 40\n",
      "KeyError: ilutp1em2 FEM_3D_thermal1 50\n"
     ]
    },
    {
     "name": "stderr",
     "output_type": "stream",
     "text": [
      "C:\\Users\\dosre\\AppData\\Local\\Temp\\ipykernel_23500\\508105216.py:41: UserWarning: Attempting to set identical low and high xlims makes transformation singular; automatically expanding.\n",
      "  ax.set_xlim(\n",
      "C:\\Users\\dosre\\AppData\\Local\\Temp\\ipykernel_23500\\508105216.py:46: UserWarning: No artists with labels found to put in legend.  Note that artists whose label start with an underscore are ignored when legend() is called with no argument.\n",
      "  ax.legend()\n",
      "C:\\Users\\dosre\\AppData\\Local\\Temp\\ipykernel_23500\\508105216.py:41: UserWarning: Attempting to set identical low and high xlims makes transformation singular; automatically expanding.\n",
      "  ax.set_xlim(\n",
      "C:\\Users\\dosre\\AppData\\Local\\Temp\\ipykernel_23500\\508105216.py:46: UserWarning: No artists with labels found to put in legend.  Note that artists whose label start with an underscore are ignored when legend() is called with no argument.\n",
      "  ax.legend()\n"
     ]
    },
    {
     "name": "stdout",
     "output_type": "stream",
     "text": [
      "KeyError: ilutp1em2 FEM_3D_thermal1 100\n",
      "KeyError: ilutp1em2 FEM_3D_thermal1 150\n"
     ]
    },
    {
     "name": "stderr",
     "output_type": "stream",
     "text": [
      "C:\\Users\\dosre\\AppData\\Local\\Temp\\ipykernel_23500\\508105216.py:41: UserWarning: Attempting to set identical low and high xlims makes transformation singular; automatically expanding.\n",
      "  ax.set_xlim(\n",
      "C:\\Users\\dosre\\AppData\\Local\\Temp\\ipykernel_23500\\508105216.py:46: UserWarning: No artists with labels found to put in legend.  Note that artists whose label start with an underscore are ignored when legend() is called with no argument.\n",
      "  ax.legend()\n",
      "C:\\Users\\dosre\\AppData\\Local\\Temp\\ipykernel_23500\\508105216.py:41: UserWarning: Attempting to set identical low and high xlims makes transformation singular; automatically expanding.\n",
      "  ax.set_xlim(\n",
      "C:\\Users\\dosre\\AppData\\Local\\Temp\\ipykernel_23500\\508105216.py:46: UserWarning: No artists with labels found to put in legend.  Note that artists whose label start with an underscore are ignored when legend() is called with no argument.\n",
      "  ax.legend()\n"
     ]
    },
    {
     "name": "stdout",
     "output_type": "stream",
     "text": [
      "KeyError: ilutp1em2 FEM_3D_thermal1 200\n",
      "KeyError: ilutp1em2 garon2 10\n"
     ]
    },
    {
     "name": "stderr",
     "output_type": "stream",
     "text": [
      "C:\\Users\\dosre\\AppData\\Local\\Temp\\ipykernel_23500\\508105216.py:41: UserWarning: Attempting to set identical low and high xlims makes transformation singular; automatically expanding.\n",
      "  ax.set_xlim(\n",
      "C:\\Users\\dosre\\AppData\\Local\\Temp\\ipykernel_23500\\508105216.py:46: UserWarning: No artists with labels found to put in legend.  Note that artists whose label start with an underscore are ignored when legend() is called with no argument.\n",
      "  ax.legend()\n",
      "C:\\Users\\dosre\\AppData\\Local\\Temp\\ipykernel_23500\\508105216.py:41: UserWarning: Attempting to set identical low and high xlims makes transformation singular; automatically expanding.\n",
      "  ax.set_xlim(\n",
      "C:\\Users\\dosre\\AppData\\Local\\Temp\\ipykernel_23500\\508105216.py:46: UserWarning: No artists with labels found to put in legend.  Note that artists whose label start with an underscore are ignored when legend() is called with no argument.\n",
      "  ax.legend()\n"
     ]
    },
    {
     "name": "stdout",
     "output_type": "stream",
     "text": [
      "KeyError: ilutp1em2 garon2 20\n",
      "KeyError: ilutp1em2 garon2 30\n"
     ]
    },
    {
     "name": "stderr",
     "output_type": "stream",
     "text": [
      "C:\\Users\\dosre\\AppData\\Local\\Temp\\ipykernel_23500\\508105216.py:41: UserWarning: Attempting to set identical low and high xlims makes transformation singular; automatically expanding.\n",
      "  ax.set_xlim(\n",
      "C:\\Users\\dosre\\AppData\\Local\\Temp\\ipykernel_23500\\508105216.py:46: UserWarning: No artists with labels found to put in legend.  Note that artists whose label start with an underscore are ignored when legend() is called with no argument.\n",
      "  ax.legend()\n",
      "C:\\Users\\dosre\\AppData\\Local\\Temp\\ipykernel_23500\\508105216.py:41: UserWarning: Attempting to set identical low and high xlims makes transformation singular; automatically expanding.\n",
      "  ax.set_xlim(\n",
      "C:\\Users\\dosre\\AppData\\Local\\Temp\\ipykernel_23500\\508105216.py:46: UserWarning: No artists with labels found to put in legend.  Note that artists whose label start with an underscore are ignored when legend() is called with no argument.\n",
      "  ax.legend()\n"
     ]
    },
    {
     "name": "stdout",
     "output_type": "stream",
     "text": [
      "KeyError: ilutp1em2 garon2 40\n",
      "KeyError: ilutp1em2 garon2 50\n"
     ]
    },
    {
     "name": "stderr",
     "output_type": "stream",
     "text": [
      "C:\\Users\\dosre\\AppData\\Local\\Temp\\ipykernel_23500\\508105216.py:41: UserWarning: Attempting to set identical low and high xlims makes transformation singular; automatically expanding.\n",
      "  ax.set_xlim(\n",
      "C:\\Users\\dosre\\AppData\\Local\\Temp\\ipykernel_23500\\508105216.py:46: UserWarning: No artists with labels found to put in legend.  Note that artists whose label start with an underscore are ignored when legend() is called with no argument.\n",
      "  ax.legend()\n",
      "C:\\Users\\dosre\\AppData\\Local\\Temp\\ipykernel_23500\\508105216.py:41: UserWarning: Attempting to set identical low and high xlims makes transformation singular; automatically expanding.\n",
      "  ax.set_xlim(\n",
      "C:\\Users\\dosre\\AppData\\Local\\Temp\\ipykernel_23500\\508105216.py:46: UserWarning: No artists with labels found to put in legend.  Note that artists whose label start with an underscore are ignored when legend() is called with no argument.\n",
      "  ax.legend()\n"
     ]
    },
    {
     "name": "stdout",
     "output_type": "stream",
     "text": [
      "KeyError: ilutp1em2 garon2 100\n",
      "KeyError: ilutp1em2 garon2 150\n"
     ]
    },
    {
     "name": "stderr",
     "output_type": "stream",
     "text": [
      "C:\\Users\\dosre\\AppData\\Local\\Temp\\ipykernel_23500\\508105216.py:41: UserWarning: Attempting to set identical low and high xlims makes transformation singular; automatically expanding.\n",
      "  ax.set_xlim(\n",
      "C:\\Users\\dosre\\AppData\\Local\\Temp\\ipykernel_23500\\508105216.py:46: UserWarning: No artists with labels found to put in legend.  Note that artists whose label start with an underscore are ignored when legend() is called with no argument.\n",
      "  ax.legend()\n",
      "C:\\Users\\dosre\\AppData\\Local\\Temp\\ipykernel_23500\\508105216.py:41: UserWarning: Attempting to set identical low and high xlims makes transformation singular; automatically expanding.\n",
      "  ax.set_xlim(\n",
      "C:\\Users\\dosre\\AppData\\Local\\Temp\\ipykernel_23500\\508105216.py:46: UserWarning: No artists with labels found to put in legend.  Note that artists whose label start with an underscore are ignored when legend() is called with no argument.\n",
      "  ax.legend()\n"
     ]
    },
    {
     "name": "stdout",
     "output_type": "stream",
     "text": [
      "KeyError: ilutp1em2 garon2 200\n",
      "KeyError: ilutp1em2 inlet 10\n"
     ]
    },
    {
     "name": "stderr",
     "output_type": "stream",
     "text": [
      "C:\\Users\\dosre\\AppData\\Local\\Temp\\ipykernel_23500\\508105216.py:41: UserWarning: Attempting to set identical low and high xlims makes transformation singular; automatically expanding.\n",
      "  ax.set_xlim(\n",
      "C:\\Users\\dosre\\AppData\\Local\\Temp\\ipykernel_23500\\508105216.py:46: UserWarning: No artists with labels found to put in legend.  Note that artists whose label start with an underscore are ignored when legend() is called with no argument.\n",
      "  ax.legend()\n",
      "C:\\Users\\dosre\\AppData\\Local\\Temp\\ipykernel_23500\\508105216.py:41: UserWarning: Attempting to set identical low and high xlims makes transformation singular; automatically expanding.\n",
      "  ax.set_xlim(\n",
      "C:\\Users\\dosre\\AppData\\Local\\Temp\\ipykernel_23500\\508105216.py:46: UserWarning: No artists with labels found to put in legend.  Note that artists whose label start with an underscore are ignored when legend() is called with no argument.\n",
      "  ax.legend()\n"
     ]
    },
    {
     "name": "stdout",
     "output_type": "stream",
     "text": [
      "KeyError: ilutp1em2 inlet 20\n",
      "KeyError: ilutp1em2 inlet 30\n"
     ]
    },
    {
     "name": "stderr",
     "output_type": "stream",
     "text": [
      "C:\\Users\\dosre\\AppData\\Local\\Temp\\ipykernel_23500\\508105216.py:41: UserWarning: Attempting to set identical low and high xlims makes transformation singular; automatically expanding.\n",
      "  ax.set_xlim(\n",
      "C:\\Users\\dosre\\AppData\\Local\\Temp\\ipykernel_23500\\508105216.py:46: UserWarning: No artists with labels found to put in legend.  Note that artists whose label start with an underscore are ignored when legend() is called with no argument.\n",
      "  ax.legend()\n",
      "C:\\Users\\dosre\\AppData\\Local\\Temp\\ipykernel_23500\\508105216.py:41: UserWarning: Attempting to set identical low and high xlims makes transformation singular; automatically expanding.\n",
      "  ax.set_xlim(\n",
      "C:\\Users\\dosre\\AppData\\Local\\Temp\\ipykernel_23500\\508105216.py:46: UserWarning: No artists with labels found to put in legend.  Note that artists whose label start with an underscore are ignored when legend() is called with no argument.\n",
      "  ax.legend()\n"
     ]
    },
    {
     "name": "stdout",
     "output_type": "stream",
     "text": [
      "KeyError: ilutp1em2 inlet 40\n",
      "KeyError: ilutp1em2 inlet 50\n"
     ]
    },
    {
     "name": "stderr",
     "output_type": "stream",
     "text": [
      "C:\\Users\\dosre\\AppData\\Local\\Temp\\ipykernel_23500\\508105216.py:41: UserWarning: Attempting to set identical low and high xlims makes transformation singular; automatically expanding.\n",
      "  ax.set_xlim(\n",
      "C:\\Users\\dosre\\AppData\\Local\\Temp\\ipykernel_23500\\508105216.py:46: UserWarning: No artists with labels found to put in legend.  Note that artists whose label start with an underscore are ignored when legend() is called with no argument.\n",
      "  ax.legend()\n",
      "C:\\Users\\dosre\\AppData\\Local\\Temp\\ipykernel_23500\\508105216.py:41: UserWarning: Attempting to set identical low and high xlims makes transformation singular; automatically expanding.\n",
      "  ax.set_xlim(\n",
      "C:\\Users\\dosre\\AppData\\Local\\Temp\\ipykernel_23500\\508105216.py:46: UserWarning: No artists with labels found to put in legend.  Note that artists whose label start with an underscore are ignored when legend() is called with no argument.\n",
      "  ax.legend()\n"
     ]
    },
    {
     "name": "stdout",
     "output_type": "stream",
     "text": [
      "KeyError: ilutp1em2 inlet 100\n",
      "KeyError: ilutp1em2 inlet 150\n"
     ]
    },
    {
     "name": "stderr",
     "output_type": "stream",
     "text": [
      "C:\\Users\\dosre\\AppData\\Local\\Temp\\ipykernel_23500\\508105216.py:41: UserWarning: Attempting to set identical low and high xlims makes transformation singular; automatically expanding.\n",
      "  ax.set_xlim(\n",
      "C:\\Users\\dosre\\AppData\\Local\\Temp\\ipykernel_23500\\508105216.py:46: UserWarning: No artists with labels found to put in legend.  Note that artists whose label start with an underscore are ignored when legend() is called with no argument.\n",
      "  ax.legend()\n",
      "C:\\Users\\dosre\\AppData\\Local\\Temp\\ipykernel_23500\\508105216.py:41: UserWarning: Attempting to set identical low and high xlims makes transformation singular; automatically expanding.\n",
      "  ax.set_xlim(\n",
      "C:\\Users\\dosre\\AppData\\Local\\Temp\\ipykernel_23500\\508105216.py:46: UserWarning: No artists with labels found to put in legend.  Note that artists whose label start with an underscore are ignored when legend() is called with no argument.\n",
      "  ax.legend()\n"
     ]
    },
    {
     "name": "stdout",
     "output_type": "stream",
     "text": [
      "KeyError: ilutp1em2 inlet 200\n",
      "KeyError: ilutp1em2 jan99jac040sc 10\n"
     ]
    },
    {
     "name": "stderr",
     "output_type": "stream",
     "text": [
      "C:\\Users\\dosre\\AppData\\Local\\Temp\\ipykernel_23500\\508105216.py:41: UserWarning: Attempting to set identical low and high xlims makes transformation singular; automatically expanding.\n",
      "  ax.set_xlim(\n",
      "C:\\Users\\dosre\\AppData\\Local\\Temp\\ipykernel_23500\\508105216.py:46: UserWarning: No artists with labels found to put in legend.  Note that artists whose label start with an underscore are ignored when legend() is called with no argument.\n",
      "  ax.legend()\n",
      "C:\\Users\\dosre\\AppData\\Local\\Temp\\ipykernel_23500\\508105216.py:41: UserWarning: Attempting to set identical low and high xlims makes transformation singular; automatically expanding.\n",
      "  ax.set_xlim(\n",
      "C:\\Users\\dosre\\AppData\\Local\\Temp\\ipykernel_23500\\508105216.py:46: UserWarning: No artists with labels found to put in legend.  Note that artists whose label start with an underscore are ignored when legend() is called with no argument.\n",
      "  ax.legend()\n"
     ]
    },
    {
     "name": "stdout",
     "output_type": "stream",
     "text": [
      "KeyError: ilutp1em2 jan99jac040sc 20\n",
      "KeyError: ilutp1em2 jan99jac040sc 30\n"
     ]
    },
    {
     "name": "stderr",
     "output_type": "stream",
     "text": [
      "C:\\Users\\dosre\\AppData\\Local\\Temp\\ipykernel_23500\\508105216.py:41: UserWarning: Attempting to set identical low and high xlims makes transformation singular; automatically expanding.\n",
      "  ax.set_xlim(\n",
      "C:\\Users\\dosre\\AppData\\Local\\Temp\\ipykernel_23500\\508105216.py:46: UserWarning: No artists with labels found to put in legend.  Note that artists whose label start with an underscore are ignored when legend() is called with no argument.\n",
      "  ax.legend()\n",
      "C:\\Users\\dosre\\AppData\\Local\\Temp\\ipykernel_23500\\508105216.py:41: UserWarning: Attempting to set identical low and high xlims makes transformation singular; automatically expanding.\n",
      "  ax.set_xlim(\n",
      "C:\\Users\\dosre\\AppData\\Local\\Temp\\ipykernel_23500\\508105216.py:46: UserWarning: No artists with labels found to put in legend.  Note that artists whose label start with an underscore are ignored when legend() is called with no argument.\n",
      "  ax.legend()\n"
     ]
    },
    {
     "name": "stdout",
     "output_type": "stream",
     "text": [
      "KeyError: ilutp1em2 jan99jac040sc 40\n",
      "KeyError: ilutp1em2 jan99jac040sc 50\n"
     ]
    },
    {
     "name": "stderr",
     "output_type": "stream",
     "text": [
      "C:\\Users\\dosre\\AppData\\Local\\Temp\\ipykernel_23500\\508105216.py:41: UserWarning: Attempting to set identical low and high xlims makes transformation singular; automatically expanding.\n",
      "  ax.set_xlim(\n",
      "C:\\Users\\dosre\\AppData\\Local\\Temp\\ipykernel_23500\\508105216.py:46: UserWarning: No artists with labels found to put in legend.  Note that artists whose label start with an underscore are ignored when legend() is called with no argument.\n",
      "  ax.legend()\n",
      "C:\\Users\\dosre\\AppData\\Local\\Temp\\ipykernel_23500\\508105216.py:41: UserWarning: Attempting to set identical low and high xlims makes transformation singular; automatically expanding.\n",
      "  ax.set_xlim(\n",
      "C:\\Users\\dosre\\AppData\\Local\\Temp\\ipykernel_23500\\508105216.py:46: UserWarning: No artists with labels found to put in legend.  Note that artists whose label start with an underscore are ignored when legend() is called with no argument.\n",
      "  ax.legend()\n"
     ]
    },
    {
     "name": "stdout",
     "output_type": "stream",
     "text": [
      "KeyError: ilutp1em2 jan99jac040sc 100\n",
      "KeyError: ilutp1em2 jan99jac040sc 150\n"
     ]
    },
    {
     "name": "stderr",
     "output_type": "stream",
     "text": [
      "C:\\Users\\dosre\\AppData\\Local\\Temp\\ipykernel_23500\\508105216.py:41: UserWarning: Attempting to set identical low and high xlims makes transformation singular; automatically expanding.\n",
      "  ax.set_xlim(\n",
      "C:\\Users\\dosre\\AppData\\Local\\Temp\\ipykernel_23500\\508105216.py:46: UserWarning: No artists with labels found to put in legend.  Note that artists whose label start with an underscore are ignored when legend() is called with no argument.\n",
      "  ax.legend()\n",
      "C:\\Users\\dosre\\AppData\\Local\\Temp\\ipykernel_23500\\508105216.py:41: UserWarning: Attempting to set identical low and high xlims makes transformation singular; automatically expanding.\n",
      "  ax.set_xlim(\n",
      "C:\\Users\\dosre\\AppData\\Local\\Temp\\ipykernel_23500\\508105216.py:46: UserWarning: No artists with labels found to put in legend.  Note that artists whose label start with an underscore are ignored when legend() is called with no argument.\n",
      "  ax.legend()\n"
     ]
    },
    {
     "name": "stdout",
     "output_type": "stream",
     "text": [
      "KeyError: ilutp1em2 jan99jac040sc 200\n",
      "KeyError: ilutp1em2 memplus 10\n"
     ]
    },
    {
     "name": "stderr",
     "output_type": "stream",
     "text": [
      "C:\\Users\\dosre\\AppData\\Local\\Temp\\ipykernel_23500\\508105216.py:41: UserWarning: Attempting to set identical low and high xlims makes transformation singular; automatically expanding.\n",
      "  ax.set_xlim(\n",
      "C:\\Users\\dosre\\AppData\\Local\\Temp\\ipykernel_23500\\508105216.py:46: UserWarning: No artists with labels found to put in legend.  Note that artists whose label start with an underscore are ignored when legend() is called with no argument.\n",
      "  ax.legend()\n"
     ]
    },
    {
     "name": "stdout",
     "output_type": "stream",
     "text": [
      "KeyError: ilutp1em2 memplus 20\n"
     ]
    },
    {
     "name": "stderr",
     "output_type": "stream",
     "text": [
      "C:\\Users\\dosre\\AppData\\Local\\Temp\\ipykernel_23500\\508105216.py:41: UserWarning: Attempting to set identical low and high xlims makes transformation singular; automatically expanding.\n",
      "  ax.set_xlim(\n",
      "C:\\Users\\dosre\\AppData\\Local\\Temp\\ipykernel_23500\\508105216.py:46: UserWarning: No artists with labels found to put in legend.  Note that artists whose label start with an underscore are ignored when legend() is called with no argument.\n",
      "  ax.legend()\n",
      "C:\\Users\\dosre\\AppData\\Local\\Temp\\ipykernel_23500\\508105216.py:41: UserWarning: Attempting to set identical low and high xlims makes transformation singular; automatically expanding.\n",
      "  ax.set_xlim(\n",
      "C:\\Users\\dosre\\AppData\\Local\\Temp\\ipykernel_23500\\508105216.py:46: UserWarning: No artists with labels found to put in legend.  Note that artists whose label start with an underscore are ignored when legend() is called with no argument.\n",
      "  ax.legend()\n"
     ]
    },
    {
     "name": "stdout",
     "output_type": "stream",
     "text": [
      "KeyError: ilutp1em2 memplus 30\n",
      "KeyError: ilutp1em2 memplus 40\n"
     ]
    },
    {
     "name": "stderr",
     "output_type": "stream",
     "text": [
      "C:\\Users\\dosre\\AppData\\Local\\Temp\\ipykernel_23500\\508105216.py:41: UserWarning: Attempting to set identical low and high xlims makes transformation singular; automatically expanding.\n",
      "  ax.set_xlim(\n",
      "C:\\Users\\dosre\\AppData\\Local\\Temp\\ipykernel_23500\\508105216.py:46: UserWarning: No artists with labels found to put in legend.  Note that artists whose label start with an underscore are ignored when legend() is called with no argument.\n",
      "  ax.legend()\n",
      "C:\\Users\\dosre\\AppData\\Local\\Temp\\ipykernel_23500\\508105216.py:41: UserWarning: Attempting to set identical low and high xlims makes transformation singular; automatically expanding.\n",
      "  ax.set_xlim(\n",
      "C:\\Users\\dosre\\AppData\\Local\\Temp\\ipykernel_23500\\508105216.py:46: UserWarning: No artists with labels found to put in legend.  Note that artists whose label start with an underscore are ignored when legend() is called with no argument.\n",
      "  ax.legend()\n"
     ]
    },
    {
     "name": "stdout",
     "output_type": "stream",
     "text": [
      "KeyError: ilutp1em2 memplus 50\n",
      "KeyError: ilutp1em2 memplus 100\n"
     ]
    },
    {
     "name": "stderr",
     "output_type": "stream",
     "text": [
      "C:\\Users\\dosre\\AppData\\Local\\Temp\\ipykernel_23500\\508105216.py:41: UserWarning: Attempting to set identical low and high xlims makes transformation singular; automatically expanding.\n",
      "  ax.set_xlim(\n",
      "C:\\Users\\dosre\\AppData\\Local\\Temp\\ipykernel_23500\\508105216.py:46: UserWarning: No artists with labels found to put in legend.  Note that artists whose label start with an underscore are ignored when legend() is called with no argument.\n",
      "  ax.legend()\n",
      "C:\\Users\\dosre\\AppData\\Local\\Temp\\ipykernel_23500\\508105216.py:41: UserWarning: Attempting to set identical low and high xlims makes transformation singular; automatically expanding.\n",
      "  ax.set_xlim(\n",
      "C:\\Users\\dosre\\AppData\\Local\\Temp\\ipykernel_23500\\508105216.py:46: UserWarning: No artists with labels found to put in legend.  Note that artists whose label start with an underscore are ignored when legend() is called with no argument.\n",
      "  ax.legend()\n",
      "C:\\Users\\dosre\\AppData\\Local\\Temp\\ipykernel_23500\\508105216.py:41: UserWarning: Attempting to set identical low and high xlims makes transformation singular; automatically expanding.\n",
      "  ax.set_xlim(\n",
      "C:\\Users\\dosre\\AppData\\Local\\Temp\\ipykernel_23500\\508105216.py:46: UserWarning: No artists with labels found to put in legend.  Note that artists whose label start with an underscore are ignored when legend() is called with no argument.\n",
      "  ax.legend()\n"
     ]
    },
    {
     "name": "stdout",
     "output_type": "stream",
     "text": [
      "KeyError: ilutp1em2 memplus 150\n",
      "KeyError: ilutp1em2 memplus 200\n",
      "KeyError: ilutp1em2 ns3Da 10\n"
     ]
    },
    {
     "name": "stderr",
     "output_type": "stream",
     "text": [
      "C:\\Users\\dosre\\AppData\\Local\\Temp\\ipykernel_23500\\508105216.py:41: UserWarning: Attempting to set identical low and high xlims makes transformation singular; automatically expanding.\n",
      "  ax.set_xlim(\n",
      "C:\\Users\\dosre\\AppData\\Local\\Temp\\ipykernel_23500\\508105216.py:46: UserWarning: No artists with labels found to put in legend.  Note that artists whose label start with an underscore are ignored when legend() is called with no argument.\n",
      "  ax.legend()\n",
      "C:\\Users\\dosre\\AppData\\Local\\Temp\\ipykernel_23500\\508105216.py:41: UserWarning: Attempting to set identical low and high xlims makes transformation singular; automatically expanding.\n",
      "  ax.set_xlim(\n",
      "C:\\Users\\dosre\\AppData\\Local\\Temp\\ipykernel_23500\\508105216.py:46: UserWarning: No artists with labels found to put in legend.  Note that artists whose label start with an underscore are ignored when legend() is called with no argument.\n",
      "  ax.legend()\n"
     ]
    },
    {
     "name": "stdout",
     "output_type": "stream",
     "text": [
      "KeyError: ilutp1em2 ns3Da 20\n",
      "KeyError: ilutp1em2 ns3Da 30\n"
     ]
    },
    {
     "name": "stderr",
     "output_type": "stream",
     "text": [
      "C:\\Users\\dosre\\AppData\\Local\\Temp\\ipykernel_23500\\508105216.py:41: UserWarning: Attempting to set identical low and high xlims makes transformation singular; automatically expanding.\n",
      "  ax.set_xlim(\n",
      "C:\\Users\\dosre\\AppData\\Local\\Temp\\ipykernel_23500\\508105216.py:46: UserWarning: No artists with labels found to put in legend.  Note that artists whose label start with an underscore are ignored when legend() is called with no argument.\n",
      "  ax.legend()\n",
      "C:\\Users\\dosre\\AppData\\Local\\Temp\\ipykernel_23500\\508105216.py:41: UserWarning: Attempting to set identical low and high xlims makes transformation singular; automatically expanding.\n",
      "  ax.set_xlim(\n",
      "C:\\Users\\dosre\\AppData\\Local\\Temp\\ipykernel_23500\\508105216.py:46: UserWarning: No artists with labels found to put in legend.  Note that artists whose label start with an underscore are ignored when legend() is called with no argument.\n",
      "  ax.legend()\n"
     ]
    },
    {
     "name": "stdout",
     "output_type": "stream",
     "text": [
      "KeyError: ilutp1em2 ns3Da 40\n",
      "KeyError: ilutp1em2 ns3Da 50\n"
     ]
    },
    {
     "name": "stderr",
     "output_type": "stream",
     "text": [
      "C:\\Users\\dosre\\AppData\\Local\\Temp\\ipykernel_23500\\508105216.py:41: UserWarning: Attempting to set identical low and high xlims makes transformation singular; automatically expanding.\n",
      "  ax.set_xlim(\n",
      "C:\\Users\\dosre\\AppData\\Local\\Temp\\ipykernel_23500\\508105216.py:46: UserWarning: No artists with labels found to put in legend.  Note that artists whose label start with an underscore are ignored when legend() is called with no argument.\n",
      "  ax.legend()\n",
      "C:\\Users\\dosre\\AppData\\Local\\Temp\\ipykernel_23500\\508105216.py:41: UserWarning: Attempting to set identical low and high xlims makes transformation singular; automatically expanding.\n",
      "  ax.set_xlim(\n",
      "C:\\Users\\dosre\\AppData\\Local\\Temp\\ipykernel_23500\\508105216.py:46: UserWarning: No artists with labels found to put in legend.  Note that artists whose label start with an underscore are ignored when legend() is called with no argument.\n",
      "  ax.legend()\n"
     ]
    },
    {
     "name": "stdout",
     "output_type": "stream",
     "text": [
      "KeyError: ilutp1em2 ns3Da 100\n",
      "KeyError: ilutp1em2 ns3Da 150\n"
     ]
    },
    {
     "name": "stderr",
     "output_type": "stream",
     "text": [
      "C:\\Users\\dosre\\AppData\\Local\\Temp\\ipykernel_23500\\508105216.py:41: UserWarning: Attempting to set identical low and high xlims makes transformation singular; automatically expanding.\n",
      "  ax.set_xlim(\n",
      "C:\\Users\\dosre\\AppData\\Local\\Temp\\ipykernel_23500\\508105216.py:46: UserWarning: No artists with labels found to put in legend.  Note that artists whose label start with an underscore are ignored when legend() is called with no argument.\n",
      "  ax.legend()\n",
      "C:\\Users\\dosre\\AppData\\Local\\Temp\\ipykernel_23500\\508105216.py:41: UserWarning: Attempting to set identical low and high xlims makes transformation singular; automatically expanding.\n",
      "  ax.set_xlim(\n",
      "C:\\Users\\dosre\\AppData\\Local\\Temp\\ipykernel_23500\\508105216.py:46: UserWarning: No artists with labels found to put in legend.  Note that artists whose label start with an underscore are ignored when legend() is called with no argument.\n",
      "  ax.legend()\n"
     ]
    },
    {
     "name": "stdout",
     "output_type": "stream",
     "text": [
      "KeyError: ilutp1em2 ns3Da 200\n",
      "KeyError: ilutp1em2 poisson3Da 10\n"
     ]
    },
    {
     "name": "stderr",
     "output_type": "stream",
     "text": [
      "C:\\Users\\dosre\\AppData\\Local\\Temp\\ipykernel_23500\\508105216.py:41: UserWarning: Attempting to set identical low and high xlims makes transformation singular; automatically expanding.\n",
      "  ax.set_xlim(\n",
      "C:\\Users\\dosre\\AppData\\Local\\Temp\\ipykernel_23500\\508105216.py:46: UserWarning: No artists with labels found to put in legend.  Note that artists whose label start with an underscore are ignored when legend() is called with no argument.\n",
      "  ax.legend()\n",
      "C:\\Users\\dosre\\AppData\\Local\\Temp\\ipykernel_23500\\508105216.py:41: UserWarning: Attempting to set identical low and high xlims makes transformation singular; automatically expanding.\n",
      "  ax.set_xlim(\n",
      "C:\\Users\\dosre\\AppData\\Local\\Temp\\ipykernel_23500\\508105216.py:46: UserWarning: No artists with labels found to put in legend.  Note that artists whose label start with an underscore are ignored when legend() is called with no argument.\n",
      "  ax.legend()\n",
      "C:\\Users\\dosre\\AppData\\Local\\Temp\\ipykernel_23500\\508105216.py:41: UserWarning: Attempting to set identical low and high xlims makes transformation singular; automatically expanding.\n",
      "  ax.set_xlim(\n",
      "C:\\Users\\dosre\\AppData\\Local\\Temp\\ipykernel_23500\\508105216.py:46: UserWarning: No artists with labels found to put in legend.  Note that artists whose label start with an underscore are ignored when legend() is called with no argument.\n",
      "  ax.legend()\n"
     ]
    },
    {
     "name": "stdout",
     "output_type": "stream",
     "text": [
      "KeyError: ilutp1em2 poisson3Da 20\n",
      "KeyError: ilutp1em2 poisson3Da 30\n",
      "KeyError: ilutp1em2 poisson3Da 40\n"
     ]
    },
    {
     "name": "stderr",
     "output_type": "stream",
     "text": [
      "C:\\Users\\dosre\\AppData\\Local\\Temp\\ipykernel_23500\\508105216.py:41: UserWarning: Attempting to set identical low and high xlims makes transformation singular; automatically expanding.\n",
      "  ax.set_xlim(\n",
      "C:\\Users\\dosre\\AppData\\Local\\Temp\\ipykernel_23500\\508105216.py:46: UserWarning: No artists with labels found to put in legend.  Note that artists whose label start with an underscore are ignored when legend() is called with no argument.\n",
      "  ax.legend()\n",
      "C:\\Users\\dosre\\AppData\\Local\\Temp\\ipykernel_23500\\508105216.py:41: UserWarning: Attempting to set identical low and high xlims makes transformation singular; automatically expanding.\n",
      "  ax.set_xlim(\n",
      "C:\\Users\\dosre\\AppData\\Local\\Temp\\ipykernel_23500\\508105216.py:46: UserWarning: No artists with labels found to put in legend.  Note that artists whose label start with an underscore are ignored when legend() is called with no argument.\n",
      "  ax.legend()\n"
     ]
    },
    {
     "name": "stdout",
     "output_type": "stream",
     "text": [
      "KeyError: ilutp1em2 poisson3Da 50\n",
      "KeyError: ilutp1em2 poisson3Da 100\n"
     ]
    },
    {
     "name": "stderr",
     "output_type": "stream",
     "text": [
      "C:\\Users\\dosre\\AppData\\Local\\Temp\\ipykernel_23500\\508105216.py:41: UserWarning: Attempting to set identical low and high xlims makes transformation singular; automatically expanding.\n",
      "  ax.set_xlim(\n",
      "C:\\Users\\dosre\\AppData\\Local\\Temp\\ipykernel_23500\\508105216.py:46: UserWarning: No artists with labels found to put in legend.  Note that artists whose label start with an underscore are ignored when legend() is called with no argument.\n",
      "  ax.legend()\n",
      "C:\\Users\\dosre\\AppData\\Local\\Temp\\ipykernel_23500\\508105216.py:41: UserWarning: Attempting to set identical low and high xlims makes transformation singular; automatically expanding.\n",
      "  ax.set_xlim(\n",
      "C:\\Users\\dosre\\AppData\\Local\\Temp\\ipykernel_23500\\508105216.py:46: UserWarning: No artists with labels found to put in legend.  Note that artists whose label start with an underscore are ignored when legend() is called with no argument.\n",
      "  ax.legend()\n"
     ]
    },
    {
     "name": "stdout",
     "output_type": "stream",
     "text": [
      "KeyError: ilutp1em2 poisson3Da 150\n",
      "KeyError: ilutp1em2 poisson3Da 200\n"
     ]
    },
    {
     "name": "stderr",
     "output_type": "stream",
     "text": [
      "C:\\Users\\dosre\\AppData\\Local\\Temp\\ipykernel_23500\\508105216.py:41: UserWarning: Attempting to set identical low and high xlims makes transformation singular; automatically expanding.\n",
      "  ax.set_xlim(\n",
      "C:\\Users\\dosre\\AppData\\Local\\Temp\\ipykernel_23500\\508105216.py:46: UserWarning: No artists with labels found to put in legend.  Note that artists whose label start with an underscore are ignored when legend() is called with no argument.\n",
      "  ax.legend()\n",
      "C:\\Users\\dosre\\AppData\\Local\\Temp\\ipykernel_23500\\508105216.py:41: UserWarning: Attempting to set identical low and high xlims makes transformation singular; automatically expanding.\n",
      "  ax.set_xlim(\n",
      "C:\\Users\\dosre\\AppData\\Local\\Temp\\ipykernel_23500\\508105216.py:46: UserWarning: No artists with labels found to put in legend.  Note that artists whose label start with an underscore are ignored when legend() is called with no argument.\n",
      "  ax.legend()\n"
     ]
    },
    {
     "name": "stdout",
     "output_type": "stream",
     "text": [
      "KeyError: ilutp1em2 powersim 10\n",
      "KeyError: ilutp1em2 powersim 20\n"
     ]
    },
    {
     "name": "stderr",
     "output_type": "stream",
     "text": [
      "C:\\Users\\dosre\\AppData\\Local\\Temp\\ipykernel_23500\\508105216.py:41: UserWarning: Attempting to set identical low and high xlims makes transformation singular; automatically expanding.\n",
      "  ax.set_xlim(\n",
      "C:\\Users\\dosre\\AppData\\Local\\Temp\\ipykernel_23500\\508105216.py:46: UserWarning: No artists with labels found to put in legend.  Note that artists whose label start with an underscore are ignored when legend() is called with no argument.\n",
      "  ax.legend()\n",
      "C:\\Users\\dosre\\AppData\\Local\\Temp\\ipykernel_23500\\508105216.py:41: UserWarning: Attempting to set identical low and high xlims makes transformation singular; automatically expanding.\n",
      "  ax.set_xlim(\n",
      "C:\\Users\\dosre\\AppData\\Local\\Temp\\ipykernel_23500\\508105216.py:46: UserWarning: No artists with labels found to put in legend.  Note that artists whose label start with an underscore are ignored when legend() is called with no argument.\n",
      "  ax.legend()\n"
     ]
    },
    {
     "name": "stdout",
     "output_type": "stream",
     "text": [
      "KeyError: ilutp1em2 powersim 30\n",
      "KeyError: ilutp1em2 powersim 40\n"
     ]
    },
    {
     "name": "stderr",
     "output_type": "stream",
     "text": [
      "C:\\Users\\dosre\\AppData\\Local\\Temp\\ipykernel_23500\\508105216.py:41: UserWarning: Attempting to set identical low and high xlims makes transformation singular; automatically expanding.\n",
      "  ax.set_xlim(\n",
      "C:\\Users\\dosre\\AppData\\Local\\Temp\\ipykernel_23500\\508105216.py:46: UserWarning: No artists with labels found to put in legend.  Note that artists whose label start with an underscore are ignored when legend() is called with no argument.\n",
      "  ax.legend()\n",
      "C:\\Users\\dosre\\AppData\\Local\\Temp\\ipykernel_23500\\508105216.py:41: UserWarning: Attempting to set identical low and high xlims makes transformation singular; automatically expanding.\n",
      "  ax.set_xlim(\n",
      "C:\\Users\\dosre\\AppData\\Local\\Temp\\ipykernel_23500\\508105216.py:46: UserWarning: No artists with labels found to put in legend.  Note that artists whose label start with an underscore are ignored when legend() is called with no argument.\n",
      "  ax.legend()\n"
     ]
    },
    {
     "name": "stdout",
     "output_type": "stream",
     "text": [
      "KeyError: ilutp1em2 powersim 50\n",
      "KeyError: ilutp1em2 powersim 100\n"
     ]
    },
    {
     "name": "stderr",
     "output_type": "stream",
     "text": [
      "C:\\Users\\dosre\\AppData\\Local\\Temp\\ipykernel_23500\\508105216.py:41: UserWarning: Attempting to set identical low and high xlims makes transformation singular; automatically expanding.\n",
      "  ax.set_xlim(\n",
      "C:\\Users\\dosre\\AppData\\Local\\Temp\\ipykernel_23500\\508105216.py:46: UserWarning: No artists with labels found to put in legend.  Note that artists whose label start with an underscore are ignored when legend() is called with no argument.\n",
      "  ax.legend()\n",
      "C:\\Users\\dosre\\AppData\\Local\\Temp\\ipykernel_23500\\508105216.py:41: UserWarning: Attempting to set identical low and high xlims makes transformation singular; automatically expanding.\n",
      "  ax.set_xlim(\n",
      "C:\\Users\\dosre\\AppData\\Local\\Temp\\ipykernel_23500\\508105216.py:46: UserWarning: No artists with labels found to put in legend.  Note that artists whose label start with an underscore are ignored when legend() is called with no argument.\n",
      "  ax.legend()\n"
     ]
    },
    {
     "name": "stdout",
     "output_type": "stream",
     "text": [
      "KeyError: ilutp1em2 powersim 150\n",
      "KeyError: ilutp1em2 powersim 200\n"
     ]
    },
    {
     "name": "stderr",
     "output_type": "stream",
     "text": [
      "C:\\Users\\dosre\\AppData\\Local\\Temp\\ipykernel_23500\\508105216.py:41: UserWarning: Attempting to set identical low and high xlims makes transformation singular; automatically expanding.\n",
      "  ax.set_xlim(\n",
      "C:\\Users\\dosre\\AppData\\Local\\Temp\\ipykernel_23500\\508105216.py:46: UserWarning: No artists with labels found to put in legend.  Note that artists whose label start with an underscore are ignored when legend() is called with no argument.\n",
      "  ax.legend()\n",
      "C:\\Users\\dosre\\AppData\\Local\\Temp\\ipykernel_23500\\508105216.py:41: UserWarning: Attempting to set identical low and high xlims makes transformation singular; automatically expanding.\n",
      "  ax.set_xlim(\n",
      "C:\\Users\\dosre\\AppData\\Local\\Temp\\ipykernel_23500\\508105216.py:46: UserWarning: No artists with labels found to put in legend.  Note that artists whose label start with an underscore are ignored when legend() is called with no argument.\n",
      "  ax.legend()\n"
     ]
    },
    {
     "name": "stdout",
     "output_type": "stream",
     "text": [
      "KeyError: ilutp1em2 rajat15 10\n",
      "KeyError: ilutp1em2 rajat15 20\n"
     ]
    },
    {
     "name": "stderr",
     "output_type": "stream",
     "text": [
      "C:\\Users\\dosre\\AppData\\Local\\Temp\\ipykernel_23500\\508105216.py:41: UserWarning: Attempting to set identical low and high xlims makes transformation singular; automatically expanding.\n",
      "  ax.set_xlim(\n",
      "C:\\Users\\dosre\\AppData\\Local\\Temp\\ipykernel_23500\\508105216.py:46: UserWarning: No artists with labels found to put in legend.  Note that artists whose label start with an underscore are ignored when legend() is called with no argument.\n",
      "  ax.legend()\n",
      "C:\\Users\\dosre\\AppData\\Local\\Temp\\ipykernel_23500\\508105216.py:41: UserWarning: Attempting to set identical low and high xlims makes transformation singular; automatically expanding.\n",
      "  ax.set_xlim(\n",
      "C:\\Users\\dosre\\AppData\\Local\\Temp\\ipykernel_23500\\508105216.py:46: UserWarning: No artists with labels found to put in legend.  Note that artists whose label start with an underscore are ignored when legend() is called with no argument.\n",
      "  ax.legend()\n"
     ]
    },
    {
     "name": "stdout",
     "output_type": "stream",
     "text": [
      "KeyError: ilutp1em2 rajat15 30\n",
      "KeyError: ilutp1em2 rajat15 40\n"
     ]
    },
    {
     "name": "stderr",
     "output_type": "stream",
     "text": [
      "C:\\Users\\dosre\\AppData\\Local\\Temp\\ipykernel_23500\\508105216.py:41: UserWarning: Attempting to set identical low and high xlims makes transformation singular; automatically expanding.\n",
      "  ax.set_xlim(\n",
      "C:\\Users\\dosre\\AppData\\Local\\Temp\\ipykernel_23500\\508105216.py:46: UserWarning: No artists with labels found to put in legend.  Note that artists whose label start with an underscore are ignored when legend() is called with no argument.\n",
      "  ax.legend()\n",
      "C:\\Users\\dosre\\AppData\\Local\\Temp\\ipykernel_23500\\508105216.py:41: UserWarning: Attempting to set identical low and high xlims makes transformation singular; automatically expanding.\n",
      "  ax.set_xlim(\n",
      "C:\\Users\\dosre\\AppData\\Local\\Temp\\ipykernel_23500\\508105216.py:46: UserWarning: No artists with labels found to put in legend.  Note that artists whose label start with an underscore are ignored when legend() is called with no argument.\n",
      "  ax.legend()\n"
     ]
    },
    {
     "name": "stdout",
     "output_type": "stream",
     "text": [
      "KeyError: ilutp1em2 rajat15 50\n",
      "KeyError: ilutp1em2 rajat15 100\n"
     ]
    },
    {
     "name": "stderr",
     "output_type": "stream",
     "text": [
      "C:\\Users\\dosre\\AppData\\Local\\Temp\\ipykernel_23500\\508105216.py:41: UserWarning: Attempting to set identical low and high xlims makes transformation singular; automatically expanding.\n",
      "  ax.set_xlim(\n",
      "C:\\Users\\dosre\\AppData\\Local\\Temp\\ipykernel_23500\\508105216.py:46: UserWarning: No artists with labels found to put in legend.  Note that artists whose label start with an underscore are ignored when legend() is called with no argument.\n",
      "  ax.legend()\n",
      "C:\\Users\\dosre\\AppData\\Local\\Temp\\ipykernel_23500\\508105216.py:41: UserWarning: Attempting to set identical low and high xlims makes transformation singular; automatically expanding.\n",
      "  ax.set_xlim(\n",
      "C:\\Users\\dosre\\AppData\\Local\\Temp\\ipykernel_23500\\508105216.py:46: UserWarning: No artists with labels found to put in legend.  Note that artists whose label start with an underscore are ignored when legend() is called with no argument.\n",
      "  ax.legend()\n"
     ]
    },
    {
     "name": "stdout",
     "output_type": "stream",
     "text": [
      "KeyError: ilutp1em2 rajat15 150\n",
      "KeyError: ilutp1em2 rajat15 200\n"
     ]
    },
    {
     "name": "stderr",
     "output_type": "stream",
     "text": [
      "C:\\Users\\dosre\\AppData\\Local\\Temp\\ipykernel_23500\\508105216.py:41: UserWarning: Attempting to set identical low and high xlims makes transformation singular; automatically expanding.\n",
      "  ax.set_xlim(\n",
      "C:\\Users\\dosre\\AppData\\Local\\Temp\\ipykernel_23500\\508105216.py:46: UserWarning: No artists with labels found to put in legend.  Note that artists whose label start with an underscore are ignored when legend() is called with no argument.\n",
      "  ax.legend()\n",
      "C:\\Users\\dosre\\AppData\\Local\\Temp\\ipykernel_23500\\508105216.py:41: UserWarning: Attempting to set identical low and high xlims makes transformation singular; automatically expanding.\n",
      "  ax.set_xlim(\n",
      "C:\\Users\\dosre\\AppData\\Local\\Temp\\ipykernel_23500\\508105216.py:46: UserWarning: No artists with labels found to put in legend.  Note that artists whose label start with an underscore are ignored when legend() is called with no argument.\n",
      "  ax.legend()\n"
     ]
    },
    {
     "name": "stdout",
     "output_type": "stream",
     "text": [
      "KeyError: ilutp1em2 shermanACb 10\n",
      "KeyError: ilutp1em2 shermanACb 20\n"
     ]
    },
    {
     "name": "stderr",
     "output_type": "stream",
     "text": [
      "C:\\Users\\dosre\\AppData\\Local\\Temp\\ipykernel_23500\\508105216.py:41: UserWarning: Attempting to set identical low and high xlims makes transformation singular; automatically expanding.\n",
      "  ax.set_xlim(\n",
      "C:\\Users\\dosre\\AppData\\Local\\Temp\\ipykernel_23500\\508105216.py:46: UserWarning: No artists with labels found to put in legend.  Note that artists whose label start with an underscore are ignored when legend() is called with no argument.\n",
      "  ax.legend()\n",
      "C:\\Users\\dosre\\AppData\\Local\\Temp\\ipykernel_23500\\508105216.py:41: UserWarning: Attempting to set identical low and high xlims makes transformation singular; automatically expanding.\n",
      "  ax.set_xlim(\n",
      "C:\\Users\\dosre\\AppData\\Local\\Temp\\ipykernel_23500\\508105216.py:46: UserWarning: No artists with labels found to put in legend.  Note that artists whose label start with an underscore are ignored when legend() is called with no argument.\n",
      "  ax.legend()\n"
     ]
    },
    {
     "name": "stdout",
     "output_type": "stream",
     "text": [
      "KeyError: ilutp1em2 shermanACb 30\n",
      "KeyError: ilutp1em2 shermanACb 40\n"
     ]
    },
    {
     "name": "stderr",
     "output_type": "stream",
     "text": [
      "C:\\Users\\dosre\\AppData\\Local\\Temp\\ipykernel_23500\\508105216.py:41: UserWarning: Attempting to set identical low and high xlims makes transformation singular; automatically expanding.\n",
      "  ax.set_xlim(\n",
      "C:\\Users\\dosre\\AppData\\Local\\Temp\\ipykernel_23500\\508105216.py:46: UserWarning: No artists with labels found to put in legend.  Note that artists whose label start with an underscore are ignored when legend() is called with no argument.\n",
      "  ax.legend()\n",
      "C:\\Users\\dosre\\AppData\\Local\\Temp\\ipykernel_23500\\508105216.py:41: UserWarning: Attempting to set identical low and high xlims makes transformation singular; automatically expanding.\n",
      "  ax.set_xlim(\n",
      "C:\\Users\\dosre\\AppData\\Local\\Temp\\ipykernel_23500\\508105216.py:46: UserWarning: No artists with labels found to put in legend.  Note that artists whose label start with an underscore are ignored when legend() is called with no argument.\n",
      "  ax.legend()\n",
      "C:\\Users\\dosre\\AppData\\Local\\Temp\\ipykernel_23500\\508105216.py:41: UserWarning: Attempting to set identical low and high xlims makes transformation singular; automatically expanding.\n",
      "  ax.set_xlim(\n",
      "C:\\Users\\dosre\\AppData\\Local\\Temp\\ipykernel_23500\\508105216.py:46: UserWarning: No artists with labels found to put in legend.  Note that artists whose label start with an underscore are ignored when legend() is called with no argument.\n",
      "  ax.legend()\n"
     ]
    },
    {
     "name": "stdout",
     "output_type": "stream",
     "text": [
      "KeyError: ilutp1em2 shermanACb 50\n",
      "KeyError: ilutp1em2 shermanACb 100\n",
      "KeyError: ilutp1em2 shermanACb 150\n"
     ]
    },
    {
     "name": "stderr",
     "output_type": "stream",
     "text": [
      "C:\\Users\\dosre\\AppData\\Local\\Temp\\ipykernel_23500\\508105216.py:41: UserWarning: Attempting to set identical low and high xlims makes transformation singular; automatically expanding.\n",
      "  ax.set_xlim(\n",
      "C:\\Users\\dosre\\AppData\\Local\\Temp\\ipykernel_23500\\508105216.py:46: UserWarning: No artists with labels found to put in legend.  Note that artists whose label start with an underscore are ignored when legend() is called with no argument.\n",
      "  ax.legend()\n",
      "C:\\Users\\dosre\\AppData\\Local\\Temp\\ipykernel_23500\\508105216.py:41: UserWarning: Attempting to set identical low and high xlims makes transformation singular; automatically expanding.\n",
      "  ax.set_xlim(\n",
      "C:\\Users\\dosre\\AppData\\Local\\Temp\\ipykernel_23500\\508105216.py:46: UserWarning: No artists with labels found to put in legend.  Note that artists whose label start with an underscore are ignored when legend() is called with no argument.\n",
      "  ax.legend()\n"
     ]
    },
    {
     "name": "stdout",
     "output_type": "stream",
     "text": [
      "KeyError: ilutp1em2 shermanACb 200\n",
      "KeyError: ilutp1em2 sme3Da 10\n"
     ]
    },
    {
     "name": "stderr",
     "output_type": "stream",
     "text": [
      "C:\\Users\\dosre\\AppData\\Local\\Temp\\ipykernel_23500\\508105216.py:41: UserWarning: Attempting to set identical low and high xlims makes transformation singular; automatically expanding.\n",
      "  ax.set_xlim(\n",
      "C:\\Users\\dosre\\AppData\\Local\\Temp\\ipykernel_23500\\508105216.py:46: UserWarning: No artists with labels found to put in legend.  Note that artists whose label start with an underscore are ignored when legend() is called with no argument.\n",
      "  ax.legend()\n",
      "C:\\Users\\dosre\\AppData\\Local\\Temp\\ipykernel_23500\\508105216.py:41: UserWarning: Attempting to set identical low and high xlims makes transformation singular; automatically expanding.\n",
      "  ax.set_xlim(\n",
      "C:\\Users\\dosre\\AppData\\Local\\Temp\\ipykernel_23500\\508105216.py:46: UserWarning: No artists with labels found to put in legend.  Note that artists whose label start with an underscore are ignored when legend() is called with no argument.\n",
      "  ax.legend()\n",
      "C:\\Users\\dosre\\AppData\\Local\\Temp\\ipykernel_23500\\508105216.py:41: UserWarning: Attempting to set identical low and high xlims makes transformation singular; automatically expanding.\n",
      "  ax.set_xlim(\n",
      "C:\\Users\\dosre\\AppData\\Local\\Temp\\ipykernel_23500\\508105216.py:46: UserWarning: No artists with labels found to put in legend.  Note that artists whose label start with an underscore are ignored when legend() is called with no argument.\n",
      "  ax.legend()\n"
     ]
    },
    {
     "name": "stdout",
     "output_type": "stream",
     "text": [
      "KeyError: ilutp1em2 sme3Da 20\n",
      "KeyError: ilutp1em2 sme3Da 30\n",
      "KeyError: ilutp1em2 sme3Da 40\n"
     ]
    },
    {
     "name": "stderr",
     "output_type": "stream",
     "text": [
      "C:\\Users\\dosre\\AppData\\Local\\Temp\\ipykernel_23500\\508105216.py:41: UserWarning: Attempting to set identical low and high xlims makes transformation singular; automatically expanding.\n",
      "  ax.set_xlim(\n",
      "C:\\Users\\dosre\\AppData\\Local\\Temp\\ipykernel_23500\\508105216.py:46: UserWarning: No artists with labels found to put in legend.  Note that artists whose label start with an underscore are ignored when legend() is called with no argument.\n",
      "  ax.legend()\n",
      "C:\\Users\\dosre\\AppData\\Local\\Temp\\ipykernel_23500\\508105216.py:41: UserWarning: Attempting to set identical low and high xlims makes transformation singular; automatically expanding.\n",
      "  ax.set_xlim(\n",
      "C:\\Users\\dosre\\AppData\\Local\\Temp\\ipykernel_23500\\508105216.py:46: UserWarning: No artists with labels found to put in legend.  Note that artists whose label start with an underscore are ignored when legend() is called with no argument.\n",
      "  ax.legend()\n"
     ]
    },
    {
     "name": "stdout",
     "output_type": "stream",
     "text": [
      "KeyError: ilutp1em2 sme3Da 50\n",
      "KeyError: ilutp1em2 sme3Da 100\n"
     ]
    },
    {
     "name": "stderr",
     "output_type": "stream",
     "text": [
      "C:\\Users\\dosre\\AppData\\Local\\Temp\\ipykernel_23500\\508105216.py:41: UserWarning: Attempting to set identical low and high xlims makes transformation singular; automatically expanding.\n",
      "  ax.set_xlim(\n",
      "C:\\Users\\dosre\\AppData\\Local\\Temp\\ipykernel_23500\\508105216.py:46: UserWarning: No artists with labels found to put in legend.  Note that artists whose label start with an underscore are ignored when legend() is called with no argument.\n",
      "  ax.legend()\n",
      "C:\\Users\\dosre\\AppData\\Local\\Temp\\ipykernel_23500\\508105216.py:41: UserWarning: Attempting to set identical low and high xlims makes transformation singular; automatically expanding.\n",
      "  ax.set_xlim(\n",
      "C:\\Users\\dosre\\AppData\\Local\\Temp\\ipykernel_23500\\508105216.py:46: UserWarning: No artists with labels found to put in legend.  Note that artists whose label start with an underscore are ignored when legend() is called with no argument.\n",
      "  ax.legend()\n"
     ]
    },
    {
     "name": "stdout",
     "output_type": "stream",
     "text": [
      "KeyError: ilutp1em2 sme3Da 150\n",
      "KeyError: ilutp1em2 sme3Da 200\n"
     ]
    },
    {
     "name": "stderr",
     "output_type": "stream",
     "text": [
      "C:\\Users\\dosre\\AppData\\Local\\Temp\\ipykernel_23500\\508105216.py:41: UserWarning: Attempting to set identical low and high xlims makes transformation singular; automatically expanding.\n",
      "  ax.set_xlim(\n",
      "C:\\Users\\dosre\\AppData\\Local\\Temp\\ipykernel_23500\\508105216.py:46: UserWarning: No artists with labels found to put in legend.  Note that artists whose label start with an underscore are ignored when legend() is called with no argument.\n",
      "  ax.legend()\n",
      "C:\\Users\\dosre\\AppData\\Local\\Temp\\ipykernel_23500\\508105216.py:41: UserWarning: Attempting to set identical low and high xlims makes transformation singular; automatically expanding.\n",
      "  ax.set_xlim(\n",
      "C:\\Users\\dosre\\AppData\\Local\\Temp\\ipykernel_23500\\508105216.py:46: UserWarning: No artists with labels found to put in legend.  Note that artists whose label start with an underscore are ignored when legend() is called with no argument.\n",
      "  ax.legend()\n"
     ]
    },
    {
     "name": "stdout",
     "output_type": "stream",
     "text": [
      "KeyError: ilutp1em2 TSOPF_RS_b39_c7 10\n",
      "KeyError: ilutp1em2 TSOPF_RS_b39_c7 20\n"
     ]
    },
    {
     "name": "stderr",
     "output_type": "stream",
     "text": [
      "C:\\Users\\dosre\\AppData\\Local\\Temp\\ipykernel_23500\\508105216.py:41: UserWarning: Attempting to set identical low and high xlims makes transformation singular; automatically expanding.\n",
      "  ax.set_xlim(\n",
      "C:\\Users\\dosre\\AppData\\Local\\Temp\\ipykernel_23500\\508105216.py:46: UserWarning: No artists with labels found to put in legend.  Note that artists whose label start with an underscore are ignored when legend() is called with no argument.\n",
      "  ax.legend()\n",
      "C:\\Users\\dosre\\AppData\\Local\\Temp\\ipykernel_23500\\508105216.py:41: UserWarning: Attempting to set identical low and high xlims makes transformation singular; automatically expanding.\n",
      "  ax.set_xlim(\n",
      "C:\\Users\\dosre\\AppData\\Local\\Temp\\ipykernel_23500\\508105216.py:46: UserWarning: No artists with labels found to put in legend.  Note that artists whose label start with an underscore are ignored when legend() is called with no argument.\n",
      "  ax.legend()\n"
     ]
    },
    {
     "name": "stdout",
     "output_type": "stream",
     "text": [
      "KeyError: ilutp1em2 TSOPF_RS_b39_c7 30\n",
      "KeyError: ilutp1em2 TSOPF_RS_b39_c7 40\n"
     ]
    },
    {
     "name": "stderr",
     "output_type": "stream",
     "text": [
      "C:\\Users\\dosre\\AppData\\Local\\Temp\\ipykernel_23500\\508105216.py:41: UserWarning: Attempting to set identical low and high xlims makes transformation singular; automatically expanding.\n",
      "  ax.set_xlim(\n",
      "C:\\Users\\dosre\\AppData\\Local\\Temp\\ipykernel_23500\\508105216.py:46: UserWarning: No artists with labels found to put in legend.  Note that artists whose label start with an underscore are ignored when legend() is called with no argument.\n",
      "  ax.legend()\n",
      "C:\\Users\\dosre\\AppData\\Local\\Temp\\ipykernel_23500\\508105216.py:41: UserWarning: Attempting to set identical low and high xlims makes transformation singular; automatically expanding.\n",
      "  ax.set_xlim(\n",
      "C:\\Users\\dosre\\AppData\\Local\\Temp\\ipykernel_23500\\508105216.py:46: UserWarning: No artists with labels found to put in legend.  Note that artists whose label start with an underscore are ignored when legend() is called with no argument.\n",
      "  ax.legend()\n"
     ]
    },
    {
     "name": "stdout",
     "output_type": "stream",
     "text": [
      "KeyError: ilutp1em2 TSOPF_RS_b39_c7 50\n",
      "KeyError: ilutp1em2 TSOPF_RS_b39_c7 100\n",
      "KeyError: ilutp1em2 TSOPF_RS_b39_c7 150\n"
     ]
    },
    {
     "name": "stderr",
     "output_type": "stream",
     "text": [
      "C:\\Users\\dosre\\AppData\\Local\\Temp\\ipykernel_23500\\508105216.py:41: UserWarning: Attempting to set identical low and high xlims makes transformation singular; automatically expanding.\n",
      "  ax.set_xlim(\n",
      "C:\\Users\\dosre\\AppData\\Local\\Temp\\ipykernel_23500\\508105216.py:46: UserWarning: No artists with labels found to put in legend.  Note that artists whose label start with an underscore are ignored when legend() is called with no argument.\n",
      "  ax.legend()\n",
      "C:\\Users\\dosre\\AppData\\Local\\Temp\\ipykernel_23500\\508105216.py:41: UserWarning: Attempting to set identical low and high xlims makes transformation singular; automatically expanding.\n",
      "  ax.set_xlim(\n",
      "C:\\Users\\dosre\\AppData\\Local\\Temp\\ipykernel_23500\\508105216.py:46: UserWarning: No artists with labels found to put in legend.  Note that artists whose label start with an underscore are ignored when legend() is called with no argument.\n",
      "  ax.legend()\n"
     ]
    },
    {
     "name": "stdout",
     "output_type": "stream",
     "text": [
      "KeyError: ilutp1em2 TSOPF_RS_b39_c7 200\n",
      "KeyError: ilutp1em2 viscoplastic2 10\n"
     ]
    },
    {
     "name": "stderr",
     "output_type": "stream",
     "text": [
      "C:\\Users\\dosre\\AppData\\Local\\Temp\\ipykernel_23500\\508105216.py:41: UserWarning: Attempting to set identical low and high xlims makes transformation singular; automatically expanding.\n",
      "  ax.set_xlim(\n",
      "C:\\Users\\dosre\\AppData\\Local\\Temp\\ipykernel_23500\\508105216.py:46: UserWarning: No artists with labels found to put in legend.  Note that artists whose label start with an underscore are ignored when legend() is called with no argument.\n",
      "  ax.legend()\n",
      "C:\\Users\\dosre\\AppData\\Local\\Temp\\ipykernel_23500\\508105216.py:41: UserWarning: Attempting to set identical low and high xlims makes transformation singular; automatically expanding.\n",
      "  ax.set_xlim(\n",
      "C:\\Users\\dosre\\AppData\\Local\\Temp\\ipykernel_23500\\508105216.py:46: UserWarning: No artists with labels found to put in legend.  Note that artists whose label start with an underscore are ignored when legend() is called with no argument.\n",
      "  ax.legend()\n"
     ]
    },
    {
     "name": "stdout",
     "output_type": "stream",
     "text": [
      "KeyError: ilutp1em2 viscoplastic2 20\n",
      "KeyError: ilutp1em2 viscoplastic2 30\n"
     ]
    },
    {
     "name": "stderr",
     "output_type": "stream",
     "text": [
      "C:\\Users\\dosre\\AppData\\Local\\Temp\\ipykernel_23500\\508105216.py:41: UserWarning: Attempting to set identical low and high xlims makes transformation singular; automatically expanding.\n",
      "  ax.set_xlim(\n",
      "C:\\Users\\dosre\\AppData\\Local\\Temp\\ipykernel_23500\\508105216.py:46: UserWarning: No artists with labels found to put in legend.  Note that artists whose label start with an underscore are ignored when legend() is called with no argument.\n",
      "  ax.legend()\n",
      "C:\\Users\\dosre\\AppData\\Local\\Temp\\ipykernel_23500\\508105216.py:41: UserWarning: Attempting to set identical low and high xlims makes transformation singular; automatically expanding.\n",
      "  ax.set_xlim(\n",
      "C:\\Users\\dosre\\AppData\\Local\\Temp\\ipykernel_23500\\508105216.py:46: UserWarning: No artists with labels found to put in legend.  Note that artists whose label start with an underscore are ignored when legend() is called with no argument.\n",
      "  ax.legend()\n"
     ]
    },
    {
     "name": "stdout",
     "output_type": "stream",
     "text": [
      "KeyError: ilutp1em2 viscoplastic2 40\n",
      "KeyError: ilutp1em2 viscoplastic2 50\n"
     ]
    },
    {
     "name": "stderr",
     "output_type": "stream",
     "text": [
      "C:\\Users\\dosre\\AppData\\Local\\Temp\\ipykernel_23500\\508105216.py:41: UserWarning: Attempting to set identical low and high xlims makes transformation singular; automatically expanding.\n",
      "  ax.set_xlim(\n",
      "C:\\Users\\dosre\\AppData\\Local\\Temp\\ipykernel_23500\\508105216.py:46: UserWarning: No artists with labels found to put in legend.  Note that artists whose label start with an underscore are ignored when legend() is called with no argument.\n",
      "  ax.legend()\n",
      "C:\\Users\\dosre\\AppData\\Local\\Temp\\ipykernel_23500\\508105216.py:41: UserWarning: Attempting to set identical low and high xlims makes transformation singular; automatically expanding.\n",
      "  ax.set_xlim(\n",
      "C:\\Users\\dosre\\AppData\\Local\\Temp\\ipykernel_23500\\508105216.py:46: UserWarning: No artists with labels found to put in legend.  Note that artists whose label start with an underscore are ignored when legend() is called with no argument.\n",
      "  ax.legend()\n"
     ]
    },
    {
     "name": "stdout",
     "output_type": "stream",
     "text": [
      "KeyError: ilutp1em2 viscoplastic2 100\n",
      "KeyError: ilutp1em2 viscoplastic2 150\n"
     ]
    },
    {
     "name": "stderr",
     "output_type": "stream",
     "text": [
      "C:\\Users\\dosre\\AppData\\Local\\Temp\\ipykernel_23500\\508105216.py:41: UserWarning: Attempting to set identical low and high xlims makes transformation singular; automatically expanding.\n",
      "  ax.set_xlim(\n",
      "C:\\Users\\dosre\\AppData\\Local\\Temp\\ipykernel_23500\\508105216.py:46: UserWarning: No artists with labels found to put in legend.  Note that artists whose label start with an underscore are ignored when legend() is called with no argument.\n",
      "  ax.legend()\n",
      "C:\\Users\\dosre\\AppData\\Local\\Temp\\ipykernel_23500\\508105216.py:41: UserWarning: Attempting to set identical low and high xlims makes transformation singular; automatically expanding.\n",
      "  ax.set_xlim(\n",
      "C:\\Users\\dosre\\AppData\\Local\\Temp\\ipykernel_23500\\508105216.py:46: UserWarning: No artists with labels found to put in legend.  Note that artists whose label start with an underscore are ignored when legend() is called with no argument.\n",
      "  ax.legend()\n"
     ]
    },
    {
     "name": "stdout",
     "output_type": "stream",
     "text": [
      "KeyError: ilutp1em2 viscoplastic2 200\n",
      "KeyError: ilutp1em2 wang3 10\n"
     ]
    },
    {
     "name": "stderr",
     "output_type": "stream",
     "text": [
      "C:\\Users\\dosre\\AppData\\Local\\Temp\\ipykernel_23500\\508105216.py:41: UserWarning: Attempting to set identical low and high xlims makes transformation singular; automatically expanding.\n",
      "  ax.set_xlim(\n",
      "C:\\Users\\dosre\\AppData\\Local\\Temp\\ipykernel_23500\\508105216.py:46: UserWarning: No artists with labels found to put in legend.  Note that artists whose label start with an underscore are ignored when legend() is called with no argument.\n",
      "  ax.legend()\n",
      "C:\\Users\\dosre\\AppData\\Local\\Temp\\ipykernel_23500\\508105216.py:41: UserWarning: Attempting to set identical low and high xlims makes transformation singular; automatically expanding.\n",
      "  ax.set_xlim(\n",
      "C:\\Users\\dosre\\AppData\\Local\\Temp\\ipykernel_23500\\508105216.py:46: UserWarning: No artists with labels found to put in legend.  Note that artists whose label start with an underscore are ignored when legend() is called with no argument.\n",
      "  ax.legend()\n"
     ]
    },
    {
     "name": "stdout",
     "output_type": "stream",
     "text": [
      "KeyError: ilutp1em2 wang3 20\n",
      "KeyError: ilutp1em2 wang3 30\n"
     ]
    },
    {
     "name": "stderr",
     "output_type": "stream",
     "text": [
      "C:\\Users\\dosre\\AppData\\Local\\Temp\\ipykernel_23500\\508105216.py:41: UserWarning: Attempting to set identical low and high xlims makes transformation singular; automatically expanding.\n",
      "  ax.set_xlim(\n",
      "C:\\Users\\dosre\\AppData\\Local\\Temp\\ipykernel_23500\\508105216.py:46: UserWarning: No artists with labels found to put in legend.  Note that artists whose label start with an underscore are ignored when legend() is called with no argument.\n",
      "  ax.legend()\n",
      "C:\\Users\\dosre\\AppData\\Local\\Temp\\ipykernel_23500\\508105216.py:41: UserWarning: Attempting to set identical low and high xlims makes transformation singular; automatically expanding.\n",
      "  ax.set_xlim(\n",
      "C:\\Users\\dosre\\AppData\\Local\\Temp\\ipykernel_23500\\508105216.py:46: UserWarning: No artists with labels found to put in legend.  Note that artists whose label start with an underscore are ignored when legend() is called with no argument.\n",
      "  ax.legend()\n"
     ]
    },
    {
     "name": "stdout",
     "output_type": "stream",
     "text": [
      "KeyError: ilutp1em2 wang3 40\n",
      "KeyError: ilutp1em2 wang3 50\n"
     ]
    },
    {
     "name": "stderr",
     "output_type": "stream",
     "text": [
      "C:\\Users\\dosre\\AppData\\Local\\Temp\\ipykernel_23500\\508105216.py:41: UserWarning: Attempting to set identical low and high xlims makes transformation singular; automatically expanding.\n",
      "  ax.set_xlim(\n",
      "C:\\Users\\dosre\\AppData\\Local\\Temp\\ipykernel_23500\\508105216.py:46: UserWarning: No artists with labels found to put in legend.  Note that artists whose label start with an underscore are ignored when legend() is called with no argument.\n",
      "  ax.legend()\n",
      "C:\\Users\\dosre\\AppData\\Local\\Temp\\ipykernel_23500\\508105216.py:41: UserWarning: Attempting to set identical low and high xlims makes transformation singular; automatically expanding.\n",
      "  ax.set_xlim(\n",
      "C:\\Users\\dosre\\AppData\\Local\\Temp\\ipykernel_23500\\508105216.py:46: UserWarning: No artists with labels found to put in legend.  Note that artists whose label start with an underscore are ignored when legend() is called with no argument.\n",
      "  ax.legend()\n"
     ]
    },
    {
     "name": "stdout",
     "output_type": "stream",
     "text": [
      "KeyError: ilutp1em2 wang3 100\n",
      "KeyError: ilutp1em2 wang3 150\n"
     ]
    },
    {
     "name": "stderr",
     "output_type": "stream",
     "text": [
      "C:\\Users\\dosre\\AppData\\Local\\Temp\\ipykernel_23500\\508105216.py:41: UserWarning: Attempting to set identical low and high xlims makes transformation singular; automatically expanding.\n",
      "  ax.set_xlim(\n",
      "C:\\Users\\dosre\\AppData\\Local\\Temp\\ipykernel_23500\\508105216.py:46: UserWarning: No artists with labels found to put in legend.  Note that artists whose label start with an underscore are ignored when legend() is called with no argument.\n",
      "  ax.legend()\n",
      "C:\\Users\\dosre\\AppData\\Local\\Temp\\ipykernel_23500\\508105216.py:41: UserWarning: Attempting to set identical low and high xlims makes transformation singular; automatically expanding.\n",
      "  ax.set_xlim(\n",
      "C:\\Users\\dosre\\AppData\\Local\\Temp\\ipykernel_23500\\508105216.py:46: UserWarning: No artists with labels found to put in legend.  Note that artists whose label start with an underscore are ignored when legend() is called with no argument.\n",
      "  ax.legend()\n"
     ]
    },
    {
     "name": "stdout",
     "output_type": "stream",
     "text": [
      "KeyError: ilutp1em2 wang3 200\n",
      "KeyError: ilutp1em2 wang4 10\n"
     ]
    },
    {
     "name": "stderr",
     "output_type": "stream",
     "text": [
      "C:\\Users\\dosre\\AppData\\Local\\Temp\\ipykernel_23500\\508105216.py:41: UserWarning: Attempting to set identical low and high xlims makes transformation singular; automatically expanding.\n",
      "  ax.set_xlim(\n",
      "C:\\Users\\dosre\\AppData\\Local\\Temp\\ipykernel_23500\\508105216.py:46: UserWarning: No artists with labels found to put in legend.  Note that artists whose label start with an underscore are ignored when legend() is called with no argument.\n",
      "  ax.legend()\n",
      "C:\\Users\\dosre\\AppData\\Local\\Temp\\ipykernel_23500\\508105216.py:41: UserWarning: Attempting to set identical low and high xlims makes transformation singular; automatically expanding.\n",
      "  ax.set_xlim(\n",
      "C:\\Users\\dosre\\AppData\\Local\\Temp\\ipykernel_23500\\508105216.py:46: UserWarning: No artists with labels found to put in legend.  Note that artists whose label start with an underscore are ignored when legend() is called with no argument.\n",
      "  ax.legend()\n"
     ]
    },
    {
     "name": "stdout",
     "output_type": "stream",
     "text": [
      "KeyError: ilutp1em2 wang4 20\n",
      "KeyError: ilutp1em2 wang4 30\n"
     ]
    },
    {
     "name": "stderr",
     "output_type": "stream",
     "text": [
      "C:\\Users\\dosre\\AppData\\Local\\Temp\\ipykernel_23500\\508105216.py:41: UserWarning: Attempting to set identical low and high xlims makes transformation singular; automatically expanding.\n",
      "  ax.set_xlim(\n",
      "C:\\Users\\dosre\\AppData\\Local\\Temp\\ipykernel_23500\\508105216.py:46: UserWarning: No artists with labels found to put in legend.  Note that artists whose label start with an underscore are ignored when legend() is called with no argument.\n",
      "  ax.legend()\n",
      "C:\\Users\\dosre\\AppData\\Local\\Temp\\ipykernel_23500\\508105216.py:41: UserWarning: Attempting to set identical low and high xlims makes transformation singular; automatically expanding.\n",
      "  ax.set_xlim(\n",
      "C:\\Users\\dosre\\AppData\\Local\\Temp\\ipykernel_23500\\508105216.py:46: UserWarning: No artists with labels found to put in legend.  Note that artists whose label start with an underscore are ignored when legend() is called with no argument.\n",
      "  ax.legend()\n"
     ]
    },
    {
     "name": "stdout",
     "output_type": "stream",
     "text": [
      "KeyError: ilutp1em2 wang4 40\n",
      "KeyError: ilutp1em2 wang4 50\n"
     ]
    },
    {
     "name": "stderr",
     "output_type": "stream",
     "text": [
      "C:\\Users\\dosre\\AppData\\Local\\Temp\\ipykernel_23500\\508105216.py:41: UserWarning: Attempting to set identical low and high xlims makes transformation singular; automatically expanding.\n",
      "  ax.set_xlim(\n",
      "C:\\Users\\dosre\\AppData\\Local\\Temp\\ipykernel_23500\\508105216.py:46: UserWarning: No artists with labels found to put in legend.  Note that artists whose label start with an underscore are ignored when legend() is called with no argument.\n",
      "  ax.legend()\n",
      "C:\\Users\\dosre\\AppData\\Local\\Temp\\ipykernel_23500\\508105216.py:41: UserWarning: Attempting to set identical low and high xlims makes transformation singular; automatically expanding.\n",
      "  ax.set_xlim(\n",
      "C:\\Users\\dosre\\AppData\\Local\\Temp\\ipykernel_23500\\508105216.py:46: UserWarning: No artists with labels found to put in legend.  Note that artists whose label start with an underscore are ignored when legend() is called with no argument.\n",
      "  ax.legend()\n"
     ]
    },
    {
     "name": "stdout",
     "output_type": "stream",
     "text": [
      "KeyError: ilutp1em2 wang4 100\n",
      "KeyError: ilutp1em2 wang4 150\n"
     ]
    },
    {
     "name": "stderr",
     "output_type": "stream",
     "text": [
      "C:\\Users\\dosre\\AppData\\Local\\Temp\\ipykernel_23500\\508105216.py:41: UserWarning: Attempting to set identical low and high xlims makes transformation singular; automatically expanding.\n",
      "  ax.set_xlim(\n",
      "C:\\Users\\dosre\\AppData\\Local\\Temp\\ipykernel_23500\\508105216.py:46: UserWarning: No artists with labels found to put in legend.  Note that artists whose label start with an underscore are ignored when legend() is called with no argument.\n",
      "  ax.legend()\n",
      "C:\\Users\\dosre\\AppData\\Local\\Temp\\ipykernel_23500\\508105216.py:41: UserWarning: Attempting to set identical low and high xlims makes transformation singular; automatically expanding.\n",
      "  ax.set_xlim(\n",
      "C:\\Users\\dosre\\AppData\\Local\\Temp\\ipykernel_23500\\508105216.py:46: UserWarning: No artists with labels found to put in legend.  Note that artists whose label start with an underscore are ignored when legend() is called with no argument.\n",
      "  ax.legend()\n"
     ]
    },
    {
     "name": "stdout",
     "output_type": "stream",
     "text": [
      "KeyError: ilutp1em2 wang4 200\n",
      "KeyError: ilutp1em2 Zhao1 10\n"
     ]
    },
    {
     "name": "stderr",
     "output_type": "stream",
     "text": [
      "C:\\Users\\dosre\\AppData\\Local\\Temp\\ipykernel_23500\\508105216.py:41: UserWarning: Attempting to set identical low and high xlims makes transformation singular; automatically expanding.\n",
      "  ax.set_xlim(\n",
      "C:\\Users\\dosre\\AppData\\Local\\Temp\\ipykernel_23500\\508105216.py:46: UserWarning: No artists with labels found to put in legend.  Note that artists whose label start with an underscore are ignored when legend() is called with no argument.\n",
      "  ax.legend()\n",
      "C:\\Users\\dosre\\AppData\\Local\\Temp\\ipykernel_23500\\508105216.py:41: UserWarning: Attempting to set identical low and high xlims makes transformation singular; automatically expanding.\n",
      "  ax.set_xlim(\n",
      "C:\\Users\\dosre\\AppData\\Local\\Temp\\ipykernel_23500\\508105216.py:46: UserWarning: No artists with labels found to put in legend.  Note that artists whose label start with an underscore are ignored when legend() is called with no argument.\n",
      "  ax.legend()\n"
     ]
    },
    {
     "name": "stdout",
     "output_type": "stream",
     "text": [
      "KeyError: ilutp1em2 Zhao1 20\n",
      "KeyError: ilutp1em2 Zhao1 30\n"
     ]
    },
    {
     "name": "stderr",
     "output_type": "stream",
     "text": [
      "C:\\Users\\dosre\\AppData\\Local\\Temp\\ipykernel_23500\\508105216.py:41: UserWarning: Attempting to set identical low and high xlims makes transformation singular; automatically expanding.\n",
      "  ax.set_xlim(\n",
      "C:\\Users\\dosre\\AppData\\Local\\Temp\\ipykernel_23500\\508105216.py:46: UserWarning: No artists with labels found to put in legend.  Note that artists whose label start with an underscore are ignored when legend() is called with no argument.\n",
      "  ax.legend()\n",
      "C:\\Users\\dosre\\AppData\\Local\\Temp\\ipykernel_23500\\508105216.py:41: UserWarning: Attempting to set identical low and high xlims makes transformation singular; automatically expanding.\n",
      "  ax.set_xlim(\n",
      "C:\\Users\\dosre\\AppData\\Local\\Temp\\ipykernel_23500\\508105216.py:46: UserWarning: No artists with labels found to put in legend.  Note that artists whose label start with an underscore are ignored when legend() is called with no argument.\n",
      "  ax.legend()\n"
     ]
    },
    {
     "name": "stdout",
     "output_type": "stream",
     "text": [
      "KeyError: ilutp1em2 Zhao1 40\n",
      "KeyError: ilutp1em2 Zhao1 50\n"
     ]
    },
    {
     "name": "stderr",
     "output_type": "stream",
     "text": [
      "C:\\Users\\dosre\\AppData\\Local\\Temp\\ipykernel_23500\\508105216.py:41: UserWarning: Attempting to set identical low and high xlims makes transformation singular; automatically expanding.\n",
      "  ax.set_xlim(\n",
      "C:\\Users\\dosre\\AppData\\Local\\Temp\\ipykernel_23500\\508105216.py:46: UserWarning: No artists with labels found to put in legend.  Note that artists whose label start with an underscore are ignored when legend() is called with no argument.\n",
      "  ax.legend()\n",
      "C:\\Users\\dosre\\AppData\\Local\\Temp\\ipykernel_23500\\508105216.py:41: UserWarning: Attempting to set identical low and high xlims makes transformation singular; automatically expanding.\n",
      "  ax.set_xlim(\n",
      "C:\\Users\\dosre\\AppData\\Local\\Temp\\ipykernel_23500\\508105216.py:46: UserWarning: No artists with labels found to put in legend.  Note that artists whose label start with an underscore are ignored when legend() is called with no argument.\n",
      "  ax.legend()\n"
     ]
    },
    {
     "name": "stdout",
     "output_type": "stream",
     "text": [
      "KeyError: ilutp1em2 Zhao1 100\n",
      "KeyError: ilutp1em2 Zhao1 150\n"
     ]
    },
    {
     "name": "stderr",
     "output_type": "stream",
     "text": [
      "C:\\Users\\dosre\\AppData\\Local\\Temp\\ipykernel_23500\\508105216.py:41: UserWarning: Attempting to set identical low and high xlims makes transformation singular; automatically expanding.\n",
      "  ax.set_xlim(\n",
      "C:\\Users\\dosre\\AppData\\Local\\Temp\\ipykernel_23500\\508105216.py:46: UserWarning: No artists with labels found to put in legend.  Note that artists whose label start with an underscore are ignored when legend() is called with no argument.\n",
      "  ax.legend()\n",
      "C:\\Users\\dosre\\AppData\\Local\\Temp\\ipykernel_23500\\508105216.py:41: UserWarning: Attempting to set identical low and high xlims makes transformation singular; automatically expanding.\n",
      "  ax.set_xlim(\n",
      "C:\\Users\\dosre\\AppData\\Local\\Temp\\ipykernel_23500\\508105216.py:46: UserWarning: No artists with labels found to put in legend.  Note that artists whose label start with an underscore are ignored when legend() is called with no argument.\n",
      "  ax.legend()\n"
     ]
    },
    {
     "name": "stdout",
     "output_type": "stream",
     "text": [
      "KeyError: ilutp1em2 Zhao1 200\n",
      "KeyError: ilutp1em2 Zhao2 10\n"
     ]
    },
    {
     "name": "stderr",
     "output_type": "stream",
     "text": [
      "C:\\Users\\dosre\\AppData\\Local\\Temp\\ipykernel_23500\\508105216.py:41: UserWarning: Attempting to set identical low and high xlims makes transformation singular; automatically expanding.\n",
      "  ax.set_xlim(\n",
      "C:\\Users\\dosre\\AppData\\Local\\Temp\\ipykernel_23500\\508105216.py:46: UserWarning: No artists with labels found to put in legend.  Note that artists whose label start with an underscore are ignored when legend() is called with no argument.\n",
      "  ax.legend()\n",
      "C:\\Users\\dosre\\AppData\\Local\\Temp\\ipykernel_23500\\508105216.py:41: UserWarning: Attempting to set identical low and high xlims makes transformation singular; automatically expanding.\n",
      "  ax.set_xlim(\n",
      "C:\\Users\\dosre\\AppData\\Local\\Temp\\ipykernel_23500\\508105216.py:46: UserWarning: No artists with labels found to put in legend.  Note that artists whose label start with an underscore are ignored when legend() is called with no argument.\n",
      "  ax.legend()\n",
      "C:\\Users\\dosre\\AppData\\Local\\Temp\\ipykernel_23500\\508105216.py:41: UserWarning: Attempting to set identical low and high xlims makes transformation singular; automatically expanding.\n",
      "  ax.set_xlim(\n",
      "C:\\Users\\dosre\\AppData\\Local\\Temp\\ipykernel_23500\\508105216.py:46: UserWarning: No artists with labels found to put in legend.  Note that artists whose label start with an underscore are ignored when legend() is called with no argument.\n",
      "  ax.legend()\n"
     ]
    },
    {
     "name": "stdout",
     "output_type": "stream",
     "text": [
      "KeyError: ilutp1em2 Zhao2 20\n",
      "KeyError: ilutp1em2 Zhao2 30\n"
     ]
    },
    {
     "name": "stderr",
     "output_type": "stream",
     "text": [
      "C:\\Users\\dosre\\AppData\\Local\\Temp\\ipykernel_23500\\508105216.py:41: UserWarning: Attempting to set identical low and high xlims makes transformation singular; automatically expanding.\n",
      "  ax.set_xlim(\n",
      "C:\\Users\\dosre\\AppData\\Local\\Temp\\ipykernel_23500\\508105216.py:46: UserWarning: No artists with labels found to put in legend.  Note that artists whose label start with an underscore are ignored when legend() is called with no argument.\n",
      "  ax.legend()\n",
      "C:\\Users\\dosre\\AppData\\Local\\Temp\\ipykernel_23500\\508105216.py:41: UserWarning: Attempting to set identical low and high xlims makes transformation singular; automatically expanding.\n",
      "  ax.set_xlim(\n",
      "C:\\Users\\dosre\\AppData\\Local\\Temp\\ipykernel_23500\\508105216.py:46: UserWarning: No artists with labels found to put in legend.  Note that artists whose label start with an underscore are ignored when legend() is called with no argument.\n",
      "  ax.legend()\n"
     ]
    },
    {
     "name": "stdout",
     "output_type": "stream",
     "text": [
      "KeyError: ilutp1em2 Zhao2 40\n",
      "KeyError: ilutp1em2 Zhao2 50\n"
     ]
    },
    {
     "name": "stderr",
     "output_type": "stream",
     "text": [
      "C:\\Users\\dosre\\AppData\\Local\\Temp\\ipykernel_23500\\508105216.py:41: UserWarning: Attempting to set identical low and high xlims makes transformation singular; automatically expanding.\n",
      "  ax.set_xlim(\n",
      "C:\\Users\\dosre\\AppData\\Local\\Temp\\ipykernel_23500\\508105216.py:46: UserWarning: No artists with labels found to put in legend.  Note that artists whose label start with an underscore are ignored when legend() is called with no argument.\n",
      "  ax.legend()\n",
      "C:\\Users\\dosre\\AppData\\Local\\Temp\\ipykernel_23500\\508105216.py:41: UserWarning: Attempting to set identical low and high xlims makes transformation singular; automatically expanding.\n",
      "  ax.set_xlim(\n",
      "C:\\Users\\dosre\\AppData\\Local\\Temp\\ipykernel_23500\\508105216.py:46: UserWarning: No artists with labels found to put in legend.  Note that artists whose label start with an underscore are ignored when legend() is called with no argument.\n",
      "  ax.legend()\n"
     ]
    },
    {
     "name": "stdout",
     "output_type": "stream",
     "text": [
      "KeyError: ilutp1em2 Zhao2 100\n",
      "KeyError: ilutp1em2 Zhao2 150\n"
     ]
    },
    {
     "name": "stderr",
     "output_type": "stream",
     "text": [
      "C:\\Users\\dosre\\AppData\\Local\\Temp\\ipykernel_23500\\508105216.py:41: UserWarning: Attempting to set identical low and high xlims makes transformation singular; automatically expanding.\n",
      "  ax.set_xlim(\n",
      "C:\\Users\\dosre\\AppData\\Local\\Temp\\ipykernel_23500\\508105216.py:46: UserWarning: No artists with labels found to put in legend.  Note that artists whose label start with an underscore are ignored when legend() is called with no argument.\n",
      "  ax.legend()\n",
      "C:\\Users\\dosre\\AppData\\Local\\Temp\\ipykernel_23500\\508105216.py:41: UserWarning: Attempting to set identical low and high xlims makes transformation singular; automatically expanding.\n",
      "  ax.set_xlim(\n",
      "C:\\Users\\dosre\\AppData\\Local\\Temp\\ipykernel_23500\\508105216.py:46: UserWarning: No artists with labels found to put in legend.  Note that artists whose label start with an underscore are ignored when legend() is called with no argument.\n",
      "  ax.legend()\n"
     ]
    },
    {
     "name": "stdout",
     "output_type": "stream",
     "text": [
      "KeyError: ilutp1em2 Zhao2 200\n",
      "KeyError: ilutp1em4 af23560 10\n"
     ]
    },
    {
     "name": "stderr",
     "output_type": "stream",
     "text": [
      "C:\\Users\\dosre\\AppData\\Local\\Temp\\ipykernel_23500\\508105216.py:41: UserWarning: Attempting to set identical low and high xlims makes transformation singular; automatically expanding.\n",
      "  ax.set_xlim(\n",
      "C:\\Users\\dosre\\AppData\\Local\\Temp\\ipykernel_23500\\508105216.py:46: UserWarning: No artists with labels found to put in legend.  Note that artists whose label start with an underscore are ignored when legend() is called with no argument.\n",
      "  ax.legend()\n",
      "C:\\Users\\dosre\\AppData\\Local\\Temp\\ipykernel_23500\\508105216.py:41: UserWarning: Attempting to set identical low and high xlims makes transformation singular; automatically expanding.\n",
      "  ax.set_xlim(\n",
      "C:\\Users\\dosre\\AppData\\Local\\Temp\\ipykernel_23500\\508105216.py:46: UserWarning: No artists with labels found to put in legend.  Note that artists whose label start with an underscore are ignored when legend() is called with no argument.\n",
      "  ax.legend()\n"
     ]
    },
    {
     "name": "stdout",
     "output_type": "stream",
     "text": [
      "KeyError: ilutp1em4 af23560 20\n",
      "KeyError: ilutp1em4 af23560 30\n"
     ]
    },
    {
     "name": "stderr",
     "output_type": "stream",
     "text": [
      "C:\\Users\\dosre\\AppData\\Local\\Temp\\ipykernel_23500\\508105216.py:41: UserWarning: Attempting to set identical low and high xlims makes transformation singular; automatically expanding.\n",
      "  ax.set_xlim(\n",
      "C:\\Users\\dosre\\AppData\\Local\\Temp\\ipykernel_23500\\508105216.py:46: UserWarning: No artists with labels found to put in legend.  Note that artists whose label start with an underscore are ignored when legend() is called with no argument.\n",
      "  ax.legend()\n",
      "C:\\Users\\dosre\\AppData\\Local\\Temp\\ipykernel_23500\\508105216.py:41: UserWarning: Attempting to set identical low and high xlims makes transformation singular; automatically expanding.\n",
      "  ax.set_xlim(\n",
      "C:\\Users\\dosre\\AppData\\Local\\Temp\\ipykernel_23500\\508105216.py:46: UserWarning: No artists with labels found to put in legend.  Note that artists whose label start with an underscore are ignored when legend() is called with no argument.\n",
      "  ax.legend()\n"
     ]
    },
    {
     "name": "stdout",
     "output_type": "stream",
     "text": [
      "KeyError: ilutp1em4 af23560 40\n",
      "KeyError: ilutp1em4 af23560 50\n"
     ]
    },
    {
     "name": "stderr",
     "output_type": "stream",
     "text": [
      "C:\\Users\\dosre\\AppData\\Local\\Temp\\ipykernel_23500\\508105216.py:41: UserWarning: Attempting to set identical low and high xlims makes transformation singular; automatically expanding.\n",
      "  ax.set_xlim(\n",
      "C:\\Users\\dosre\\AppData\\Local\\Temp\\ipykernel_23500\\508105216.py:46: UserWarning: No artists with labels found to put in legend.  Note that artists whose label start with an underscore are ignored when legend() is called with no argument.\n",
      "  ax.legend()\n",
      "C:\\Users\\dosre\\AppData\\Local\\Temp\\ipykernel_23500\\508105216.py:41: UserWarning: Attempting to set identical low and high xlims makes transformation singular; automatically expanding.\n",
      "  ax.set_xlim(\n",
      "C:\\Users\\dosre\\AppData\\Local\\Temp\\ipykernel_23500\\508105216.py:46: UserWarning: No artists with labels found to put in legend.  Note that artists whose label start with an underscore are ignored when legend() is called with no argument.\n",
      "  ax.legend()\n"
     ]
    },
    {
     "name": "stdout",
     "output_type": "stream",
     "text": [
      "KeyError: ilutp1em4 af23560 100\n",
      "KeyError: ilutp1em4 af23560 150\n"
     ]
    },
    {
     "name": "stderr",
     "output_type": "stream",
     "text": [
      "C:\\Users\\dosre\\AppData\\Local\\Temp\\ipykernel_23500\\508105216.py:41: UserWarning: Attempting to set identical low and high xlims makes transformation singular; automatically expanding.\n",
      "  ax.set_xlim(\n",
      "C:\\Users\\dosre\\AppData\\Local\\Temp\\ipykernel_23500\\508105216.py:46: UserWarning: No artists with labels found to put in legend.  Note that artists whose label start with an underscore are ignored when legend() is called with no argument.\n",
      "  ax.legend()\n",
      "C:\\Users\\dosre\\AppData\\Local\\Temp\\ipykernel_23500\\508105216.py:41: UserWarning: Attempting to set identical low and high xlims makes transformation singular; automatically expanding.\n",
      "  ax.set_xlim(\n",
      "C:\\Users\\dosre\\AppData\\Local\\Temp\\ipykernel_23500\\508105216.py:46: UserWarning: No artists with labels found to put in legend.  Note that artists whose label start with an underscore are ignored when legend() is called with no argument.\n",
      "  ax.legend()\n"
     ]
    },
    {
     "name": "stdout",
     "output_type": "stream",
     "text": [
      "KeyError: ilutp1em4 af23560 200\n",
      "KeyError: ilutp1em4 airfoil_2d 10\n"
     ]
    },
    {
     "name": "stderr",
     "output_type": "stream",
     "text": [
      "C:\\Users\\dosre\\AppData\\Local\\Temp\\ipykernel_23500\\508105216.py:41: UserWarning: Attempting to set identical low and high xlims makes transformation singular; automatically expanding.\n",
      "  ax.set_xlim(\n",
      "C:\\Users\\dosre\\AppData\\Local\\Temp\\ipykernel_23500\\508105216.py:46: UserWarning: No artists with labels found to put in legend.  Note that artists whose label start with an underscore are ignored when legend() is called with no argument.\n",
      "  ax.legend()\n",
      "C:\\Users\\dosre\\AppData\\Local\\Temp\\ipykernel_23500\\508105216.py:41: UserWarning: Attempting to set identical low and high xlims makes transformation singular; automatically expanding.\n",
      "  ax.set_xlim(\n",
      "C:\\Users\\dosre\\AppData\\Local\\Temp\\ipykernel_23500\\508105216.py:46: UserWarning: No artists with labels found to put in legend.  Note that artists whose label start with an underscore are ignored when legend() is called with no argument.\n",
      "  ax.legend()\n"
     ]
    },
    {
     "name": "stdout",
     "output_type": "stream",
     "text": [
      "KeyError: ilutp1em4 airfoil_2d 20\n",
      "KeyError: ilutp1em4 airfoil_2d 30\n"
     ]
    },
    {
     "name": "stderr",
     "output_type": "stream",
     "text": [
      "C:\\Users\\dosre\\AppData\\Local\\Temp\\ipykernel_23500\\508105216.py:41: UserWarning: Attempting to set identical low and high xlims makes transformation singular; automatically expanding.\n",
      "  ax.set_xlim(\n",
      "C:\\Users\\dosre\\AppData\\Local\\Temp\\ipykernel_23500\\508105216.py:46: UserWarning: No artists with labels found to put in legend.  Note that artists whose label start with an underscore are ignored when legend() is called with no argument.\n",
      "  ax.legend()\n",
      "C:\\Users\\dosre\\AppData\\Local\\Temp\\ipykernel_23500\\508105216.py:41: UserWarning: Attempting to set identical low and high xlims makes transformation singular; automatically expanding.\n",
      "  ax.set_xlim(\n",
      "C:\\Users\\dosre\\AppData\\Local\\Temp\\ipykernel_23500\\508105216.py:46: UserWarning: No artists with labels found to put in legend.  Note that artists whose label start with an underscore are ignored when legend() is called with no argument.\n",
      "  ax.legend()\n"
     ]
    },
    {
     "name": "stdout",
     "output_type": "stream",
     "text": [
      "KeyError: ilutp1em4 airfoil_2d 40\n",
      "KeyError: ilutp1em4 airfoil_2d 50\n"
     ]
    },
    {
     "name": "stderr",
     "output_type": "stream",
     "text": [
      "C:\\Users\\dosre\\AppData\\Local\\Temp\\ipykernel_23500\\508105216.py:41: UserWarning: Attempting to set identical low and high xlims makes transformation singular; automatically expanding.\n",
      "  ax.set_xlim(\n",
      "C:\\Users\\dosre\\AppData\\Local\\Temp\\ipykernel_23500\\508105216.py:46: UserWarning: No artists with labels found to put in legend.  Note that artists whose label start with an underscore are ignored when legend() is called with no argument.\n",
      "  ax.legend()\n",
      "C:\\Users\\dosre\\AppData\\Local\\Temp\\ipykernel_23500\\508105216.py:41: UserWarning: Attempting to set identical low and high xlims makes transformation singular; automatically expanding.\n",
      "  ax.set_xlim(\n",
      "C:\\Users\\dosre\\AppData\\Local\\Temp\\ipykernel_23500\\508105216.py:46: UserWarning: No artists with labels found to put in legend.  Note that artists whose label start with an underscore are ignored when legend() is called with no argument.\n",
      "  ax.legend()\n"
     ]
    },
    {
     "name": "stdout",
     "output_type": "stream",
     "text": [
      "KeyError: ilutp1em4 airfoil_2d 100\n",
      "KeyError: ilutp1em4 airfoil_2d 150\n"
     ]
    },
    {
     "name": "stderr",
     "output_type": "stream",
     "text": [
      "C:\\Users\\dosre\\AppData\\Local\\Temp\\ipykernel_23500\\508105216.py:41: UserWarning: Attempting to set identical low and high xlims makes transformation singular; automatically expanding.\n",
      "  ax.set_xlim(\n",
      "C:\\Users\\dosre\\AppData\\Local\\Temp\\ipykernel_23500\\508105216.py:46: UserWarning: No artists with labels found to put in legend.  Note that artists whose label start with an underscore are ignored when legend() is called with no argument.\n",
      "  ax.legend()\n",
      "C:\\Users\\dosre\\AppData\\Local\\Temp\\ipykernel_23500\\508105216.py:41: UserWarning: Attempting to set identical low and high xlims makes transformation singular; automatically expanding.\n",
      "  ax.set_xlim(\n",
      "C:\\Users\\dosre\\AppData\\Local\\Temp\\ipykernel_23500\\508105216.py:46: UserWarning: No artists with labels found to put in legend.  Note that artists whose label start with an underscore are ignored when legend() is called with no argument.\n",
      "  ax.legend()\n"
     ]
    },
    {
     "name": "stdout",
     "output_type": "stream",
     "text": [
      "KeyError: ilutp1em4 airfoil_2d 200\n",
      "KeyError: ilutp1em4 appu 10\n"
     ]
    },
    {
     "name": "stderr",
     "output_type": "stream",
     "text": [
      "C:\\Users\\dosre\\AppData\\Local\\Temp\\ipykernel_23500\\508105216.py:41: UserWarning: Attempting to set identical low and high xlims makes transformation singular; automatically expanding.\n",
      "  ax.set_xlim(\n",
      "C:\\Users\\dosre\\AppData\\Local\\Temp\\ipykernel_23500\\508105216.py:46: UserWarning: No artists with labels found to put in legend.  Note that artists whose label start with an underscore are ignored when legend() is called with no argument.\n",
      "  ax.legend()\n",
      "C:\\Users\\dosre\\AppData\\Local\\Temp\\ipykernel_23500\\508105216.py:41: UserWarning: Attempting to set identical low and high xlims makes transformation singular; automatically expanding.\n",
      "  ax.set_xlim(\n",
      "C:\\Users\\dosre\\AppData\\Local\\Temp\\ipykernel_23500\\508105216.py:46: UserWarning: No artists with labels found to put in legend.  Note that artists whose label start with an underscore are ignored when legend() is called with no argument.\n",
      "  ax.legend()\n"
     ]
    },
    {
     "name": "stdout",
     "output_type": "stream",
     "text": [
      "KeyError: ilutp1em4 appu 20\n",
      "KeyError: ilutp1em4 appu 30\n"
     ]
    },
    {
     "name": "stderr",
     "output_type": "stream",
     "text": [
      "C:\\Users\\dosre\\AppData\\Local\\Temp\\ipykernel_23500\\508105216.py:41: UserWarning: Attempting to set identical low and high xlims makes transformation singular; automatically expanding.\n",
      "  ax.set_xlim(\n",
      "C:\\Users\\dosre\\AppData\\Local\\Temp\\ipykernel_23500\\508105216.py:46: UserWarning: No artists with labels found to put in legend.  Note that artists whose label start with an underscore are ignored when legend() is called with no argument.\n",
      "  ax.legend()\n",
      "C:\\Users\\dosre\\AppData\\Local\\Temp\\ipykernel_23500\\508105216.py:41: UserWarning: Attempting to set identical low and high xlims makes transformation singular; automatically expanding.\n",
      "  ax.set_xlim(\n",
      "C:\\Users\\dosre\\AppData\\Local\\Temp\\ipykernel_23500\\508105216.py:46: UserWarning: No artists with labels found to put in legend.  Note that artists whose label start with an underscore are ignored when legend() is called with no argument.\n",
      "  ax.legend()\n"
     ]
    },
    {
     "name": "stdout",
     "output_type": "stream",
     "text": [
      "KeyError: ilutp1em4 appu 40\n",
      "KeyError: ilutp1em4 appu 50\n"
     ]
    },
    {
     "name": "stderr",
     "output_type": "stream",
     "text": [
      "C:\\Users\\dosre\\AppData\\Local\\Temp\\ipykernel_23500\\508105216.py:41: UserWarning: Attempting to set identical low and high xlims makes transformation singular; automatically expanding.\n",
      "  ax.set_xlim(\n",
      "C:\\Users\\dosre\\AppData\\Local\\Temp\\ipykernel_23500\\508105216.py:46: UserWarning: No artists with labels found to put in legend.  Note that artists whose label start with an underscore are ignored when legend() is called with no argument.\n",
      "  ax.legend()\n",
      "C:\\Users\\dosre\\AppData\\Local\\Temp\\ipykernel_23500\\508105216.py:41: UserWarning: Attempting to set identical low and high xlims makes transformation singular; automatically expanding.\n",
      "  ax.set_xlim(\n",
      "C:\\Users\\dosre\\AppData\\Local\\Temp\\ipykernel_23500\\508105216.py:46: UserWarning: No artists with labels found to put in legend.  Note that artists whose label start with an underscore are ignored when legend() is called with no argument.\n",
      "  ax.legend()\n"
     ]
    },
    {
     "name": "stdout",
     "output_type": "stream",
     "text": [
      "KeyError: ilutp1em4 appu 100\n",
      "KeyError: ilutp1em4 appu 150\n"
     ]
    },
    {
     "name": "stderr",
     "output_type": "stream",
     "text": [
      "C:\\Users\\dosre\\AppData\\Local\\Temp\\ipykernel_23500\\508105216.py:41: UserWarning: Attempting to set identical low and high xlims makes transformation singular; automatically expanding.\n",
      "  ax.set_xlim(\n",
      "C:\\Users\\dosre\\AppData\\Local\\Temp\\ipykernel_23500\\508105216.py:46: UserWarning: No artists with labels found to put in legend.  Note that artists whose label start with an underscore are ignored when legend() is called with no argument.\n",
      "  ax.legend()\n",
      "C:\\Users\\dosre\\AppData\\Local\\Temp\\ipykernel_23500\\508105216.py:41: UserWarning: Attempting to set identical low and high xlims makes transformation singular; automatically expanding.\n",
      "  ax.set_xlim(\n",
      "C:\\Users\\dosre\\AppData\\Local\\Temp\\ipykernel_23500\\508105216.py:46: UserWarning: No artists with labels found to put in legend.  Note that artists whose label start with an underscore are ignored when legend() is called with no argument.\n",
      "  ax.legend()\n"
     ]
    },
    {
     "name": "stdout",
     "output_type": "stream",
     "text": [
      "KeyError: ilutp1em4 appu 200\n",
      "KeyError: ilutp1em4 cage10 10\n"
     ]
    },
    {
     "name": "stderr",
     "output_type": "stream",
     "text": [
      "C:\\Users\\dosre\\AppData\\Local\\Temp\\ipykernel_23500\\508105216.py:41: UserWarning: Attempting to set identical low and high xlims makes transformation singular; automatically expanding.\n",
      "  ax.set_xlim(\n",
      "C:\\Users\\dosre\\AppData\\Local\\Temp\\ipykernel_23500\\508105216.py:46: UserWarning: No artists with labels found to put in legend.  Note that artists whose label start with an underscore are ignored when legend() is called with no argument.\n",
      "  ax.legend()\n",
      "C:\\Users\\dosre\\AppData\\Local\\Temp\\ipykernel_23500\\508105216.py:41: UserWarning: Attempting to set identical low and high xlims makes transformation singular; automatically expanding.\n",
      "  ax.set_xlim(\n",
      "C:\\Users\\dosre\\AppData\\Local\\Temp\\ipykernel_23500\\508105216.py:46: UserWarning: No artists with labels found to put in legend.  Note that artists whose label start with an underscore are ignored when legend() is called with no argument.\n",
      "  ax.legend()\n"
     ]
    },
    {
     "name": "stdout",
     "output_type": "stream",
     "text": [
      "KeyError: ilutp1em4 cage10 20\n",
      "KeyError: ilutp1em4 cage10 30\n"
     ]
    },
    {
     "name": "stderr",
     "output_type": "stream",
     "text": [
      "C:\\Users\\dosre\\AppData\\Local\\Temp\\ipykernel_23500\\508105216.py:41: UserWarning: Attempting to set identical low and high xlims makes transformation singular; automatically expanding.\n",
      "  ax.set_xlim(\n",
      "C:\\Users\\dosre\\AppData\\Local\\Temp\\ipykernel_23500\\508105216.py:46: UserWarning: No artists with labels found to put in legend.  Note that artists whose label start with an underscore are ignored when legend() is called with no argument.\n",
      "  ax.legend()\n",
      "C:\\Users\\dosre\\AppData\\Local\\Temp\\ipykernel_23500\\508105216.py:41: UserWarning: Attempting to set identical low and high xlims makes transformation singular; automatically expanding.\n",
      "  ax.set_xlim(\n",
      "C:\\Users\\dosre\\AppData\\Local\\Temp\\ipykernel_23500\\508105216.py:46: UserWarning: No artists with labels found to put in legend.  Note that artists whose label start with an underscore are ignored when legend() is called with no argument.\n",
      "  ax.legend()\n"
     ]
    },
    {
     "name": "stdout",
     "output_type": "stream",
     "text": [
      "KeyError: ilutp1em4 cage10 40\n",
      "KeyError: ilutp1em4 cage10 50\n"
     ]
    },
    {
     "name": "stderr",
     "output_type": "stream",
     "text": [
      "C:\\Users\\dosre\\AppData\\Local\\Temp\\ipykernel_23500\\508105216.py:41: UserWarning: Attempting to set identical low and high xlims makes transformation singular; automatically expanding.\n",
      "  ax.set_xlim(\n",
      "C:\\Users\\dosre\\AppData\\Local\\Temp\\ipykernel_23500\\508105216.py:46: UserWarning: No artists with labels found to put in legend.  Note that artists whose label start with an underscore are ignored when legend() is called with no argument.\n",
      "  ax.legend()\n",
      "C:\\Users\\dosre\\AppData\\Local\\Temp\\ipykernel_23500\\508105216.py:41: UserWarning: Attempting to set identical low and high xlims makes transformation singular; automatically expanding.\n",
      "  ax.set_xlim(\n",
      "C:\\Users\\dosre\\AppData\\Local\\Temp\\ipykernel_23500\\508105216.py:46: UserWarning: No artists with labels found to put in legend.  Note that artists whose label start with an underscore are ignored when legend() is called with no argument.\n",
      "  ax.legend()\n"
     ]
    },
    {
     "name": "stdout",
     "output_type": "stream",
     "text": [
      "KeyError: ilutp1em4 cage10 100\n",
      "KeyError: ilutp1em4 cage10 150\n"
     ]
    },
    {
     "name": "stderr",
     "output_type": "stream",
     "text": [
      "C:\\Users\\dosre\\AppData\\Local\\Temp\\ipykernel_23500\\508105216.py:41: UserWarning: Attempting to set identical low and high xlims makes transformation singular; automatically expanding.\n",
      "  ax.set_xlim(\n",
      "C:\\Users\\dosre\\AppData\\Local\\Temp\\ipykernel_23500\\508105216.py:46: UserWarning: No artists with labels found to put in legend.  Note that artists whose label start with an underscore are ignored when legend() is called with no argument.\n",
      "  ax.legend()\n",
      "C:\\Users\\dosre\\AppData\\Local\\Temp\\ipykernel_23500\\508105216.py:41: UserWarning: Attempting to set identical low and high xlims makes transformation singular; automatically expanding.\n",
      "  ax.set_xlim(\n",
      "C:\\Users\\dosre\\AppData\\Local\\Temp\\ipykernel_23500\\508105216.py:46: UserWarning: No artists with labels found to put in legend.  Note that artists whose label start with an underscore are ignored when legend() is called with no argument.\n",
      "  ax.legend()\n"
     ]
    },
    {
     "name": "stdout",
     "output_type": "stream",
     "text": [
      "KeyError: ilutp1em4 cage10 200\n",
      "KeyError: ilutp1em4 chipcool1 10\n"
     ]
    },
    {
     "name": "stderr",
     "output_type": "stream",
     "text": [
      "C:\\Users\\dosre\\AppData\\Local\\Temp\\ipykernel_23500\\508105216.py:41: UserWarning: Attempting to set identical low and high xlims makes transformation singular; automatically expanding.\n",
      "  ax.set_xlim(\n",
      "C:\\Users\\dosre\\AppData\\Local\\Temp\\ipykernel_23500\\508105216.py:46: UserWarning: No artists with labels found to put in legend.  Note that artists whose label start with an underscore are ignored when legend() is called with no argument.\n",
      "  ax.legend()\n",
      "C:\\Users\\dosre\\AppData\\Local\\Temp\\ipykernel_23500\\508105216.py:41: UserWarning: Attempting to set identical low and high xlims makes transformation singular; automatically expanding.\n",
      "  ax.set_xlim(\n",
      "C:\\Users\\dosre\\AppData\\Local\\Temp\\ipykernel_23500\\508105216.py:46: UserWarning: No artists with labels found to put in legend.  Note that artists whose label start with an underscore are ignored when legend() is called with no argument.\n",
      "  ax.legend()\n"
     ]
    },
    {
     "name": "stdout",
     "output_type": "stream",
     "text": [
      "KeyError: ilutp1em4 chipcool1 20\n",
      "KeyError: ilutp1em4 chipcool1 30\n"
     ]
    },
    {
     "name": "stderr",
     "output_type": "stream",
     "text": [
      "C:\\Users\\dosre\\AppData\\Local\\Temp\\ipykernel_23500\\508105216.py:41: UserWarning: Attempting to set identical low and high xlims makes transformation singular; automatically expanding.\n",
      "  ax.set_xlim(\n",
      "C:\\Users\\dosre\\AppData\\Local\\Temp\\ipykernel_23500\\508105216.py:46: UserWarning: No artists with labels found to put in legend.  Note that artists whose label start with an underscore are ignored when legend() is called with no argument.\n",
      "  ax.legend()\n",
      "C:\\Users\\dosre\\AppData\\Local\\Temp\\ipykernel_23500\\508105216.py:41: UserWarning: Attempting to set identical low and high xlims makes transformation singular; automatically expanding.\n",
      "  ax.set_xlim(\n",
      "C:\\Users\\dosre\\AppData\\Local\\Temp\\ipykernel_23500\\508105216.py:46: UserWarning: No artists with labels found to put in legend.  Note that artists whose label start with an underscore are ignored when legend() is called with no argument.\n",
      "  ax.legend()\n"
     ]
    },
    {
     "name": "stdout",
     "output_type": "stream",
     "text": [
      "KeyError: ilutp1em4 chipcool1 40\n",
      "KeyError: ilutp1em4 chipcool1 50\n",
      "KeyError: ilutp1em4 chipcool1 100\n"
     ]
    },
    {
     "name": "stderr",
     "output_type": "stream",
     "text": [
      "C:\\Users\\dosre\\AppData\\Local\\Temp\\ipykernel_23500\\508105216.py:41: UserWarning: Attempting to set identical low and high xlims makes transformation singular; automatically expanding.\n",
      "  ax.set_xlim(\n",
      "C:\\Users\\dosre\\AppData\\Local\\Temp\\ipykernel_23500\\508105216.py:46: UserWarning: No artists with labels found to put in legend.  Note that artists whose label start with an underscore are ignored when legend() is called with no argument.\n",
      "  ax.legend()\n",
      "C:\\Users\\dosre\\AppData\\Local\\Temp\\ipykernel_23500\\508105216.py:41: UserWarning: Attempting to set identical low and high xlims makes transformation singular; automatically expanding.\n",
      "  ax.set_xlim(\n",
      "C:\\Users\\dosre\\AppData\\Local\\Temp\\ipykernel_23500\\508105216.py:46: UserWarning: No artists with labels found to put in legend.  Note that artists whose label start with an underscore are ignored when legend() is called with no argument.\n",
      "  ax.legend()\n"
     ]
    },
    {
     "name": "stdout",
     "output_type": "stream",
     "text": [
      "KeyError: ilutp1em4 chipcool1 150\n",
      "KeyError: ilutp1em4 chipcool1 200\n"
     ]
    },
    {
     "name": "stderr",
     "output_type": "stream",
     "text": [
      "C:\\Users\\dosre\\AppData\\Local\\Temp\\ipykernel_23500\\508105216.py:41: UserWarning: Attempting to set identical low and high xlims makes transformation singular; automatically expanding.\n",
      "  ax.set_xlim(\n",
      "C:\\Users\\dosre\\AppData\\Local\\Temp\\ipykernel_23500\\508105216.py:46: UserWarning: No artists with labels found to put in legend.  Note that artists whose label start with an underscore are ignored when legend() is called with no argument.\n",
      "  ax.legend()\n",
      "C:\\Users\\dosre\\AppData\\Local\\Temp\\ipykernel_23500\\508105216.py:41: UserWarning: Attempting to set identical low and high xlims makes transformation singular; automatically expanding.\n",
      "  ax.set_xlim(\n",
      "C:\\Users\\dosre\\AppData\\Local\\Temp\\ipykernel_23500\\508105216.py:46: UserWarning: No artists with labels found to put in legend.  Note that artists whose label start with an underscore are ignored when legend() is called with no argument.\n",
      "  ax.legend()\n",
      "C:\\Users\\dosre\\AppData\\Local\\Temp\\ipykernel_23500\\508105216.py:41: UserWarning: Attempting to set identical low and high xlims makes transformation singular; automatically expanding.\n",
      "  ax.set_xlim(\n",
      "C:\\Users\\dosre\\AppData\\Local\\Temp\\ipykernel_23500\\508105216.py:46: UserWarning: No artists with labels found to put in legend.  Note that artists whose label start with an underscore are ignored when legend() is called with no argument.\n",
      "  ax.legend()\n"
     ]
    },
    {
     "name": "stdout",
     "output_type": "stream",
     "text": [
      "KeyError: ilutp1em4 circuit_3 10\n",
      "KeyError: ilutp1em4 circuit_3 20\n"
     ]
    },
    {
     "name": "stderr",
     "output_type": "stream",
     "text": [
      "C:\\Users\\dosre\\AppData\\Local\\Temp\\ipykernel_23500\\508105216.py:41: UserWarning: Attempting to set identical low and high xlims makes transformation singular; automatically expanding.\n",
      "  ax.set_xlim(\n",
      "C:\\Users\\dosre\\AppData\\Local\\Temp\\ipykernel_23500\\508105216.py:46: UserWarning: No artists with labels found to put in legend.  Note that artists whose label start with an underscore are ignored when legend() is called with no argument.\n",
      "  ax.legend()\n",
      "C:\\Users\\dosre\\AppData\\Local\\Temp\\ipykernel_23500\\508105216.py:41: UserWarning: Attempting to set identical low and high xlims makes transformation singular; automatically expanding.\n",
      "  ax.set_xlim(\n",
      "C:\\Users\\dosre\\AppData\\Local\\Temp\\ipykernel_23500\\508105216.py:46: UserWarning: No artists with labels found to put in legend.  Note that artists whose label start with an underscore are ignored when legend() is called with no argument.\n",
      "  ax.legend()\n"
     ]
    },
    {
     "name": "stdout",
     "output_type": "stream",
     "text": [
      "KeyError: ilutp1em4 circuit_3 30\n",
      "KeyError: ilutp1em4 circuit_3 40\n"
     ]
    },
    {
     "name": "stderr",
     "output_type": "stream",
     "text": [
      "C:\\Users\\dosre\\AppData\\Local\\Temp\\ipykernel_23500\\508105216.py:41: UserWarning: Attempting to set identical low and high xlims makes transformation singular; automatically expanding.\n",
      "  ax.set_xlim(\n",
      "C:\\Users\\dosre\\AppData\\Local\\Temp\\ipykernel_23500\\508105216.py:46: UserWarning: No artists with labels found to put in legend.  Note that artists whose label start with an underscore are ignored when legend() is called with no argument.\n",
      "  ax.legend()\n",
      "C:\\Users\\dosre\\AppData\\Local\\Temp\\ipykernel_23500\\508105216.py:41: UserWarning: Attempting to set identical low and high xlims makes transformation singular; automatically expanding.\n",
      "  ax.set_xlim(\n",
      "C:\\Users\\dosre\\AppData\\Local\\Temp\\ipykernel_23500\\508105216.py:46: UserWarning: No artists with labels found to put in legend.  Note that artists whose label start with an underscore are ignored when legend() is called with no argument.\n",
      "  ax.legend()\n"
     ]
    },
    {
     "name": "stdout",
     "output_type": "stream",
     "text": [
      "KeyError: ilutp1em4 circuit_3 50\n",
      "KeyError: ilutp1em4 circuit_3 100\n"
     ]
    },
    {
     "name": "stderr",
     "output_type": "stream",
     "text": [
      "C:\\Users\\dosre\\AppData\\Local\\Temp\\ipykernel_23500\\508105216.py:41: UserWarning: Attempting to set identical low and high xlims makes transformation singular; automatically expanding.\n",
      "  ax.set_xlim(\n",
      "C:\\Users\\dosre\\AppData\\Local\\Temp\\ipykernel_23500\\508105216.py:46: UserWarning: No artists with labels found to put in legend.  Note that artists whose label start with an underscore are ignored when legend() is called with no argument.\n",
      "  ax.legend()\n",
      "C:\\Users\\dosre\\AppData\\Local\\Temp\\ipykernel_23500\\508105216.py:41: UserWarning: Attempting to set identical low and high xlims makes transformation singular; automatically expanding.\n",
      "  ax.set_xlim(\n",
      "C:\\Users\\dosre\\AppData\\Local\\Temp\\ipykernel_23500\\508105216.py:46: UserWarning: No artists with labels found to put in legend.  Note that artists whose label start with an underscore are ignored when legend() is called with no argument.\n",
      "  ax.legend()\n"
     ]
    },
    {
     "name": "stdout",
     "output_type": "stream",
     "text": [
      "KeyError: ilutp1em4 circuit_3 150\n",
      "KeyError: ilutp1em4 circuit_3 200\n"
     ]
    },
    {
     "name": "stderr",
     "output_type": "stream",
     "text": [
      "C:\\Users\\dosre\\AppData\\Local\\Temp\\ipykernel_23500\\508105216.py:41: UserWarning: Attempting to set identical low and high xlims makes transformation singular; automatically expanding.\n",
      "  ax.set_xlim(\n",
      "C:\\Users\\dosre\\AppData\\Local\\Temp\\ipykernel_23500\\508105216.py:46: UserWarning: No artists with labels found to put in legend.  Note that artists whose label start with an underscore are ignored when legend() is called with no argument.\n",
      "  ax.legend()\n",
      "C:\\Users\\dosre\\AppData\\Local\\Temp\\ipykernel_23500\\508105216.py:41: UserWarning: Attempting to set identical low and high xlims makes transformation singular; automatically expanding.\n",
      "  ax.set_xlim(\n",
      "C:\\Users\\dosre\\AppData\\Local\\Temp\\ipykernel_23500\\508105216.py:46: UserWarning: No artists with labels found to put in legend.  Note that artists whose label start with an underscore are ignored when legend() is called with no argument.\n",
      "  ax.legend()\n"
     ]
    },
    {
     "name": "stdout",
     "output_type": "stream",
     "text": [
      "KeyError: ilutp1em4 coupled 10\n",
      "KeyError: ilutp1em4 coupled 20\n"
     ]
    },
    {
     "name": "stderr",
     "output_type": "stream",
     "text": [
      "C:\\Users\\dosre\\AppData\\Local\\Temp\\ipykernel_23500\\508105216.py:41: UserWarning: Attempting to set identical low and high xlims makes transformation singular; automatically expanding.\n",
      "  ax.set_xlim(\n",
      "C:\\Users\\dosre\\AppData\\Local\\Temp\\ipykernel_23500\\508105216.py:46: UserWarning: No artists with labels found to put in legend.  Note that artists whose label start with an underscore are ignored when legend() is called with no argument.\n",
      "  ax.legend()\n",
      "C:\\Users\\dosre\\AppData\\Local\\Temp\\ipykernel_23500\\508105216.py:41: UserWarning: Attempting to set identical low and high xlims makes transformation singular; automatically expanding.\n",
      "  ax.set_xlim(\n",
      "C:\\Users\\dosre\\AppData\\Local\\Temp\\ipykernel_23500\\508105216.py:46: UserWarning: No artists with labels found to put in legend.  Note that artists whose label start with an underscore are ignored when legend() is called with no argument.\n",
      "  ax.legend()\n"
     ]
    },
    {
     "name": "stdout",
     "output_type": "stream",
     "text": [
      "KeyError: ilutp1em4 coupled 30\n",
      "KeyError: ilutp1em4 coupled 40\n"
     ]
    },
    {
     "name": "stderr",
     "output_type": "stream",
     "text": [
      "C:\\Users\\dosre\\AppData\\Local\\Temp\\ipykernel_23500\\508105216.py:41: UserWarning: Attempting to set identical low and high xlims makes transformation singular; automatically expanding.\n",
      "  ax.set_xlim(\n",
      "C:\\Users\\dosre\\AppData\\Local\\Temp\\ipykernel_23500\\508105216.py:46: UserWarning: No artists with labels found to put in legend.  Note that artists whose label start with an underscore are ignored when legend() is called with no argument.\n",
      "  ax.legend()\n",
      "C:\\Users\\dosre\\AppData\\Local\\Temp\\ipykernel_23500\\508105216.py:41: UserWarning: Attempting to set identical low and high xlims makes transformation singular; automatically expanding.\n",
      "  ax.set_xlim(\n",
      "C:\\Users\\dosre\\AppData\\Local\\Temp\\ipykernel_23500\\508105216.py:46: UserWarning: No artists with labels found to put in legend.  Note that artists whose label start with an underscore are ignored when legend() is called with no argument.\n",
      "  ax.legend()\n"
     ]
    },
    {
     "name": "stdout",
     "output_type": "stream",
     "text": [
      "KeyError: ilutp1em4 coupled 50\n",
      "KeyError: ilutp1em4 coupled 100\n"
     ]
    },
    {
     "name": "stderr",
     "output_type": "stream",
     "text": [
      "C:\\Users\\dosre\\AppData\\Local\\Temp\\ipykernel_23500\\508105216.py:41: UserWarning: Attempting to set identical low and high xlims makes transformation singular; automatically expanding.\n",
      "  ax.set_xlim(\n",
      "C:\\Users\\dosre\\AppData\\Local\\Temp\\ipykernel_23500\\508105216.py:46: UserWarning: No artists with labels found to put in legend.  Note that artists whose label start with an underscore are ignored when legend() is called with no argument.\n",
      "  ax.legend()\n",
      "C:\\Users\\dosre\\AppData\\Local\\Temp\\ipykernel_23500\\508105216.py:41: UserWarning: Attempting to set identical low and high xlims makes transformation singular; automatically expanding.\n",
      "  ax.set_xlim(\n",
      "C:\\Users\\dosre\\AppData\\Local\\Temp\\ipykernel_23500\\508105216.py:46: UserWarning: No artists with labels found to put in legend.  Note that artists whose label start with an underscore are ignored when legend() is called with no argument.\n",
      "  ax.legend()\n"
     ]
    },
    {
     "name": "stdout",
     "output_type": "stream",
     "text": [
      "KeyError: ilutp1em4 coupled 150\n",
      "KeyError: ilutp1em4 coupled 200\n"
     ]
    },
    {
     "name": "stderr",
     "output_type": "stream",
     "text": [
      "C:\\Users\\dosre\\AppData\\Local\\Temp\\ipykernel_23500\\508105216.py:41: UserWarning: Attempting to set identical low and high xlims makes transformation singular; automatically expanding.\n",
      "  ax.set_xlim(\n",
      "C:\\Users\\dosre\\AppData\\Local\\Temp\\ipykernel_23500\\508105216.py:46: UserWarning: No artists with labels found to put in legend.  Note that artists whose label start with an underscore are ignored when legend() is called with no argument.\n",
      "  ax.legend()\n",
      "C:\\Users\\dosre\\AppData\\Local\\Temp\\ipykernel_23500\\508105216.py:41: UserWarning: Attempting to set identical low and high xlims makes transformation singular; automatically expanding.\n",
      "  ax.set_xlim(\n",
      "C:\\Users\\dosre\\AppData\\Local\\Temp\\ipykernel_23500\\508105216.py:46: UserWarning: No artists with labels found to put in legend.  Note that artists whose label start with an underscore are ignored when legend() is called with no argument.\n",
      "  ax.legend()\n"
     ]
    },
    {
     "name": "stdout",
     "output_type": "stream",
     "text": [
      "KeyError: ilutp1em4 e40r0100 10\n",
      "KeyError: ilutp1em4 e40r0100 20\n"
     ]
    },
    {
     "name": "stderr",
     "output_type": "stream",
     "text": [
      "C:\\Users\\dosre\\AppData\\Local\\Temp\\ipykernel_23500\\508105216.py:41: UserWarning: Attempting to set identical low and high xlims makes transformation singular; automatically expanding.\n",
      "  ax.set_xlim(\n",
      "C:\\Users\\dosre\\AppData\\Local\\Temp\\ipykernel_23500\\508105216.py:46: UserWarning: No artists with labels found to put in legend.  Note that artists whose label start with an underscore are ignored when legend() is called with no argument.\n",
      "  ax.legend()\n",
      "C:\\Users\\dosre\\AppData\\Local\\Temp\\ipykernel_23500\\508105216.py:41: UserWarning: Attempting to set identical low and high xlims makes transformation singular; automatically expanding.\n",
      "  ax.set_xlim(\n",
      "C:\\Users\\dosre\\AppData\\Local\\Temp\\ipykernel_23500\\508105216.py:46: UserWarning: No artists with labels found to put in legend.  Note that artists whose label start with an underscore are ignored when legend() is called with no argument.\n",
      "  ax.legend()\n",
      "C:\\Users\\dosre\\AppData\\Local\\Temp\\ipykernel_23500\\508105216.py:41: UserWarning: Attempting to set identical low and high xlims makes transformation singular; automatically expanding.\n",
      "  ax.set_xlim(\n",
      "C:\\Users\\dosre\\AppData\\Local\\Temp\\ipykernel_23500\\508105216.py:46: UserWarning: No artists with labels found to put in legend.  Note that artists whose label start with an underscore are ignored when legend() is called with no argument.\n",
      "  ax.legend()\n"
     ]
    },
    {
     "name": "stdout",
     "output_type": "stream",
     "text": [
      "KeyError: ilutp1em4 e40r0100 30\n",
      "KeyError: ilutp1em4 e40r0100 40\n",
      "KeyError: ilutp1em4 e40r0100 50\n"
     ]
    },
    {
     "name": "stderr",
     "output_type": "stream",
     "text": [
      "C:\\Users\\dosre\\AppData\\Local\\Temp\\ipykernel_23500\\508105216.py:41: UserWarning: Attempting to set identical low and high xlims makes transformation singular; automatically expanding.\n",
      "  ax.set_xlim(\n",
      "C:\\Users\\dosre\\AppData\\Local\\Temp\\ipykernel_23500\\508105216.py:46: UserWarning: No artists with labels found to put in legend.  Note that artists whose label start with an underscore are ignored when legend() is called with no argument.\n",
      "  ax.legend()\n",
      "C:\\Users\\dosre\\AppData\\Local\\Temp\\ipykernel_23500\\508105216.py:41: UserWarning: Attempting to set identical low and high xlims makes transformation singular; automatically expanding.\n",
      "  ax.set_xlim(\n",
      "C:\\Users\\dosre\\AppData\\Local\\Temp\\ipykernel_23500\\508105216.py:46: UserWarning: No artists with labels found to put in legend.  Note that artists whose label start with an underscore are ignored when legend() is called with no argument.\n",
      "  ax.legend()\n"
     ]
    },
    {
     "name": "stdout",
     "output_type": "stream",
     "text": [
      "KeyError: ilutp1em4 e40r0100 100\n",
      "KeyError: ilutp1em4 e40r0100 150\n"
     ]
    },
    {
     "name": "stderr",
     "output_type": "stream",
     "text": [
      "C:\\Users\\dosre\\AppData\\Local\\Temp\\ipykernel_23500\\508105216.py:41: UserWarning: Attempting to set identical low and high xlims makes transformation singular; automatically expanding.\n",
      "  ax.set_xlim(\n",
      "C:\\Users\\dosre\\AppData\\Local\\Temp\\ipykernel_23500\\508105216.py:46: UserWarning: No artists with labels found to put in legend.  Note that artists whose label start with an underscore are ignored when legend() is called with no argument.\n",
      "  ax.legend()\n"
     ]
    },
    {
     "name": "stdout",
     "output_type": "stream",
     "text": [
      "KeyError: ilutp1em4 e40r0100 200\n"
     ]
    },
    {
     "name": "stderr",
     "output_type": "stream",
     "text": [
      "C:\\Users\\dosre\\AppData\\Local\\Temp\\ipykernel_23500\\508105216.py:41: UserWarning: Attempting to set identical low and high xlims makes transformation singular; automatically expanding.\n",
      "  ax.set_xlim(\n",
      "C:\\Users\\dosre\\AppData\\Local\\Temp\\ipykernel_23500\\508105216.py:46: UserWarning: No artists with labels found to put in legend.  Note that artists whose label start with an underscore are ignored when legend() is called with no argument.\n",
      "  ax.legend()\n",
      "C:\\Users\\dosre\\AppData\\Local\\Temp\\ipykernel_23500\\508105216.py:41: UserWarning: Attempting to set identical low and high xlims makes transformation singular; automatically expanding.\n",
      "  ax.set_xlim(\n",
      "C:\\Users\\dosre\\AppData\\Local\\Temp\\ipykernel_23500\\508105216.py:46: UserWarning: No artists with labels found to put in legend.  Note that artists whose label start with an underscore are ignored when legend() is called with no argument.\n",
      "  ax.legend()\n"
     ]
    },
    {
     "name": "stdout",
     "output_type": "stream",
     "text": [
      "KeyError: ilutp1em4 epb1 10\n",
      "KeyError: ilutp1em4 epb1 20\n"
     ]
    },
    {
     "name": "stderr",
     "output_type": "stream",
     "text": [
      "C:\\Users\\dosre\\AppData\\Local\\Temp\\ipykernel_23500\\508105216.py:41: UserWarning: Attempting to set identical low and high xlims makes transformation singular; automatically expanding.\n",
      "  ax.set_xlim(\n",
      "C:\\Users\\dosre\\AppData\\Local\\Temp\\ipykernel_23500\\508105216.py:46: UserWarning: No artists with labels found to put in legend.  Note that artists whose label start with an underscore are ignored when legend() is called with no argument.\n",
      "  ax.legend()\n",
      "C:\\Users\\dosre\\AppData\\Local\\Temp\\ipykernel_23500\\508105216.py:41: UserWarning: Attempting to set identical low and high xlims makes transformation singular; automatically expanding.\n",
      "  ax.set_xlim(\n",
      "C:\\Users\\dosre\\AppData\\Local\\Temp\\ipykernel_23500\\508105216.py:46: UserWarning: No artists with labels found to put in legend.  Note that artists whose label start with an underscore are ignored when legend() is called with no argument.\n",
      "  ax.legend()\n"
     ]
    },
    {
     "name": "stdout",
     "output_type": "stream",
     "text": [
      "KeyError: ilutp1em4 epb1 30\n",
      "KeyError: ilutp1em4 epb1 40\n"
     ]
    },
    {
     "name": "stderr",
     "output_type": "stream",
     "text": [
      "C:\\Users\\dosre\\AppData\\Local\\Temp\\ipykernel_23500\\508105216.py:41: UserWarning: Attempting to set identical low and high xlims makes transformation singular; automatically expanding.\n",
      "  ax.set_xlim(\n",
      "C:\\Users\\dosre\\AppData\\Local\\Temp\\ipykernel_23500\\508105216.py:46: UserWarning: No artists with labels found to put in legend.  Note that artists whose label start with an underscore are ignored when legend() is called with no argument.\n",
      "  ax.legend()\n",
      "C:\\Users\\dosre\\AppData\\Local\\Temp\\ipykernel_23500\\508105216.py:41: UserWarning: Attempting to set identical low and high xlims makes transformation singular; automatically expanding.\n",
      "  ax.set_xlim(\n",
      "C:\\Users\\dosre\\AppData\\Local\\Temp\\ipykernel_23500\\508105216.py:46: UserWarning: No artists with labels found to put in legend.  Note that artists whose label start with an underscore are ignored when legend() is called with no argument.\n",
      "  ax.legend()\n"
     ]
    },
    {
     "name": "stdout",
     "output_type": "stream",
     "text": [
      "KeyError: ilutp1em4 epb1 50\n",
      "KeyError: ilutp1em4 epb1 100\n"
     ]
    },
    {
     "name": "stderr",
     "output_type": "stream",
     "text": [
      "C:\\Users\\dosre\\AppData\\Local\\Temp\\ipykernel_23500\\508105216.py:41: UserWarning: Attempting to set identical low and high xlims makes transformation singular; automatically expanding.\n",
      "  ax.set_xlim(\n",
      "C:\\Users\\dosre\\AppData\\Local\\Temp\\ipykernel_23500\\508105216.py:46: UserWarning: No artists with labels found to put in legend.  Note that artists whose label start with an underscore are ignored when legend() is called with no argument.\n",
      "  ax.legend()\n",
      "C:\\Users\\dosre\\AppData\\Local\\Temp\\ipykernel_23500\\508105216.py:41: UserWarning: Attempting to set identical low and high xlims makes transformation singular; automatically expanding.\n",
      "  ax.set_xlim(\n",
      "C:\\Users\\dosre\\AppData\\Local\\Temp\\ipykernel_23500\\508105216.py:46: UserWarning: No artists with labels found to put in legend.  Note that artists whose label start with an underscore are ignored when legend() is called with no argument.\n",
      "  ax.legend()\n"
     ]
    },
    {
     "name": "stdout",
     "output_type": "stream",
     "text": [
      "KeyError: ilutp1em4 epb1 150\n",
      "KeyError: ilutp1em4 epb1 200\n"
     ]
    },
    {
     "name": "stderr",
     "output_type": "stream",
     "text": [
      "C:\\Users\\dosre\\AppData\\Local\\Temp\\ipykernel_23500\\508105216.py:41: UserWarning: Attempting to set identical low and high xlims makes transformation singular; automatically expanding.\n",
      "  ax.set_xlim(\n",
      "C:\\Users\\dosre\\AppData\\Local\\Temp\\ipykernel_23500\\508105216.py:46: UserWarning: No artists with labels found to put in legend.  Note that artists whose label start with an underscore are ignored when legend() is called with no argument.\n",
      "  ax.legend()\n",
      "C:\\Users\\dosre\\AppData\\Local\\Temp\\ipykernel_23500\\508105216.py:41: UserWarning: Attempting to set identical low and high xlims makes transformation singular; automatically expanding.\n",
      "  ax.set_xlim(\n",
      "C:\\Users\\dosre\\AppData\\Local\\Temp\\ipykernel_23500\\508105216.py:46: UserWarning: No artists with labels found to put in legend.  Note that artists whose label start with an underscore are ignored when legend() is called with no argument.\n",
      "  ax.legend()\n"
     ]
    },
    {
     "name": "stdout",
     "output_type": "stream",
     "text": [
      "KeyError: ilutp1em4 FEM_3D_thermal1 10\n",
      "KeyError: ilutp1em4 FEM_3D_thermal1 20\n"
     ]
    },
    {
     "name": "stderr",
     "output_type": "stream",
     "text": [
      "C:\\Users\\dosre\\AppData\\Local\\Temp\\ipykernel_23500\\508105216.py:41: UserWarning: Attempting to set identical low and high xlims makes transformation singular; automatically expanding.\n",
      "  ax.set_xlim(\n",
      "C:\\Users\\dosre\\AppData\\Local\\Temp\\ipykernel_23500\\508105216.py:46: UserWarning: No artists with labels found to put in legend.  Note that artists whose label start with an underscore are ignored when legend() is called with no argument.\n",
      "  ax.legend()\n",
      "C:\\Users\\dosre\\AppData\\Local\\Temp\\ipykernel_23500\\508105216.py:41: UserWarning: Attempting to set identical low and high xlims makes transformation singular; automatically expanding.\n",
      "  ax.set_xlim(\n",
      "C:\\Users\\dosre\\AppData\\Local\\Temp\\ipykernel_23500\\508105216.py:46: UserWarning: No artists with labels found to put in legend.  Note that artists whose label start with an underscore are ignored when legend() is called with no argument.\n",
      "  ax.legend()\n"
     ]
    },
    {
     "name": "stdout",
     "output_type": "stream",
     "text": [
      "KeyError: ilutp1em4 FEM_3D_thermal1 30\n",
      "KeyError: ilutp1em4 FEM_3D_thermal1 40\n"
     ]
    },
    {
     "name": "stderr",
     "output_type": "stream",
     "text": [
      "C:\\Users\\dosre\\AppData\\Local\\Temp\\ipykernel_23500\\508105216.py:41: UserWarning: Attempting to set identical low and high xlims makes transformation singular; automatically expanding.\n",
      "  ax.set_xlim(\n",
      "C:\\Users\\dosre\\AppData\\Local\\Temp\\ipykernel_23500\\508105216.py:46: UserWarning: No artists with labels found to put in legend.  Note that artists whose label start with an underscore are ignored when legend() is called with no argument.\n",
      "  ax.legend()\n",
      "C:\\Users\\dosre\\AppData\\Local\\Temp\\ipykernel_23500\\508105216.py:41: UserWarning: Attempting to set identical low and high xlims makes transformation singular; automatically expanding.\n",
      "  ax.set_xlim(\n",
      "C:\\Users\\dosre\\AppData\\Local\\Temp\\ipykernel_23500\\508105216.py:46: UserWarning: No artists with labels found to put in legend.  Note that artists whose label start with an underscore are ignored when legend() is called with no argument.\n",
      "  ax.legend()\n"
     ]
    },
    {
     "name": "stdout",
     "output_type": "stream",
     "text": [
      "KeyError: ilutp1em4 FEM_3D_thermal1 50\n",
      "KeyError: ilutp1em4 FEM_3D_thermal1 100\n"
     ]
    },
    {
     "name": "stderr",
     "output_type": "stream",
     "text": [
      "C:\\Users\\dosre\\AppData\\Local\\Temp\\ipykernel_23500\\508105216.py:41: UserWarning: Attempting to set identical low and high xlims makes transformation singular; automatically expanding.\n",
      "  ax.set_xlim(\n",
      "C:\\Users\\dosre\\AppData\\Local\\Temp\\ipykernel_23500\\508105216.py:46: UserWarning: No artists with labels found to put in legend.  Note that artists whose label start with an underscore are ignored when legend() is called with no argument.\n",
      "  ax.legend()\n",
      "C:\\Users\\dosre\\AppData\\Local\\Temp\\ipykernel_23500\\508105216.py:41: UserWarning: Attempting to set identical low and high xlims makes transformation singular; automatically expanding.\n",
      "  ax.set_xlim(\n",
      "C:\\Users\\dosre\\AppData\\Local\\Temp\\ipykernel_23500\\508105216.py:46: UserWarning: No artists with labels found to put in legend.  Note that artists whose label start with an underscore are ignored when legend() is called with no argument.\n",
      "  ax.legend()\n"
     ]
    },
    {
     "name": "stdout",
     "output_type": "stream",
     "text": [
      "KeyError: ilutp1em4 FEM_3D_thermal1 150\n",
      "KeyError: ilutp1em4 FEM_3D_thermal1 200\n"
     ]
    },
    {
     "name": "stderr",
     "output_type": "stream",
     "text": [
      "C:\\Users\\dosre\\AppData\\Local\\Temp\\ipykernel_23500\\508105216.py:41: UserWarning: Attempting to set identical low and high xlims makes transformation singular; automatically expanding.\n",
      "  ax.set_xlim(\n",
      "C:\\Users\\dosre\\AppData\\Local\\Temp\\ipykernel_23500\\508105216.py:46: UserWarning: No artists with labels found to put in legend.  Note that artists whose label start with an underscore are ignored when legend() is called with no argument.\n",
      "  ax.legend()\n",
      "C:\\Users\\dosre\\AppData\\Local\\Temp\\ipykernel_23500\\508105216.py:41: UserWarning: Attempting to set identical low and high xlims makes transformation singular; automatically expanding.\n",
      "  ax.set_xlim(\n",
      "C:\\Users\\dosre\\AppData\\Local\\Temp\\ipykernel_23500\\508105216.py:46: UserWarning: No artists with labels found to put in legend.  Note that artists whose label start with an underscore are ignored when legend() is called with no argument.\n",
      "  ax.legend()\n"
     ]
    },
    {
     "name": "stdout",
     "output_type": "stream",
     "text": [
      "KeyError: ilutp1em4 garon2 10\n",
      "KeyError: ilutp1em4 garon2 20\n"
     ]
    },
    {
     "name": "stderr",
     "output_type": "stream",
     "text": [
      "C:\\Users\\dosre\\AppData\\Local\\Temp\\ipykernel_23500\\508105216.py:41: UserWarning: Attempting to set identical low and high xlims makes transformation singular; automatically expanding.\n",
      "  ax.set_xlim(\n",
      "C:\\Users\\dosre\\AppData\\Local\\Temp\\ipykernel_23500\\508105216.py:46: UserWarning: No artists with labels found to put in legend.  Note that artists whose label start with an underscore are ignored when legend() is called with no argument.\n",
      "  ax.legend()\n",
      "C:\\Users\\dosre\\AppData\\Local\\Temp\\ipykernel_23500\\508105216.py:41: UserWarning: Attempting to set identical low and high xlims makes transformation singular; automatically expanding.\n",
      "  ax.set_xlim(\n",
      "C:\\Users\\dosre\\AppData\\Local\\Temp\\ipykernel_23500\\508105216.py:46: UserWarning: No artists with labels found to put in legend.  Note that artists whose label start with an underscore are ignored when legend() is called with no argument.\n",
      "  ax.legend()\n"
     ]
    },
    {
     "name": "stdout",
     "output_type": "stream",
     "text": [
      "KeyError: ilutp1em4 garon2 30\n",
      "KeyError: ilutp1em4 garon2 40\n"
     ]
    },
    {
     "name": "stderr",
     "output_type": "stream",
     "text": [
      "C:\\Users\\dosre\\AppData\\Local\\Temp\\ipykernel_23500\\508105216.py:41: UserWarning: Attempting to set identical low and high xlims makes transformation singular; automatically expanding.\n",
      "  ax.set_xlim(\n",
      "C:\\Users\\dosre\\AppData\\Local\\Temp\\ipykernel_23500\\508105216.py:46: UserWarning: No artists with labels found to put in legend.  Note that artists whose label start with an underscore are ignored when legend() is called with no argument.\n",
      "  ax.legend()\n",
      "C:\\Users\\dosre\\AppData\\Local\\Temp\\ipykernel_23500\\508105216.py:41: UserWarning: Attempting to set identical low and high xlims makes transformation singular; automatically expanding.\n",
      "  ax.set_xlim(\n",
      "C:\\Users\\dosre\\AppData\\Local\\Temp\\ipykernel_23500\\508105216.py:46: UserWarning: No artists with labels found to put in legend.  Note that artists whose label start with an underscore are ignored when legend() is called with no argument.\n",
      "  ax.legend()\n"
     ]
    },
    {
     "name": "stdout",
     "output_type": "stream",
     "text": [
      "KeyError: ilutp1em4 garon2 50\n",
      "KeyError: ilutp1em4 garon2 100\n"
     ]
    },
    {
     "name": "stderr",
     "output_type": "stream",
     "text": [
      "C:\\Users\\dosre\\AppData\\Local\\Temp\\ipykernel_23500\\508105216.py:41: UserWarning: Attempting to set identical low and high xlims makes transformation singular; automatically expanding.\n",
      "  ax.set_xlim(\n",
      "C:\\Users\\dosre\\AppData\\Local\\Temp\\ipykernel_23500\\508105216.py:46: UserWarning: No artists with labels found to put in legend.  Note that artists whose label start with an underscore are ignored when legend() is called with no argument.\n",
      "  ax.legend()\n"
     ]
    },
    {
     "name": "stdout",
     "output_type": "stream",
     "text": [
      "KeyError: ilutp1em4 garon2 150\n"
     ]
    },
    {
     "name": "stderr",
     "output_type": "stream",
     "text": [
      "C:\\Users\\dosre\\AppData\\Local\\Temp\\ipykernel_23500\\508105216.py:41: UserWarning: Attempting to set identical low and high xlims makes transformation singular; automatically expanding.\n",
      "  ax.set_xlim(\n",
      "C:\\Users\\dosre\\AppData\\Local\\Temp\\ipykernel_23500\\508105216.py:46: UserWarning: No artists with labels found to put in legend.  Note that artists whose label start with an underscore are ignored when legend() is called with no argument.\n",
      "  ax.legend()\n",
      "C:\\Users\\dosre\\AppData\\Local\\Temp\\ipykernel_23500\\508105216.py:41: UserWarning: Attempting to set identical low and high xlims makes transformation singular; automatically expanding.\n",
      "  ax.set_xlim(\n",
      "C:\\Users\\dosre\\AppData\\Local\\Temp\\ipykernel_23500\\508105216.py:46: UserWarning: No artists with labels found to put in legend.  Note that artists whose label start with an underscore are ignored when legend() is called with no argument.\n",
      "  ax.legend()\n"
     ]
    },
    {
     "name": "stdout",
     "output_type": "stream",
     "text": [
      "KeyError: ilutp1em4 garon2 200\n",
      "KeyError: ilutp1em4 inlet 10\n"
     ]
    },
    {
     "name": "stderr",
     "output_type": "stream",
     "text": [
      "C:\\Users\\dosre\\AppData\\Local\\Temp\\ipykernel_23500\\508105216.py:41: UserWarning: Attempting to set identical low and high xlims makes transformation singular; automatically expanding.\n",
      "  ax.set_xlim(\n",
      "C:\\Users\\dosre\\AppData\\Local\\Temp\\ipykernel_23500\\508105216.py:46: UserWarning: No artists with labels found to put in legend.  Note that artists whose label start with an underscore are ignored when legend() is called with no argument.\n",
      "  ax.legend()\n",
      "C:\\Users\\dosre\\AppData\\Local\\Temp\\ipykernel_23500\\508105216.py:41: UserWarning: Attempting to set identical low and high xlims makes transformation singular; automatically expanding.\n",
      "  ax.set_xlim(\n",
      "C:\\Users\\dosre\\AppData\\Local\\Temp\\ipykernel_23500\\508105216.py:46: UserWarning: No artists with labels found to put in legend.  Note that artists whose label start with an underscore are ignored when legend() is called with no argument.\n",
      "  ax.legend()\n",
      "C:\\Users\\dosre\\AppData\\Local\\Temp\\ipykernel_23500\\508105216.py:41: UserWarning: Attempting to set identical low and high xlims makes transformation singular; automatically expanding.\n",
      "  ax.set_xlim(\n",
      "C:\\Users\\dosre\\AppData\\Local\\Temp\\ipykernel_23500\\508105216.py:46: UserWarning: No artists with labels found to put in legend.  Note that artists whose label start with an underscore are ignored when legend() is called with no argument.\n",
      "  ax.legend()\n"
     ]
    },
    {
     "name": "stdout",
     "output_type": "stream",
     "text": [
      "KeyError: ilutp1em4 inlet 20\n",
      "KeyError: ilutp1em4 inlet 30\n",
      "KeyError: ilutp1em4 inlet 40\n"
     ]
    },
    {
     "name": "stderr",
     "output_type": "stream",
     "text": [
      "C:\\Users\\dosre\\AppData\\Local\\Temp\\ipykernel_23500\\508105216.py:41: UserWarning: Attempting to set identical low and high xlims makes transformation singular; automatically expanding.\n",
      "  ax.set_xlim(\n",
      "C:\\Users\\dosre\\AppData\\Local\\Temp\\ipykernel_23500\\508105216.py:46: UserWarning: No artists with labels found to put in legend.  Note that artists whose label start with an underscore are ignored when legend() is called with no argument.\n",
      "  ax.legend()\n",
      "C:\\Users\\dosre\\AppData\\Local\\Temp\\ipykernel_23500\\508105216.py:41: UserWarning: Attempting to set identical low and high xlims makes transformation singular; automatically expanding.\n",
      "  ax.set_xlim(\n",
      "C:\\Users\\dosre\\AppData\\Local\\Temp\\ipykernel_23500\\508105216.py:46: UserWarning: No artists with labels found to put in legend.  Note that artists whose label start with an underscore are ignored when legend() is called with no argument.\n",
      "  ax.legend()\n"
     ]
    },
    {
     "name": "stdout",
     "output_type": "stream",
     "text": [
      "KeyError: ilutp1em4 inlet 50\n",
      "KeyError: ilutp1em4 inlet 100\n"
     ]
    },
    {
     "name": "stderr",
     "output_type": "stream",
     "text": [
      "C:\\Users\\dosre\\AppData\\Local\\Temp\\ipykernel_23500\\508105216.py:41: UserWarning: Attempting to set identical low and high xlims makes transformation singular; automatically expanding.\n",
      "  ax.set_xlim(\n",
      "C:\\Users\\dosre\\AppData\\Local\\Temp\\ipykernel_23500\\508105216.py:46: UserWarning: No artists with labels found to put in legend.  Note that artists whose label start with an underscore are ignored when legend() is called with no argument.\n",
      "  ax.legend()\n",
      "C:\\Users\\dosre\\AppData\\Local\\Temp\\ipykernel_23500\\508105216.py:41: UserWarning: Attempting to set identical low and high xlims makes transformation singular; automatically expanding.\n",
      "  ax.set_xlim(\n",
      "C:\\Users\\dosre\\AppData\\Local\\Temp\\ipykernel_23500\\508105216.py:46: UserWarning: No artists with labels found to put in legend.  Note that artists whose label start with an underscore are ignored when legend() is called with no argument.\n",
      "  ax.legend()\n"
     ]
    },
    {
     "name": "stdout",
     "output_type": "stream",
     "text": [
      "KeyError: ilutp1em4 inlet 150\n",
      "KeyError: ilutp1em4 inlet 200\n"
     ]
    },
    {
     "name": "stderr",
     "output_type": "stream",
     "text": [
      "C:\\Users\\dosre\\AppData\\Local\\Temp\\ipykernel_23500\\508105216.py:41: UserWarning: Attempting to set identical low and high xlims makes transformation singular; automatically expanding.\n",
      "  ax.set_xlim(\n",
      "C:\\Users\\dosre\\AppData\\Local\\Temp\\ipykernel_23500\\508105216.py:46: UserWarning: No artists with labels found to put in legend.  Note that artists whose label start with an underscore are ignored when legend() is called with no argument.\n",
      "  ax.legend()\n",
      "C:\\Users\\dosre\\AppData\\Local\\Temp\\ipykernel_23500\\508105216.py:41: UserWarning: Attempting to set identical low and high xlims makes transformation singular; automatically expanding.\n",
      "  ax.set_xlim(\n",
      "C:\\Users\\dosre\\AppData\\Local\\Temp\\ipykernel_23500\\508105216.py:46: UserWarning: No artists with labels found to put in legend.  Note that artists whose label start with an underscore are ignored when legend() is called with no argument.\n",
      "  ax.legend()\n"
     ]
    },
    {
     "name": "stdout",
     "output_type": "stream",
     "text": [
      "KeyError: ilutp1em4 jan99jac040sc 10\n",
      "KeyError: ilutp1em4 jan99jac040sc 20\n"
     ]
    },
    {
     "name": "stderr",
     "output_type": "stream",
     "text": [
      "C:\\Users\\dosre\\AppData\\Local\\Temp\\ipykernel_23500\\508105216.py:41: UserWarning: Attempting to set identical low and high xlims makes transformation singular; automatically expanding.\n",
      "  ax.set_xlim(\n",
      "C:\\Users\\dosre\\AppData\\Local\\Temp\\ipykernel_23500\\508105216.py:46: UserWarning: No artists with labels found to put in legend.  Note that artists whose label start with an underscore are ignored when legend() is called with no argument.\n",
      "  ax.legend()\n",
      "C:\\Users\\dosre\\AppData\\Local\\Temp\\ipykernel_23500\\508105216.py:41: UserWarning: Attempting to set identical low and high xlims makes transformation singular; automatically expanding.\n",
      "  ax.set_xlim(\n",
      "C:\\Users\\dosre\\AppData\\Local\\Temp\\ipykernel_23500\\508105216.py:46: UserWarning: No artists with labels found to put in legend.  Note that artists whose label start with an underscore are ignored when legend() is called with no argument.\n",
      "  ax.legend()\n"
     ]
    },
    {
     "name": "stdout",
     "output_type": "stream",
     "text": [
      "KeyError: ilutp1em4 jan99jac040sc 30\n",
      "KeyError: ilutp1em4 jan99jac040sc 40\n"
     ]
    },
    {
     "name": "stderr",
     "output_type": "stream",
     "text": [
      "C:\\Users\\dosre\\AppData\\Local\\Temp\\ipykernel_23500\\508105216.py:41: UserWarning: Attempting to set identical low and high xlims makes transformation singular; automatically expanding.\n",
      "  ax.set_xlim(\n",
      "C:\\Users\\dosre\\AppData\\Local\\Temp\\ipykernel_23500\\508105216.py:46: UserWarning: No artists with labels found to put in legend.  Note that artists whose label start with an underscore are ignored when legend() is called with no argument.\n",
      "  ax.legend()\n",
      "C:\\Users\\dosre\\AppData\\Local\\Temp\\ipykernel_23500\\508105216.py:41: UserWarning: Attempting to set identical low and high xlims makes transformation singular; automatically expanding.\n",
      "  ax.set_xlim(\n",
      "C:\\Users\\dosre\\AppData\\Local\\Temp\\ipykernel_23500\\508105216.py:46: UserWarning: No artists with labels found to put in legend.  Note that artists whose label start with an underscore are ignored when legend() is called with no argument.\n",
      "  ax.legend()\n"
     ]
    },
    {
     "name": "stdout",
     "output_type": "stream",
     "text": [
      "KeyError: ilutp1em4 jan99jac040sc 50\n",
      "KeyError: ilutp1em4 jan99jac040sc 100\n"
     ]
    },
    {
     "name": "stderr",
     "output_type": "stream",
     "text": [
      "C:\\Users\\dosre\\AppData\\Local\\Temp\\ipykernel_23500\\508105216.py:41: UserWarning: Attempting to set identical low and high xlims makes transformation singular; automatically expanding.\n",
      "  ax.set_xlim(\n",
      "C:\\Users\\dosre\\AppData\\Local\\Temp\\ipykernel_23500\\508105216.py:46: UserWarning: No artists with labels found to put in legend.  Note that artists whose label start with an underscore are ignored when legend() is called with no argument.\n",
      "  ax.legend()\n",
      "C:\\Users\\dosre\\AppData\\Local\\Temp\\ipykernel_23500\\508105216.py:41: UserWarning: Attempting to set identical low and high xlims makes transformation singular; automatically expanding.\n",
      "  ax.set_xlim(\n",
      "C:\\Users\\dosre\\AppData\\Local\\Temp\\ipykernel_23500\\508105216.py:46: UserWarning: No artists with labels found to put in legend.  Note that artists whose label start with an underscore are ignored when legend() is called with no argument.\n",
      "  ax.legend()\n"
     ]
    },
    {
     "name": "stdout",
     "output_type": "stream",
     "text": [
      "KeyError: ilutp1em4 jan99jac040sc 150\n",
      "KeyError: ilutp1em4 jan99jac040sc 200\n"
     ]
    },
    {
     "name": "stderr",
     "output_type": "stream",
     "text": [
      "C:\\Users\\dosre\\AppData\\Local\\Temp\\ipykernel_23500\\508105216.py:41: UserWarning: Attempting to set identical low and high xlims makes transformation singular; automatically expanding.\n",
      "  ax.set_xlim(\n",
      "C:\\Users\\dosre\\AppData\\Local\\Temp\\ipykernel_23500\\508105216.py:46: UserWarning: No artists with labels found to put in legend.  Note that artists whose label start with an underscore are ignored when legend() is called with no argument.\n",
      "  ax.legend()\n",
      "C:\\Users\\dosre\\AppData\\Local\\Temp\\ipykernel_23500\\508105216.py:41: UserWarning: Attempting to set identical low and high xlims makes transformation singular; automatically expanding.\n",
      "  ax.set_xlim(\n",
      "C:\\Users\\dosre\\AppData\\Local\\Temp\\ipykernel_23500\\508105216.py:46: UserWarning: No artists with labels found to put in legend.  Note that artists whose label start with an underscore are ignored when legend() is called with no argument.\n",
      "  ax.legend()\n"
     ]
    },
    {
     "name": "stdout",
     "output_type": "stream",
     "text": [
      "KeyError: ilutp1em4 memplus 10\n",
      "KeyError: ilutp1em4 memplus 20\n"
     ]
    },
    {
     "name": "stderr",
     "output_type": "stream",
     "text": [
      "C:\\Users\\dosre\\AppData\\Local\\Temp\\ipykernel_23500\\508105216.py:41: UserWarning: Attempting to set identical low and high xlims makes transformation singular; automatically expanding.\n",
      "  ax.set_xlim(\n",
      "C:\\Users\\dosre\\AppData\\Local\\Temp\\ipykernel_23500\\508105216.py:46: UserWarning: No artists with labels found to put in legend.  Note that artists whose label start with an underscore are ignored when legend() is called with no argument.\n",
      "  ax.legend()\n",
      "C:\\Users\\dosre\\AppData\\Local\\Temp\\ipykernel_23500\\508105216.py:41: UserWarning: Attempting to set identical low and high xlims makes transformation singular; automatically expanding.\n",
      "  ax.set_xlim(\n",
      "C:\\Users\\dosre\\AppData\\Local\\Temp\\ipykernel_23500\\508105216.py:46: UserWarning: No artists with labels found to put in legend.  Note that artists whose label start with an underscore are ignored when legend() is called with no argument.\n",
      "  ax.legend()\n"
     ]
    },
    {
     "name": "stdout",
     "output_type": "stream",
     "text": [
      "KeyError: ilutp1em4 memplus 30\n",
      "KeyError: ilutp1em4 memplus 40\n"
     ]
    },
    {
     "name": "stderr",
     "output_type": "stream",
     "text": [
      "C:\\Users\\dosre\\AppData\\Local\\Temp\\ipykernel_23500\\508105216.py:41: UserWarning: Attempting to set identical low and high xlims makes transformation singular; automatically expanding.\n",
      "  ax.set_xlim(\n",
      "C:\\Users\\dosre\\AppData\\Local\\Temp\\ipykernel_23500\\508105216.py:46: UserWarning: No artists with labels found to put in legend.  Note that artists whose label start with an underscore are ignored when legend() is called with no argument.\n",
      "  ax.legend()\n",
      "C:\\Users\\dosre\\AppData\\Local\\Temp\\ipykernel_23500\\508105216.py:41: UserWarning: Attempting to set identical low and high xlims makes transformation singular; automatically expanding.\n",
      "  ax.set_xlim(\n",
      "C:\\Users\\dosre\\AppData\\Local\\Temp\\ipykernel_23500\\508105216.py:46: UserWarning: No artists with labels found to put in legend.  Note that artists whose label start with an underscore are ignored when legend() is called with no argument.\n",
      "  ax.legend()\n"
     ]
    },
    {
     "name": "stdout",
     "output_type": "stream",
     "text": [
      "KeyError: ilutp1em4 memplus 50\n",
      "KeyError: ilutp1em4 memplus 100\n"
     ]
    },
    {
     "name": "stderr",
     "output_type": "stream",
     "text": [
      "C:\\Users\\dosre\\AppData\\Local\\Temp\\ipykernel_23500\\508105216.py:41: UserWarning: Attempting to set identical low and high xlims makes transformation singular; automatically expanding.\n",
      "  ax.set_xlim(\n",
      "C:\\Users\\dosre\\AppData\\Local\\Temp\\ipykernel_23500\\508105216.py:46: UserWarning: No artists with labels found to put in legend.  Note that artists whose label start with an underscore are ignored when legend() is called with no argument.\n",
      "  ax.legend()\n"
     ]
    },
    {
     "name": "stdout",
     "output_type": "stream",
     "text": [
      "KeyError: ilutp1em4 memplus 150\n"
     ]
    },
    {
     "name": "stderr",
     "output_type": "stream",
     "text": [
      "C:\\Users\\dosre\\AppData\\Local\\Temp\\ipykernel_23500\\508105216.py:41: UserWarning: Attempting to set identical low and high xlims makes transformation singular; automatically expanding.\n",
      "  ax.set_xlim(\n",
      "C:\\Users\\dosre\\AppData\\Local\\Temp\\ipykernel_23500\\508105216.py:46: UserWarning: No artists with labels found to put in legend.  Note that artists whose label start with an underscore are ignored when legend() is called with no argument.\n",
      "  ax.legend()\n",
      "C:\\Users\\dosre\\AppData\\Local\\Temp\\ipykernel_23500\\508105216.py:41: UserWarning: Attempting to set identical low and high xlims makes transformation singular; automatically expanding.\n",
      "  ax.set_xlim(\n",
      "C:\\Users\\dosre\\AppData\\Local\\Temp\\ipykernel_23500\\508105216.py:46: UserWarning: No artists with labels found to put in legend.  Note that artists whose label start with an underscore are ignored when legend() is called with no argument.\n",
      "  ax.legend()\n"
     ]
    },
    {
     "name": "stdout",
     "output_type": "stream",
     "text": [
      "KeyError: ilutp1em4 memplus 200\n",
      "KeyError: ilutp1em4 ns3Da 10\n"
     ]
    },
    {
     "name": "stderr",
     "output_type": "stream",
     "text": [
      "C:\\Users\\dosre\\AppData\\Local\\Temp\\ipykernel_23500\\508105216.py:41: UserWarning: Attempting to set identical low and high xlims makes transformation singular; automatically expanding.\n",
      "  ax.set_xlim(\n",
      "C:\\Users\\dosre\\AppData\\Local\\Temp\\ipykernel_23500\\508105216.py:46: UserWarning: No artists with labels found to put in legend.  Note that artists whose label start with an underscore are ignored when legend() is called with no argument.\n",
      "  ax.legend()\n",
      "C:\\Users\\dosre\\AppData\\Local\\Temp\\ipykernel_23500\\508105216.py:41: UserWarning: Attempting to set identical low and high xlims makes transformation singular; automatically expanding.\n",
      "  ax.set_xlim(\n",
      "C:\\Users\\dosre\\AppData\\Local\\Temp\\ipykernel_23500\\508105216.py:46: UserWarning: No artists with labels found to put in legend.  Note that artists whose label start with an underscore are ignored when legend() is called with no argument.\n",
      "  ax.legend()\n"
     ]
    },
    {
     "name": "stdout",
     "output_type": "stream",
     "text": [
      "KeyError: ilutp1em4 ns3Da 20\n",
      "KeyError: ilutp1em4 ns3Da 30\n"
     ]
    },
    {
     "name": "stderr",
     "output_type": "stream",
     "text": [
      "C:\\Users\\dosre\\AppData\\Local\\Temp\\ipykernel_23500\\508105216.py:41: UserWarning: Attempting to set identical low and high xlims makes transformation singular; automatically expanding.\n",
      "  ax.set_xlim(\n",
      "C:\\Users\\dosre\\AppData\\Local\\Temp\\ipykernel_23500\\508105216.py:46: UserWarning: No artists with labels found to put in legend.  Note that artists whose label start with an underscore are ignored when legend() is called with no argument.\n",
      "  ax.legend()\n",
      "C:\\Users\\dosre\\AppData\\Local\\Temp\\ipykernel_23500\\508105216.py:41: UserWarning: Attempting to set identical low and high xlims makes transformation singular; automatically expanding.\n",
      "  ax.set_xlim(\n",
      "C:\\Users\\dosre\\AppData\\Local\\Temp\\ipykernel_23500\\508105216.py:46: UserWarning: No artists with labels found to put in legend.  Note that artists whose label start with an underscore are ignored when legend() is called with no argument.\n",
      "  ax.legend()\n"
     ]
    },
    {
     "name": "stdout",
     "output_type": "stream",
     "text": [
      "KeyError: ilutp1em4 ns3Da 40\n",
      "KeyError: ilutp1em4 ns3Da 50\n"
     ]
    },
    {
     "name": "stderr",
     "output_type": "stream",
     "text": [
      "C:\\Users\\dosre\\AppData\\Local\\Temp\\ipykernel_23500\\508105216.py:41: UserWarning: Attempting to set identical low and high xlims makes transformation singular; automatically expanding.\n",
      "  ax.set_xlim(\n",
      "C:\\Users\\dosre\\AppData\\Local\\Temp\\ipykernel_23500\\508105216.py:46: UserWarning: No artists with labels found to put in legend.  Note that artists whose label start with an underscore are ignored when legend() is called with no argument.\n",
      "  ax.legend()\n",
      "C:\\Users\\dosre\\AppData\\Local\\Temp\\ipykernel_23500\\508105216.py:41: UserWarning: Attempting to set identical low and high xlims makes transformation singular; automatically expanding.\n",
      "  ax.set_xlim(\n",
      "C:\\Users\\dosre\\AppData\\Local\\Temp\\ipykernel_23500\\508105216.py:46: UserWarning: No artists with labels found to put in legend.  Note that artists whose label start with an underscore are ignored when legend() is called with no argument.\n",
      "  ax.legend()\n"
     ]
    },
    {
     "name": "stdout",
     "output_type": "stream",
     "text": [
      "KeyError: ilutp1em4 ns3Da 100\n",
      "KeyError: ilutp1em4 ns3Da 150\n"
     ]
    },
    {
     "name": "stderr",
     "output_type": "stream",
     "text": [
      "C:\\Users\\dosre\\AppData\\Local\\Temp\\ipykernel_23500\\508105216.py:41: UserWarning: Attempting to set identical low and high xlims makes transformation singular; automatically expanding.\n",
      "  ax.set_xlim(\n",
      "C:\\Users\\dosre\\AppData\\Local\\Temp\\ipykernel_23500\\508105216.py:46: UserWarning: No artists with labels found to put in legend.  Note that artists whose label start with an underscore are ignored when legend() is called with no argument.\n",
      "  ax.legend()\n",
      "C:\\Users\\dosre\\AppData\\Local\\Temp\\ipykernel_23500\\508105216.py:41: UserWarning: Attempting to set identical low and high xlims makes transformation singular; automatically expanding.\n",
      "  ax.set_xlim(\n",
      "C:\\Users\\dosre\\AppData\\Local\\Temp\\ipykernel_23500\\508105216.py:46: UserWarning: No artists with labels found to put in legend.  Note that artists whose label start with an underscore are ignored when legend() is called with no argument.\n",
      "  ax.legend()\n"
     ]
    },
    {
     "name": "stdout",
     "output_type": "stream",
     "text": [
      "KeyError: ilutp1em4 ns3Da 200\n",
      "KeyError: ilutp1em4 poisson3Da 10\n"
     ]
    },
    {
     "name": "stderr",
     "output_type": "stream",
     "text": [
      "C:\\Users\\dosre\\AppData\\Local\\Temp\\ipykernel_23500\\508105216.py:41: UserWarning: Attempting to set identical low and high xlims makes transformation singular; automatically expanding.\n",
      "  ax.set_xlim(\n",
      "C:\\Users\\dosre\\AppData\\Local\\Temp\\ipykernel_23500\\508105216.py:46: UserWarning: No artists with labels found to put in legend.  Note that artists whose label start with an underscore are ignored when legend() is called with no argument.\n",
      "  ax.legend()\n",
      "C:\\Users\\dosre\\AppData\\Local\\Temp\\ipykernel_23500\\508105216.py:41: UserWarning: Attempting to set identical low and high xlims makes transformation singular; automatically expanding.\n",
      "  ax.set_xlim(\n",
      "C:\\Users\\dosre\\AppData\\Local\\Temp\\ipykernel_23500\\508105216.py:46: UserWarning: No artists with labels found to put in legend.  Note that artists whose label start with an underscore are ignored when legend() is called with no argument.\n",
      "  ax.legend()\n"
     ]
    },
    {
     "name": "stdout",
     "output_type": "stream",
     "text": [
      "KeyError: ilutp1em4 poisson3Da 20\n",
      "KeyError: ilutp1em4 poisson3Da 30\n"
     ]
    },
    {
     "name": "stderr",
     "output_type": "stream",
     "text": [
      "C:\\Users\\dosre\\AppData\\Local\\Temp\\ipykernel_23500\\508105216.py:41: UserWarning: Attempting to set identical low and high xlims makes transformation singular; automatically expanding.\n",
      "  ax.set_xlim(\n",
      "C:\\Users\\dosre\\AppData\\Local\\Temp\\ipykernel_23500\\508105216.py:46: UserWarning: No artists with labels found to put in legend.  Note that artists whose label start with an underscore are ignored when legend() is called with no argument.\n",
      "  ax.legend()\n",
      "C:\\Users\\dosre\\AppData\\Local\\Temp\\ipykernel_23500\\508105216.py:41: UserWarning: Attempting to set identical low and high xlims makes transformation singular; automatically expanding.\n",
      "  ax.set_xlim(\n",
      "C:\\Users\\dosre\\AppData\\Local\\Temp\\ipykernel_23500\\508105216.py:46: UserWarning: No artists with labels found to put in legend.  Note that artists whose label start with an underscore are ignored when legend() is called with no argument.\n",
      "  ax.legend()\n"
     ]
    },
    {
     "name": "stdout",
     "output_type": "stream",
     "text": [
      "KeyError: ilutp1em4 poisson3Da 40\n",
      "KeyError: ilutp1em4 poisson3Da 50\n"
     ]
    },
    {
     "name": "stderr",
     "output_type": "stream",
     "text": [
      "C:\\Users\\dosre\\AppData\\Local\\Temp\\ipykernel_23500\\508105216.py:41: UserWarning: Attempting to set identical low and high xlims makes transformation singular; automatically expanding.\n",
      "  ax.set_xlim(\n",
      "C:\\Users\\dosre\\AppData\\Local\\Temp\\ipykernel_23500\\508105216.py:46: UserWarning: No artists with labels found to put in legend.  Note that artists whose label start with an underscore are ignored when legend() is called with no argument.\n",
      "  ax.legend()\n",
      "C:\\Users\\dosre\\AppData\\Local\\Temp\\ipykernel_23500\\508105216.py:41: UserWarning: Attempting to set identical low and high xlims makes transformation singular; automatically expanding.\n",
      "  ax.set_xlim(\n",
      "C:\\Users\\dosre\\AppData\\Local\\Temp\\ipykernel_23500\\508105216.py:46: UserWarning: No artists with labels found to put in legend.  Note that artists whose label start with an underscore are ignored when legend() is called with no argument.\n",
      "  ax.legend()\n"
     ]
    },
    {
     "name": "stdout",
     "output_type": "stream",
     "text": [
      "KeyError: ilutp1em4 poisson3Da 100\n",
      "KeyError: ilutp1em4 poisson3Da 150\n"
     ]
    },
    {
     "name": "stderr",
     "output_type": "stream",
     "text": [
      "C:\\Users\\dosre\\AppData\\Local\\Temp\\ipykernel_23500\\508105216.py:41: UserWarning: Attempting to set identical low and high xlims makes transformation singular; automatically expanding.\n",
      "  ax.set_xlim(\n",
      "C:\\Users\\dosre\\AppData\\Local\\Temp\\ipykernel_23500\\508105216.py:46: UserWarning: No artists with labels found to put in legend.  Note that artists whose label start with an underscore are ignored when legend() is called with no argument.\n",
      "  ax.legend()\n",
      "C:\\Users\\dosre\\AppData\\Local\\Temp\\ipykernel_23500\\508105216.py:41: UserWarning: Attempting to set identical low and high xlims makes transformation singular; automatically expanding.\n",
      "  ax.set_xlim(\n",
      "C:\\Users\\dosre\\AppData\\Local\\Temp\\ipykernel_23500\\508105216.py:46: UserWarning: No artists with labels found to put in legend.  Note that artists whose label start with an underscore are ignored when legend() is called with no argument.\n",
      "  ax.legend()\n"
     ]
    },
    {
     "name": "stdout",
     "output_type": "stream",
     "text": [
      "KeyError: ilutp1em4 poisson3Da 200\n",
      "KeyError: ilutp1em4 powersim 10\n"
     ]
    },
    {
     "name": "stderr",
     "output_type": "stream",
     "text": [
      "C:\\Users\\dosre\\AppData\\Local\\Temp\\ipykernel_23500\\508105216.py:41: UserWarning: Attempting to set identical low and high xlims makes transformation singular; automatically expanding.\n",
      "  ax.set_xlim(\n",
      "C:\\Users\\dosre\\AppData\\Local\\Temp\\ipykernel_23500\\508105216.py:46: UserWarning: No artists with labels found to put in legend.  Note that artists whose label start with an underscore are ignored when legend() is called with no argument.\n",
      "  ax.legend()\n",
      "C:\\Users\\dosre\\AppData\\Local\\Temp\\ipykernel_23500\\508105216.py:41: UserWarning: Attempting to set identical low and high xlims makes transformation singular; automatically expanding.\n",
      "  ax.set_xlim(\n",
      "C:\\Users\\dosre\\AppData\\Local\\Temp\\ipykernel_23500\\508105216.py:46: UserWarning: No artists with labels found to put in legend.  Note that artists whose label start with an underscore are ignored when legend() is called with no argument.\n",
      "  ax.legend()\n"
     ]
    },
    {
     "name": "stdout",
     "output_type": "stream",
     "text": [
      "KeyError: ilutp1em4 powersim 20\n",
      "KeyError: ilutp1em4 powersim 30\n"
     ]
    },
    {
     "name": "stderr",
     "output_type": "stream",
     "text": [
      "C:\\Users\\dosre\\AppData\\Local\\Temp\\ipykernel_23500\\508105216.py:41: UserWarning: Attempting to set identical low and high xlims makes transformation singular; automatically expanding.\n",
      "  ax.set_xlim(\n",
      "C:\\Users\\dosre\\AppData\\Local\\Temp\\ipykernel_23500\\508105216.py:46: UserWarning: No artists with labels found to put in legend.  Note that artists whose label start with an underscore are ignored when legend() is called with no argument.\n",
      "  ax.legend()\n",
      "C:\\Users\\dosre\\AppData\\Local\\Temp\\ipykernel_23500\\508105216.py:41: UserWarning: Attempting to set identical low and high xlims makes transformation singular; automatically expanding.\n",
      "  ax.set_xlim(\n",
      "C:\\Users\\dosre\\AppData\\Local\\Temp\\ipykernel_23500\\508105216.py:46: UserWarning: No artists with labels found to put in legend.  Note that artists whose label start with an underscore are ignored when legend() is called with no argument.\n",
      "  ax.legend()\n"
     ]
    },
    {
     "name": "stdout",
     "output_type": "stream",
     "text": [
      "KeyError: ilutp1em4 powersim 40\n",
      "KeyError: ilutp1em4 powersim 50\n"
     ]
    },
    {
     "name": "stderr",
     "output_type": "stream",
     "text": [
      "C:\\Users\\dosre\\AppData\\Local\\Temp\\ipykernel_23500\\508105216.py:41: UserWarning: Attempting to set identical low and high xlims makes transformation singular; automatically expanding.\n",
      "  ax.set_xlim(\n",
      "C:\\Users\\dosre\\AppData\\Local\\Temp\\ipykernel_23500\\508105216.py:46: UserWarning: No artists with labels found to put in legend.  Note that artists whose label start with an underscore are ignored when legend() is called with no argument.\n",
      "  ax.legend()\n",
      "C:\\Users\\dosre\\AppData\\Local\\Temp\\ipykernel_23500\\508105216.py:41: UserWarning: Attempting to set identical low and high xlims makes transformation singular; automatically expanding.\n",
      "  ax.set_xlim(\n",
      "C:\\Users\\dosre\\AppData\\Local\\Temp\\ipykernel_23500\\508105216.py:46: UserWarning: No artists with labels found to put in legend.  Note that artists whose label start with an underscore are ignored when legend() is called with no argument.\n",
      "  ax.legend()\n"
     ]
    },
    {
     "name": "stdout",
     "output_type": "stream",
     "text": [
      "KeyError: ilutp1em4 powersim 100\n",
      "KeyError: ilutp1em4 powersim 150\n"
     ]
    },
    {
     "name": "stderr",
     "output_type": "stream",
     "text": [
      "C:\\Users\\dosre\\AppData\\Local\\Temp\\ipykernel_23500\\508105216.py:41: UserWarning: Attempting to set identical low and high xlims makes transformation singular; automatically expanding.\n",
      "  ax.set_xlim(\n",
      "C:\\Users\\dosre\\AppData\\Local\\Temp\\ipykernel_23500\\508105216.py:46: UserWarning: No artists with labels found to put in legend.  Note that artists whose label start with an underscore are ignored when legend() is called with no argument.\n",
      "  ax.legend()\n",
      "C:\\Users\\dosre\\AppData\\Local\\Temp\\ipykernel_23500\\508105216.py:41: UserWarning: Attempting to set identical low and high xlims makes transformation singular; automatically expanding.\n",
      "  ax.set_xlim(\n",
      "C:\\Users\\dosre\\AppData\\Local\\Temp\\ipykernel_23500\\508105216.py:46: UserWarning: No artists with labels found to put in legend.  Note that artists whose label start with an underscore are ignored when legend() is called with no argument.\n",
      "  ax.legend()\n"
     ]
    },
    {
     "name": "stdout",
     "output_type": "stream",
     "text": [
      "KeyError: ilutp1em4 powersim 200\n",
      "KeyError: ilutp1em4 rajat15 10\n"
     ]
    },
    {
     "name": "stderr",
     "output_type": "stream",
     "text": [
      "C:\\Users\\dosre\\AppData\\Local\\Temp\\ipykernel_23500\\508105216.py:41: UserWarning: Attempting to set identical low and high xlims makes transformation singular; automatically expanding.\n",
      "  ax.set_xlim(\n",
      "C:\\Users\\dosre\\AppData\\Local\\Temp\\ipykernel_23500\\508105216.py:46: UserWarning: No artists with labels found to put in legend.  Note that artists whose label start with an underscore are ignored when legend() is called with no argument.\n",
      "  ax.legend()\n",
      "C:\\Users\\dosre\\AppData\\Local\\Temp\\ipykernel_23500\\508105216.py:41: UserWarning: Attempting to set identical low and high xlims makes transformation singular; automatically expanding.\n",
      "  ax.set_xlim(\n",
      "C:\\Users\\dosre\\AppData\\Local\\Temp\\ipykernel_23500\\508105216.py:46: UserWarning: No artists with labels found to put in legend.  Note that artists whose label start with an underscore are ignored when legend() is called with no argument.\n",
      "  ax.legend()\n"
     ]
    },
    {
     "name": "stdout",
     "output_type": "stream",
     "text": [
      "KeyError: ilutp1em4 rajat15 20\n",
      "KeyError: ilutp1em4 rajat15 30\n"
     ]
    },
    {
     "name": "stderr",
     "output_type": "stream",
     "text": [
      "C:\\Users\\dosre\\AppData\\Local\\Temp\\ipykernel_23500\\508105216.py:41: UserWarning: Attempting to set identical low and high xlims makes transformation singular; automatically expanding.\n",
      "  ax.set_xlim(\n",
      "C:\\Users\\dosre\\AppData\\Local\\Temp\\ipykernel_23500\\508105216.py:46: UserWarning: No artists with labels found to put in legend.  Note that artists whose label start with an underscore are ignored when legend() is called with no argument.\n",
      "  ax.legend()\n",
      "C:\\Users\\dosre\\AppData\\Local\\Temp\\ipykernel_23500\\508105216.py:41: UserWarning: Attempting to set identical low and high xlims makes transformation singular; automatically expanding.\n",
      "  ax.set_xlim(\n",
      "C:\\Users\\dosre\\AppData\\Local\\Temp\\ipykernel_23500\\508105216.py:46: UserWarning: No artists with labels found to put in legend.  Note that artists whose label start with an underscore are ignored when legend() is called with no argument.\n",
      "  ax.legend()\n"
     ]
    },
    {
     "name": "stdout",
     "output_type": "stream",
     "text": [
      "KeyError: ilutp1em4 rajat15 40\n",
      "KeyError: ilutp1em4 rajat15 50\n"
     ]
    },
    {
     "name": "stderr",
     "output_type": "stream",
     "text": [
      "C:\\Users\\dosre\\AppData\\Local\\Temp\\ipykernel_23500\\508105216.py:41: UserWarning: Attempting to set identical low and high xlims makes transformation singular; automatically expanding.\n",
      "  ax.set_xlim(\n",
      "C:\\Users\\dosre\\AppData\\Local\\Temp\\ipykernel_23500\\508105216.py:46: UserWarning: No artists with labels found to put in legend.  Note that artists whose label start with an underscore are ignored when legend() is called with no argument.\n",
      "  ax.legend()\n",
      "C:\\Users\\dosre\\AppData\\Local\\Temp\\ipykernel_23500\\508105216.py:41: UserWarning: Attempting to set identical low and high xlims makes transformation singular; automatically expanding.\n",
      "  ax.set_xlim(\n",
      "C:\\Users\\dosre\\AppData\\Local\\Temp\\ipykernel_23500\\508105216.py:46: UserWarning: No artists with labels found to put in legend.  Note that artists whose label start with an underscore are ignored when legend() is called with no argument.\n",
      "  ax.legend()\n"
     ]
    },
    {
     "name": "stdout",
     "output_type": "stream",
     "text": [
      "KeyError: ilutp1em4 rajat15 100\n",
      "KeyError: ilutp1em4 rajat15 150\n"
     ]
    },
    {
     "name": "stderr",
     "output_type": "stream",
     "text": [
      "C:\\Users\\dosre\\AppData\\Local\\Temp\\ipykernel_23500\\508105216.py:41: UserWarning: Attempting to set identical low and high xlims makes transformation singular; automatically expanding.\n",
      "  ax.set_xlim(\n",
      "C:\\Users\\dosre\\AppData\\Local\\Temp\\ipykernel_23500\\508105216.py:46: UserWarning: No artists with labels found to put in legend.  Note that artists whose label start with an underscore are ignored when legend() is called with no argument.\n",
      "  ax.legend()\n",
      "C:\\Users\\dosre\\AppData\\Local\\Temp\\ipykernel_23500\\508105216.py:41: UserWarning: Attempting to set identical low and high xlims makes transformation singular; automatically expanding.\n",
      "  ax.set_xlim(\n",
      "C:\\Users\\dosre\\AppData\\Local\\Temp\\ipykernel_23500\\508105216.py:46: UserWarning: No artists with labels found to put in legend.  Note that artists whose label start with an underscore are ignored when legend() is called with no argument.\n",
      "  ax.legend()\n",
      "C:\\Users\\dosre\\AppData\\Local\\Temp\\ipykernel_23500\\508105216.py:41: UserWarning: Attempting to set identical low and high xlims makes transformation singular; automatically expanding.\n",
      "  ax.set_xlim(\n",
      "C:\\Users\\dosre\\AppData\\Local\\Temp\\ipykernel_23500\\508105216.py:46: UserWarning: No artists with labels found to put in legend.  Note that artists whose label start with an underscore are ignored when legend() is called with no argument.\n",
      "  ax.legend()\n"
     ]
    },
    {
     "name": "stdout",
     "output_type": "stream",
     "text": [
      "KeyError: ilutp1em4 rajat15 200\n",
      "KeyError: ilutp1em4 shermanACb 10\n",
      "KeyError: ilutp1em4 shermanACb 20\n"
     ]
    },
    {
     "name": "stderr",
     "output_type": "stream",
     "text": [
      "C:\\Users\\dosre\\AppData\\Local\\Temp\\ipykernel_23500\\508105216.py:41: UserWarning: Attempting to set identical low and high xlims makes transformation singular; automatically expanding.\n",
      "  ax.set_xlim(\n",
      "C:\\Users\\dosre\\AppData\\Local\\Temp\\ipykernel_23500\\508105216.py:46: UserWarning: No artists with labels found to put in legend.  Note that artists whose label start with an underscore are ignored when legend() is called with no argument.\n",
      "  ax.legend()\n",
      "C:\\Users\\dosre\\AppData\\Local\\Temp\\ipykernel_23500\\508105216.py:41: UserWarning: Attempting to set identical low and high xlims makes transformation singular; automatically expanding.\n",
      "  ax.set_xlim(\n",
      "C:\\Users\\dosre\\AppData\\Local\\Temp\\ipykernel_23500\\508105216.py:46: UserWarning: No artists with labels found to put in legend.  Note that artists whose label start with an underscore are ignored when legend() is called with no argument.\n",
      "  ax.legend()\n"
     ]
    },
    {
     "name": "stdout",
     "output_type": "stream",
     "text": [
      "KeyError: ilutp1em4 shermanACb 30\n",
      "KeyError: ilutp1em4 shermanACb 40\n"
     ]
    },
    {
     "name": "stderr",
     "output_type": "stream",
     "text": [
      "C:\\Users\\dosre\\AppData\\Local\\Temp\\ipykernel_23500\\508105216.py:41: UserWarning: Attempting to set identical low and high xlims makes transformation singular; automatically expanding.\n",
      "  ax.set_xlim(\n",
      "C:\\Users\\dosre\\AppData\\Local\\Temp\\ipykernel_23500\\508105216.py:46: UserWarning: No artists with labels found to put in legend.  Note that artists whose label start with an underscore are ignored when legend() is called with no argument.\n",
      "  ax.legend()\n",
      "C:\\Users\\dosre\\AppData\\Local\\Temp\\ipykernel_23500\\508105216.py:41: UserWarning: Attempting to set identical low and high xlims makes transformation singular; automatically expanding.\n",
      "  ax.set_xlim(\n",
      "C:\\Users\\dosre\\AppData\\Local\\Temp\\ipykernel_23500\\508105216.py:46: UserWarning: No artists with labels found to put in legend.  Note that artists whose label start with an underscore are ignored when legend() is called with no argument.\n",
      "  ax.legend()\n"
     ]
    },
    {
     "name": "stdout",
     "output_type": "stream",
     "text": [
      "KeyError: ilutp1em4 shermanACb 50\n",
      "KeyError: ilutp1em4 shermanACb 100\n"
     ]
    },
    {
     "name": "stderr",
     "output_type": "stream",
     "text": [
      "C:\\Users\\dosre\\AppData\\Local\\Temp\\ipykernel_23500\\508105216.py:41: UserWarning: Attempting to set identical low and high xlims makes transformation singular; automatically expanding.\n",
      "  ax.set_xlim(\n",
      "C:\\Users\\dosre\\AppData\\Local\\Temp\\ipykernel_23500\\508105216.py:46: UserWarning: No artists with labels found to put in legend.  Note that artists whose label start with an underscore are ignored when legend() is called with no argument.\n",
      "  ax.legend()\n",
      "C:\\Users\\dosre\\AppData\\Local\\Temp\\ipykernel_23500\\508105216.py:41: UserWarning: Attempting to set identical low and high xlims makes transformation singular; automatically expanding.\n",
      "  ax.set_xlim(\n",
      "C:\\Users\\dosre\\AppData\\Local\\Temp\\ipykernel_23500\\508105216.py:46: UserWarning: No artists with labels found to put in legend.  Note that artists whose label start with an underscore are ignored when legend() is called with no argument.\n",
      "  ax.legend()\n"
     ]
    },
    {
     "name": "stdout",
     "output_type": "stream",
     "text": [
      "KeyError: ilutp1em4 shermanACb 150\n",
      "KeyError: ilutp1em4 shermanACb 200\n"
     ]
    },
    {
     "name": "stderr",
     "output_type": "stream",
     "text": [
      "C:\\Users\\dosre\\AppData\\Local\\Temp\\ipykernel_23500\\508105216.py:41: UserWarning: Attempting to set identical low and high xlims makes transformation singular; automatically expanding.\n",
      "  ax.set_xlim(\n",
      "C:\\Users\\dosre\\AppData\\Local\\Temp\\ipykernel_23500\\508105216.py:46: UserWarning: No artists with labels found to put in legend.  Note that artists whose label start with an underscore are ignored when legend() is called with no argument.\n",
      "  ax.legend()\n",
      "C:\\Users\\dosre\\AppData\\Local\\Temp\\ipykernel_23500\\508105216.py:41: UserWarning: Attempting to set identical low and high xlims makes transformation singular; automatically expanding.\n",
      "  ax.set_xlim(\n",
      "C:\\Users\\dosre\\AppData\\Local\\Temp\\ipykernel_23500\\508105216.py:46: UserWarning: No artists with labels found to put in legend.  Note that artists whose label start with an underscore are ignored when legend() is called with no argument.\n",
      "  ax.legend()\n"
     ]
    },
    {
     "name": "stdout",
     "output_type": "stream",
     "text": [
      "KeyError: ilutp1em4 sme3Da 10\n",
      "KeyError: ilutp1em4 sme3Da 20\n"
     ]
    },
    {
     "name": "stderr",
     "output_type": "stream",
     "text": [
      "C:\\Users\\dosre\\AppData\\Local\\Temp\\ipykernel_23500\\508105216.py:41: UserWarning: Attempting to set identical low and high xlims makes transformation singular; automatically expanding.\n",
      "  ax.set_xlim(\n",
      "C:\\Users\\dosre\\AppData\\Local\\Temp\\ipykernel_23500\\508105216.py:46: UserWarning: No artists with labels found to put in legend.  Note that artists whose label start with an underscore are ignored when legend() is called with no argument.\n",
      "  ax.legend()\n",
      "C:\\Users\\dosre\\AppData\\Local\\Temp\\ipykernel_23500\\508105216.py:41: UserWarning: Attempting to set identical low and high xlims makes transformation singular; automatically expanding.\n",
      "  ax.set_xlim(\n",
      "C:\\Users\\dosre\\AppData\\Local\\Temp\\ipykernel_23500\\508105216.py:46: UserWarning: No artists with labels found to put in legend.  Note that artists whose label start with an underscore are ignored when legend() is called with no argument.\n",
      "  ax.legend()\n"
     ]
    },
    {
     "name": "stdout",
     "output_type": "stream",
     "text": [
      "KeyError: ilutp1em4 sme3Da 30\n",
      "KeyError: ilutp1em4 sme3Da 40\n"
     ]
    },
    {
     "name": "stderr",
     "output_type": "stream",
     "text": [
      "C:\\Users\\dosre\\AppData\\Local\\Temp\\ipykernel_23500\\508105216.py:41: UserWarning: Attempting to set identical low and high xlims makes transformation singular; automatically expanding.\n",
      "  ax.set_xlim(\n",
      "C:\\Users\\dosre\\AppData\\Local\\Temp\\ipykernel_23500\\508105216.py:46: UserWarning: No artists with labels found to put in legend.  Note that artists whose label start with an underscore are ignored when legend() is called with no argument.\n",
      "  ax.legend()\n",
      "C:\\Users\\dosre\\AppData\\Local\\Temp\\ipykernel_23500\\508105216.py:41: UserWarning: Attempting to set identical low and high xlims makes transformation singular; automatically expanding.\n",
      "  ax.set_xlim(\n",
      "C:\\Users\\dosre\\AppData\\Local\\Temp\\ipykernel_23500\\508105216.py:46: UserWarning: No artists with labels found to put in legend.  Note that artists whose label start with an underscore are ignored when legend() is called with no argument.\n",
      "  ax.legend()\n"
     ]
    },
    {
     "name": "stdout",
     "output_type": "stream",
     "text": [
      "KeyError: ilutp1em4 sme3Da 50\n",
      "KeyError: ilutp1em4 sme3Da 100\n"
     ]
    },
    {
     "name": "stderr",
     "output_type": "stream",
     "text": [
      "C:\\Users\\dosre\\AppData\\Local\\Temp\\ipykernel_23500\\508105216.py:41: UserWarning: Attempting to set identical low and high xlims makes transformation singular; automatically expanding.\n",
      "  ax.set_xlim(\n",
      "C:\\Users\\dosre\\AppData\\Local\\Temp\\ipykernel_23500\\508105216.py:46: UserWarning: No artists with labels found to put in legend.  Note that artists whose label start with an underscore are ignored when legend() is called with no argument.\n",
      "  ax.legend()\n",
      "C:\\Users\\dosre\\AppData\\Local\\Temp\\ipykernel_23500\\508105216.py:41: UserWarning: Attempting to set identical low and high xlims makes transformation singular; automatically expanding.\n",
      "  ax.set_xlim(\n",
      "C:\\Users\\dosre\\AppData\\Local\\Temp\\ipykernel_23500\\508105216.py:46: UserWarning: No artists with labels found to put in legend.  Note that artists whose label start with an underscore are ignored when legend() is called with no argument.\n",
      "  ax.legend()\n",
      "C:\\Users\\dosre\\AppData\\Local\\Temp\\ipykernel_23500\\508105216.py:41: UserWarning: Attempting to set identical low and high xlims makes transformation singular; automatically expanding.\n",
      "  ax.set_xlim(\n",
      "C:\\Users\\dosre\\AppData\\Local\\Temp\\ipykernel_23500\\508105216.py:46: UserWarning: No artists with labels found to put in legend.  Note that artists whose label start with an underscore are ignored when legend() is called with no argument.\n",
      "  ax.legend()\n"
     ]
    },
    {
     "name": "stdout",
     "output_type": "stream",
     "text": [
      "KeyError: ilutp1em4 sme3Da 150\n",
      "KeyError: ilutp1em4 sme3Da 200\n",
      "KeyError: ilutp1em4 TSOPF_RS_b39_c7 10\n"
     ]
    },
    {
     "name": "stderr",
     "output_type": "stream",
     "text": [
      "C:\\Users\\dosre\\AppData\\Local\\Temp\\ipykernel_23500\\508105216.py:41: UserWarning: Attempting to set identical low and high xlims makes transformation singular; automatically expanding.\n",
      "  ax.set_xlim(\n",
      "C:\\Users\\dosre\\AppData\\Local\\Temp\\ipykernel_23500\\508105216.py:46: UserWarning: No artists with labels found to put in legend.  Note that artists whose label start with an underscore are ignored when legend() is called with no argument.\n",
      "  ax.legend()\n",
      "C:\\Users\\dosre\\AppData\\Local\\Temp\\ipykernel_23500\\508105216.py:41: UserWarning: Attempting to set identical low and high xlims makes transformation singular; automatically expanding.\n",
      "  ax.set_xlim(\n",
      "C:\\Users\\dosre\\AppData\\Local\\Temp\\ipykernel_23500\\508105216.py:46: UserWarning: No artists with labels found to put in legend.  Note that artists whose label start with an underscore are ignored when legend() is called with no argument.\n",
      "  ax.legend()\n"
     ]
    },
    {
     "name": "stdout",
     "output_type": "stream",
     "text": [
      "KeyError: ilutp1em4 TSOPF_RS_b39_c7 20\n",
      "KeyError: ilutp1em4 TSOPF_RS_b39_c7 30\n"
     ]
    },
    {
     "name": "stderr",
     "output_type": "stream",
     "text": [
      "C:\\Users\\dosre\\AppData\\Local\\Temp\\ipykernel_23500\\508105216.py:41: UserWarning: Attempting to set identical low and high xlims makes transformation singular; automatically expanding.\n",
      "  ax.set_xlim(\n",
      "C:\\Users\\dosre\\AppData\\Local\\Temp\\ipykernel_23500\\508105216.py:46: UserWarning: No artists with labels found to put in legend.  Note that artists whose label start with an underscore are ignored when legend() is called with no argument.\n",
      "  ax.legend()\n",
      "C:\\Users\\dosre\\AppData\\Local\\Temp\\ipykernel_23500\\508105216.py:41: UserWarning: Attempting to set identical low and high xlims makes transformation singular; automatically expanding.\n",
      "  ax.set_xlim(\n",
      "C:\\Users\\dosre\\AppData\\Local\\Temp\\ipykernel_23500\\508105216.py:46: UserWarning: No artists with labels found to put in legend.  Note that artists whose label start with an underscore are ignored when legend() is called with no argument.\n",
      "  ax.legend()\n"
     ]
    },
    {
     "name": "stdout",
     "output_type": "stream",
     "text": [
      "KeyError: ilutp1em4 TSOPF_RS_b39_c7 40\n",
      "KeyError: ilutp1em4 TSOPF_RS_b39_c7 50\n"
     ]
    },
    {
     "name": "stderr",
     "output_type": "stream",
     "text": [
      "C:\\Users\\dosre\\AppData\\Local\\Temp\\ipykernel_23500\\508105216.py:41: UserWarning: Attempting to set identical low and high xlims makes transformation singular; automatically expanding.\n",
      "  ax.set_xlim(\n",
      "C:\\Users\\dosre\\AppData\\Local\\Temp\\ipykernel_23500\\508105216.py:46: UserWarning: No artists with labels found to put in legend.  Note that artists whose label start with an underscore are ignored when legend() is called with no argument.\n",
      "  ax.legend()\n",
      "C:\\Users\\dosre\\AppData\\Local\\Temp\\ipykernel_23500\\508105216.py:41: UserWarning: Attempting to set identical low and high xlims makes transformation singular; automatically expanding.\n",
      "  ax.set_xlim(\n",
      "C:\\Users\\dosre\\AppData\\Local\\Temp\\ipykernel_23500\\508105216.py:46: UserWarning: No artists with labels found to put in legend.  Note that artists whose label start with an underscore are ignored when legend() is called with no argument.\n",
      "  ax.legend()\n"
     ]
    },
    {
     "name": "stdout",
     "output_type": "stream",
     "text": [
      "KeyError: ilutp1em4 TSOPF_RS_b39_c7 100\n",
      "KeyError: ilutp1em4 TSOPF_RS_b39_c7 150\n"
     ]
    },
    {
     "name": "stderr",
     "output_type": "stream",
     "text": [
      "C:\\Users\\dosre\\AppData\\Local\\Temp\\ipykernel_23500\\508105216.py:41: UserWarning: Attempting to set identical low and high xlims makes transformation singular; automatically expanding.\n",
      "  ax.set_xlim(\n",
      "C:\\Users\\dosre\\AppData\\Local\\Temp\\ipykernel_23500\\508105216.py:46: UserWarning: No artists with labels found to put in legend.  Note that artists whose label start with an underscore are ignored when legend() is called with no argument.\n",
      "  ax.legend()\n",
      "C:\\Users\\dosre\\AppData\\Local\\Temp\\ipykernel_23500\\508105216.py:41: UserWarning: Attempting to set identical low and high xlims makes transformation singular; automatically expanding.\n",
      "  ax.set_xlim(\n",
      "C:\\Users\\dosre\\AppData\\Local\\Temp\\ipykernel_23500\\508105216.py:46: UserWarning: No artists with labels found to put in legend.  Note that artists whose label start with an underscore are ignored when legend() is called with no argument.\n",
      "  ax.legend()\n"
     ]
    },
    {
     "name": "stdout",
     "output_type": "stream",
     "text": [
      "KeyError: ilutp1em4 TSOPF_RS_b39_c7 200\n",
      "KeyError: ilutp1em4 viscoplastic2 10\n"
     ]
    },
    {
     "name": "stderr",
     "output_type": "stream",
     "text": [
      "C:\\Users\\dosre\\AppData\\Local\\Temp\\ipykernel_23500\\508105216.py:41: UserWarning: Attempting to set identical low and high xlims makes transformation singular; automatically expanding.\n",
      "  ax.set_xlim(\n",
      "C:\\Users\\dosre\\AppData\\Local\\Temp\\ipykernel_23500\\508105216.py:46: UserWarning: No artists with labels found to put in legend.  Note that artists whose label start with an underscore are ignored when legend() is called with no argument.\n",
      "  ax.legend()\n",
      "C:\\Users\\dosre\\AppData\\Local\\Temp\\ipykernel_23500\\508105216.py:41: UserWarning: Attempting to set identical low and high xlims makes transformation singular; automatically expanding.\n",
      "  ax.set_xlim(\n",
      "C:\\Users\\dosre\\AppData\\Local\\Temp\\ipykernel_23500\\508105216.py:46: UserWarning: No artists with labels found to put in legend.  Note that artists whose label start with an underscore are ignored when legend() is called with no argument.\n",
      "  ax.legend()\n"
     ]
    },
    {
     "name": "stdout",
     "output_type": "stream",
     "text": [
      "KeyError: ilutp1em4 viscoplastic2 20\n",
      "KeyError: ilutp1em4 viscoplastic2 30\n"
     ]
    },
    {
     "name": "stderr",
     "output_type": "stream",
     "text": [
      "C:\\Users\\dosre\\AppData\\Local\\Temp\\ipykernel_23500\\508105216.py:41: UserWarning: Attempting to set identical low and high xlims makes transformation singular; automatically expanding.\n",
      "  ax.set_xlim(\n",
      "C:\\Users\\dosre\\AppData\\Local\\Temp\\ipykernel_23500\\508105216.py:46: UserWarning: No artists with labels found to put in legend.  Note that artists whose label start with an underscore are ignored when legend() is called with no argument.\n",
      "  ax.legend()\n",
      "C:\\Users\\dosre\\AppData\\Local\\Temp\\ipykernel_23500\\508105216.py:41: UserWarning: Attempting to set identical low and high xlims makes transformation singular; automatically expanding.\n",
      "  ax.set_xlim(\n",
      "C:\\Users\\dosre\\AppData\\Local\\Temp\\ipykernel_23500\\508105216.py:46: UserWarning: No artists with labels found to put in legend.  Note that artists whose label start with an underscore are ignored when legend() is called with no argument.\n",
      "  ax.legend()\n",
      "C:\\Users\\dosre\\AppData\\Local\\Temp\\ipykernel_23500\\508105216.py:41: UserWarning: Attempting to set identical low and high xlims makes transformation singular; automatically expanding.\n",
      "  ax.set_xlim(\n",
      "C:\\Users\\dosre\\AppData\\Local\\Temp\\ipykernel_23500\\508105216.py:46: UserWarning: No artists with labels found to put in legend.  Note that artists whose label start with an underscore are ignored when legend() is called with no argument.\n",
      "  ax.legend()\n"
     ]
    },
    {
     "name": "stdout",
     "output_type": "stream",
     "text": [
      "KeyError: ilutp1em4 viscoplastic2 40\n",
      "KeyError: ilutp1em4 viscoplastic2 50\n",
      "KeyError: ilutp1em4 viscoplastic2 100\n"
     ]
    },
    {
     "name": "stderr",
     "output_type": "stream",
     "text": [
      "C:\\Users\\dosre\\AppData\\Local\\Temp\\ipykernel_23500\\508105216.py:41: UserWarning: Attempting to set identical low and high xlims makes transformation singular; automatically expanding.\n",
      "  ax.set_xlim(\n",
      "C:\\Users\\dosre\\AppData\\Local\\Temp\\ipykernel_23500\\508105216.py:46: UserWarning: No artists with labels found to put in legend.  Note that artists whose label start with an underscore are ignored when legend() is called with no argument.\n",
      "  ax.legend()\n",
      "C:\\Users\\dosre\\AppData\\Local\\Temp\\ipykernel_23500\\508105216.py:41: UserWarning: Attempting to set identical low and high xlims makes transformation singular; automatically expanding.\n",
      "  ax.set_xlim(\n",
      "C:\\Users\\dosre\\AppData\\Local\\Temp\\ipykernel_23500\\508105216.py:46: UserWarning: No artists with labels found to put in legend.  Note that artists whose label start with an underscore are ignored when legend() is called with no argument.\n",
      "  ax.legend()\n"
     ]
    },
    {
     "name": "stdout",
     "output_type": "stream",
     "text": [
      "KeyError: ilutp1em4 viscoplastic2 150\n",
      "KeyError: ilutp1em4 viscoplastic2 200\n"
     ]
    },
    {
     "name": "stderr",
     "output_type": "stream",
     "text": [
      "C:\\Users\\dosre\\AppData\\Local\\Temp\\ipykernel_23500\\508105216.py:41: UserWarning: Attempting to set identical low and high xlims makes transformation singular; automatically expanding.\n",
      "  ax.set_xlim(\n",
      "C:\\Users\\dosre\\AppData\\Local\\Temp\\ipykernel_23500\\508105216.py:46: UserWarning: No artists with labels found to put in legend.  Note that artists whose label start with an underscore are ignored when legend() is called with no argument.\n",
      "  ax.legend()\n",
      "C:\\Users\\dosre\\AppData\\Local\\Temp\\ipykernel_23500\\508105216.py:41: UserWarning: Attempting to set identical low and high xlims makes transformation singular; automatically expanding.\n",
      "  ax.set_xlim(\n",
      "C:\\Users\\dosre\\AppData\\Local\\Temp\\ipykernel_23500\\508105216.py:46: UserWarning: No artists with labels found to put in legend.  Note that artists whose label start with an underscore are ignored when legend() is called with no argument.\n",
      "  ax.legend()\n",
      "C:\\Users\\dosre\\AppData\\Local\\Temp\\ipykernel_23500\\508105216.py:41: UserWarning: Attempting to set identical low and high xlims makes transformation singular; automatically expanding.\n",
      "  ax.set_xlim(\n",
      "C:\\Users\\dosre\\AppData\\Local\\Temp\\ipykernel_23500\\508105216.py:46: UserWarning: No artists with labels found to put in legend.  Note that artists whose label start with an underscore are ignored when legend() is called with no argument.\n",
      "  ax.legend()\n"
     ]
    },
    {
     "name": "stdout",
     "output_type": "stream",
     "text": [
      "KeyError: ilutp1em4 wang3 10\n",
      "KeyError: ilutp1em4 wang3 20\n",
      "KeyError: ilutp1em4 wang3 30\n"
     ]
    },
    {
     "name": "stderr",
     "output_type": "stream",
     "text": [
      "C:\\Users\\dosre\\AppData\\Local\\Temp\\ipykernel_23500\\508105216.py:41: UserWarning: Attempting to set identical low and high xlims makes transformation singular; automatically expanding.\n",
      "  ax.set_xlim(\n",
      "C:\\Users\\dosre\\AppData\\Local\\Temp\\ipykernel_23500\\508105216.py:46: UserWarning: No artists with labels found to put in legend.  Note that artists whose label start with an underscore are ignored when legend() is called with no argument.\n",
      "  ax.legend()\n",
      "C:\\Users\\dosre\\AppData\\Local\\Temp\\ipykernel_23500\\508105216.py:41: UserWarning: Attempting to set identical low and high xlims makes transformation singular; automatically expanding.\n",
      "  ax.set_xlim(\n",
      "C:\\Users\\dosre\\AppData\\Local\\Temp\\ipykernel_23500\\508105216.py:46: UserWarning: No artists with labels found to put in legend.  Note that artists whose label start with an underscore are ignored when legend() is called with no argument.\n",
      "  ax.legend()\n"
     ]
    },
    {
     "name": "stdout",
     "output_type": "stream",
     "text": [
      "KeyError: ilutp1em4 wang3 40\n",
      "KeyError: ilutp1em4 wang3 50\n"
     ]
    },
    {
     "name": "stderr",
     "output_type": "stream",
     "text": [
      "C:\\Users\\dosre\\AppData\\Local\\Temp\\ipykernel_23500\\508105216.py:41: UserWarning: Attempting to set identical low and high xlims makes transformation singular; automatically expanding.\n",
      "  ax.set_xlim(\n",
      "C:\\Users\\dosre\\AppData\\Local\\Temp\\ipykernel_23500\\508105216.py:46: UserWarning: No artists with labels found to put in legend.  Note that artists whose label start with an underscore are ignored when legend() is called with no argument.\n",
      "  ax.legend()\n"
     ]
    },
    {
     "name": "stdout",
     "output_type": "stream",
     "text": [
      "KeyError: ilutp1em4 wang3 100\n"
     ]
    },
    {
     "name": "stderr",
     "output_type": "stream",
     "text": [
      "C:\\Users\\dosre\\AppData\\Local\\Temp\\ipykernel_23500\\508105216.py:41: UserWarning: Attempting to set identical low and high xlims makes transformation singular; automatically expanding.\n",
      "  ax.set_xlim(\n",
      "C:\\Users\\dosre\\AppData\\Local\\Temp\\ipykernel_23500\\508105216.py:46: UserWarning: No artists with labels found to put in legend.  Note that artists whose label start with an underscore are ignored when legend() is called with no argument.\n",
      "  ax.legend()\n",
      "C:\\Users\\dosre\\AppData\\Local\\Temp\\ipykernel_23500\\508105216.py:41: UserWarning: Attempting to set identical low and high xlims makes transformation singular; automatically expanding.\n",
      "  ax.set_xlim(\n",
      "C:\\Users\\dosre\\AppData\\Local\\Temp\\ipykernel_23500\\508105216.py:46: UserWarning: No artists with labels found to put in legend.  Note that artists whose label start with an underscore are ignored when legend() is called with no argument.\n",
      "  ax.legend()\n"
     ]
    },
    {
     "name": "stdout",
     "output_type": "stream",
     "text": [
      "KeyError: ilutp1em4 wang3 150\n",
      "KeyError: ilutp1em4 wang3 200\n"
     ]
    },
    {
     "name": "stderr",
     "output_type": "stream",
     "text": [
      "C:\\Users\\dosre\\AppData\\Local\\Temp\\ipykernel_23500\\508105216.py:41: UserWarning: Attempting to set identical low and high xlims makes transformation singular; automatically expanding.\n",
      "  ax.set_xlim(\n",
      "C:\\Users\\dosre\\AppData\\Local\\Temp\\ipykernel_23500\\508105216.py:46: UserWarning: No artists with labels found to put in legend.  Note that artists whose label start with an underscore are ignored when legend() is called with no argument.\n",
      "  ax.legend()\n",
      "C:\\Users\\dosre\\AppData\\Local\\Temp\\ipykernel_23500\\508105216.py:41: UserWarning: Attempting to set identical low and high xlims makes transformation singular; automatically expanding.\n",
      "  ax.set_xlim(\n",
      "C:\\Users\\dosre\\AppData\\Local\\Temp\\ipykernel_23500\\508105216.py:46: UserWarning: No artists with labels found to put in legend.  Note that artists whose label start with an underscore are ignored when legend() is called with no argument.\n",
      "  ax.legend()\n"
     ]
    },
    {
     "name": "stdout",
     "output_type": "stream",
     "text": [
      "KeyError: ilutp1em4 wang4 10\n",
      "KeyError: ilutp1em4 wang4 20\n"
     ]
    },
    {
     "name": "stderr",
     "output_type": "stream",
     "text": [
      "C:\\Users\\dosre\\AppData\\Local\\Temp\\ipykernel_23500\\508105216.py:41: UserWarning: Attempting to set identical low and high xlims makes transformation singular; automatically expanding.\n",
      "  ax.set_xlim(\n",
      "C:\\Users\\dosre\\AppData\\Local\\Temp\\ipykernel_23500\\508105216.py:46: UserWarning: No artists with labels found to put in legend.  Note that artists whose label start with an underscore are ignored when legend() is called with no argument.\n",
      "  ax.legend()\n",
      "C:\\Users\\dosre\\AppData\\Local\\Temp\\ipykernel_23500\\508105216.py:41: UserWarning: Attempting to set identical low and high xlims makes transformation singular; automatically expanding.\n",
      "  ax.set_xlim(\n",
      "C:\\Users\\dosre\\AppData\\Local\\Temp\\ipykernel_23500\\508105216.py:46: UserWarning: No artists with labels found to put in legend.  Note that artists whose label start with an underscore are ignored when legend() is called with no argument.\n",
      "  ax.legend()\n"
     ]
    },
    {
     "name": "stdout",
     "output_type": "stream",
     "text": [
      "KeyError: ilutp1em4 wang4 30\n",
      "KeyError: ilutp1em4 wang4 40\n"
     ]
    },
    {
     "name": "stderr",
     "output_type": "stream",
     "text": [
      "C:\\Users\\dosre\\AppData\\Local\\Temp\\ipykernel_23500\\508105216.py:41: UserWarning: Attempting to set identical low and high xlims makes transformation singular; automatically expanding.\n",
      "  ax.set_xlim(\n",
      "C:\\Users\\dosre\\AppData\\Local\\Temp\\ipykernel_23500\\508105216.py:46: UserWarning: No artists with labels found to put in legend.  Note that artists whose label start with an underscore are ignored when legend() is called with no argument.\n",
      "  ax.legend()\n",
      "C:\\Users\\dosre\\AppData\\Local\\Temp\\ipykernel_23500\\508105216.py:41: UserWarning: Attempting to set identical low and high xlims makes transformation singular; automatically expanding.\n",
      "  ax.set_xlim(\n",
      "C:\\Users\\dosre\\AppData\\Local\\Temp\\ipykernel_23500\\508105216.py:46: UserWarning: No artists with labels found to put in legend.  Note that artists whose label start with an underscore are ignored when legend() is called with no argument.\n",
      "  ax.legend()\n"
     ]
    },
    {
     "name": "stdout",
     "output_type": "stream",
     "text": [
      "KeyError: ilutp1em4 wang4 50\n",
      "KeyError: ilutp1em4 wang4 100\n"
     ]
    },
    {
     "name": "stderr",
     "output_type": "stream",
     "text": [
      "C:\\Users\\dosre\\AppData\\Local\\Temp\\ipykernel_23500\\508105216.py:41: UserWarning: Attempting to set identical low and high xlims makes transformation singular; automatically expanding.\n",
      "  ax.set_xlim(\n",
      "C:\\Users\\dosre\\AppData\\Local\\Temp\\ipykernel_23500\\508105216.py:46: UserWarning: No artists with labels found to put in legend.  Note that artists whose label start with an underscore are ignored when legend() is called with no argument.\n",
      "  ax.legend()\n",
      "C:\\Users\\dosre\\AppData\\Local\\Temp\\ipykernel_23500\\508105216.py:41: UserWarning: Attempting to set identical low and high xlims makes transformation singular; automatically expanding.\n",
      "  ax.set_xlim(\n",
      "C:\\Users\\dosre\\AppData\\Local\\Temp\\ipykernel_23500\\508105216.py:46: UserWarning: No artists with labels found to put in legend.  Note that artists whose label start with an underscore are ignored when legend() is called with no argument.\n",
      "  ax.legend()\n"
     ]
    },
    {
     "name": "stdout",
     "output_type": "stream",
     "text": [
      "KeyError: ilutp1em4 wang4 150\n",
      "KeyError: ilutp1em4 wang4 200\n"
     ]
    },
    {
     "name": "stderr",
     "output_type": "stream",
     "text": [
      "C:\\Users\\dosre\\AppData\\Local\\Temp\\ipykernel_23500\\508105216.py:41: UserWarning: Attempting to set identical low and high xlims makes transformation singular; automatically expanding.\n",
      "  ax.set_xlim(\n",
      "C:\\Users\\dosre\\AppData\\Local\\Temp\\ipykernel_23500\\508105216.py:46: UserWarning: No artists with labels found to put in legend.  Note that artists whose label start with an underscore are ignored when legend() is called with no argument.\n",
      "  ax.legend()\n",
      "C:\\Users\\dosre\\AppData\\Local\\Temp\\ipykernel_23500\\508105216.py:41: UserWarning: Attempting to set identical low and high xlims makes transformation singular; automatically expanding.\n",
      "  ax.set_xlim(\n",
      "C:\\Users\\dosre\\AppData\\Local\\Temp\\ipykernel_23500\\508105216.py:46: UserWarning: No artists with labels found to put in legend.  Note that artists whose label start with an underscore are ignored when legend() is called with no argument.\n",
      "  ax.legend()\n"
     ]
    },
    {
     "name": "stdout",
     "output_type": "stream",
     "text": [
      "KeyError: ilutp1em4 Zhao1 10\n",
      "KeyError: ilutp1em4 Zhao1 20\n"
     ]
    },
    {
     "name": "stderr",
     "output_type": "stream",
     "text": [
      "C:\\Users\\dosre\\AppData\\Local\\Temp\\ipykernel_23500\\508105216.py:41: UserWarning: Attempting to set identical low and high xlims makes transformation singular; automatically expanding.\n",
      "  ax.set_xlim(\n",
      "C:\\Users\\dosre\\AppData\\Local\\Temp\\ipykernel_23500\\508105216.py:46: UserWarning: No artists with labels found to put in legend.  Note that artists whose label start with an underscore are ignored when legend() is called with no argument.\n",
      "  ax.legend()\n",
      "C:\\Users\\dosre\\AppData\\Local\\Temp\\ipykernel_23500\\508105216.py:41: UserWarning: Attempting to set identical low and high xlims makes transformation singular; automatically expanding.\n",
      "  ax.set_xlim(\n",
      "C:\\Users\\dosre\\AppData\\Local\\Temp\\ipykernel_23500\\508105216.py:46: UserWarning: No artists with labels found to put in legend.  Note that artists whose label start with an underscore are ignored when legend() is called with no argument.\n",
      "  ax.legend()\n",
      "C:\\Users\\dosre\\AppData\\Local\\Temp\\ipykernel_23500\\508105216.py:41: UserWarning: Attempting to set identical low and high xlims makes transformation singular; automatically expanding.\n",
      "  ax.set_xlim(\n",
      "C:\\Users\\dosre\\AppData\\Local\\Temp\\ipykernel_23500\\508105216.py:46: UserWarning: No artists with labels found to put in legend.  Note that artists whose label start with an underscore are ignored when legend() is called with no argument.\n",
      "  ax.legend()\n"
     ]
    },
    {
     "name": "stdout",
     "output_type": "stream",
     "text": [
      "KeyError: ilutp1em4 Zhao1 30\n",
      "KeyError: ilutp1em4 Zhao1 40\n",
      "KeyError: ilutp1em4 Zhao1 50\n"
     ]
    },
    {
     "name": "stderr",
     "output_type": "stream",
     "text": [
      "C:\\Users\\dosre\\AppData\\Local\\Temp\\ipykernel_23500\\508105216.py:41: UserWarning: Attempting to set identical low and high xlims makes transformation singular; automatically expanding.\n",
      "  ax.set_xlim(\n",
      "C:\\Users\\dosre\\AppData\\Local\\Temp\\ipykernel_23500\\508105216.py:46: UserWarning: No artists with labels found to put in legend.  Note that artists whose label start with an underscore are ignored when legend() is called with no argument.\n",
      "  ax.legend()\n",
      "C:\\Users\\dosre\\AppData\\Local\\Temp\\ipykernel_23500\\508105216.py:41: UserWarning: Attempting to set identical low and high xlims makes transformation singular; automatically expanding.\n",
      "  ax.set_xlim(\n",
      "C:\\Users\\dosre\\AppData\\Local\\Temp\\ipykernel_23500\\508105216.py:46: UserWarning: No artists with labels found to put in legend.  Note that artists whose label start with an underscore are ignored when legend() is called with no argument.\n",
      "  ax.legend()\n"
     ]
    },
    {
     "name": "stdout",
     "output_type": "stream",
     "text": [
      "KeyError: ilutp1em4 Zhao1 100\n",
      "KeyError: ilutp1em4 Zhao1 150\n"
     ]
    },
    {
     "name": "stderr",
     "output_type": "stream",
     "text": [
      "C:\\Users\\dosre\\AppData\\Local\\Temp\\ipykernel_23500\\508105216.py:41: UserWarning: Attempting to set identical low and high xlims makes transformation singular; automatically expanding.\n",
      "  ax.set_xlim(\n",
      "C:\\Users\\dosre\\AppData\\Local\\Temp\\ipykernel_23500\\508105216.py:46: UserWarning: No artists with labels found to put in legend.  Note that artists whose label start with an underscore are ignored when legend() is called with no argument.\n",
      "  ax.legend()\n",
      "C:\\Users\\dosre\\AppData\\Local\\Temp\\ipykernel_23500\\508105216.py:41: UserWarning: Attempting to set identical low and high xlims makes transformation singular; automatically expanding.\n",
      "  ax.set_xlim(\n",
      "C:\\Users\\dosre\\AppData\\Local\\Temp\\ipykernel_23500\\508105216.py:46: UserWarning: No artists with labels found to put in legend.  Note that artists whose label start with an underscore are ignored when legend() is called with no argument.\n",
      "  ax.legend()\n"
     ]
    },
    {
     "name": "stdout",
     "output_type": "stream",
     "text": [
      "KeyError: ilutp1em4 Zhao1 200\n",
      "KeyError: ilutp1em4 Zhao2 10\n"
     ]
    },
    {
     "name": "stderr",
     "output_type": "stream",
     "text": [
      "C:\\Users\\dosre\\AppData\\Local\\Temp\\ipykernel_23500\\508105216.py:41: UserWarning: Attempting to set identical low and high xlims makes transformation singular; automatically expanding.\n",
      "  ax.set_xlim(\n",
      "C:\\Users\\dosre\\AppData\\Local\\Temp\\ipykernel_23500\\508105216.py:46: UserWarning: No artists with labels found to put in legend.  Note that artists whose label start with an underscore are ignored when legend() is called with no argument.\n",
      "  ax.legend()\n",
      "C:\\Users\\dosre\\AppData\\Local\\Temp\\ipykernel_23500\\508105216.py:41: UserWarning: Attempting to set identical low and high xlims makes transformation singular; automatically expanding.\n",
      "  ax.set_xlim(\n",
      "C:\\Users\\dosre\\AppData\\Local\\Temp\\ipykernel_23500\\508105216.py:46: UserWarning: No artists with labels found to put in legend.  Note that artists whose label start with an underscore are ignored when legend() is called with no argument.\n",
      "  ax.legend()\n",
      "C:\\Users\\dosre\\AppData\\Local\\Temp\\ipykernel_23500\\508105216.py:41: UserWarning: Attempting to set identical low and high xlims makes transformation singular; automatically expanding.\n",
      "  ax.set_xlim(\n",
      "C:\\Users\\dosre\\AppData\\Local\\Temp\\ipykernel_23500\\508105216.py:46: UserWarning: No artists with labels found to put in legend.  Note that artists whose label start with an underscore are ignored when legend() is called with no argument.\n",
      "  ax.legend()\n"
     ]
    },
    {
     "name": "stdout",
     "output_type": "stream",
     "text": [
      "KeyError: ilutp1em4 Zhao2 20\n",
      "KeyError: ilutp1em4 Zhao2 30\n",
      "KeyError: ilutp1em4 Zhao2 40\n"
     ]
    },
    {
     "name": "stderr",
     "output_type": "stream",
     "text": [
      "C:\\Users\\dosre\\AppData\\Local\\Temp\\ipykernel_23500\\508105216.py:41: UserWarning: Attempting to set identical low and high xlims makes transformation singular; automatically expanding.\n",
      "  ax.set_xlim(\n",
      "C:\\Users\\dosre\\AppData\\Local\\Temp\\ipykernel_23500\\508105216.py:46: UserWarning: No artists with labels found to put in legend.  Note that artists whose label start with an underscore are ignored when legend() is called with no argument.\n",
      "  ax.legend()\n",
      "C:\\Users\\dosre\\AppData\\Local\\Temp\\ipykernel_23500\\508105216.py:41: UserWarning: Attempting to set identical low and high xlims makes transformation singular; automatically expanding.\n",
      "  ax.set_xlim(\n",
      "C:\\Users\\dosre\\AppData\\Local\\Temp\\ipykernel_23500\\508105216.py:46: UserWarning: No artists with labels found to put in legend.  Note that artists whose label start with an underscore are ignored when legend() is called with no argument.\n",
      "  ax.legend()\n"
     ]
    },
    {
     "name": "stdout",
     "output_type": "stream",
     "text": [
      "KeyError: ilutp1em4 Zhao2 50\n",
      "KeyError: ilutp1em4 Zhao2 100\n"
     ]
    },
    {
     "name": "stderr",
     "output_type": "stream",
     "text": [
      "C:\\Users\\dosre\\AppData\\Local\\Temp\\ipykernel_23500\\508105216.py:41: UserWarning: Attempting to set identical low and high xlims makes transformation singular; automatically expanding.\n",
      "  ax.set_xlim(\n",
      "C:\\Users\\dosre\\AppData\\Local\\Temp\\ipykernel_23500\\508105216.py:46: UserWarning: No artists with labels found to put in legend.  Note that artists whose label start with an underscore are ignored when legend() is called with no argument.\n",
      "  ax.legend()\n",
      "C:\\Users\\dosre\\AppData\\Local\\Temp\\ipykernel_23500\\508105216.py:41: UserWarning: Attempting to set identical low and high xlims makes transformation singular; automatically expanding.\n",
      "  ax.set_xlim(\n",
      "C:\\Users\\dosre\\AppData\\Local\\Temp\\ipykernel_23500\\508105216.py:46: UserWarning: No artists with labels found to put in legend.  Note that artists whose label start with an underscore are ignored when legend() is called with no argument.\n",
      "  ax.legend()\n"
     ]
    },
    {
     "name": "stdout",
     "output_type": "stream",
     "text": [
      "KeyError: ilutp1em4 Zhao2 150\n",
      "KeyError: ilutp1em4 Zhao2 200\n"
     ]
    }
   ],
   "source": [
    "for setup in SETUPS:\n",
    "    os.makedirs(os.path.join(basic_traj_plots_dir, setup), exist_ok=True)\n",
    "    for matrix in SETUP_MATRIX_MAPPING[setup]:\n",
    "        for restart_param in RESTART_PARAMS:\n",
    "\n",
    "            fig, axs = plt.subplots(3, 1, figsize=(8, 8), height_ratios=[0.35, 0.35, 0.3])\n",
    "            ax1, ax2, ax3 = axs\n",
    "\n",
    "            extended_sub_data = df_sel_setup_matrix_restart(\n",
    "                extended_data, setup, matrix, restart_param\n",
    "            )\n",
    "            median_sub_data = df_sel_setup_matrix_restart(\n",
    "                median_data, setup, matrix, restart_param\n",
    "            )\n",
    "\n",
    "            for fp_solver in FP_SOLVERS:\n",
    "                solver_exp_iteration_data = extended_sub_data[\n",
    "                    extended_sub_data[\"solver\"] == fp_solver\n",
    "                ]\n",
    "                plot_exp_iters_conv_traj(\n",
    "                    ax1,\n",
    "                    solver_exp_iteration_data,\n",
    "                    N_EXPERIMENT_ITERATIONS,\n",
    "                    fp_solver,\n",
    "                    SOLVER_CLR_DICT[fp_solver]                    \n",
    "                )\n",
    "\n",
    "            for gmres_m_solver in GMRES_M_SOLVERS:\n",
    "                solver_exp_iteration_data = extended_sub_data[\n",
    "                    extended_sub_data[\"solver\"] == gmres_m_solver\n",
    "                ]\n",
    "                plot_exp_iters_conv_traj(\n",
    "                    ax2,\n",
    "                    solver_exp_iteration_data,\n",
    "                    N_EXPERIMENT_ITERATIONS,\n",
    "                    gmres_m_solver,\n",
    "                    SOLVER_CLR_DICT[gmres_m_solver]                    \n",
    "                )\n",
    "\n",
    "            for ax in [ax1, ax2]:\n",
    "                ax.set_xlim(\n",
    "                    0,\n",
    "                    np.nanmax(np.hstack([0, extended_sub_data[\"inner_iters\"].to_numpy()]))\n",
    "                )\n",
    "                ax.set_ylabel(\"$\\\\|b-Ax_i\\\\|_2/\\\\|b-Ax_0\\\\|_2$\")\n",
    "                ax.legend()\n",
    "                ax.grid()\n",
    "            ax1.set_xticklabels([])\n",
    "            ax2.set_xlabel(\"Inner Iteration\")\n",
    "\n",
    "            try:\n",
    "                table_data = median_sub_data.drop(\n",
    "                    [\"setup\", \"matrix\", \"restart_param\", \"med_outer_iter\"],\n",
    "                    axis=1\n",
    "                )\n",
    "                table_data[\"med_inner_iter\"] = (\n",
    "                    table_data[\"med_inner_iter\"].apply(lambda elem: int(elem))\n",
    "                )\n",
    "                table_data[\"med_rel_time\"] = (\n",
    "                    table_data[\"med_rel_time\"].apply(lambda elem: f\"{elem:.2g}\")\n",
    "                )\n",
    "                table_data[\"med_rel_res\"] = (\n",
    "                    table_data[\"med_rel_res\"].apply(lambda elem: f\"{elem:.2g}\")\n",
    "                )\n",
    "                table_data = table_data.set_index(\"solver\")\n",
    "                table_data = table_data.loc(axis=0)[*SOLVER_ID_ORDER]\n",
    "                table_data = table_data.reset_index()\n",
    "                plt_table = ax3.table(\n",
    "                    cellText=table_data.values,\n",
    "                    colLabels=table_data.columns,\n",
    "                    loc=\"center\",\n",
    "                    bbox=[-0.1, 0, 1.2, 1.]\n",
    "                )\n",
    "                plt_table.auto_set_font_size(False)\n",
    "                plt_table.set_fontsize(9)\n",
    "            except KeyError as e:\n",
    "                print(f\"KeyError: {setup} {matrix} {restart_param}\")\n",
    "            ax3.axis('off')\n",
    "            \n",
    "            fig.suptitle(\n",
    "                f\"{matrix} {SETUP_NAME_MAPPING[setup]} GMRES({restart_param})\"\n",
    "            )\n",
    "            fig.tight_layout()\n",
    "\n",
    "            plt.savefig(\n",
    "                os.path.join(\n",
    "                    basic_traj_plots_dir,\n",
    "                    setup,\n",
    "                    f\"{setup}_{matrix}_{restart_param:03d}\"\n",
    "                )\n",
    "            )\n",
    "\n",
    "            plt.close(fig)"
   ]
  },
  {
   "cell_type": "code",
   "execution_count": null,
   "id": "d228fc36",
   "metadata": {},
   "outputs": [],
   "source": []
  }
 ],
 "metadata": {
  "kernelspec": {
   "display_name": "Python 3 (ipykernel)",
   "language": "python",
   "name": "python3"
  },
  "language_info": {
   "codemirror_mode": {
    "name": "ipython",
    "version": 3
   },
   "file_extension": ".py",
   "mimetype": "text/x-python",
   "name": "python",
   "nbconvert_exporter": "python",
   "pygments_lexer": "ipython3",
   "version": "3.13.2"
  }
 },
 "nbformat": 4,
 "nbformat_minor": 5
}
