{
 "cells": [
  {
   "cell_type": "code",
   "execution_count": 1,
   "id": "3ffae29d",
   "metadata": {},
   "outputs": [],
   "source": [
    "import os\n",
    "import matplotlib\n",
    "import numpy as np\n",
    "import pandas as pd\n",
    "import matplotlib.pyplot as plt\n",
    "matplotlib.use(\"agg\")\n",
    "\n",
    "from exp_spec_info import *\n",
    "from plot_info import *\n",
    "from select_data import *"
   ]
  },
  {
   "cell_type": "code",
   "execution_count": 2,
   "id": "e67d0210",
   "metadata": {},
   "outputs": [],
   "source": [
    "# Processed pickle paths\n",
    "extended_data_path = \"C:\\\\Users\\\\dosre\\\\dev\\\\thesis-data\\\\extended_data.pkl\"\n",
    "median_data_path = \"C:\\\\Users\\\\dosre\\\\dev\\\\thesis-data\\\\median_data.pkl\"\n",
    "\n",
    "# Plot output directory\n",
    "chap_3_plot_dir = \"C:\\\\Users\\\\dosre\\\\Desktop\\\\MSCthesis\\\\thesis\\\\body_chapters\\\\chap_3\\\\images\"\n",
    "os.makedirs(chap_3_plot_dir, exist_ok=True)"
   ]
  },
  {
   "cell_type": "code",
   "execution_count": 3,
   "id": "93528185",
   "metadata": {},
   "outputs": [],
   "source": [
    "# Load data\n",
    "extended_data = pd.read_pickle(extended_data_path)\n",
    "median_data = pd.read_pickle(median_data_path)"
   ]
  },
  {
   "cell_type": "markdown",
   "id": "65bd0cf1",
   "metadata": {},
   "source": [
    "##### 3 Generate Ideal and Non-Ideal Example Cases"
   ]
  },
  {
   "cell_type": "code",
   "execution_count": 4,
   "id": "ef6e9274",
   "metadata": {},
   "outputs": [],
   "source": [
    "experiments_spec_to_plot = [\n",
    "    (\"FEM_3D_thermal1\", \"unprecond\", 30),\n",
    "    (\"marine1\", \"unprecond\", 30)\n",
    "]\n",
    "\n",
    "for matrix, setup, restart_param in experiments_spec_to_plot:\n",
    "\n",
    "    sub_data = df_sel_setup_matrix_restart(\n",
    "        extended_data, setup, matrix, restart_param\n",
    "    )\n",
    "\n",
    "    fig, ax = plt.subplots(figsize=(6.4, 3.6))\n",
    "\n",
    "    for fp_solver in FP_SOLVERS:\n",
    "        plot_data = sub_data[sub_data[\"solver\"] == fp_solver]\n",
    "        plot_exp_iters_conv_traj(\n",
    "            ax,\n",
    "            plot_data,\n",
    "            N_EXPERIMENT_ITERATIONS,\n",
    "            fp_solver,\n",
    "            SOLVER_CLR_DICT[fp_solver]     \n",
    "        )\n",
    "\n",
    "    ax.legend()\n",
    "    ax.grid()\n",
    "    ax.set_ylabel(\"$\\\\|b-Ax_{i}\\\\|_{2}/\\\\|b-Ax_{0}\\\\|_{2}$\")\n",
    "    ax.set_xlabel(\"Inner Iteration\")\n",
    "    \n",
    "    fig.suptitle(\n",
    "        f\"{matrix} {SETUP_NAME_MAPPING[setup]} GMRES({restart_param}) Convergence\"\n",
    "    )\n",
    "    \n",
    "    plt.savefig(\n",
    "        os.path.join(chap_3_plot_dir, f\"{setup}_{matrix}_{restart_param}.png\"),\n",
    "        bbox_inches=\"tight\"\n",
    "    )\n",
    "\n",
    "    plt.close()\n",
    "    "
   ]
  },
  {
   "cell_type": "code",
   "execution_count": null,
   "id": "27c3c696",
   "metadata": {},
   "outputs": [],
   "source": []
  }
 ],
 "metadata": {
  "kernelspec": {
   "display_name": "Python 3 (ipykernel)",
   "language": "python",
   "name": "python3"
  },
  "language_info": {
   "codemirror_mode": {
    "name": "ipython",
    "version": 3
   },
   "file_extension": ".py",
   "mimetype": "text/x-python",
   "name": "python",
   "nbconvert_exporter": "python",
   "pygments_lexer": "ipython3",
   "version": "3.13.2"
  }
 },
 "nbformat": 4,
 "nbformat_minor": 5
}
