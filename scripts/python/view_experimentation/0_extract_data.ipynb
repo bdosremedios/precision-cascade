{
 "cells": [
  {
   "cell_type": "code",
   "execution_count": null,
   "id": "1a98baf4",
   "metadata": {},
   "outputs": [],
   "source": [
    "import os\n",
    "import json\n",
    "import re\n",
    "import numpy as np\n",
    "import pandas as pd\n",
    "from typing import List, Tuple\n",
    "\n",
    "from exp_spec_info import *"
   ]
  },
  {
   "cell_type": "code",
   "execution_count": null,
   "id": "f878130e-667e-4929-a61f-6f01365d5c29",
   "metadata": {},
   "outputs": [],
   "source": [
    "# Data dir paths\n",
    "flattened_solve_group_dir = \"C:\\\\Users\\\\dosre\\\\dev\\\\thesis-data\\\\experimental-transfer\\\\experimentation\\\\output_data\"\n",
    "extracted_data_path = \"C:\\\\Users\\\\dosre\\\\dev\\\\thesis-data\\\\extracted_data.pkl\"\n",
    "\n",
    "# Number of iterations for each convergence experiment\n",
    "n_iterations = 3"
   ]
  },
  {
   "cell_type": "markdown",
   "id": "44677121",
   "metadata": {},
   "source": [
    "##### Collect and Examine Data Population"
   ]
  },
  {
   "cell_type": "code",
   "execution_count": null,
   "id": "01a4cecd-896a-448d-a0e0-94fa6280f66f",
   "metadata": {},
   "outputs": [],
   "source": [
    "# Iterate over every intended setup and find if corresponding data file exists\n",
    "data_population = []\n",
    "for setup in RAW_SETUPS:\n",
    "    for matrix in SETUP_MATRIX_MAPPING[SETUP_TO_ID_MAPPING[setup]]:\n",
    "        for solver in RAW_SOLVERS:\n",
    "            for inner_iter in INNER_ITERS:\n",
    "                for experiment_iteration in range(n_iterations):\n",
    "\n",
    "                    data_path = os.path.join(\n",
    "                        flattened_solve_group_dir,\n",
    "                        f\"{setup}_inner_iter_{inner_iter}\",\n",
    "                        matrix,\n",
    "                        str(experiment_iteration),\n",
    "                        solver+\".json\"\n",
    "                    )\n",
    "\n",
    "                    data_population.append({\n",
    "                        \"setup\": SETUP_TO_ID_MAPPING[setup],\n",
    "                        \"matrix\": matrix,\n",
    "                        \"solver\": SOLVER_TO_ID_MAPPING[solver],\n",
    "                        \"inner_iter\": inner_iter,\n",
    "                        \"experiment_iter\":experiment_iteration,\n",
    "                        \"data_path\": data_path,\n",
    "                        \"populated\": os.path.exists(data_path)\n",
    "                    })\n",
    "\n",
    "data_population = pd.DataFrame(\n",
    "    data_population,\n",
    "    columns=[\n",
    "        \"setup\",\n",
    "        \"matrix\",\n",
    "        \"solver\",\n",
    "        \"inner_iter\",\n",
    "        \"experiment_iter\",\n",
    "        \"data_path\",\n",
    "        \"populated\"\n",
    "    ]\n",
    ")"
   ]
  },
  {
   "cell_type": "markdown",
   "id": "116114f7",
   "metadata": {},
   "source": [
    "##### Analyze Missing Data"
   ]
  },
  {
   "cell_type": "code",
   "execution_count": null,
   "id": "20b74a96",
   "metadata": {},
   "outputs": [],
   "source": [
    "missing_data_population = data_population[~data_population[\"populated\"]]\n",
    "print(f\"Percent of expected data collected: {1-len(missing_data_population)/len(data_population)}\")\n",
    "display(missing_data_population)"
   ]
  },
  {
   "cell_type": "markdown",
   "id": "a999ac90",
   "metadata": {},
   "source": [
    "##### Filter Populated Data and Extract"
   ]
  },
  {
   "cell_type": "code",
   "execution_count": null,
   "id": "66fbfb62",
   "metadata": {},
   "outputs": [],
   "source": [
    "def read_phase_change(json_data, key) -> int:\n",
    "    if key in json_data:\n",
    "        return json_data[key]\n",
    "    else:\n",
    "        return -1\n",
    "\n",
    "def translate_phase_change_outer_to_inner(outer_iter, inner_iters) -> int:\n",
    "    if outer_iter == -1:\n",
    "        return -1\n",
    "    else:\n",
    "        return int(np.sum(inner_iters[:(outer_iter-1)])+1)\n",
    "\n",
    "def extract_lin_solve_data(row):\n",
    "\n",
    "     lin_solve_data = json.loads(\n",
    "          re.sub(\n",
    "              r\"(-nan|nan|-inf|inf)\", \"NaN\", open(row[\"data_path\"], \"r\").read()\n",
    "          )\n",
    "     )\n",
    "\n",
    "     additional_row_data = {\n",
    "     \"initiated\":lin_solve_data[\"initiated\"] == \"true\",\n",
    "     \"converged\":lin_solve_data[\"converged\"] == \"true\",\n",
    "     \"terminated\":lin_solve_data[\"terminated\"] == \"true\",\n",
    "     \"outer_iters\":lin_solve_data[\"outer_iterations\"],\n",
    "     \"inner_iters\":int(np.sum(lin_solve_data[\"inner_iterations\"])),\n",
    "     \"elapsed_time_ms\":lin_solve_data[\"elapsed_time_ms\"]\n",
    "     }\n",
    "\n",
    "     additional_row_data[\"HS_trans_outer_iter\"] = read_phase_change(\n",
    "          lin_solve_data,\n",
    "          \"hlf_sgl_cascade_change\"\n",
    "     )\n",
    "     additional_row_data[\"HS_trans_inner_iter\"] = translate_phase_change_outer_to_inner(\n",
    "          additional_row_data[\"HS_trans_outer_iter\"],\n",
    "          lin_solve_data[\"inner_iterations\"]\n",
    "     )\n",
    "     additional_row_data[\"SD_trans_outer_iter\"] = read_phase_change(\n",
    "          lin_solve_data,\n",
    "          \"sgl_dbl_cascade_change\"\n",
    "     )\n",
    "     additional_row_data[\"SD_trans_inner_iter\"] = translate_phase_change_outer_to_inner(\n",
    "          additional_row_data[\"SD_trans_outer_iter\"],\n",
    "          lin_solve_data[\"inner_iterations\"]\n",
    "     )\n",
    "\n",
    "     outer_res_norm_history = lin_solve_data[\"outer_res_norm_history\"]\n",
    "     inner_res_norm_history = lin_solve_data[\"inner_res_norm_history\"]\n",
    "     init_res_norm = outer_res_norm_history[0]\n",
    "\n",
    "     outer_relres = np.array(outer_res_norm_history)/init_res_norm\n",
    "     inner_relres = []\n",
    "     for i in range(len(inner_res_norm_history)):\n",
    "          if i == 0:\n",
    "               inner_relres += inner_res_norm_history[i]\n",
    "          else:\n",
    "               inner_relres += inner_res_norm_history[i][1:]\n",
    "     inner_relres = np.array(inner_relres)/init_res_norm\n",
    "\n",
    "     additional_row_data[\"outer_relres\"] = outer_relres\n",
    "     additional_row_data[\"inner_relres\"] = inner_relres\n",
    "\n",
    "     assert additional_row_data[\"inner_iters\"]+1 == additional_row_data[\"inner_relres\"].size\n",
    "     assert additional_row_data[\"outer_iters\"]+1 == additional_row_data[\"outer_relres\"].size\n",
    "\n",
    "     return additional_row_data"
   ]
  },
  {
   "cell_type": "code",
   "execution_count": null,
   "id": "18732c69",
   "metadata": {},
   "outputs": [],
   "source": [
    "data = data_population[data_population[\"populated\"]]\n",
    "data = data.join(data.apply(extract_lin_solve_data, axis=1, result_type=\"expand\"))\n",
    "data = data.drop(\"data_path\", axis=1)\n",
    "display(data)"
   ]
  },
  {
   "cell_type": "code",
   "execution_count": null,
   "id": "8a2192d1",
   "metadata": {},
   "outputs": [],
   "source": [
    "data.to_pickle(extracted_data_path)"
   ]
  }
 ],
 "metadata": {
  "kernelspec": {
   "display_name": "Python 3 (ipykernel)",
   "language": "python",
   "name": "python3"
  },
  "language_info": {
   "codemirror_mode": {
    "name": "ipython",
    "version": 3
   },
   "file_extension": ".py",
   "mimetype": "text/x-python",
   "name": "python",
   "nbconvert_exporter": "python",
   "pygments_lexer": "ipython3",
   "version": "3.13.2"
  }
 },
 "nbformat": 4,
 "nbformat_minor": 5
}
