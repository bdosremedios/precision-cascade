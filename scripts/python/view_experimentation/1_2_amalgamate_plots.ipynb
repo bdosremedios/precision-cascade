{
 "cells": [
  {
   "cell_type": "code",
   "execution_count": 8,
   "id": "785715f8",
   "metadata": {},
   "outputs": [],
   "source": [
    "import os\n",
    "import shutil\n",
    "import pandas as pd"
   ]
  },
  {
   "cell_type": "code",
   "execution_count": 13,
   "id": "5bd262f7",
   "metadata": {},
   "outputs": [],
   "source": [
    "processed_data_population_pkl_path = \"C:\\\\Users\\\\dosre\\\\dev\\\\thesis-data\\\\experimentation\\\\output_data\\\\processed_data_population.pkl\"\n",
    "exp_analysis_main_plot_dir = \"C:\\\\Users\\\\dosre\\\\dev\\\\thesis-data\\\\experimentation\\\\experimentation_analysis\"\n",
    "target_amalgamate_dir = os.path.join(exp_analysis_main_plot_dir, \"outer_iter\")\n",
    "amalgamate_output_dir = \"C:\\\\Users\\\\dosre\\\\dev\\\\thesis-data\\\\experimentation\\\\amalgamated_plots\"\n",
    "os.makedirs(amalgamate_output_dir, exist_ok=True)"
   ]
  },
  {
   "cell_type": "code",
   "execution_count": 14,
   "id": "fed785af",
   "metadata": {},
   "outputs": [],
   "source": [
    "processed_data_population = pd.read_pickle(processed_data_population_pkl_path)"
   ]
  },
  {
   "cell_type": "code",
   "execution_count": 15,
   "id": "d0d39ec6",
   "metadata": {},
   "outputs": [],
   "source": [
    "for matrix in os.listdir(target_amalgamate_dir):\n",
    "    matrix_plot_dir = os.path.join(target_amalgamate_dir, matrix)\n",
    "    for setup in os.listdir(matrix_plot_dir):\n",
    "        setup_plot_dir = os.path.join(matrix_plot_dir, setup)\n",
    "        for plot_file in  os.listdir(setup_plot_dir):\n",
    "            new_file_name = f\"{matrix}_{setup}_{plot_file}\"\n",
    "            shutil.copyfile(\n",
    "                os.path.join(setup_plot_dir, plot_file),\n",
    "                os.path.join(amalgamate_output_dir, new_file_name)\n",
    "            )"
   ]
  },
  {
   "cell_type": "code",
   "execution_count": null,
   "id": "d228fc36",
   "metadata": {},
   "outputs": [],
   "source": []
  }
 ],
 "metadata": {
  "kernelspec": {
   "display_name": "Python 3 (ipykernel)",
   "language": "python",
   "name": "python3"
  },
  "language_info": {
   "codemirror_mode": {
    "name": "ipython",
    "version": 3
   },
   "file_extension": ".py",
   "mimetype": "text/x-python",
   "name": "python",
   "nbconvert_exporter": "python",
   "pygments_lexer": "ipython3",
   "version": "3.11.5"
  }
 },
 "nbformat": 4,
 "nbformat_minor": 5
}
