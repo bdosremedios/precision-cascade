{
 "cells": [
  {
   "cell_type": "code",
   "execution_count": null,
   "metadata": {},
   "outputs": [],
   "source": [
    "import os\n",
    "import json\n",
    "import numpy as np\n",
    "import matplotlib.pyplot as plt"
   ]
  },
  {
   "cell_type": "code",
   "execution_count": null,
   "metadata": {},
   "outputs": [],
   "source": [
    "class Experimental_Data:\n",
    "\n",
    "    def __init__(self, json_path):\n",
    "\n",
    "        loaded_json = self.get_json(json_path)\n",
    "        \n",
    "        self.id = loaded_json[\"id\"]\n",
    "        self.solver_class = loaded_json[\"solver_class\"]\n",
    "        self.initiated = bool(loaded_json[\"initiated\"])\n",
    "        self.converged = bool(loaded_json[\"converged\"])\n",
    "        self.terminated = bool(loaded_json[\"terminated\"])\n",
    "        self.iteration = int(loaded_json[\"iteration\"])\n",
    "        self.elapsed_time_ms = loaded_json[\"elapsed_time_ms\"]\n",
    "        self.res_norm_hist = np.array(loaded_json[\"res_norm_hist\"])\n",
    "        self.res_hist = np.array(loaded_json[\"res_hist\"])\n",
    "    \n",
    "    def get_relres_hist(self):\n",
    "        return self.res_norm_hist/self.res_norm_hist[0]\n",
    "    \n",
    "    def get_json(self, json_path):\n",
    "\n",
    "        f = open(json_path, \"r\")\n",
    "        loaded_json = json.loads(f.read())\n",
    "        f.close()\n",
    "    \n",
    "        return loaded_json\n",
    "\n",
    "class MPGMRESIR_Experimental_Data(Experimental_Data):\n",
    "\n",
    "    def __init__(self, json_path):\n",
    "\n",
    "        super().__init__(json_path)\n",
    "        loaded_json = self.get_json(json_path)\n",
    "\n",
    "        self.hlf_sgl_cascade_change = int(loaded_json[\"hlf_sgl_cascade_change\"])\n",
    "        self.sgl_dbl_cascade_change = int(loaded_json[\"sgl_dbl_cascade_change\"])\n",
    "\n"
   ]
  },
  {
   "cell_type": "code",
   "execution_count": null,
   "metadata": {},
   "outputs": [],
   "source": [
    "output_dir = \"C:\\\\Users\\\\dosre\\\\dev\\\\numerical_experimentation\\\\output\"\n",
    "\n",
    "fig, ax = plt.subplots()\n",
    "for file in [\"FPGMRES16.json\", \"FPGMRES32.json\", \"FPGMRES64.json\"]:\n",
    "    path = os.path.join(output_dir, file)\n",
    "    data = Experimental_Data(path)\n",
    "    ax.plot(np.arange(0, data.iteration+1, 1), data.get_relres_hist(), label=file)\n",
    "path = os.path.join(output_dir, \"MPGMRES.json\")\n",
    "data = MPGMRESIR_Experimental_Data(path)\n",
    "ax.plot(np.arange(0, data.iteration+1, 1), data.get_relres_hist(), label=\"MPGMRES.json\")\n",
    "ax.axvline(data.hlf_sgl_cascade_change, linestyle=\"--\", color='gray', label='phase change hlf->sgl')\n",
    "ax.axvline(data.sgl_dbl_cascade_change, linestyle=\":\", color='gray', label='phase change sgl->dbl')\n",
    "ax.semilogy()\n",
    "ax.legend()\n",
    "plt.show()"
   ]
  },
  {
   "cell_type": "code",
   "execution_count": null,
   "metadata": {},
   "outputs": [],
   "source": []
  }
 ],
 "metadata": {
  "language_info": {
   "name": "python"
  }
 },
 "nbformat": 4,
 "nbformat_minor": 2
}
