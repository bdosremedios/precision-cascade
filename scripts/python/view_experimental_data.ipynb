{
 "cells": [
  {
   "cell_type": "code",
   "execution_count": null,
   "metadata": {},
   "outputs": [],
   "source": [
    "import os\n",
    "import json\n",
    "import numpy as np\n",
    "import matplotlib.pyplot as plt"
   ]
  },
  {
   "cell_type": "code",
   "execution_count": null,
   "metadata": {},
   "outputs": [],
   "source": [
    "class Solve_Data:\n",
    "\n",
    "    def get_json(self, json_path):\n",
    "\n",
    "        f = open(json_path, \"r\")\n",
    "        loaded_json = json.loads(f.read())\n",
    "        f.close()\n",
    "    \n",
    "        return loaded_json\n",
    "\n",
    "    def __init__(self, json_path):\n",
    "\n",
    "        loaded_json = self.get_json(json_path)\n",
    "        \n",
    "        self.id = loaded_json[\"id\"]\n",
    "        self.solver_class = loaded_json[\"solver_class\"]\n",
    "        self.initiated = bool(loaded_json[\"initiated\"])\n",
    "        self.converged = bool(loaded_json[\"converged\"])\n",
    "        self.terminated = bool(loaded_json[\"terminated\"])\n",
    "        self.iteration = int(loaded_json[\"iteration\"])\n",
    "        self.elapsed_time_ms = loaded_json[\"elapsed_time_ms\"]\n",
    "        self.res_norm_history = np.array(loaded_json[\"res_norm_history\"])"
   ]
  },
  {
   "cell_type": "code",
   "execution_count": null,
   "metadata": {},
   "outputs": [],
   "source": [
    "data_dir = \"C:\\\\users\\\\dosre\\\\dev\\\\data-transfer\\\\conv-diff-2000-pox\\\\sg_0\\\\conv_diff_2000\\\\0\"\n",
    "fp16 = Solve_Data(os.path.join(data_dir, \"FP16.json\"))\n",
    "fp32 = Solve_Data(os.path.join(data_dir, \"FP32.json\"))\n",
    "fp64 = Solve_Data(os.path.join(data_dir, \"FP64.json\"))\n",
    "sct = Solve_Data(os.path.join(data_dir, \"SimpleConstantThreshold.json\"))"
   ]
  },
  {
   "cell_type": "code",
   "execution_count": null,
   "metadata": {},
   "outputs": [],
   "source": [
    "fig, ax = plt.subplots()\n",
    "\n",
    "ax.semilogy(fp16.res_norm_history/fp16.res_norm_history[0], label=\"FP16\")\n",
    "ax.semilogy(fp32.res_norm_history/fp32.res_norm_history[0], label=\"FP32\")\n",
    "ax.semilogy(fp64.res_norm_history/fp64.res_norm_history[0], label=\"FP64\")\n",
    "ax.semilogy(sct.res_norm_history/sct.res_norm_history[0],  label=\"SCT\")\n",
    "\n",
    "ax.legend()\n",
    "ax.grid()\n",
    "\n",
    "plt.show()"
   ]
  },
  {
   "cell_type": "code",
   "execution_count": null,
   "metadata": {},
   "outputs": [],
   "source": []
  }
 ],
 "metadata": {
  "language_info": {
   "name": "python"
  }
 },
 "nbformat": 4,
 "nbformat_minor": 2
}
